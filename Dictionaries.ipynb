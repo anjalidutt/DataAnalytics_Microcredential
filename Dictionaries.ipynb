{
  "nbformat": 4,
  "nbformat_minor": 0,
  "metadata": {
    "colab": {
      "name": "Dictionaries.ipynb",
      "provenance": [],
      "authorship_tag": "ABX9TyOWaQjiqLLauq3Hin0ZeFxs",
      "include_colab_link": true
    },
    "kernelspec": {
      "name": "python3",
      "display_name": "Python 3"
    }
  },
  "cells": [
    {
      "cell_type": "markdown",
      "metadata": {
        "id": "view-in-github",
        "colab_type": "text"
      },
      "source": [
        "<a href=\"https://colab.research.google.com/github/anjalidutt/DataAnalytics_Microcredential/blob/assignment_two/Dictionaries.ipynb\" target=\"_parent\"><img src=\"https://colab.research.google.com/assets/colab-badge.svg\" alt=\"Open In Colab\"/></a>"
      ]
    },
    {
      "cell_type": "code",
      "metadata": {
        "colab": {
          "base_uri": "https://localhost:8080/"
        },
        "id": "IA16nA2_rjSD",
        "outputId": "b88304ed-4f4f-4ceb-fb44-2fcc3a233c18"
      },
      "source": [
        "patient={'fn':'John','ln':'Kimble'}\r\n",
        "print(patient['fn'])"
      ],
      "execution_count": 2,
      "outputs": [
        {
          "output_type": "stream",
          "text": [
            "John\n"
          ],
          "name": "stdout"
        }
      ]
    },
    {
      "cell_type": "code",
      "metadata": {
        "colab": {
          "base_uri": "https://localhost:8080/"
        },
        "id": "1otIdQo4sNVo",
        "outputId": "ba80cce8-2651-4cea-e978-13561edb2a15"
      },
      "source": [
        "print('Hello there, '+patient['fn']+' '+patient['ln'])"
      ],
      "execution_count": 12,
      "outputs": [
        {
          "output_type": "stream",
          "text": [
            "Hello there, John Kimble\n"
          ],
          "name": "stdout"
        }
      ]
    },
    {
      "cell_type": "code",
      "metadata": {
        "colab": {
          "base_uri": "https://localhost:8080/"
        },
        "id": "LVKNkQ74sicq",
        "outputId": "41d5235d-9b6b-4050-e676-0767c01519ef"
      },
      "source": [
        "patient['MRN']='00000000'\r\n",
        "patient['last_exam']='echo'\r\n",
        "print(patient)"
      ],
      "execution_count": 9,
      "outputs": [
        {
          "output_type": "stream",
          "text": [
            "{'fn': 'John', 'ln': 'Kimble', 'MRN': '00000000', 'last_exam': 'echo'}\n"
          ],
          "name": "stdout"
        }
      ]
    },
    {
      "cell_type": "code",
      "metadata": {
        "colab": {
          "base_uri": "https://localhost:8080/"
        },
        "id": "e6BbyWwKsncR",
        "outputId": "866c6201-8c85-4965-8eff-b5c8d2cabc78"
      },
      "source": [
        "fn='Lou'\r\n",
        "for k,v in patient.items():\r\n",
        "  print(k+'='+v)"
      ],
      "execution_count": 11,
      "outputs": [
        {
          "output_type": "stream",
          "text": [
            "fn=John\n",
            "ln=Kimble\n",
            "MRN=00000000\n",
            "last_exam=echo\n"
          ],
          "name": "stdout"
        }
      ]
    },
    {
      "cell_type": "code",
      "metadata": {
        "colab": {
          "base_uri": "https://localhost:8080/"
        },
        "id": "15kl50GosoYP",
        "outputId": "ff0efd5f-39e0-44f5-b93e-cf226f4fc222"
      },
      "source": [
        "patient_2={}\r\n",
        "patient_2['fn']='Jean'\r\n",
        "patient_2['ln']='Picard'\r\n",
        "print(patient_2['fn']+' '+patient_2['ln'])"
      ],
      "execution_count": 15,
      "outputs": [
        {
          "output_type": "stream",
          "text": [
            "Jean Picard\n"
          ],
          "name": "stdout"
        }
      ]
    },
    {
      "cell_type": "code",
      "metadata": {
        "colab": {
          "base_uri": "https://localhost:8080/"
        },
        "id": "kPta1BTruUrR",
        "outputId": "3deacdf7-8728-44c2-99f8-6a5c2781c8b2"
      },
      "source": [
        "patient_2['fn']='Jean-Luc'\r\n",
        "print(patient_2['fn']+' '+patient_2['ln'])"
      ],
      "execution_count": 22,
      "outputs": [
        {
          "output_type": "stream",
          "text": [
            "Jean-Luc Picard\n"
          ],
          "name": "stdout"
        }
      ]
    },
    {
      "cell_type": "code",
      "metadata": {
        "colab": {
          "base_uri": "https://localhost:8080/"
        },
        "id": "nilnj9PbudqH",
        "outputId": "1f0f0a98-9bff-498a-ba47-98946c432670"
      },
      "source": [
        "del patient_2['fn']\r\n",
        "print(patient_2)"
      ],
      "execution_count": 23,
      "outputs": [
        {
          "output_type": "stream",
          "text": [
            "{'ln': 'Picard'}\n"
          ],
          "name": "stdout"
        }
      ]
    },
    {
      "cell_type": "code",
      "metadata": {
        "colab": {
          "base_uri": "https://localhost:8080/"
        },
        "id": "h-wXU4FqvUeq",
        "outputId": "c2fc7774-48b4-43da-e5e0-9525ae6057be"
      },
      "source": [
        "patient_3={\r\n",
        "    'fn':'Jack',\r\n",
        "    'ln':'Sparrow',\r\n",
        "    'MRN':'012345',\r\n",
        "    'dob':'07/01/2002'\r\n",
        "}\r\n",
        "print(patient_3)"
      ],
      "execution_count": 24,
      "outputs": [
        {
          "output_type": "stream",
          "text": [
            "{'fn': 'Jack', 'ln': 'Sparrow', 'MRN': '012345', 'dob': '07/01/2002'}\n"
          ],
          "name": "stdout"
        }
      ]
    },
    {
      "cell_type": "code",
      "metadata": {
        "colab": {
          "base_uri": "https://localhost:8080/"
        },
        "id": "rifJHwHuwSeL",
        "outputId": "5a43a47f-5501-44c5-c091-d10b190fa9c7"
      },
      "source": [
        "people = [{'fn': 'Jack', 'ln': 'Sparrow', 'MRN': '012345', 'dob': '07/01/2002'},\r\n",
        "          {'fn': 'Tom', 'ln': 'Smith', 'MRN': '11111', 'dob': '12/15/1985'},\r\n",
        "          {'fn': 'Michael', 'ln': 'Roberts', 'MRN': '88888', 'dob': '11/09/1990'}]\r\n",
        "print(people)"
      ],
      "execution_count": 26,
      "outputs": [
        {
          "output_type": "stream",
          "text": [
            "[{'fn': 'Jack', 'ln': 'Sparrow', 'MRN': '012345', 'dob': '07/01/2002'}, {'fn': 'Tom', 'ln': 'Smith', 'MRN': '11111', 'dob': '12/15/1985'}, {'fn': 'Michael', 'ln': 'Roberts', 'MRN': '88888', 'dob': '11/09/1990'}]\n"
          ],
          "name": "stdout"
        }
      ]
    },
    {
      "cell_type": "code",
      "metadata": {
        "colab": {
          "base_uri": "https://localhost:8080/"
        },
        "id": "5hlxg3IUyMXm",
        "outputId": "727ffc92-6097-4049-dbc8-405790019123"
      },
      "source": [
        "for person in people:\r\n",
        "  name=person['fn'].title()+' '+person['ln'].title()\r\n",
        "  mrn=person['MRN']\r\n",
        "  dob=person['dob']\r\n",
        "  print(name+ '\\t MRN is: '+mrn+'\\t DOB is: '+dob)"
      ],
      "execution_count": 28,
      "outputs": [
        {
          "output_type": "stream",
          "text": [
            "Jack Sparrow\t MRN is: 012345\t DOB is: 07/01/2002\n",
            "Tom Smith\t MRN is: 11111\t DOB is: 12/15/1985\n",
            "Michael Roberts\t MRN is: 88888\t DOB is: 11/09/1990\n"
          ],
          "name": "stdout"
        }
      ]
    },
    {
      "cell_type": "code",
      "metadata": {
        "id": "ToTdKOFy2K1_"
      },
      "source": [
        ""
      ],
      "execution_count": null,
      "outputs": []
    },
    {
      "cell_type": "code",
      "metadata": {
        "colab": {
          "base_uri": "https://localhost:8080/"
        },
        "id": "YQKiycUhzdF1",
        "outputId": "e5c9a9db-9dbc-4dfc-cf32-177519a31728"
      },
      "source": [
        "people=[]\r\n",
        "person ={'fn': 'Jack', 'ln': 'Sparrow', 'MRN': '012345', 'dob': '07/01/2002'}\r\n",
        "people.append(person)\r\n",
        "person={'fn': 'Tom', 'ln': 'Jackson', 'MRN': '012345', 'dob': '07/01/2002' }\r\n",
        "people.append(person)\r\n",
        "person ={'fn': 'Robert', 'ln': 'Adams', 'MRN': '012345', 'dob': '07/01/2002'}\r\n",
        "people.append(person)\r\n",
        "for person in people:\r\n",
        "  name=person['fn'].title()+' '+person['ln'].title()\r\n",
        "  mrn=person['MRN']\r\n",
        "  dob=person['dob']\r\n",
        "  print(name+ '\\t MRN is: '+mrn+'\\t DOB is: '+dob)"
      ],
      "execution_count": 30,
      "outputs": [
        {
          "output_type": "stream",
          "text": [
            "Jack Sparrow\t MRN is: 012345\t DOB is: 07/01/2002\n",
            "Tom Jackson\t MRN is: 012345\t DOB is: 07/01/2002\n",
            "Robert Adams\t MRN is: 012345\t DOB is: 07/01/2002\n"
          ],
          "name": "stdout"
        }
      ]
    },
    {
      "cell_type": "code",
      "metadata": {
        "colab": {
          "base_uri": "https://localhost:8080/"
        },
        "id": "hVAJvSaP2MLn",
        "outputId": "99db4e6b-74bf-4534-98fb-de43dd89b935"
      },
      "source": [
        "for k in patient_3.keys():\r\n",
        "  print(k)"
      ],
      "execution_count": 31,
      "outputs": [
        {
          "output_type": "stream",
          "text": [
            "fn\n",
            "ln\n",
            "MRN\n",
            "dob\n"
          ],
          "name": "stdout"
        }
      ]
    },
    {
      "cell_type": "code",
      "metadata": {
        "colab": {
          "base_uri": "https://localhost:8080/"
        },
        "id": "vJ4B82Ge2pgP",
        "outputId": "5045f0fd-0951-49c2-d9ea-bb13d4a556b9"
      },
      "source": [
        "for v in patient_3.values():\r\n",
        "  print(v)"
      ],
      "execution_count": 32,
      "outputs": [
        {
          "output_type": "stream",
          "text": [
            "Jack\n",
            "Sparrow\n",
            "012345\n",
            "07/01/2002\n"
          ],
          "name": "stdout"
        }
      ]
    },
    {
      "cell_type": "code",
      "metadata": {
        "colab": {
          "base_uri": "https://localhost:8080/"
        },
        "id": "e99MjSuM3cd8",
        "outputId": "85d7b80c-0e34-434d-abb6-828277c46bba"
      },
      "source": [
        "friends_ages={'Nick':'30',\r\n",
        "              'Amanda':'34',\r\n",
        "              'John':'36',\r\n",
        "              'Haley':'26'}\r\n",
        "favorite_friends=['Nick','Amanda']\r\n",
        "for name,age in friends_ages.items():\r\n",
        "  print('Name is: '+name.title()+' age is: '+age)\r\n",
        "  if name in favorite_friends:\r\n",
        "    print(f'Hi {name} I see you are {age} years old.')"
      ],
      "execution_count": 36,
      "outputs": [
        {
          "output_type": "stream",
          "text": [
            "Name is: Nick age is: 30\n",
            "Hi Nick I see you are 30 years old.\n",
            "Name is: Amanda age is: 34\n",
            "Hi Amanda I see you are 34 years old.\n",
            "Name is: John age is: 36\n",
            "Name is: Haley age is: 26\n"
          ],
          "name": "stdout"
        }
      ]
    },
    {
      "cell_type": "code",
      "metadata": {
        "colab": {
          "base_uri": "https://localhost:8080/"
        },
        "id": "deS7fAsM_HOX",
        "outputId": "044f55e9-7386-4bda-aea3-b5d11e9288a0"
      },
      "source": [
        "number =1\r\n",
        "while number <=5:\r\n",
        "  print(number)\r\n",
        "  number+=1"
      ],
      "execution_count": 38,
      "outputs": [
        {
          "output_type": "stream",
          "text": [
            "1\n",
            "2\n",
            "3\n",
            "4\n",
            "5\n"
          ],
          "name": "stdout"
        }
      ]
    },
    {
      "cell_type": "code",
      "metadata": {
        "colab": {
          "base_uri": "https://localhost:8080/"
        },
        "id": "W7CIlWEE_Tev",
        "outputId": "726b90cf-15af-45ef-cfcd-b5319ea1f221"
      },
      "source": [
        "number =5\r\n",
        "while number >=1:\r\n",
        "  print(number)\r\n",
        "  number-=1"
      ],
      "execution_count": 39,
      "outputs": [
        {
          "output_type": "stream",
          "text": [
            "5\n",
            "4\n",
            "3\n",
            "2\n",
            "1\n"
          ],
          "name": "stdout"
        }
      ]
    },
    {
      "cell_type": "code",
      "metadata": {
        "id": "aqc-6Ww5Af5p"
      },
      "source": [
        "age=input('Enter age: ')\r\n",
        "print(age)"
      ],
      "execution_count": null,
      "outputs": []
    },
    {
      "cell_type": "code",
      "metadata": {
        "colab": {
          "base_uri": "https://localhost:8080/"
        },
        "id": "dR8o1VVuAkBL",
        "outputId": "af387de9-d474-4291-e981-02d3bff7a4f5"
      },
      "source": [
        "message='Enter any word and I will print it until you enter \"\"quit\"\" '\r\n",
        "while message!='quit':\r\n",
        "  message=input(f'Your last entry was {message}, enter \"\"quit\"\" to stop ')"
      ],
      "execution_count": 43,
      "outputs": [
        {
          "output_type": "stream",
          "text": [
            "Your last entry was Enter any word and I will print it until you enter \"\"quit\"\" , enter \"\"quit\"\" to stop quit\n"
          ],
          "name": "stdout"
        }
      ]
    },
    {
      "cell_type": "code",
      "metadata": {
        "colab": {
          "base_uri": "https://localhost:8080/"
        },
        "id": "ikUQN5i1CP-C",
        "outputId": "aff462ae-263e-4502-b9eb-b64735a160e7"
      },
      "source": [
        "message='Enter any word and I will print it until you enter \"\"quit\"\" '\r\n",
        "active = True\r\n",
        "while active:\r\n",
        "    if message == \"quit\":\r\n",
        "      active = False\r\n",
        "    else:\r\n",
        "      print(message)\r\n",
        "      message=input(f'Your last entry was {message}, enter \"\"quit\"\" to stop ')\r\n"
      ],
      "execution_count": 46,
      "outputs": [
        {
          "output_type": "stream",
          "text": [
            "Enter any word and I will print it until you enter \"\"quit\"\" \n",
            "Your last entry was Enter any word and I will print it until you enter \"\"quit\"\" , enter \"\"quit\"\" to stop abc\n",
            "abc\n",
            "Your last entry was abc, enter \"\"quit\"\" to stop quit\n"
          ],
          "name": "stdout"
        }
      ]
    }
  ]
}