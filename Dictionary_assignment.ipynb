{
  "nbformat": 4,
  "nbformat_minor": 0,
  "metadata": {
    "colab": {
      "name": "Dictionary_assignment.ipynb",
      "provenance": [],
      "authorship_tag": "ABX9TyMEOuLJzFVX3QPOiRRXq277",
      "include_colab_link": true
    },
    "kernelspec": {
      "name": "python3",
      "display_name": "Python 3"
    }
  },
  "cells": [
    {
      "cell_type": "markdown",
      "metadata": {
        "id": "view-in-github",
        "colab_type": "text"
      },
      "source": [
        "<a href=\"https://colab.research.google.com/github/anjalidutt/DataAnalytics_Microcredential/blob/assignment_two/Dictionary_assignment.ipynb\" target=\"_parent\"><img src=\"https://colab.research.google.com/assets/colab-badge.svg\" alt=\"Open In Colab\"/></a>"
      ]
    },
    {
      "cell_type": "markdown",
      "metadata": {
        "id": "nzBtyhDkMJJu"
      },
      "source": [
        "**Dictionary Assignment**"
      ]
    },
    {
      "cell_type": "markdown",
      "metadata": {
        "id": "gu4YXBklMObs"
      },
      "source": [
        "**dictionary exercise 1: Below are the two lists convert it into the\r\n",
        "dictionary**\r\n",
        "\r\n",
        "\r\n",
        "```\r\n",
        "keys = ['Ten', 'Twenty', 'Thirty']\r\n",
        "values = [10, 20, 30]\r\n",
        "```\r\n"
      ]
    },
    {
      "cell_type": "code",
      "metadata": {
        "id": "8qXsKxI9MHAj"
      },
      "source": [
        "my_dict={'Ten':10, 'Twenty':20, 'Thirty': 30}\r\n",
        "print(my_dict)"
      ],
      "execution_count": 1,
      "outputs": []
    },
    {
      "cell_type": "markdown",
      "metadata": {
        "id": "uHJg_xfSM_3r"
      },
      "source": [
        "**dictionary exercise 2: Merge following two Python dictionaries into one**\r\n",
        "\r\n",
        "\r\n",
        "```\r\n",
        "dict1 = {'Ten': 10, 'Twenty': 20, 'Thirty': 30}\r\n",
        "dict2 = {'Thirty': 30, 'Fourty': 40, 'Fifty': 50}\r\n",
        "```\r\n",
        "\r\n"
      ]
    },
    {
      "cell_type": "code",
      "metadata": {
        "colab": {
          "base_uri": "https://localhost:8080/"
        },
        "id": "A2nBdf_sNKvw",
        "outputId": "a3ac9fdb-5f67-4026-cecd-3b6e934f3b3f"
      },
      "source": [
        "dict1 = {'Ten': 10, 'Twenty': 20, 'Thirty': 30}\r\n",
        "dict2 = {'Thirty': 30, 'Fourty': 40, 'Fifty': 50}\r\n",
        "merged = {**dict1,**dict2}\r\n",
        "print(merged)"
      ],
      "execution_count": 6,
      "outputs": [
        {
          "output_type": "stream",
          "text": [
            "{'Ten': 10, 'Twenty': 20, 'Thirty': 30, 'Fourty': 40, 'Fifty': 50}\n"
          ],
          "name": "stdout"
        }
      ]
    },
    {
      "cell_type": "markdown",
      "metadata": {
        "id": "TTGu1FF9N-_d"
      },
      "source": [
        "**dictionary exercise 3: Access the value of key ‘history’**\r\n",
        "\r\n",
        "\r\n",
        "```\r\n",
        "sampleDict = { \r\n",
        "   \"class\":{ \r\n",
        "      \"student\":{ \r\n",
        "         \"name\":\"Mike\",\r\n",
        "         \"marks\":{ \r\n",
        "            \"physics\":70,\r\n",
        "            \"history\":80\r\n",
        "         }\r\n",
        "      }\r\n",
        "   }\r\n",
        "}\r\n",
        "\r\n",
        "```\r\n",
        "\r\n"
      ]
    },
    {
      "cell_type": "code",
      "metadata": {
        "colab": {
          "base_uri": "https://localhost:8080/"
        },
        "id": "22rLz4mvOKfL",
        "outputId": "9338d1c1-ad40-4e13-9479-49d5e3fded33"
      },
      "source": [
        "sampleDict = { \r\n",
        "   \"class\":{ \r\n",
        "      \"student\":{ \r\n",
        "         \"name\":\"Mike\",\r\n",
        "         \"marks\":{ \r\n",
        "            \"physics\":70,\r\n",
        "            \"history\":80\r\n",
        "         }\r\n",
        "      }\r\n",
        "   }\r\n",
        "}\r\n",
        "print(sampleDict['class']['student']['marks']['history'])"
      ],
      "execution_count": 9,
      "outputs": [
        {
          "output_type": "stream",
          "text": [
            "80\n"
          ],
          "name": "stdout"
        }
      ]
    },
    {
      "cell_type": "markdown",
      "metadata": {
        "id": "09_ink7cO6nr"
      },
      "source": [
        "**dictionary exercise 4: Initialize dictionary with default values**\r\n",
        "\r\n",
        "\r\n",
        "```\r\n",
        "employees = ['Kelly', 'Emma', 'John']\r\n",
        "defaults = {\"designation\": 'Application Developer', \"salary\": 8000}\r\n",
        "```\r\n",
        "\r\n"
      ]
    },
    {
      "cell_type": "code",
      "metadata": {
        "id": "mYdi-FCZPJRj"
      },
      "source": [
        "employees = ['Kelly', 'Emma', 'John']\r\n",
        "Kelly = {\"designation\": 'Application Developer', \"salary\": 8000}\r\n",
        "Emma={\"designation\": 'Application Developer', \"salary\": 8000}\r\n",
        "John={\"designation\": 'Application Developer', \"salary\": 8000}"
      ],
      "execution_count": 19,
      "outputs": []
    },
    {
      "cell_type": "markdown",
      "metadata": {
        "id": "snd1-qRcPh2y"
      },
      "source": [
        "**dictionary exercise 5: Create a new dictionary by extracting the following keys from a given dictionary**\r\n",
        "\r\n",
        "\r\n",
        "```\r\n",
        "sampleDict = {\r\n",
        "  \"name\": \"Kelly\",\r\n",
        "  \"age\":25,\r\n",
        "  \"salary\": 8000,\r\n",
        "  \"city\": \"New york\"\r\n",
        "  \r\n",
        "}\r\n",
        "```\r\n",
        "\r\n"
      ]
    },
    {
      "cell_type": "code",
      "metadata": {
        "colab": {
          "base_uri": "https://localhost:8080/"
        },
        "id": "UmfydqyOSaqD",
        "outputId": "a1aeba71-7f5b-482d-8fdc-264184e07d89"
      },
      "source": [
        "sampleDict = {\r\n",
        "  \"name\": \"Kelly\",\r\n",
        "  \"age\":25,\r\n",
        "  \"salary\": 8000,\r\n",
        "  \"city\": \"New york\"\r\n",
        " \r\n",
        "}\r\n",
        "\r\n",
        "new_dict = {key:val for key,val in sampleDict.items() if key=='name' or key=='salary'}\r\n",
        "print(new_dict)"
      ],
      "execution_count": 25,
      "outputs": [
        {
          "output_type": "stream",
          "text": [
            "{'name': 'Kelly', 'salary': 8000}\n"
          ],
          "name": "stdout"
        }
      ]
    },
    {
      "cell_type": "markdown",
      "metadata": {
        "id": "HcYm8EfGTVS7"
      },
      "source": [
        "**dictionary exercise 6: Delete set of keys from Python Dictionary**\r\n",
        "\r\n",
        "\r\n",
        "```\r\n",
        "sampleDict = {\r\n",
        "  \"name\": \"Kelly\",\r\n",
        "  \"age\":25,\r\n",
        "  \"salary\": 8000,\r\n",
        "  \"city\": \"New york\"\r\n",
        "  \r\n",
        "}\r\n",
        "keysToRemove = [\"name\", \"salary\"]\r\n",
        "```\r\n",
        "\r\n"
      ]
    },
    {
      "cell_type": "code",
      "metadata": {
        "colab": {
          "base_uri": "https://localhost:8080/"
        },
        "id": "VRbYla9eTfdF",
        "outputId": "7590f1f3-419a-4a0e-fe37-0cc2b3891254"
      },
      "source": [
        "sampleDict = {\r\n",
        "  \"name\": \"Kelly\",\r\n",
        "  \"age\":25,\r\n",
        "  \"salary\": 8000,\r\n",
        "  \"city\": \"New york\"\r\n",
        " \r\n",
        "}\r\n",
        "del sampleDict[\"name\"], sampleDict[\"salary\"]\r\n",
        "print(sampleDict)"
      ],
      "execution_count": 26,
      "outputs": [
        {
          "output_type": "stream",
          "text": [
            "{'age': 25, 'city': 'New york'}\n"
          ],
          "name": "stdout"
        }
      ]
    },
    {
      "cell_type": "markdown",
      "metadata": {
        "id": "0xhlxdlpTrW7"
      },
      "source": [
        "**dictionary exercise 7: Check if a value 200 exists in a dictionary**\r\n",
        "\r\n",
        "\r\n",
        "```\r\n",
        "sampleDict = {'a': 100, 'b': 200, 'c': 300}\r\n",
        "```\r\n",
        "\r\n"
      ]
    },
    {
      "cell_type": "code",
      "metadata": {
        "colab": {
          "base_uri": "https://localhost:8080/"
        },
        "id": "m5Y5FY5VTyVL",
        "outputId": "0f2ef30f-5269-4526-df83-d556ab8bbba1"
      },
      "source": [
        "sampleDict = {'a': 100, 'b': 200, 'c': 300}\r\n",
        "print(200 in sampleDict.values())"
      ],
      "execution_count": 37,
      "outputs": [
        {
          "output_type": "stream",
          "text": [
            "True\n"
          ],
          "name": "stdout"
        }
      ]
    },
    {
      "cell_type": "markdown",
      "metadata": {
        "id": "NVCliSeXUJ4x"
      },
      "source": [
        "**dictionary exercise 8: Rename key city to location in the following dictionary**\r\n",
        "\r\n",
        "\r\n",
        "```\r\n",
        "sampleDict = {\r\n",
        "  \"name\": \"Kelly\",\r\n",
        "  \"age\":25,\r\n",
        "  \"salary\": 8000,\r\n",
        "  \"city\": \"New york\"\r\n",
        "}\r\n",
        "```\r\n",
        "\r\n"
      ]
    },
    {
      "cell_type": "code",
      "metadata": {
        "colab": {
          "base_uri": "https://localhost:8080/"
        },
        "id": "oFTzypNkUS40",
        "outputId": "8adefde4-a5b0-4f11-df87-435576cdaba9"
      },
      "source": [
        "sampleDict = {\r\n",
        "  \"name\": \"Kelly\",\r\n",
        "  \"age\":25,\r\n",
        "  \"salary\": 8000,\r\n",
        "  \"city\": \"New york\"\r\n",
        "}\r\n",
        "sampleDict[\"location\"]=sampleDict.pop(\"city\")\r\n",
        "print(sampleDict)"
      ],
      "execution_count": 29,
      "outputs": [
        {
          "output_type": "stream",
          "text": [
            "{'name': 'Kelly', 'age': 25, 'salary': 8000, 'location': 'New york'}\n"
          ],
          "name": "stdout"
        }
      ]
    },
    {
      "cell_type": "markdown",
      "metadata": {
        "id": "JLY62dQGUpxh"
      },
      "source": [
        "**dictionary exercise 9: Get the key corresponding to the minimum value from the following dictionary**\r\n",
        "\r\n",
        "\r\n",
        "```\r\n",
        "sampleDict = {\r\n",
        "  'Physics': 82,\r\n",
        "  'Math': 65,\r\n",
        "  'history': 75\r\n",
        "}\r\n",
        "```\r\n",
        "\r\n"
      ]
    },
    {
      "cell_type": "code",
      "metadata": {
        "colab": {
          "base_uri": "https://localhost:8080/"
        },
        "id": "QDGVIRvaUwjs",
        "outputId": "bb3d2ab1-21b8-4b04-9ae9-286deb7bba44"
      },
      "source": [
        "sampleDict = {\r\n",
        "  'Physics': 82,\r\n",
        "  'Math': 65,\r\n",
        "  'history': 75\r\n",
        "}\r\n",
        "minVal=0\r\n",
        "corr_key=''\r\n",
        "for p,q in sampleDict.items():\r\n",
        "  minVal=q\r\n",
        "  corr_key=p\r\n",
        "  break\r\n",
        "\r\n",
        "for i,j in sampleDict.items():\r\n",
        "  if minVal>j:\r\n",
        "    minVal=j\r\n",
        "    corr_key=i\r\n",
        "print(corr_key)\r\n",
        "\r\n"
      ],
      "execution_count": 34,
      "outputs": [
        {
          "output_type": "stream",
          "text": [
            "Math\n"
          ],
          "name": "stdout"
        }
      ]
    },
    {
      "cell_type": "markdown",
      "metadata": {
        "id": "AoXIY7DyWkCn"
      },
      "source": [
        "**dictionary exercise 10: Given a Python dictionary, Change Brad’s salary to 8500**\r\n",
        "\r\n",
        "\r\n",
        "```\r\n",
        "sampleDict = {\r\n",
        "     'emp1': {'name': 'Jhon', 'salary': 7500},\r\n",
        "     'emp2': {'name': 'Emma', 'salary': 8000},\r\n",
        "     'emp3': {'name': 'Brad', 'salary': 6500}\r\n",
        "}\r\n",
        "```\r\n",
        "\r\n"
      ]
    },
    {
      "cell_type": "code",
      "metadata": {
        "colab": {
          "base_uri": "https://localhost:8080/"
        },
        "id": "kQsnNE6zWsWR",
        "outputId": "f73f6faf-8d15-42f6-e476-3f9e71190f50"
      },
      "source": [
        "sampleDict = {\r\n",
        "     'emp1': {'name': 'Jhon', 'salary': 7500},\r\n",
        "     'emp2': {'name': 'Emma', 'salary': 8000},\r\n",
        "     'emp3': {'name': 'Brad', 'salary': 6500}\r\n",
        "}\r\n",
        "sampleDict['emp3']['salary']=8500\r\n",
        "print(sampleDict)"
      ],
      "execution_count": 36,
      "outputs": [
        {
          "output_type": "stream",
          "text": [
            "{'emp1': {'name': 'Jhon', 'salary': 7500}, 'emp2': {'name': 'Emma', 'salary': 8000}, 'emp3': {'name': 'Brad', 'salary': 8500}}\n"
          ],
          "name": "stdout"
        }
      ]
    }
  ]
}