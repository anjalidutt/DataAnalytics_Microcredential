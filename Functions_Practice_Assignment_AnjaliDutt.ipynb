{
  "nbformat": 4,
  "nbformat_minor": 0,
  "metadata": {
    "colab": {
      "name": "Functions Practice Assignment_AnjaliDutt.ipynb",
      "provenance": [],
      "authorship_tag": "ABX9TyMruhXs3dHMITF0zmg83K08",
      "include_colab_link": true
    },
    "kernelspec": {
      "name": "python3",
      "display_name": "Python 3"
    }
  },
  "cells": [
    {
      "cell_type": "markdown",
      "metadata": {
        "id": "view-in-github",
        "colab_type": "text"
      },
      "source": [
        "<a href=\"https://colab.research.google.com/github/anjalidutt/DataAnalytics_Microcredential/blob/assignment_four/Functions_Practice_Assignment_AnjaliDutt.ipynb\" target=\"_parent\"><img src=\"https://colab.research.google.com/assets/colab-badge.svg\" alt=\"Open In Colab\"/></a>"
      ]
    },
    {
      "cell_type": "markdown",
      "metadata": {
        "id": "fCB55FwqYvYS"
      },
      "source": [
        "\r\n",
        "\r\n",
        "```\r\n",
        "\r\n",
        "Functions Practice Assignment\r\n",
        "\r\n",
        "Create an application to produce net pay. Gross pay is the amount before deductions. Net pay is the final result after all of the deductions have been subtracted. The deductions are as follows.\r\n",
        "\r\n",
        "Federal Tax: 20%\r\n",
        "State Tax: 7%\r\n",
        "Health insurance: 5%\r\n",
        "401k: 10%\r\n",
        "\r\n",
        "Note:\r\n",
        "401k is calculated before tax is deducted so you will want calculate tax after 401k is subtracted from gross pay.\r\n",
        "Health insurance is calculated on the whole gross pay.\r\n",
        "Tax is calculated gross pay minus 401 contribution.\r\n",
        "\r\n",
        "You will allow entry of hours worked and pay rate. After 40 hours the employee receives time and a half pay. \r\n",
        "\r\n",
        "You should plan on using multiple functions to code this out. After completion of all calculations your output should be as follows:\r\n",
        "\t\r\n",
        "\tGross Pay: \t    ___________\r\n",
        "\r\n",
        "\t401k:         \t    ____________\r\n",
        "\r\n",
        "\tHealth insurance: _____________\r\n",
        "\r\n",
        "\tFederal Tax:\t   _____________\r\n",
        "\r\n",
        "\tState Tax:\t  _____________\r\n",
        "\r\n",
        "\tNet Pay:                ______________\r\n",
        "```\r\n",
        "\r\n"
      ]
    },
    {
      "cell_type": "code",
      "metadata": {
        "colab": {
          "base_uri": "https://localhost:8080/"
        },
        "id": "RdXjCXwVYxPm",
        "outputId": "0b93fc94-7a0b-4ac7-ea99-32ae38f74132"
      },
      "source": [
        "import pandas as pd\r\n",
        "\r\n",
        "Hours = int(input(\"Please enter total hours: \"))\r\n",
        "Pay_Rate = int(input(\"Please enter pay rate: \"))\r\n",
        "def gross_pay(Hours,Pay_Rate): \r\n",
        "  if Hours>40:\r\n",
        "    return 40*Pay_Rate+1.5*((Hours-40)*Pay_Rate)\r\n",
        "  else:\r\n",
        "    return Hours*Pay_Rate\r\n",
        "def ded401k(gp):\r\n",
        "  return 0.1*gp\r\n",
        "def health_ins(gp):\r\n",
        "  return 0.05*gp\r\n",
        "def fed_tax(gp,ded401k):\r\n",
        "  return (gp-ded401k)*.2\r\n",
        "def state_tax(gp,ded401k):\r\n",
        "  return (gp-ded401k)*.07\r\n",
        "def net_pay(gp,d401,h_ins,ftax,stax):\r\n",
        "  return (gp-(d401+h_ins+ftax+stax))\r\n",
        "grosspay = gross_pay(Hours,Pay_Rate)\r\n",
        "d401k= ded401k(grosspay)\r\n",
        "health_insurance = health_ins(grosspay)\r\n",
        "fedtax = fed_tax(grosspay,d401k)\r\n",
        "statetax = state_tax(grosspay,d401k)\r\n",
        "netpay = net_pay(grosspay,d401k,health_insurance,fedtax,statetax)\r\n",
        "index = ['Gross Pay',\r\n",
        "'401K',\r\n",
        "'Health Insurance',\r\n",
        "'State Tax',\r\n",
        "'Federal Tax',\r\n",
        "'Net Pay']\r\n",
        "val = [\"{:.2f}\".format(grosspay) ,\r\n",
        " \"{:.2f}\".format(d401k),\r\n",
        " \"{:.2f}\".format(health_insurance),\r\n",
        "\"{:.2f}\".format(statetax),\r\n",
        "\"{:.2f}\".format(fedtax),\r\n",
        "\"{:.2f}\".format(netpay)] \r\n",
        "print(pd.DataFrame(val, index,columns =['Value']))\r\n",
        "\r\n",
        "\r\n",
        "\r\n",
        "\r\n"
      ],
      "execution_count": 76,
      "outputs": [
        {
          "output_type": "stream",
          "text": [
            "Please enter total hours: 34\n",
            "Please enter pay rate: 34\n",
            "                    Value\n",
            "Gross Pay         1156.00\n",
            "401K               115.60\n",
            "Health Insurance    57.80\n",
            "State Tax           72.83\n",
            "Federal Tax        208.08\n",
            "Net Pay            701.69\n"
          ],
          "name": "stdout"
        }
      ]
    },
    {
      "cell_type": "code",
      "metadata": {
        "colab": {
          "base_uri": "https://localhost:8080/"
        },
        "id": "ea7nnh9Hd67f",
        "outputId": "283acb91-45af-4c98-ead5-702505039eb6"
      },
      "source": [
        "Hours = int(input(\"Please enter total hours: \"))\r\n",
        "Pay_Rate = int(input(\"Please enter pay rate: \"))\r\n",
        "def gross_pay(Hours,Pay_Rate): \r\n",
        "  if Hours>40:\r\n",
        "    return 40*Pay_Rate+1.5*((Hours-40)*Pay_Rate)\r\n",
        "  else:\r\n",
        "    return Hours*Pay_Rate\r\n",
        "def ded401k(gp):\r\n",
        "  return 0.1*gp\r\n",
        "def health_ins(gp):\r\n",
        "  return 0.05*gp\r\n",
        "def fed_tax(gp,ded401k):\r\n",
        "  return (gp-ded401k)*.2\r\n",
        "def state_tax(gp,ded401k):\r\n",
        "  return (gp-ded401k)*.07\r\n",
        "def net_pay(gp,d401,h_ins,ftax,stax):\r\n",
        "  return (gp-(d401+h_ins+ftax+stax))\r\n",
        "grosspay = gross_pay(Hours,Pay_Rate)\r\n",
        "d401k= ded401k(grosspay)\r\n",
        "health_insurance = health_ins(grosspay)\r\n",
        "fedtax = fed_tax(grosspay,d401k)\r\n",
        "statetax = state_tax(grosspay,d401k)\r\n",
        "netpay = net_pay(grosspay,d401k,health_insurance,fedtax,statetax)\r\n",
        "print(f\"\"\"\r\n",
        "Gross Pay:{\"{:.2f}\".format(grosspay)} \r\n",
        "401k:{\"{:.2f}\".format(d401k)}\r\n",
        "Health insurance:{\"{:.2f}\".format(health_insurance)}\r\n",
        "Federal Tax:{\"{:.2f}\".format(fedtax)}\r\n",
        "State Tax:{\"{:.2f}\".format(statetax)}\r\n",
        "Net Pay:{\"{:.2f}\".format(netpay)}          \r\n",
        "\"\"\")\r\n",
        "\r\n",
        "\r\n"
      ],
      "execution_count": 50,
      "outputs": [
        {
          "output_type": "stream",
          "text": [
            "Please enter total hours: 12\n",
            "Please enter pay rate: 3\n",
            "\n",
            "Gross Pay:36.00 \n",
            "401k:3.60\n",
            "Health insurance:1.80\n",
            "Federal Tax:6.48\n",
            "State Tax:2.27\n",
            "Net Pay:21.85          \n",
            "\n"
          ],
          "name": "stdout"
        }
      ]
    }
  ]
}