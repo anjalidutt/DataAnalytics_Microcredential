{
  "nbformat": 4,
  "nbformat_minor": 0,
  "metadata": {
    "colab": {
      "name": "Numpy.ipynb",
      "provenance": [],
      "authorship_tag": "ABX9TyNSsusvTixUEnk6y/NLNLYA",
      "include_colab_link": true
    },
    "kernelspec": {
      "name": "python3",
      "display_name": "Python 3"
    }
  },
  "cells": [
    {
      "cell_type": "markdown",
      "metadata": {
        "id": "view-in-github",
        "colab_type": "text"
      },
      "source": [
        "<a href=\"https://colab.research.google.com/github/infinya/DataAnalytics_Microcredential/blob/assignment_six/Numpy.ipynb\" target=\"_parent\"><img src=\"https://colab.research.google.com/assets/colab-badge.svg\" alt=\"Open In Colab\"/></a>"
      ]
    },
    {
      "cell_type": "code",
      "metadata": {
        "id": "ZzKvTN8aYHwn"
      },
      "source": [
        "import pandas as pd\r\n",
        "import numpy as np\r\n",
        "from numpy.random import randn\r\n",
        "np.random.seed(42)\r\n"
      ],
      "execution_count": null,
      "outputs": []
    },
    {
      "cell_type": "code",
      "metadata": {
        "colab": {
          "base_uri": "https://localhost:8080/"
        },
        "id": "HXY5JdZLey0-",
        "outputId": "da5b21ed-05c0-4096-8579-6cc37ec4635a"
      },
      "source": [
        "a= np.random.random()\r\n",
        "a = np.random.randint(10,size=5)\r\n",
        "a"
      ],
      "execution_count": null,
      "outputs": [
        {
          "output_type": "execute_result",
          "data": {
            "text/plain": [
              "array([4, 1, 7, 5, 1])"
            ]
          },
          "metadata": {
            "tags": []
          },
          "execution_count": 12
        }
      ]
    },
    {
      "cell_type": "code",
      "metadata": {
        "colab": {
          "base_uri": "https://localhost:8080/",
          "height": 204
        },
        "id": "53jdufMVhe9t",
        "outputId": "dbbfba38-8ca7-4e69-e672-f40936f4ff16"
      },
      "source": [
        "df = pd.DataFrame(randn(5,4),['A','B','C','D','E'],['W','X','Y','Z'])\r\n",
        "df"
      ],
      "execution_count": null,
      "outputs": [
        {
          "output_type": "execute_result",
          "data": {
            "text/html": [
              "<div>\n",
              "<style scoped>\n",
              "    .dataframe tbody tr th:only-of-type {\n",
              "        vertical-align: middle;\n",
              "    }\n",
              "\n",
              "    .dataframe tbody tr th {\n",
              "        vertical-align: top;\n",
              "    }\n",
              "\n",
              "    .dataframe thead th {\n",
              "        text-align: right;\n",
              "    }\n",
              "</style>\n",
              "<table border=\"1\" class=\"dataframe\">\n",
              "  <thead>\n",
              "    <tr style=\"text-align: right;\">\n",
              "      <th></th>\n",
              "      <th>W</th>\n",
              "      <th>X</th>\n",
              "      <th>Y</th>\n",
              "      <th>Z</th>\n",
              "    </tr>\n",
              "  </thead>\n",
              "  <tbody>\n",
              "    <tr>\n",
              "      <th>A</th>\n",
              "      <td>0.738467</td>\n",
              "      <td>0.171368</td>\n",
              "      <td>-0.115648</td>\n",
              "      <td>-0.301104</td>\n",
              "    </tr>\n",
              "    <tr>\n",
              "      <th>B</th>\n",
              "      <td>-1.478522</td>\n",
              "      <td>-0.719844</td>\n",
              "      <td>-0.460639</td>\n",
              "      <td>1.057122</td>\n",
              "    </tr>\n",
              "    <tr>\n",
              "      <th>C</th>\n",
              "      <td>0.343618</td>\n",
              "      <td>-1.763040</td>\n",
              "      <td>0.324084</td>\n",
              "      <td>-0.385082</td>\n",
              "    </tr>\n",
              "    <tr>\n",
              "      <th>D</th>\n",
              "      <td>-0.676922</td>\n",
              "      <td>0.611676</td>\n",
              "      <td>1.031000</td>\n",
              "      <td>0.931280</td>\n",
              "    </tr>\n",
              "    <tr>\n",
              "      <th>E</th>\n",
              "      <td>-0.839218</td>\n",
              "      <td>-0.309212</td>\n",
              "      <td>0.331263</td>\n",
              "      <td>0.975545</td>\n",
              "    </tr>\n",
              "  </tbody>\n",
              "</table>\n",
              "</div>"
            ],
            "text/plain": [
              "          W         X         Y         Z\n",
              "A  0.738467  0.171368 -0.115648 -0.301104\n",
              "B -1.478522 -0.719844 -0.460639  1.057122\n",
              "C  0.343618 -1.763040  0.324084 -0.385082\n",
              "D -0.676922  0.611676  1.031000  0.931280\n",
              "E -0.839218 -0.309212  0.331263  0.975545"
            ]
          },
          "metadata": {
            "tags": []
          },
          "execution_count": 39
        }
      ]
    },
    {
      "cell_type": "code",
      "metadata": {
        "colab": {
          "base_uri": "https://localhost:8080/"
        },
        "id": "6zk5U6CsiBpg",
        "outputId": "11d30d6c-6ea9-4bc0-91fe-679a0caca66c"
      },
      "source": [
        "df['W']"
      ],
      "execution_count": null,
      "outputs": [
        {
          "output_type": "execute_result",
          "data": {
            "text/plain": [
              "A    1.465649\n",
              "B   -0.544383\n",
              "C   -0.600639\n",
              "D   -0.013497\n",
              "E    0.208864\n",
              "Name: W, dtype: float64"
            ]
          },
          "metadata": {
            "tags": []
          },
          "execution_count": 17
        }
      ]
    },
    {
      "cell_type": "code",
      "metadata": {
        "colab": {
          "base_uri": "https://localhost:8080/",
          "height": 204
        },
        "id": "MDxYeLRsiHGj",
        "outputId": "21b0146e-a671-475b-d898-e69fa7cedad8"
      },
      "source": [
        "df[['W','X']]"
      ],
      "execution_count": null,
      "outputs": [
        {
          "output_type": "execute_result",
          "data": {
            "text/html": [
              "<div>\n",
              "<style scoped>\n",
              "    .dataframe tbody tr th:only-of-type {\n",
              "        vertical-align: middle;\n",
              "    }\n",
              "\n",
              "    .dataframe tbody tr th {\n",
              "        vertical-align: top;\n",
              "    }\n",
              "\n",
              "    .dataframe thead th {\n",
              "        text-align: right;\n",
              "    }\n",
              "</style>\n",
              "<table border=\"1\" class=\"dataframe\">\n",
              "  <thead>\n",
              "    <tr style=\"text-align: right;\">\n",
              "      <th></th>\n",
              "      <th>W</th>\n",
              "      <th>X</th>\n",
              "    </tr>\n",
              "  </thead>\n",
              "  <tbody>\n",
              "    <tr>\n",
              "      <th>A</th>\n",
              "      <td>1.465649</td>\n",
              "      <td>-0.225776</td>\n",
              "    </tr>\n",
              "    <tr>\n",
              "      <th>B</th>\n",
              "      <td>-0.544383</td>\n",
              "      <td>0.110923</td>\n",
              "    </tr>\n",
              "    <tr>\n",
              "      <th>C</th>\n",
              "      <td>-0.600639</td>\n",
              "      <td>-0.291694</td>\n",
              "    </tr>\n",
              "    <tr>\n",
              "      <th>D</th>\n",
              "      <td>-0.013497</td>\n",
              "      <td>-1.057711</td>\n",
              "    </tr>\n",
              "    <tr>\n",
              "      <th>E</th>\n",
              "      <td>0.208864</td>\n",
              "      <td>-1.959670</td>\n",
              "    </tr>\n",
              "  </tbody>\n",
              "</table>\n",
              "</div>"
            ],
            "text/plain": [
              "          W         X\n",
              "A  1.465649 -0.225776\n",
              "B -0.544383  0.110923\n",
              "C -0.600639 -0.291694\n",
              "D -0.013497 -1.057711\n",
              "E  0.208864 -1.959670"
            ]
          },
          "metadata": {
            "tags": []
          },
          "execution_count": 21
        }
      ]
    },
    {
      "cell_type": "code",
      "metadata": {
        "colab": {
          "base_uri": "https://localhost:8080/"
        },
        "id": "dGYx7SkCiR4d",
        "outputId": "7a0e9a96-4eb6-4e14-ebcd-d09886e837ad"
      },
      "source": [
        "df['W']['A']"
      ],
      "execution_count": null,
      "outputs": [
        {
          "output_type": "execute_result",
          "data": {
            "text/plain": [
              "1.465648768921554"
            ]
          },
          "metadata": {
            "tags": []
          },
          "execution_count": 23
        }
      ]
    },
    {
      "cell_type": "code",
      "metadata": {
        "colab": {
          "base_uri": "https://localhost:8080/"
        },
        "id": "-QJJsftoiee8",
        "outputId": "53401807-93af-4094-981f-d73c2b1d9260"
      },
      "source": [
        "df.loc['A']"
      ],
      "execution_count": null,
      "outputs": [
        {
          "output_type": "execute_result",
          "data": {
            "text/plain": [
              "W    1.465649\n",
              "X   -0.225776\n",
              "Y    0.067528\n",
              "Z   -1.424748\n",
              "Name: A, dtype: float64"
            ]
          },
          "metadata": {
            "tags": []
          },
          "execution_count": 25
        }
      ]
    },
    {
      "cell_type": "code",
      "metadata": {
        "colab": {
          "base_uri": "https://localhost:8080/",
          "height": 204
        },
        "id": "Xv6RakLRlEda",
        "outputId": "ea5b6375-4e8b-4a66-8bae-2605a6bc1223"
      },
      "source": [
        "df['new'] = df['W']+df['Y']\r\n",
        "df"
      ],
      "execution_count": null,
      "outputs": [
        {
          "output_type": "execute_result",
          "data": {
            "text/html": [
              "<div>\n",
              "<style scoped>\n",
              "    .dataframe tbody tr th:only-of-type {\n",
              "        vertical-align: middle;\n",
              "    }\n",
              "\n",
              "    .dataframe tbody tr th {\n",
              "        vertical-align: top;\n",
              "    }\n",
              "\n",
              "    .dataframe thead th {\n",
              "        text-align: right;\n",
              "    }\n",
              "</style>\n",
              "<table border=\"1\" class=\"dataframe\">\n",
              "  <thead>\n",
              "    <tr style=\"text-align: right;\">\n",
              "      <th></th>\n",
              "      <th>W</th>\n",
              "      <th>X</th>\n",
              "      <th>Y</th>\n",
              "      <th>Z</th>\n",
              "      <th>new</th>\n",
              "    </tr>\n",
              "  </thead>\n",
              "  <tbody>\n",
              "    <tr>\n",
              "      <th>A</th>\n",
              "      <td>0.738467</td>\n",
              "      <td>0.171368</td>\n",
              "      <td>-0.115648</td>\n",
              "      <td>-0.301104</td>\n",
              "      <td>0.622818</td>\n",
              "    </tr>\n",
              "    <tr>\n",
              "      <th>B</th>\n",
              "      <td>-1.478522</td>\n",
              "      <td>-0.719844</td>\n",
              "      <td>-0.460639</td>\n",
              "      <td>1.057122</td>\n",
              "      <td>-1.939161</td>\n",
              "    </tr>\n",
              "    <tr>\n",
              "      <th>C</th>\n",
              "      <td>0.343618</td>\n",
              "      <td>-1.763040</td>\n",
              "      <td>0.324084</td>\n",
              "      <td>-0.385082</td>\n",
              "      <td>0.667702</td>\n",
              "    </tr>\n",
              "    <tr>\n",
              "      <th>D</th>\n",
              "      <td>-0.676922</td>\n",
              "      <td>0.611676</td>\n",
              "      <td>1.031000</td>\n",
              "      <td>0.931280</td>\n",
              "      <td>0.354078</td>\n",
              "    </tr>\n",
              "    <tr>\n",
              "      <th>E</th>\n",
              "      <td>-0.839218</td>\n",
              "      <td>-0.309212</td>\n",
              "      <td>0.331263</td>\n",
              "      <td>0.975545</td>\n",
              "      <td>-0.507954</td>\n",
              "    </tr>\n",
              "  </tbody>\n",
              "</table>\n",
              "</div>"
            ],
            "text/plain": [
              "          W         X         Y         Z       new\n",
              "A  0.738467  0.171368 -0.115648 -0.301104  0.622818\n",
              "B -1.478522 -0.719844 -0.460639  1.057122 -1.939161\n",
              "C  0.343618 -1.763040  0.324084 -0.385082  0.667702\n",
              "D -0.676922  0.611676  1.031000  0.931280  0.354078\n",
              "E -0.839218 -0.309212  0.331263  0.975545 -0.507954"
            ]
          },
          "metadata": {
            "tags": []
          },
          "execution_count": 40
        }
      ]
    },
    {
      "cell_type": "code",
      "metadata": {
        "colab": {
          "base_uri": "https://localhost:8080/",
          "height": 204
        },
        "id": "58tFCLTLl2JC",
        "outputId": "1df46104-a8c7-4862-ca54-43487d1c75d4"
      },
      "source": [
        "column_drop = df.drop('new',axis=1,inplace=False)\r\n",
        "column_drop\r\n"
      ],
      "execution_count": null,
      "outputs": [
        {
          "output_type": "execute_result",
          "data": {
            "text/html": [
              "<div>\n",
              "<style scoped>\n",
              "    .dataframe tbody tr th:only-of-type {\n",
              "        vertical-align: middle;\n",
              "    }\n",
              "\n",
              "    .dataframe tbody tr th {\n",
              "        vertical-align: top;\n",
              "    }\n",
              "\n",
              "    .dataframe thead th {\n",
              "        text-align: right;\n",
              "    }\n",
              "</style>\n",
              "<table border=\"1\" class=\"dataframe\">\n",
              "  <thead>\n",
              "    <tr style=\"text-align: right;\">\n",
              "      <th></th>\n",
              "      <th>W</th>\n",
              "      <th>X</th>\n",
              "      <th>Y</th>\n",
              "      <th>Z</th>\n",
              "    </tr>\n",
              "  </thead>\n",
              "  <tbody>\n",
              "    <tr>\n",
              "      <th>A</th>\n",
              "      <td>1.465649</td>\n",
              "      <td>-0.225776</td>\n",
              "      <td>0.067528</td>\n",
              "      <td>-1.424748</td>\n",
              "    </tr>\n",
              "    <tr>\n",
              "      <th>B</th>\n",
              "      <td>-0.544383</td>\n",
              "      <td>0.110923</td>\n",
              "      <td>-1.150994</td>\n",
              "      <td>0.375698</td>\n",
              "    </tr>\n",
              "    <tr>\n",
              "      <th>C</th>\n",
              "      <td>-0.600639</td>\n",
              "      <td>-0.291694</td>\n",
              "      <td>-0.601707</td>\n",
              "      <td>1.852278</td>\n",
              "    </tr>\n",
              "    <tr>\n",
              "      <th>D</th>\n",
              "      <td>-0.013497</td>\n",
              "      <td>-1.057711</td>\n",
              "      <td>0.822545</td>\n",
              "      <td>-1.220844</td>\n",
              "    </tr>\n",
              "    <tr>\n",
              "      <th>E</th>\n",
              "      <td>0.208864</td>\n",
              "      <td>-1.959670</td>\n",
              "      <td>-1.328186</td>\n",
              "      <td>0.196861</td>\n",
              "    </tr>\n",
              "  </tbody>\n",
              "</table>\n",
              "</div>"
            ],
            "text/plain": [
              "          W         X         Y         Z\n",
              "A  1.465649 -0.225776  0.067528 -1.424748\n",
              "B -0.544383  0.110923 -1.150994  0.375698\n",
              "C -0.600639 -0.291694 -0.601707  1.852278\n",
              "D -0.013497 -1.057711  0.822545 -1.220844\n",
              "E  0.208864 -1.959670 -1.328186  0.196861"
            ]
          },
          "metadata": {
            "tags": []
          },
          "execution_count": 33
        }
      ]
    },
    {
      "cell_type": "code",
      "metadata": {
        "colab": {
          "base_uri": "https://localhost:8080/",
          "height": 204
        },
        "id": "m-GUkO2AmAUC",
        "outputId": "1f3394f5-d17c-4ea7-e970-9df58dc577c9"
      },
      "source": [
        "df"
      ],
      "execution_count": null,
      "outputs": [
        {
          "output_type": "execute_result",
          "data": {
            "text/html": [
              "<div>\n",
              "<style scoped>\n",
              "    .dataframe tbody tr th:only-of-type {\n",
              "        vertical-align: middle;\n",
              "    }\n",
              "\n",
              "    .dataframe tbody tr th {\n",
              "        vertical-align: top;\n",
              "    }\n",
              "\n",
              "    .dataframe thead th {\n",
              "        text-align: right;\n",
              "    }\n",
              "</style>\n",
              "<table border=\"1\" class=\"dataframe\">\n",
              "  <thead>\n",
              "    <tr style=\"text-align: right;\">\n",
              "      <th></th>\n",
              "      <th>W</th>\n",
              "      <th>X</th>\n",
              "      <th>Y</th>\n",
              "      <th>Z</th>\n",
              "      <th>new</th>\n",
              "    </tr>\n",
              "  </thead>\n",
              "  <tbody>\n",
              "    <tr>\n",
              "      <th>A</th>\n",
              "      <td>1.465649</td>\n",
              "      <td>-0.225776</td>\n",
              "      <td>0.067528</td>\n",
              "      <td>-1.424748</td>\n",
              "      <td>1.533177</td>\n",
              "    </tr>\n",
              "    <tr>\n",
              "      <th>B</th>\n",
              "      <td>-0.544383</td>\n",
              "      <td>0.110923</td>\n",
              "      <td>-1.150994</td>\n",
              "      <td>0.375698</td>\n",
              "      <td>-1.695376</td>\n",
              "    </tr>\n",
              "    <tr>\n",
              "      <th>C</th>\n",
              "      <td>-0.600639</td>\n",
              "      <td>-0.291694</td>\n",
              "      <td>-0.601707</td>\n",
              "      <td>1.852278</td>\n",
              "      <td>-1.202345</td>\n",
              "    </tr>\n",
              "    <tr>\n",
              "      <th>D</th>\n",
              "      <td>-0.013497</td>\n",
              "      <td>-1.057711</td>\n",
              "      <td>0.822545</td>\n",
              "      <td>-1.220844</td>\n",
              "      <td>0.809048</td>\n",
              "    </tr>\n",
              "    <tr>\n",
              "      <th>E</th>\n",
              "      <td>0.208864</td>\n",
              "      <td>-1.959670</td>\n",
              "      <td>-1.328186</td>\n",
              "      <td>0.196861</td>\n",
              "      <td>-1.119322</td>\n",
              "    </tr>\n",
              "  </tbody>\n",
              "</table>\n",
              "</div>"
            ],
            "text/plain": [
              "          W         X         Y         Z       new\n",
              "A  1.465649 -0.225776  0.067528 -1.424748  1.533177\n",
              "B -0.544383  0.110923 -1.150994  0.375698 -1.695376\n",
              "C -0.600639 -0.291694 -0.601707  1.852278 -1.202345\n",
              "D -0.013497 -1.057711  0.822545 -1.220844  0.809048\n",
              "E  0.208864 -1.959670 -1.328186  0.196861 -1.119322"
            ]
          },
          "metadata": {
            "tags": []
          },
          "execution_count": 34
        }
      ]
    },
    {
      "cell_type": "code",
      "metadata": {
        "colab": {
          "base_uri": "https://localhost:8080/",
          "height": 173
        },
        "id": "x4rqs47bmDm-",
        "outputId": "9a18646d-0305-4177-dc27-5fff2176f381"
      },
      "source": [
        "row_drop=df.drop('B', axis=0)#inplace = False by default\r\n",
        "row_drop"
      ],
      "execution_count": null,
      "outputs": [
        {
          "output_type": "execute_result",
          "data": {
            "text/html": [
              "<div>\n",
              "<style scoped>\n",
              "    .dataframe tbody tr th:only-of-type {\n",
              "        vertical-align: middle;\n",
              "    }\n",
              "\n",
              "    .dataframe tbody tr th {\n",
              "        vertical-align: top;\n",
              "    }\n",
              "\n",
              "    .dataframe thead th {\n",
              "        text-align: right;\n",
              "    }\n",
              "</style>\n",
              "<table border=\"1\" class=\"dataframe\">\n",
              "  <thead>\n",
              "    <tr style=\"text-align: right;\">\n",
              "      <th></th>\n",
              "      <th>W</th>\n",
              "      <th>X</th>\n",
              "      <th>Y</th>\n",
              "      <th>Z</th>\n",
              "      <th>new</th>\n",
              "    </tr>\n",
              "  </thead>\n",
              "  <tbody>\n",
              "    <tr>\n",
              "      <th>A</th>\n",
              "      <td>0.738467</td>\n",
              "      <td>0.171368</td>\n",
              "      <td>-0.115648</td>\n",
              "      <td>-0.301104</td>\n",
              "      <td>0.622818</td>\n",
              "    </tr>\n",
              "    <tr>\n",
              "      <th>C</th>\n",
              "      <td>0.343618</td>\n",
              "      <td>-1.763040</td>\n",
              "      <td>0.324084</td>\n",
              "      <td>-0.385082</td>\n",
              "      <td>0.667702</td>\n",
              "    </tr>\n",
              "    <tr>\n",
              "      <th>D</th>\n",
              "      <td>-0.676922</td>\n",
              "      <td>0.611676</td>\n",
              "      <td>1.031000</td>\n",
              "      <td>0.931280</td>\n",
              "      <td>0.354078</td>\n",
              "    </tr>\n",
              "    <tr>\n",
              "      <th>E</th>\n",
              "      <td>-0.839218</td>\n",
              "      <td>-0.309212</td>\n",
              "      <td>0.331263</td>\n",
              "      <td>0.975545</td>\n",
              "      <td>-0.507954</td>\n",
              "    </tr>\n",
              "  </tbody>\n",
              "</table>\n",
              "</div>"
            ],
            "text/plain": [
              "          W         X         Y         Z       new\n",
              "A  0.738467  0.171368 -0.115648 -0.301104  0.622818\n",
              "C  0.343618 -1.763040  0.324084 -0.385082  0.667702\n",
              "D -0.676922  0.611676  1.031000  0.931280  0.354078\n",
              "E -0.839218 -0.309212  0.331263  0.975545 -0.507954"
            ]
          },
          "metadata": {
            "tags": []
          },
          "execution_count": 43
        }
      ]
    },
    {
      "cell_type": "code",
      "metadata": {
        "colab": {
          "base_uri": "https://localhost:8080/"
        },
        "id": "dB69obNMnXkj",
        "outputId": "306a2101-1e5d-42fe-c265-6ffa2e4b9c65"
      },
      "source": [
        "df.iloc[3][1]"
      ],
      "execution_count": null,
      "outputs": [
        {
          "output_type": "execute_result",
          "data": {
            "text/plain": [
              "0.6116762888408679"
            ]
          },
          "metadata": {
            "tags": []
          },
          "execution_count": 45
        }
      ]
    },
    {
      "cell_type": "code",
      "metadata": {
        "colab": {
          "base_uri": "https://localhost:8080/",
          "height": 204
        },
        "id": "SIUpzAXDmNDU",
        "outputId": "6d4ee5ab-fe55-4118-ac10-4361bbdd7430"
      },
      "source": [
        "df"
      ],
      "execution_count": null,
      "outputs": [
        {
          "output_type": "execute_result",
          "data": {
            "text/html": [
              "<div>\n",
              "<style scoped>\n",
              "    .dataframe tbody tr th:only-of-type {\n",
              "        vertical-align: middle;\n",
              "    }\n",
              "\n",
              "    .dataframe tbody tr th {\n",
              "        vertical-align: top;\n",
              "    }\n",
              "\n",
              "    .dataframe thead th {\n",
              "        text-align: right;\n",
              "    }\n",
              "</style>\n",
              "<table border=\"1\" class=\"dataframe\">\n",
              "  <thead>\n",
              "    <tr style=\"text-align: right;\">\n",
              "      <th></th>\n",
              "      <th>W</th>\n",
              "      <th>X</th>\n",
              "      <th>Y</th>\n",
              "      <th>Z</th>\n",
              "      <th>new</th>\n",
              "    </tr>\n",
              "  </thead>\n",
              "  <tbody>\n",
              "    <tr>\n",
              "      <th>A</th>\n",
              "      <td>0.738467</td>\n",
              "      <td>0.171368</td>\n",
              "      <td>-0.115648</td>\n",
              "      <td>-0.301104</td>\n",
              "      <td>0.622818</td>\n",
              "    </tr>\n",
              "    <tr>\n",
              "      <th>B</th>\n",
              "      <td>-1.478522</td>\n",
              "      <td>-0.719844</td>\n",
              "      <td>-0.460639</td>\n",
              "      <td>1.057122</td>\n",
              "      <td>-1.939161</td>\n",
              "    </tr>\n",
              "    <tr>\n",
              "      <th>C</th>\n",
              "      <td>0.343618</td>\n",
              "      <td>-1.763040</td>\n",
              "      <td>0.324084</td>\n",
              "      <td>-0.385082</td>\n",
              "      <td>0.667702</td>\n",
              "    </tr>\n",
              "    <tr>\n",
              "      <th>D</th>\n",
              "      <td>-0.676922</td>\n",
              "      <td>0.611676</td>\n",
              "      <td>1.031000</td>\n",
              "      <td>0.931280</td>\n",
              "      <td>0.354078</td>\n",
              "    </tr>\n",
              "    <tr>\n",
              "      <th>E</th>\n",
              "      <td>-0.839218</td>\n",
              "      <td>-0.309212</td>\n",
              "      <td>0.331263</td>\n",
              "      <td>0.975545</td>\n",
              "      <td>-0.507954</td>\n",
              "    </tr>\n",
              "  </tbody>\n",
              "</table>\n",
              "</div>"
            ],
            "text/plain": [
              "          W         X         Y         Z       new\n",
              "A  0.738467  0.171368 -0.115648 -0.301104  0.622818\n",
              "B -1.478522 -0.719844 -0.460639  1.057122 -1.939161\n",
              "C  0.343618 -1.763040  0.324084 -0.385082  0.667702\n",
              "D -0.676922  0.611676  1.031000  0.931280  0.354078\n",
              "E -0.839218 -0.309212  0.331263  0.975545 -0.507954"
            ]
          },
          "metadata": {
            "tags": []
          },
          "execution_count": 46
        }
      ]
    },
    {
      "cell_type": "code",
      "metadata": {
        "colab": {
          "base_uri": "https://localhost:8080/"
        },
        "id": "_MTLXC9In5km",
        "outputId": "5626a592-e480-4af7-d371-236cfad368fa"
      },
      "source": [
        "df.loc['D']['X']"
      ],
      "execution_count": null,
      "outputs": [
        {
          "output_type": "execute_result",
          "data": {
            "text/plain": [
              "0.6116762888408679"
            ]
          },
          "metadata": {
            "tags": []
          },
          "execution_count": 47
        }
      ]
    },
    {
      "cell_type": "code",
      "metadata": {
        "colab": {
          "base_uri": "https://localhost:8080/",
          "height": 204
        },
        "id": "U9S9rzptnefU",
        "outputId": "e4b919ca-ae98-440f-fa73-8dfff80f6fca"
      },
      "source": [
        "df>0"
      ],
      "execution_count": null,
      "outputs": [
        {
          "output_type": "execute_result",
          "data": {
            "text/html": [
              "<div>\n",
              "<style scoped>\n",
              "    .dataframe tbody tr th:only-of-type {\n",
              "        vertical-align: middle;\n",
              "    }\n",
              "\n",
              "    .dataframe tbody tr th {\n",
              "        vertical-align: top;\n",
              "    }\n",
              "\n",
              "    .dataframe thead th {\n",
              "        text-align: right;\n",
              "    }\n",
              "</style>\n",
              "<table border=\"1\" class=\"dataframe\">\n",
              "  <thead>\n",
              "    <tr style=\"text-align: right;\">\n",
              "      <th></th>\n",
              "      <th>W</th>\n",
              "      <th>X</th>\n",
              "      <th>Y</th>\n",
              "      <th>Z</th>\n",
              "      <th>new</th>\n",
              "    </tr>\n",
              "  </thead>\n",
              "  <tbody>\n",
              "    <tr>\n",
              "      <th>A</th>\n",
              "      <td>True</td>\n",
              "      <td>True</td>\n",
              "      <td>False</td>\n",
              "      <td>False</td>\n",
              "      <td>True</td>\n",
              "    </tr>\n",
              "    <tr>\n",
              "      <th>B</th>\n",
              "      <td>False</td>\n",
              "      <td>False</td>\n",
              "      <td>False</td>\n",
              "      <td>True</td>\n",
              "      <td>False</td>\n",
              "    </tr>\n",
              "    <tr>\n",
              "      <th>C</th>\n",
              "      <td>True</td>\n",
              "      <td>False</td>\n",
              "      <td>True</td>\n",
              "      <td>False</td>\n",
              "      <td>True</td>\n",
              "    </tr>\n",
              "    <tr>\n",
              "      <th>D</th>\n",
              "      <td>False</td>\n",
              "      <td>True</td>\n",
              "      <td>True</td>\n",
              "      <td>True</td>\n",
              "      <td>True</td>\n",
              "    </tr>\n",
              "    <tr>\n",
              "      <th>E</th>\n",
              "      <td>False</td>\n",
              "      <td>False</td>\n",
              "      <td>True</td>\n",
              "      <td>True</td>\n",
              "      <td>False</td>\n",
              "    </tr>\n",
              "  </tbody>\n",
              "</table>\n",
              "</div>"
            ],
            "text/plain": [
              "       W      X      Y      Z    new\n",
              "A   True   True  False  False   True\n",
              "B  False  False  False   True  False\n",
              "C   True  False   True  False   True\n",
              "D  False   True   True   True   True\n",
              "E  False  False   True   True  False"
            ]
          },
          "metadata": {
            "tags": []
          },
          "execution_count": 48
        }
      ]
    },
    {
      "cell_type": "code",
      "metadata": {
        "colab": {
          "base_uri": "https://localhost:8080/",
          "height": 204
        },
        "id": "Zg6fDvsOpAAX",
        "outputId": "e84ecb3e-4e8a-4f7d-e2fa-9eb448cabedb"
      },
      "source": [
        "booldf = df>0\r\n",
        "booldf "
      ],
      "execution_count": null,
      "outputs": [
        {
          "output_type": "execute_result",
          "data": {
            "text/html": [
              "<div>\n",
              "<style scoped>\n",
              "    .dataframe tbody tr th:only-of-type {\n",
              "        vertical-align: middle;\n",
              "    }\n",
              "\n",
              "    .dataframe tbody tr th {\n",
              "        vertical-align: top;\n",
              "    }\n",
              "\n",
              "    .dataframe thead th {\n",
              "        text-align: right;\n",
              "    }\n",
              "</style>\n",
              "<table border=\"1\" class=\"dataframe\">\n",
              "  <thead>\n",
              "    <tr style=\"text-align: right;\">\n",
              "      <th></th>\n",
              "      <th>W</th>\n",
              "      <th>X</th>\n",
              "      <th>Y</th>\n",
              "      <th>Z</th>\n",
              "      <th>new</th>\n",
              "    </tr>\n",
              "  </thead>\n",
              "  <tbody>\n",
              "    <tr>\n",
              "      <th>A</th>\n",
              "      <td>True</td>\n",
              "      <td>True</td>\n",
              "      <td>False</td>\n",
              "      <td>False</td>\n",
              "      <td>True</td>\n",
              "    </tr>\n",
              "    <tr>\n",
              "      <th>B</th>\n",
              "      <td>False</td>\n",
              "      <td>False</td>\n",
              "      <td>False</td>\n",
              "      <td>True</td>\n",
              "      <td>False</td>\n",
              "    </tr>\n",
              "    <tr>\n",
              "      <th>C</th>\n",
              "      <td>True</td>\n",
              "      <td>False</td>\n",
              "      <td>True</td>\n",
              "      <td>False</td>\n",
              "      <td>True</td>\n",
              "    </tr>\n",
              "    <tr>\n",
              "      <th>D</th>\n",
              "      <td>False</td>\n",
              "      <td>True</td>\n",
              "      <td>True</td>\n",
              "      <td>True</td>\n",
              "      <td>True</td>\n",
              "    </tr>\n",
              "    <tr>\n",
              "      <th>E</th>\n",
              "      <td>False</td>\n",
              "      <td>False</td>\n",
              "      <td>True</td>\n",
              "      <td>True</td>\n",
              "      <td>False</td>\n",
              "    </tr>\n",
              "  </tbody>\n",
              "</table>\n",
              "</div>"
            ],
            "text/plain": [
              "       W      X      Y      Z    new\n",
              "A   True   True  False  False   True\n",
              "B  False  False  False   True  False\n",
              "C   True  False   True  False   True\n",
              "D  False   True   True   True   True\n",
              "E  False  False   True   True  False"
            ]
          },
          "metadata": {
            "tags": []
          },
          "execution_count": 51
        }
      ]
    },
    {
      "cell_type": "code",
      "metadata": {
        "colab": {
          "base_uri": "https://localhost:8080/",
          "height": 204
        },
        "id": "ju99vuM1pX7Q",
        "outputId": "080da94c-1eae-40a9-be52-bde0298bc47f"
      },
      "source": [
        "df[booldf]"
      ],
      "execution_count": null,
      "outputs": [
        {
          "output_type": "execute_result",
          "data": {
            "text/html": [
              "<div>\n",
              "<style scoped>\n",
              "    .dataframe tbody tr th:only-of-type {\n",
              "        vertical-align: middle;\n",
              "    }\n",
              "\n",
              "    .dataframe tbody tr th {\n",
              "        vertical-align: top;\n",
              "    }\n",
              "\n",
              "    .dataframe thead th {\n",
              "        text-align: right;\n",
              "    }\n",
              "</style>\n",
              "<table border=\"1\" class=\"dataframe\">\n",
              "  <thead>\n",
              "    <tr style=\"text-align: right;\">\n",
              "      <th></th>\n",
              "      <th>W</th>\n",
              "      <th>X</th>\n",
              "      <th>Y</th>\n",
              "      <th>Z</th>\n",
              "      <th>new</th>\n",
              "    </tr>\n",
              "  </thead>\n",
              "  <tbody>\n",
              "    <tr>\n",
              "      <th>A</th>\n",
              "      <td>0.738467</td>\n",
              "      <td>0.171368</td>\n",
              "      <td>NaN</td>\n",
              "      <td>NaN</td>\n",
              "      <td>0.622818</td>\n",
              "    </tr>\n",
              "    <tr>\n",
              "      <th>B</th>\n",
              "      <td>NaN</td>\n",
              "      <td>NaN</td>\n",
              "      <td>NaN</td>\n",
              "      <td>1.057122</td>\n",
              "      <td>NaN</td>\n",
              "    </tr>\n",
              "    <tr>\n",
              "      <th>C</th>\n",
              "      <td>0.343618</td>\n",
              "      <td>NaN</td>\n",
              "      <td>0.324084</td>\n",
              "      <td>NaN</td>\n",
              "      <td>0.667702</td>\n",
              "    </tr>\n",
              "    <tr>\n",
              "      <th>D</th>\n",
              "      <td>NaN</td>\n",
              "      <td>0.611676</td>\n",
              "      <td>1.031000</td>\n",
              "      <td>0.931280</td>\n",
              "      <td>0.354078</td>\n",
              "    </tr>\n",
              "    <tr>\n",
              "      <th>E</th>\n",
              "      <td>NaN</td>\n",
              "      <td>NaN</td>\n",
              "      <td>0.331263</td>\n",
              "      <td>0.975545</td>\n",
              "      <td>NaN</td>\n",
              "    </tr>\n",
              "  </tbody>\n",
              "</table>\n",
              "</div>"
            ],
            "text/plain": [
              "          W         X         Y         Z       new\n",
              "A  0.738467  0.171368       NaN       NaN  0.622818\n",
              "B       NaN       NaN       NaN  1.057122       NaN\n",
              "C  0.343618       NaN  0.324084       NaN  0.667702\n",
              "D       NaN  0.611676  1.031000  0.931280  0.354078\n",
              "E       NaN       NaN  0.331263  0.975545       NaN"
            ]
          },
          "metadata": {
            "tags": []
          },
          "execution_count": 52
        }
      ]
    },
    {
      "cell_type": "code",
      "metadata": {
        "colab": {
          "base_uri": "https://localhost:8080/",
          "height": 111
        },
        "id": "vSmvMxkAp7m1",
        "outputId": "0d8a40ac-185e-44c9-9194-78bcfd1823a8"
      },
      "source": [
        "df[df['W']>0]"
      ],
      "execution_count": null,
      "outputs": [
        {
          "output_type": "execute_result",
          "data": {
            "text/html": [
              "<div>\n",
              "<style scoped>\n",
              "    .dataframe tbody tr th:only-of-type {\n",
              "        vertical-align: middle;\n",
              "    }\n",
              "\n",
              "    .dataframe tbody tr th {\n",
              "        vertical-align: top;\n",
              "    }\n",
              "\n",
              "    .dataframe thead th {\n",
              "        text-align: right;\n",
              "    }\n",
              "</style>\n",
              "<table border=\"1\" class=\"dataframe\">\n",
              "  <thead>\n",
              "    <tr style=\"text-align: right;\">\n",
              "      <th></th>\n",
              "      <th>W</th>\n",
              "      <th>X</th>\n",
              "      <th>Y</th>\n",
              "      <th>Z</th>\n",
              "      <th>new</th>\n",
              "    </tr>\n",
              "  </thead>\n",
              "  <tbody>\n",
              "    <tr>\n",
              "      <th>A</th>\n",
              "      <td>0.738467</td>\n",
              "      <td>0.171368</td>\n",
              "      <td>-0.115648</td>\n",
              "      <td>-0.301104</td>\n",
              "      <td>0.622818</td>\n",
              "    </tr>\n",
              "    <tr>\n",
              "      <th>C</th>\n",
              "      <td>0.343618</td>\n",
              "      <td>-1.763040</td>\n",
              "      <td>0.324084</td>\n",
              "      <td>-0.385082</td>\n",
              "      <td>0.667702</td>\n",
              "    </tr>\n",
              "  </tbody>\n",
              "</table>\n",
              "</div>"
            ],
            "text/plain": [
              "          W         X         Y         Z       new\n",
              "A  0.738467  0.171368 -0.115648 -0.301104  0.622818\n",
              "C  0.343618 -1.763040  0.324084 -0.385082  0.667702"
            ]
          },
          "metadata": {
            "tags": []
          },
          "execution_count": 53
        }
      ]
    },
    {
      "cell_type": "code",
      "metadata": {
        "colab": {
          "base_uri": "https://localhost:8080/",
          "height": 204
        },
        "id": "VoSHL1l4tmAe",
        "outputId": "733d7baa-825e-4e10-c781-89f9a054f76c"
      },
      "source": [
        "df2=df\r\n",
        "df2.rename(columns={'new':'xyz'},inplace = True)\r\n",
        "df2"
      ],
      "execution_count": null,
      "outputs": [
        {
          "output_type": "execute_result",
          "data": {
            "text/html": [
              "<div>\n",
              "<style scoped>\n",
              "    .dataframe tbody tr th:only-of-type {\n",
              "        vertical-align: middle;\n",
              "    }\n",
              "\n",
              "    .dataframe tbody tr th {\n",
              "        vertical-align: top;\n",
              "    }\n",
              "\n",
              "    .dataframe thead th {\n",
              "        text-align: right;\n",
              "    }\n",
              "</style>\n",
              "<table border=\"1\" class=\"dataframe\">\n",
              "  <thead>\n",
              "    <tr style=\"text-align: right;\">\n",
              "      <th></th>\n",
              "      <th>W</th>\n",
              "      <th>X</th>\n",
              "      <th>Y</th>\n",
              "      <th>Z</th>\n",
              "      <th>xyz</th>\n",
              "    </tr>\n",
              "  </thead>\n",
              "  <tbody>\n",
              "    <tr>\n",
              "      <th>A</th>\n",
              "      <td>0.738467</td>\n",
              "      <td>0.171368</td>\n",
              "      <td>-0.115648</td>\n",
              "      <td>-0.301104</td>\n",
              "      <td>0.622818</td>\n",
              "    </tr>\n",
              "    <tr>\n",
              "      <th>B</th>\n",
              "      <td>-1.478522</td>\n",
              "      <td>-0.719844</td>\n",
              "      <td>-0.460639</td>\n",
              "      <td>1.057122</td>\n",
              "      <td>-1.939161</td>\n",
              "    </tr>\n",
              "    <tr>\n",
              "      <th>C</th>\n",
              "      <td>0.343618</td>\n",
              "      <td>-1.763040</td>\n",
              "      <td>0.324084</td>\n",
              "      <td>-0.385082</td>\n",
              "      <td>0.667702</td>\n",
              "    </tr>\n",
              "    <tr>\n",
              "      <th>D</th>\n",
              "      <td>-0.676922</td>\n",
              "      <td>0.611676</td>\n",
              "      <td>1.031000</td>\n",
              "      <td>0.931280</td>\n",
              "      <td>0.354078</td>\n",
              "    </tr>\n",
              "    <tr>\n",
              "      <th>E</th>\n",
              "      <td>-0.839218</td>\n",
              "      <td>-0.309212</td>\n",
              "      <td>0.331263</td>\n",
              "      <td>0.975545</td>\n",
              "      <td>-0.507954</td>\n",
              "    </tr>\n",
              "  </tbody>\n",
              "</table>\n",
              "</div>"
            ],
            "text/plain": [
              "          W         X         Y         Z       xyz\n",
              "A  0.738467  0.171368 -0.115648 -0.301104  0.622818\n",
              "B -1.478522 -0.719844 -0.460639  1.057122 -1.939161\n",
              "C  0.343618 -1.763040  0.324084 -0.385082  0.667702\n",
              "D -0.676922  0.611676  1.031000  0.931280  0.354078\n",
              "E -0.839218 -0.309212  0.331263  0.975545 -0.507954"
            ]
          },
          "metadata": {
            "tags": []
          },
          "execution_count": 54
        }
      ]
    },
    {
      "cell_type": "code",
      "metadata": {
        "colab": {
          "base_uri": "https://localhost:8080/"
        },
        "id": "ajDydBJxuxjT",
        "outputId": "b07db560-c5ef-48fa-9908-893fc61645f6"
      },
      "source": [
        "!pip install matplotlib"
      ],
      "execution_count": null,
      "outputs": [
        {
          "output_type": "stream",
          "text": [
            "Requirement already satisfied: matplotlib in /usr/local/lib/python3.6/dist-packages (3.2.2)\n",
            "Requirement already satisfied: cycler>=0.10 in /usr/local/lib/python3.6/dist-packages (from matplotlib) (0.10.0)\n",
            "Requirement already satisfied: kiwisolver>=1.0.1 in /usr/local/lib/python3.6/dist-packages (from matplotlib) (1.3.1)\n",
            "Requirement already satisfied: pyparsing!=2.0.4,!=2.1.2,!=2.1.6,>=2.0.1 in /usr/local/lib/python3.6/dist-packages (from matplotlib) (2.4.7)\n",
            "Requirement already satisfied: numpy>=1.11 in /usr/local/lib/python3.6/dist-packages (from matplotlib) (1.19.5)\n",
            "Requirement already satisfied: python-dateutil>=2.1 in /usr/local/lib/python3.6/dist-packages (from matplotlib) (2.8.1)\n",
            "Requirement already satisfied: six in /usr/local/lib/python3.6/dist-packages (from cycler>=0.10->matplotlib) (1.15.0)\n"
          ],
          "name": "stdout"
        }
      ]
    },
    {
      "cell_type": "code",
      "metadata": {
        "id": "yIIQTV7WvBM7"
      },
      "source": [
        "import matplotlib as plt"
      ],
      "execution_count": null,
      "outputs": []
    },
    {
      "cell_type": "code",
      "metadata": {
        "colab": {
          "base_uri": "https://localhost:8080/",
          "height": 419
        },
        "id": "lS71hDe1vUvy",
        "outputId": "ff3b3691-bf39-4ce3-f240-43711a5bff3e"
      },
      "source": [
        "df = pd.read_csv('https://raw.githubusercontent.com/CunyLaguardiaDataAnalytics/datasets/master/faithful.csv',index_col=0)\r\n",
        "df"
      ],
      "execution_count": null,
      "outputs": [
        {
          "output_type": "execute_result",
          "data": {
            "text/html": [
              "<div>\n",
              "<style scoped>\n",
              "    .dataframe tbody tr th:only-of-type {\n",
              "        vertical-align: middle;\n",
              "    }\n",
              "\n",
              "    .dataframe tbody tr th {\n",
              "        vertical-align: top;\n",
              "    }\n",
              "\n",
              "    .dataframe thead th {\n",
              "        text-align: right;\n",
              "    }\n",
              "</style>\n",
              "<table border=\"1\" class=\"dataframe\">\n",
              "  <thead>\n",
              "    <tr style=\"text-align: right;\">\n",
              "      <th></th>\n",
              "      <th>eruptions</th>\n",
              "      <th>waiting</th>\n",
              "    </tr>\n",
              "  </thead>\n",
              "  <tbody>\n",
              "    <tr>\n",
              "      <th>1</th>\n",
              "      <td>3.600</td>\n",
              "      <td>79</td>\n",
              "    </tr>\n",
              "    <tr>\n",
              "      <th>2</th>\n",
              "      <td>1.800</td>\n",
              "      <td>54</td>\n",
              "    </tr>\n",
              "    <tr>\n",
              "      <th>3</th>\n",
              "      <td>3.333</td>\n",
              "      <td>74</td>\n",
              "    </tr>\n",
              "    <tr>\n",
              "      <th>4</th>\n",
              "      <td>2.283</td>\n",
              "      <td>62</td>\n",
              "    </tr>\n",
              "    <tr>\n",
              "      <th>5</th>\n",
              "      <td>4.533</td>\n",
              "      <td>85</td>\n",
              "    </tr>\n",
              "    <tr>\n",
              "      <th>...</th>\n",
              "      <td>...</td>\n",
              "      <td>...</td>\n",
              "    </tr>\n",
              "    <tr>\n",
              "      <th>268</th>\n",
              "      <td>4.117</td>\n",
              "      <td>81</td>\n",
              "    </tr>\n",
              "    <tr>\n",
              "      <th>269</th>\n",
              "      <td>2.150</td>\n",
              "      <td>46</td>\n",
              "    </tr>\n",
              "    <tr>\n",
              "      <th>270</th>\n",
              "      <td>4.417</td>\n",
              "      <td>90</td>\n",
              "    </tr>\n",
              "    <tr>\n",
              "      <th>271</th>\n",
              "      <td>1.817</td>\n",
              "      <td>46</td>\n",
              "    </tr>\n",
              "    <tr>\n",
              "      <th>272</th>\n",
              "      <td>4.467</td>\n",
              "      <td>74</td>\n",
              "    </tr>\n",
              "  </tbody>\n",
              "</table>\n",
              "<p>272 rows × 2 columns</p>\n",
              "</div>"
            ],
            "text/plain": [
              "     eruptions  waiting\n",
              "1        3.600       79\n",
              "2        1.800       54\n",
              "3        3.333       74\n",
              "4        2.283       62\n",
              "5        4.533       85\n",
              "..         ...      ...\n",
              "268      4.117       81\n",
              "269      2.150       46\n",
              "270      4.417       90\n",
              "271      1.817       46\n",
              "272      4.467       74\n",
              "\n",
              "[272 rows x 2 columns]"
            ]
          },
          "metadata": {
            "tags": []
          },
          "execution_count": 60
        }
      ]
    },
    {
      "cell_type": "code",
      "metadata": {
        "colab": {
          "base_uri": "https://localhost:8080/",
          "height": 204
        },
        "id": "3tXdXtIzvhsi",
        "outputId": "450357b4-eb0a-47ce-a9c8-f52fd84d375c"
      },
      "source": [
        "df.head()"
      ],
      "execution_count": null,
      "outputs": [
        {
          "output_type": "execute_result",
          "data": {
            "text/html": [
              "<div>\n",
              "<style scoped>\n",
              "    .dataframe tbody tr th:only-of-type {\n",
              "        vertical-align: middle;\n",
              "    }\n",
              "\n",
              "    .dataframe tbody tr th {\n",
              "        vertical-align: top;\n",
              "    }\n",
              "\n",
              "    .dataframe thead th {\n",
              "        text-align: right;\n",
              "    }\n",
              "</style>\n",
              "<table border=\"1\" class=\"dataframe\">\n",
              "  <thead>\n",
              "    <tr style=\"text-align: right;\">\n",
              "      <th></th>\n",
              "      <th>eruptions</th>\n",
              "      <th>waiting</th>\n",
              "    </tr>\n",
              "  </thead>\n",
              "  <tbody>\n",
              "    <tr>\n",
              "      <th>1</th>\n",
              "      <td>3.600</td>\n",
              "      <td>79</td>\n",
              "    </tr>\n",
              "    <tr>\n",
              "      <th>2</th>\n",
              "      <td>1.800</td>\n",
              "      <td>54</td>\n",
              "    </tr>\n",
              "    <tr>\n",
              "      <th>3</th>\n",
              "      <td>3.333</td>\n",
              "      <td>74</td>\n",
              "    </tr>\n",
              "    <tr>\n",
              "      <th>4</th>\n",
              "      <td>2.283</td>\n",
              "      <td>62</td>\n",
              "    </tr>\n",
              "    <tr>\n",
              "      <th>5</th>\n",
              "      <td>4.533</td>\n",
              "      <td>85</td>\n",
              "    </tr>\n",
              "  </tbody>\n",
              "</table>\n",
              "</div>"
            ],
            "text/plain": [
              "   eruptions  waiting\n",
              "1      3.600       79\n",
              "2      1.800       54\n",
              "3      3.333       74\n",
              "4      2.283       62\n",
              "5      4.533       85"
            ]
          },
          "metadata": {
            "tags": []
          },
          "execution_count": 61
        }
      ]
    },
    {
      "cell_type": "code",
      "metadata": {
        "colab": {
          "base_uri": "https://localhost:8080/",
          "height": 204
        },
        "id": "b0A_AizqvkKw",
        "outputId": "ac5ca4a5-e819-4881-fe0e-b0f0548df1f2"
      },
      "source": [
        "df.tail()"
      ],
      "execution_count": null,
      "outputs": [
        {
          "output_type": "execute_result",
          "data": {
            "text/html": [
              "<div>\n",
              "<style scoped>\n",
              "    .dataframe tbody tr th:only-of-type {\n",
              "        vertical-align: middle;\n",
              "    }\n",
              "\n",
              "    .dataframe tbody tr th {\n",
              "        vertical-align: top;\n",
              "    }\n",
              "\n",
              "    .dataframe thead th {\n",
              "        text-align: right;\n",
              "    }\n",
              "</style>\n",
              "<table border=\"1\" class=\"dataframe\">\n",
              "  <thead>\n",
              "    <tr style=\"text-align: right;\">\n",
              "      <th></th>\n",
              "      <th>eruptions</th>\n",
              "      <th>waiting</th>\n",
              "    </tr>\n",
              "  </thead>\n",
              "  <tbody>\n",
              "    <tr>\n",
              "      <th>268</th>\n",
              "      <td>4.117</td>\n",
              "      <td>81</td>\n",
              "    </tr>\n",
              "    <tr>\n",
              "      <th>269</th>\n",
              "      <td>2.150</td>\n",
              "      <td>46</td>\n",
              "    </tr>\n",
              "    <tr>\n",
              "      <th>270</th>\n",
              "      <td>4.417</td>\n",
              "      <td>90</td>\n",
              "    </tr>\n",
              "    <tr>\n",
              "      <th>271</th>\n",
              "      <td>1.817</td>\n",
              "      <td>46</td>\n",
              "    </tr>\n",
              "    <tr>\n",
              "      <th>272</th>\n",
              "      <td>4.467</td>\n",
              "      <td>74</td>\n",
              "    </tr>\n",
              "  </tbody>\n",
              "</table>\n",
              "</div>"
            ],
            "text/plain": [
              "     eruptions  waiting\n",
              "268      4.117       81\n",
              "269      2.150       46\n",
              "270      4.417       90\n",
              "271      1.817       46\n",
              "272      4.467       74"
            ]
          },
          "metadata": {
            "tags": []
          },
          "execution_count": 62
        }
      ]
    },
    {
      "cell_type": "code",
      "metadata": {
        "colab": {
          "base_uri": "https://localhost:8080/"
        },
        "id": "ky4f_-ztwqNm",
        "outputId": "6fc6d1b8-8fb0-4988-fc19-e51ba2516569"
      },
      "source": [
        "df.count()"
      ],
      "execution_count": null,
      "outputs": [
        {
          "output_type": "execute_result",
          "data": {
            "text/plain": [
              "eruptions    272\n",
              "waiting      272\n",
              "dtype: int64"
            ]
          },
          "metadata": {
            "tags": []
          },
          "execution_count": 63
        }
      ]
    },
    {
      "cell_type": "code",
      "metadata": {
        "colab": {
          "base_uri": "https://localhost:8080/"
        },
        "id": "knjFVV7Rwsea",
        "outputId": "f037a0a0-b916-400b-ae26-81544846374f"
      },
      "source": [
        "len(df)"
      ],
      "execution_count": null,
      "outputs": [
        {
          "output_type": "execute_result",
          "data": {
            "text/plain": [
              "272"
            ]
          },
          "metadata": {
            "tags": []
          },
          "execution_count": 64
        }
      ]
    },
    {
      "cell_type": "code",
      "metadata": {
        "colab": {
          "base_uri": "https://localhost:8080/"
        },
        "id": "vTh9DV6gwxPU",
        "outputId": "5bd345dd-1dcc-41e3-c1d1-5961c9f76125"
      },
      "source": [
        "len(df)-df['waiting'].count()"
      ],
      "execution_count": null,
      "outputs": [
        {
          "output_type": "execute_result",
          "data": {
            "text/plain": [
              "0"
            ]
          },
          "metadata": {
            "tags": []
          },
          "execution_count": 66
        }
      ]
    },
    {
      "cell_type": "code",
      "metadata": {
        "colab": {
          "base_uri": "https://localhost:8080/"
        },
        "id": "rTsli078zLBx",
        "outputId": "98024387-759e-436d-be24-1643eaf83101"
      },
      "source": [
        "df2.count()"
      ],
      "execution_count": null,
      "outputs": [
        {
          "output_type": "execute_result",
          "data": {
            "text/plain": [
              "W      5\n",
              "X      5\n",
              "Y      5\n",
              "Z      5\n",
              "xyz    5\n",
              "dtype: int64"
            ]
          },
          "metadata": {
            "tags": []
          },
          "execution_count": 67
        }
      ]
    },
    {
      "cell_type": "code",
      "metadata": {
        "colab": {
          "base_uri": "https://localhost:8080/"
        },
        "id": "mrebmsAGzfqT",
        "outputId": "fb92541e-7e85-4b63-d347-fde4b8243a3f"
      },
      "source": [
        "df.median"
      ],
      "execution_count": null,
      "outputs": [
        {
          "output_type": "execute_result",
          "data": {
            "text/plain": [
              "<bound method DataFrame.median of      eruptions  waiting\n",
              "1        3.600       79\n",
              "2        1.800       54\n",
              "3        3.333       74\n",
              "4        2.283       62\n",
              "5        4.533       85\n",
              "..         ...      ...\n",
              "268      4.117       81\n",
              "269      2.150       46\n",
              "270      4.417       90\n",
              "271      1.817       46\n",
              "272      4.467       74\n",
              "\n",
              "[272 rows x 2 columns]>"
            ]
          },
          "metadata": {
            "tags": []
          },
          "execution_count": 68
        }
      ]
    },
    {
      "cell_type": "code",
      "metadata": {
        "colab": {
          "base_uri": "https://localhost:8080/"
        },
        "id": "EVU3-SYZz2Bz",
        "outputId": "bc67588b-ef0a-4dec-e168-31e7fbfb7f62"
      },
      "source": [
        "df['waiting'].mean()"
      ],
      "execution_count": null,
      "outputs": [
        {
          "output_type": "execute_result",
          "data": {
            "text/plain": [
              "70.8970588235294"
            ]
          },
          "metadata": {
            "tags": []
          },
          "execution_count": 69
        }
      ]
    },
    {
      "cell_type": "code",
      "metadata": {
        "colab": {
          "base_uri": "https://localhost:8080/",
          "height": 332
        },
        "id": "EMOT45IF0DfZ",
        "outputId": "f3479231-68f8-40e9-db81-9c0214660720"
      },
      "source": [
        "import matplotlib.pyplot as plot\r\n",
        "%matplotlib inline\r\n",
        "df.hist()"
      ],
      "execution_count": null,
      "outputs": [
        {
          "output_type": "execute_result",
          "data": {
            "text/plain": [
              "array([[<matplotlib.axes._subplots.AxesSubplot object at 0x7f0cf9c09320>,\n",
              "        <matplotlib.axes._subplots.AxesSubplot object at 0x7f0cf92a3f60>]],\n",
              "      dtype=object)"
            ]
          },
          "metadata": {
            "tags": []
          },
          "execution_count": 73
        },
        {
          "output_type": "display_data",
          "data": {
            "image/png": "[encoded data removed]",
            "text/plain": [
              "<Figure size 432x288 with 2 Axes>"
            ]
          },
          "metadata": {
            "tags": [],
            "needs_background": "light"
          }
        }
      ]
    },
    {
      "cell_type": "code",
      "metadata": {
        "colab": {
          "base_uri": "https://localhost:8080/",
          "height": 285
        },
        "id": "JBY6gjHY0378",
        "outputId": "b4deec73-5dcc-4470-cfcd-445cd41dd31c"
      },
      "source": [
        "df.plot()"
      ],
      "execution_count": null,
      "outputs": [
        {
          "output_type": "execute_result",
          "data": {
            "text/plain": [
              "<matplotlib.axes._subplots.AxesSubplot at 0x7f0cf9757048>"
            ]
          },
          "metadata": {
            "tags": []
          },
          "execution_count": 74
        },
        {
          "output_type": "display_data",
          "data": {
            "image/png": "[encoded data removed]",
            "text/plain": [
              "<Figure size 432x288 with 1 Axes>"
            ]
          },
          "metadata": {
            "tags": [],
            "needs_background": "light"
          }
        }
      ]
    },
    {
      "cell_type": "code",
      "metadata": {
        "colab": {
          "base_uri": "https://localhost:8080/",
          "height": 282
        },
        "id": "FC6B1L2c16x6",
        "outputId": "3d8c56f0-b3fe-4221-fcdd-e77f6df75fef"
      },
      "source": [
        "df['eruptions'].plot()"
      ],
      "execution_count": null,
      "outputs": [
        {
          "output_type": "execute_result",
          "data": {
            "text/plain": [
              "<matplotlib.axes._subplots.AxesSubplot at 0x7f0cf8caa048>"
            ]
          },
          "metadata": {
            "tags": []
          },
          "execution_count": 75
        },
        {
          "output_type": "display_data",
          "data": {
            "image/png": "[encoded data removed]",
            "text/plain": [
              "<Figure size 432x288 with 1 Axes>"
            ]
          },
          "metadata": {
            "tags": [],
            "needs_background": "light"
          }
        }
      ]
    },
    {
      "cell_type": "code",
      "metadata": {
        "colab": {
          "base_uri": "https://localhost:8080/",
          "height": 282
        },
        "id": "v_i69q3v17RL",
        "outputId": "166d1928-3481-4f33-bed4-3b89e51b44c0"
      },
      "source": [
        "df.plot(kind = 'hist')"
      ],
      "execution_count": null,
      "outputs": [
        {
          "output_type": "execute_result",
          "data": {
            "text/plain": [
              "<matplotlib.axes._subplots.AxesSubplot at 0x7f0cf8cc4668>"
            ]
          },
          "metadata": {
            "tags": []
          },
          "execution_count": 77
        },
        {
          "output_type": "display_data",
          "data": {
            "image/png": "[encoded data removed]",
            "text/plain": [
              "<Figure size 432x288 with 1 Axes>"
            ]
          },
          "metadata": {
            "tags": [],
            "needs_background": "light"
          }
        }
      ]
    },
    {
      "cell_type": "code",
      "metadata": {
        "colab": {
          "base_uri": "https://localhost:8080/",
          "height": 296
        },
        "id": "-L2co1Ek2WDz",
        "outputId": "1d25cfa2-161b-4812-c554-6d3cd396d7dc"
      },
      "source": [
        "df.plot(kind='scatter',x='waiting', y = 'eruptions')"
      ],
      "execution_count": null,
      "outputs": [
        {
          "output_type": "execute_result",
          "data": {
            "text/plain": [
              "<matplotlib.axes._subplots.AxesSubplot at 0x7f0cf8b51400>"
            ]
          },
          "metadata": {
            "tags": []
          },
          "execution_count": 78
        },
        {
          "output_type": "display_data",
          "data": {
            "image/png": "[encoded data removed]",
            "text/plain": [
              "<Figure size 432x288 with 1 Axes>"
            ]
          },
          "metadata": {
            "tags": [],
            "needs_background": "light"
          }
        }
      ]
    },
    {
      "cell_type": "code",
      "metadata": {
        "colab": {
          "base_uri": "https://localhost:8080/",
          "height": 609
        },
        "id": "LqOPWYFyELcZ",
        "outputId": "fc83f245-c51f-4197-b804-27710a0f8a2a"
      },
      "source": [
        "df = pd.read_csv(\"http://avijitroy.com/NYC.csv\", index_col = None)\r\n",
        "df"
      ],
      "execution_count": null,
      "outputs": [
        {
          "output_type": "execute_result",
          "data": {
            "text/html": [
              "<div>\n",
              "<style scoped>\n",
              "    .dataframe tbody tr th:only-of-type {\n",
              "        vertical-align: middle;\n",
              "    }\n",
              "\n",
              "    .dataframe tbody tr th {\n",
              "        vertical-align: top;\n",
              "    }\n",
              "\n",
              "    .dataframe thead th {\n",
              "        text-align: right;\n",
              "    }\n",
              "</style>\n",
              "<table border=\"1\" class=\"dataframe\">\n",
              "  <thead>\n",
              "    <tr style=\"text-align: right;\">\n",
              "      <th></th>\n",
              "      <th>agency_id</th>\n",
              "      <th>agency</th>\n",
              "      <th>borough</th>\n",
              "      <th>closed</th>\n",
              "      <th>complaint_type</th>\n",
              "      <th>total</th>\n",
              "      <th>perc_closed</th>\n",
              "      <th>closed_within_a_day</th>\n",
              "      <th>number_of_records</th>\n",
              "      <th>past_number_of_weeks</th>\n",
              "      <th>created_after_timestamp</th>\n",
              "      <th>overall_closed_within_a_day</th>\n",
              "    </tr>\n",
              "  </thead>\n",
              "  <tbody>\n",
              "    <tr>\n",
              "      <th>0</th>\n",
              "      <td>10</td>\n",
              "      <td>DOB</td>\n",
              "      <td>QUEENS</td>\n",
              "      <td>455</td>\n",
              "      <td>Plumbing</td>\n",
              "      <td>600</td>\n",
              "      <td>0.758333</td>\n",
              "      <td>0.096703</td>\n",
              "      <td>455.0</td>\n",
              "      <td>12.0</td>\n",
              "      <td>2017-06-17T13:04:38.930226</td>\n",
              "      <td>0.073333</td>\n",
              "    </tr>\n",
              "    <tr>\n",
              "      <th>1</th>\n",
              "      <td>11</td>\n",
              "      <td>DOB</td>\n",
              "      <td>QUEENS</td>\n",
              "      <td>216</td>\n",
              "      <td>Special Enforcement</td>\n",
              "      <td>369</td>\n",
              "      <td>0.585366</td>\n",
              "      <td>0.009259</td>\n",
              "      <td>216.0</td>\n",
              "      <td>12.0</td>\n",
              "      <td>2017-06-17T13:04:38.930226</td>\n",
              "      <td>0.005420</td>\n",
              "    </tr>\n",
              "    <tr>\n",
              "      <th>2</th>\n",
              "      <td>12</td>\n",
              "      <td>DOB</td>\n",
              "      <td>MANHATTAN</td>\n",
              "      <td>876</td>\n",
              "      <td>Elevator</td>\n",
              "      <td>941</td>\n",
              "      <td>0.930925</td>\n",
              "      <td>0.231735</td>\n",
              "      <td>876.0</td>\n",
              "      <td>12.0</td>\n",
              "      <td>2017-06-17T13:04:38.930226</td>\n",
              "      <td>0.215728</td>\n",
              "    </tr>\n",
              "    <tr>\n",
              "      <th>3</th>\n",
              "      <td>12</td>\n",
              "      <td>DOB</td>\n",
              "      <td>BROOKLYN</td>\n",
              "      <td>14</td>\n",
              "      <td>Cranes and Derricks</td>\n",
              "      <td>14</td>\n",
              "      <td>1.000000</td>\n",
              "      <td>0.500000</td>\n",
              "      <td>14.0</td>\n",
              "      <td>12.0</td>\n",
              "      <td>2017-06-17T13:04:38.930226</td>\n",
              "      <td>0.500000</td>\n",
              "    </tr>\n",
              "    <tr>\n",
              "      <th>4</th>\n",
              "      <td>14</td>\n",
              "      <td>DOB</td>\n",
              "      <td>STATEN ISLAND</td>\n",
              "      <td>31</td>\n",
              "      <td>Elevator</td>\n",
              "      <td>37</td>\n",
              "      <td>0.837838</td>\n",
              "      <td>0.129032</td>\n",
              "      <td>31.0</td>\n",
              "      <td>12.0</td>\n",
              "      <td>2017-06-17T13:04:38.930226</td>\n",
              "      <td>0.108108</td>\n",
              "    </tr>\n",
              "    <tr>\n",
              "      <th>...</th>\n",
              "      <td>...</td>\n",
              "      <td>...</td>\n",
              "      <td>...</td>\n",
              "      <td>...</td>\n",
              "      <td>...</td>\n",
              "      <td>...</td>\n",
              "      <td>...</td>\n",
              "      <td>...</td>\n",
              "      <td>...</td>\n",
              "      <td>...</td>\n",
              "      <td>...</td>\n",
              "      <td>...</td>\n",
              "    </tr>\n",
              "    <tr>\n",
              "      <th>67</th>\n",
              "      <td>67</td>\n",
              "      <td>DOB</td>\n",
              "      <td>MANHATTAN</td>\n",
              "      <td>1</td>\n",
              "      <td>Miscellaneous Categories</td>\n",
              "      <td>1</td>\n",
              "      <td>1.000000</td>\n",
              "      <td>0.000000</td>\n",
              "      <td>1.0</td>\n",
              "      <td>12.0</td>\n",
              "      <td>2017-06-17T13:04:38.930226</td>\n",
              "      <td>0.000000</td>\n",
              "    </tr>\n",
              "    <tr>\n",
              "      <th>68</th>\n",
              "      <td>68</td>\n",
              "      <td>DOB</td>\n",
              "      <td>QUEENS</td>\n",
              "      <td>4</td>\n",
              "      <td>Scaffold Safety</td>\n",
              "      <td>6</td>\n",
              "      <td>0.666667</td>\n",
              "      <td>0.750000</td>\n",
              "      <td>4.0</td>\n",
              "      <td>12.0</td>\n",
              "      <td>2017-06-17T13:04:38.930226</td>\n",
              "      <td>0.500000</td>\n",
              "    </tr>\n",
              "    <tr>\n",
              "      <th>69</th>\n",
              "      <td>69</td>\n",
              "      <td>DOB</td>\n",
              "      <td>QUEENS</td>\n",
              "      <td>964</td>\n",
              "      <td>Building/Use</td>\n",
              "      <td>3543</td>\n",
              "      <td>0.272086</td>\n",
              "      <td>0.076763</td>\n",
              "      <td>964.0</td>\n",
              "      <td>12.0</td>\n",
              "      <td>2017-06-17T13:04:38.930226</td>\n",
              "      <td>0.020886</td>\n",
              "    </tr>\n",
              "    <tr>\n",
              "      <th>70</th>\n",
              "      <td>70</td>\n",
              "      <td>DOB</td>\n",
              "      <td>QUEENS</td>\n",
              "      <td>31</td>\n",
              "      <td>Boilers</td>\n",
              "      <td>36</td>\n",
              "      <td>0.861111</td>\n",
              "      <td>0.032258</td>\n",
              "      <td>31.0</td>\n",
              "      <td>12.0</td>\n",
              "      <td>2017-06-17T13:04:38.930226</td>\n",
              "      <td>0.027778</td>\n",
              "    </tr>\n",
              "    <tr>\n",
              "      <th>71</th>\n",
              "      <td>71</td>\n",
              "      <td>DOB</td>\n",
              "      <td>BROOKLYN</td>\n",
              "      <td>296</td>\n",
              "      <td>Electrical</td>\n",
              "      <td>319</td>\n",
              "      <td>0.927900</td>\n",
              "      <td>0.412162</td>\n",
              "      <td>296.0</td>\n",
              "      <td>12.0</td>\n",
              "      <td>2017-06-17T13:04:38.930226</td>\n",
              "      <td>0.382445</td>\n",
              "    </tr>\n",
              "  </tbody>\n",
              "</table>\n",
              "<p>72 rows × 12 columns</p>\n",
              "</div>"
            ],
            "text/plain": [
              "    agency_id agency  ...     created_after_timestamp  overall_closed_within_a_day\n",
              "0          10    DOB  ...  2017-06-17T13:04:38.930226                     0.073333\n",
              "1          11    DOB  ...  2017-06-17T13:04:38.930226                     0.005420\n",
              "2          12    DOB  ...  2017-06-17T13:04:38.930226                     0.215728\n",
              "3          12    DOB  ...  2017-06-17T13:04:38.930226                     0.500000\n",
              "4          14    DOB  ...  2017-06-17T13:04:38.930226                     0.108108\n",
              "..        ...    ...  ...                         ...                          ...\n",
              "67         67    DOB  ...  2017-06-17T13:04:38.930226                     0.000000\n",
              "68         68    DOB  ...  2017-06-17T13:04:38.930226                     0.500000\n",
              "69         69    DOB  ...  2017-06-17T13:04:38.930226                     0.020886\n",
              "70         70    DOB  ...  2017-06-17T13:04:38.930226                     0.027778\n",
              "71         71    DOB  ...  2017-06-17T13:04:38.930226                     0.382445\n",
              "\n",
              "[72 rows x 12 columns]"
            ]
          },
          "metadata": {
            "tags": []
          },
          "execution_count": 81
        }
      ]
    },
    {
      "cell_type": "code",
      "metadata": {
        "colab": {
          "base_uri": "https://localhost:8080/"
        },
        "id": "xslgYwPyFfwT",
        "outputId": "b7b24f21-bdd2-4e0b-e8b3-edec9c5c7d3b"
      },
      "source": [
        "df.groupby(['borough'])['agency_id'].mean()"
      ],
      "execution_count": null,
      "outputs": [
        {
          "output_type": "execute_result",
          "data": {
            "text/plain": [
              "borough\n",
              "BRONX            32.800000\n",
              "BROOKLYN         35.000000\n",
              "MANHATTAN        37.571429\n",
              "QUEENS           39.533333\n",
              "STATEN ISLAND    36.833333\n",
              "Unspecified      27.000000\n",
              "Name: agency_id, dtype: float64"
            ]
          },
          "metadata": {
            "tags": []
          },
          "execution_count": 83
        }
      ]
    },
    {
      "cell_type": "code",
      "metadata": {
        "id": "qUvL8S4uVIvH"
      },
      "source": [
        ""
      ],
      "execution_count": null,
      "outputs": []
    },
    {
      "cell_type": "code",
      "metadata": {
        "colab": {
          "base_uri": "https://localhost:8080/"
        },
        "id": "39M4NjXaFyJT",
        "outputId": "377ae271-9ec3-468c-de88-8d3d05148252"
      },
      "source": [
        "df.groupby(['borough'])['agency_id'].median()\r\n",
        "df.groupby(['borough'])['agency_id'].count()\r\n"
      ],
      "execution_count": null,
      "outputs": [
        {
          "output_type": "execute_result",
          "data": {
            "text/plain": [
              "borough\n",
              "BRONX            15\n",
              "BROOKLYN         15\n",
              "MANHATTAN        14\n",
              "QUEENS           15\n",
              "STATEN ISLAND    12\n",
              "Unspecified       1\n",
              "Name: agency_id, dtype: int64"
            ]
          },
          "metadata": {
            "tags": []
          },
          "execution_count": 84
        }
      ]
    },
    {
      "cell_type": "markdown",
      "metadata": {
        "id": "l56Ft8_TFYNf"
      },
      "source": [
        ""
      ]
    },
    {
      "cell_type": "code",
      "metadata": {
        "colab": {
          "base_uri": "https://localhost:8080/",
          "height": 364
        },
        "id": "kelkIkz8FYmv",
        "outputId": "113085bf-f323-44c6-aede-3ba800f32df7"
      },
      "source": [
        "df.groupby(['borough'])['agency_id'].count().plot(kind='bar')\r\n"
      ],
      "execution_count": null,
      "outputs": [
        {
          "output_type": "execute_result",
          "data": {
            "text/plain": [
              "<matplotlib.axes._subplots.AxesSubplot at 0x7f0cf8b47d30>"
            ]
          },
          "metadata": {
            "tags": []
          },
          "execution_count": 86
        },
        {
          "output_type": "display_data",
          "data": {
            "image/png": "[encoded data removed]",
            "text/plain": [
              "<Figure size 432x288 with 1 Axes>"
            ]
          },
          "metadata": {
            "tags": [],
            "needs_background": "light"
          }
        }
      ]
    },
    {
      "cell_type": "code",
      "metadata": {
        "colab": {
          "base_uri": "https://localhost:8080/"
        },
        "id": "cTppPlS9Gfi1",
        "outputId": "c8192c12-de8d-4733-e1ea-3f01b5c1562f"
      },
      "source": [
        "df['agency_id']"
      ],
      "execution_count": null,
      "outputs": [
        {
          "output_type": "execute_result",
          "data": {
            "text/plain": [
              "0     10\n",
              "1     11\n",
              "2     12\n",
              "3     12\n",
              "4     14\n",
              "      ..\n",
              "67    67\n",
              "68    68\n",
              "69    69\n",
              "70    70\n",
              "71    71\n",
              "Name: agency_id, Length: 72, dtype: int64"
            ]
          },
          "metadata": {
            "tags": []
          },
          "execution_count": 87
        }
      ]
    },
    {
      "cell_type": "code",
      "metadata": {
        "colab": {
          "base_uri": "https://localhost:8080/"
        },
        "id": "l27fZ1YeGldS",
        "outputId": "8a9dfb8f-1f47-4197-eec2-65756d282923"
      },
      "source": [
        "df['borough']"
      ],
      "execution_count": null,
      "outputs": [
        {
          "output_type": "execute_result",
          "data": {
            "text/plain": [
              "0            QUEENS\n",
              "1            QUEENS\n",
              "2         MANHATTAN\n",
              "3          BROOKLYN\n",
              "4     STATEN ISLAND\n",
              "          ...      \n",
              "67        MANHATTAN\n",
              "68           QUEENS\n",
              "69           QUEENS\n",
              "70           QUEENS\n",
              "71         BROOKLYN\n",
              "Name: borough, Length: 72, dtype: object"
            ]
          },
          "metadata": {
            "tags": []
          },
          "execution_count": 88
        }
      ]
    },
    {
      "cell_type": "code",
      "metadata": {
        "colab": {
          "base_uri": "https://localhost:8080/"
        },
        "id": "0Whlg_UcHfUY",
        "outputId": "e08c1a48-02dd-4e7e-ef02-9d7ca45de5af"
      },
      "source": [
        "df.groupby(['borough','complaint_type'])['agency_id'].count()"
      ],
      "execution_count": null,
      "outputs": [
        {
          "output_type": "execute_result",
          "data": {
            "text/plain": [
              "borough        complaint_type                         \n",
              "BRONX          BEST/Site Safety                           1\n",
              "               Boilers                                    1\n",
              "               Building/Use                               1\n",
              "               Cranes and Derricks                        1\n",
              "               Electrical                                 1\n",
              "                                                         ..\n",
              "STATEN ISLAND  Plumbing                                   1\n",
              "               Special Enforcement                        1\n",
              "               Special Natural Area District (SNAD)       1\n",
              "               Special Projects Inspection Team (SPIT)    1\n",
              "Unspecified    Forms                                      1\n",
              "Name: agency_id, Length: 72, dtype: int64"
            ]
          },
          "metadata": {
            "tags": []
          },
          "execution_count": 94
        }
      ]
    },
    {
      "cell_type": "code",
      "metadata": {
        "colab": {
          "base_uri": "https://localhost:8080/"
        },
        "id": "qPbnQrv9Jt0M",
        "outputId": "38c95277-2862-403c-c87a-0056777e2d2f"
      },
      "source": [
        "with pd.option_context('display.max_rows', None, 'display.max_columns', None):  # more options can be specified also\r\n",
        "    print(df.groupby(['complaint_type','borough'])['agency_id'].count())\r\n"
      ],
      "execution_count": null,
      "outputs": [
        {
          "output_type": "stream",
          "text": [
            "complaint_type                           borough      \n",
            "BEST/Site Safety                         BRONX            1\n",
            "                                         BROOKLYN         1\n",
            "                                         MANHATTAN        1\n",
            "                                         QUEENS           1\n",
            "                                         STATEN ISLAND    1\n",
            "Boilers                                  BRONX            1\n",
            "                                         BROOKLYN         1\n",
            "                                         MANHATTAN        1\n",
            "                                         QUEENS           1\n",
            "                                         STATEN ISLAND    1\n",
            "Building/Use                             BRONX            1\n",
            "                                         BROOKLYN         1\n",
            "                                         MANHATTAN        1\n",
            "                                         QUEENS           1\n",
            "                                         STATEN ISLAND    1\n",
            "Cranes and Derricks                      BRONX            1\n",
            "                                         BROOKLYN         1\n",
            "                                         MANHATTAN        1\n",
            "                                         QUEENS           1\n",
            "Electrical                               BRONX            1\n",
            "                                         BROOKLYN         1\n",
            "                                         MANHATTAN        1\n",
            "                                         QUEENS           1\n",
            "                                         STATEN ISLAND    1\n",
            "Elevator                                 BRONX            1\n",
            "                                         BROOKLYN         1\n",
            "                                         MANHATTAN        1\n",
            "                                         QUEENS           1\n",
            "                                         STATEN ISLAND    1\n",
            "Emergency Response Team (ERT)            BRONX            1\n",
            "                                         BROOKLYN         1\n",
            "                                         MANHATTAN        1\n",
            "                                         QUEENS           1\n",
            "                                         STATEN ISLAND    1\n",
            "Forms                                    Unspecified      1\n",
            "General Construction/Plumbing            BRONX            1\n",
            "                                         BROOKLYN         1\n",
            "                                         MANHATTAN        1\n",
            "                                         QUEENS           1\n",
            "                                         STATEN ISLAND    1\n",
            "Investigations and Discipline (IAD)      BRONX            1\n",
            "                                         BROOKLYN         1\n",
            "                                         MANHATTAN        1\n",
            "                                         QUEENS           1\n",
            "                                         STATEN ISLAND    1\n",
            "Miscellaneous Categories                 BRONX            1\n",
            "                                         BROOKLYN         1\n",
            "                                         MANHATTAN        1\n",
            "                                         QUEENS           1\n",
            "Plumbing                                 BRONX            1\n",
            "                                         BROOKLYN         1\n",
            "                                         MANHATTAN        1\n",
            "                                         QUEENS           1\n",
            "                                         STATEN ISLAND    1\n",
            "Scaffold Safety                          BRONX            1\n",
            "                                         BROOKLYN         1\n",
            "                                         MANHATTAN        1\n",
            "                                         QUEENS           1\n",
            "Special Enforcement                      BRONX            1\n",
            "                                         BROOKLYN         1\n",
            "                                         MANHATTAN        1\n",
            "                                         QUEENS           1\n",
            "                                         STATEN ISLAND    1\n",
            "Special Natural Area District (SNAD)     BRONX            1\n",
            "                                         BROOKLYN         1\n",
            "                                         QUEENS           1\n",
            "                                         STATEN ISLAND    1\n",
            "Special Projects Inspection Team (SPIT)  BRONX            1\n",
            "                                         BROOKLYN         1\n",
            "                                         MANHATTAN        1\n",
            "                                         QUEENS           1\n",
            "                                         STATEN ISLAND    1\n",
            "Name: agency_id, dtype: int64\n"
          ],
          "name": "stdout"
        }
      ]
    },
    {
      "cell_type": "code",
      "metadata": {
        "colab": {
          "base_uri": "https://localhost:8080/",
          "height": 419
        },
        "id": "Hfj88us4KhBl",
        "outputId": "76e2c9ed-c003-4da4-db05-d5854cff5ea8"
      },
      "source": [
        "df[['agency_id','borough','complaint_type']]"
      ],
      "execution_count": null,
      "outputs": [
        {
          "output_type": "execute_result",
          "data": {
            "text/html": [
              "<div>\n",
              "<style scoped>\n",
              "    .dataframe tbody tr th:only-of-type {\n",
              "        vertical-align: middle;\n",
              "    }\n",
              "\n",
              "    .dataframe tbody tr th {\n",
              "        vertical-align: top;\n",
              "    }\n",
              "\n",
              "    .dataframe thead th {\n",
              "        text-align: right;\n",
              "    }\n",
              "</style>\n",
              "<table border=\"1\" class=\"dataframe\">\n",
              "  <thead>\n",
              "    <tr style=\"text-align: right;\">\n",
              "      <th></th>\n",
              "      <th>agency_id</th>\n",
              "      <th>borough</th>\n",
              "      <th>complaint_type</th>\n",
              "    </tr>\n",
              "  </thead>\n",
              "  <tbody>\n",
              "    <tr>\n",
              "      <th>0</th>\n",
              "      <td>10</td>\n",
              "      <td>QUEENS</td>\n",
              "      <td>Plumbing</td>\n",
              "    </tr>\n",
              "    <tr>\n",
              "      <th>1</th>\n",
              "      <td>11</td>\n",
              "      <td>QUEENS</td>\n",
              "      <td>Special Enforcement</td>\n",
              "    </tr>\n",
              "    <tr>\n",
              "      <th>2</th>\n",
              "      <td>12</td>\n",
              "      <td>MANHATTAN</td>\n",
              "      <td>Elevator</td>\n",
              "    </tr>\n",
              "    <tr>\n",
              "      <th>3</th>\n",
              "      <td>12</td>\n",
              "      <td>BROOKLYN</td>\n",
              "      <td>Cranes and Derricks</td>\n",
              "    </tr>\n",
              "    <tr>\n",
              "      <th>4</th>\n",
              "      <td>14</td>\n",
              "      <td>STATEN ISLAND</td>\n",
              "      <td>Elevator</td>\n",
              "    </tr>\n",
              "    <tr>\n",
              "      <th>...</th>\n",
              "      <td>...</td>\n",
              "      <td>...</td>\n",
              "      <td>...</td>\n",
              "    </tr>\n",
              "    <tr>\n",
              "      <th>67</th>\n",
              "      <td>67</td>\n",
              "      <td>MANHATTAN</td>\n",
              "      <td>Miscellaneous Categories</td>\n",
              "    </tr>\n",
              "    <tr>\n",
              "      <th>68</th>\n",
              "      <td>68</td>\n",
              "      <td>QUEENS</td>\n",
              "      <td>Scaffold Safety</td>\n",
              "    </tr>\n",
              "    <tr>\n",
              "      <th>69</th>\n",
              "      <td>69</td>\n",
              "      <td>QUEENS</td>\n",
              "      <td>Building/Use</td>\n",
              "    </tr>\n",
              "    <tr>\n",
              "      <th>70</th>\n",
              "      <td>70</td>\n",
              "      <td>QUEENS</td>\n",
              "      <td>Boilers</td>\n",
              "    </tr>\n",
              "    <tr>\n",
              "      <th>71</th>\n",
              "      <td>71</td>\n",
              "      <td>BROOKLYN</td>\n",
              "      <td>Electrical</td>\n",
              "    </tr>\n",
              "  </tbody>\n",
              "</table>\n",
              "<p>72 rows × 3 columns</p>\n",
              "</div>"
            ],
            "text/plain": [
              "    agency_id        borough            complaint_type\n",
              "0          10         QUEENS                  Plumbing\n",
              "1          11         QUEENS       Special Enforcement\n",
              "2          12      MANHATTAN                  Elevator\n",
              "3          12       BROOKLYN       Cranes and Derricks\n",
              "4          14  STATEN ISLAND                  Elevator\n",
              "..        ...            ...                       ...\n",
              "67         67      MANHATTAN  Miscellaneous Categories\n",
              "68         68         QUEENS           Scaffold Safety\n",
              "69         69         QUEENS              Building/Use\n",
              "70         70         QUEENS                   Boilers\n",
              "71         71       BROOKLYN                Electrical\n",
              "\n",
              "[72 rows x 3 columns]"
            ]
          },
          "metadata": {
            "tags": []
          },
          "execution_count": 96
        }
      ]
    },
    {
      "cell_type": "code",
      "metadata": {
        "colab": {
          "base_uri": "https://localhost:8080/",
          "height": 419
        },
        "id": "0a5ZaHk3Kqd2",
        "outputId": "7256f2d1-96e7-42fd-ae63-3535998f9912"
      },
      "source": [
        "df2=df[['agency_id','borough','complaint_type']]\r\n",
        "df2"
      ],
      "execution_count": null,
      "outputs": [
        {
          "output_type": "execute_result",
          "data": {
            "text/html": [
              "<div>\n",
              "<style scoped>\n",
              "    .dataframe tbody tr th:only-of-type {\n",
              "        vertical-align: middle;\n",
              "    }\n",
              "\n",
              "    .dataframe tbody tr th {\n",
              "        vertical-align: top;\n",
              "    }\n",
              "\n",
              "    .dataframe thead th {\n",
              "        text-align: right;\n",
              "    }\n",
              "</style>\n",
              "<table border=\"1\" class=\"dataframe\">\n",
              "  <thead>\n",
              "    <tr style=\"text-align: right;\">\n",
              "      <th></th>\n",
              "      <th>agency_id</th>\n",
              "      <th>borough</th>\n",
              "      <th>complaint_type</th>\n",
              "    </tr>\n",
              "  </thead>\n",
              "  <tbody>\n",
              "    <tr>\n",
              "      <th>0</th>\n",
              "      <td>10</td>\n",
              "      <td>QUEENS</td>\n",
              "      <td>Plumbing</td>\n",
              "    </tr>\n",
              "    <tr>\n",
              "      <th>1</th>\n",
              "      <td>11</td>\n",
              "      <td>QUEENS</td>\n",
              "      <td>Special Enforcement</td>\n",
              "    </tr>\n",
              "    <tr>\n",
              "      <th>2</th>\n",
              "      <td>12</td>\n",
              "      <td>MANHATTAN</td>\n",
              "      <td>Elevator</td>\n",
              "    </tr>\n",
              "    <tr>\n",
              "      <th>3</th>\n",
              "      <td>12</td>\n",
              "      <td>BROOKLYN</td>\n",
              "      <td>Cranes and Derricks</td>\n",
              "    </tr>\n",
              "    <tr>\n",
              "      <th>4</th>\n",
              "      <td>14</td>\n",
              "      <td>STATEN ISLAND</td>\n",
              "      <td>Elevator</td>\n",
              "    </tr>\n",
              "    <tr>\n",
              "      <th>...</th>\n",
              "      <td>...</td>\n",
              "      <td>...</td>\n",
              "      <td>...</td>\n",
              "    </tr>\n",
              "    <tr>\n",
              "      <th>67</th>\n",
              "      <td>67</td>\n",
              "      <td>MANHATTAN</td>\n",
              "      <td>Miscellaneous Categories</td>\n",
              "    </tr>\n",
              "    <tr>\n",
              "      <th>68</th>\n",
              "      <td>68</td>\n",
              "      <td>QUEENS</td>\n",
              "      <td>Scaffold Safety</td>\n",
              "    </tr>\n",
              "    <tr>\n",
              "      <th>69</th>\n",
              "      <td>69</td>\n",
              "      <td>QUEENS</td>\n",
              "      <td>Building/Use</td>\n",
              "    </tr>\n",
              "    <tr>\n",
              "      <th>70</th>\n",
              "      <td>70</td>\n",
              "      <td>QUEENS</td>\n",
              "      <td>Boilers</td>\n",
              "    </tr>\n",
              "    <tr>\n",
              "      <th>71</th>\n",
              "      <td>71</td>\n",
              "      <td>BROOKLYN</td>\n",
              "      <td>Electrical</td>\n",
              "    </tr>\n",
              "  </tbody>\n",
              "</table>\n",
              "<p>72 rows × 3 columns</p>\n",
              "</div>"
            ],
            "text/plain": [
              "    agency_id        borough            complaint_type\n",
              "0          10         QUEENS                  Plumbing\n",
              "1          11         QUEENS       Special Enforcement\n",
              "2          12      MANHATTAN                  Elevator\n",
              "3          12       BROOKLYN       Cranes and Derricks\n",
              "4          14  STATEN ISLAND                  Elevator\n",
              "..        ...            ...                       ...\n",
              "67         67      MANHATTAN  Miscellaneous Categories\n",
              "68         68         QUEENS           Scaffold Safety\n",
              "69         69         QUEENS              Building/Use\n",
              "70         70         QUEENS                   Boilers\n",
              "71         71       BROOKLYN                Electrical\n",
              "\n",
              "[72 rows x 3 columns]"
            ]
          },
          "metadata": {
            "tags": []
          },
          "execution_count": 97
        }
      ]
    },
    {
      "cell_type": "code",
      "metadata": {
        "colab": {
          "base_uri": "https://localhost:8080/",
          "height": 806
        },
        "id": "-CYWY8EqK66O",
        "outputId": "be279d56-0c68-4716-fd4c-dd39a178fc43"
      },
      "source": [
        "df3=df[df['borough']=='QUEENS']\r\n",
        "df3"
      ],
      "execution_count": null,
      "outputs": [
        {
          "output_type": "execute_result",
          "data": {
            "text/html": [
              "<div>\n",
              "<style scoped>\n",
              "    .dataframe tbody tr th:only-of-type {\n",
              "        vertical-align: middle;\n",
              "    }\n",
              "\n",
              "    .dataframe tbody tr th {\n",
              "        vertical-align: top;\n",
              "    }\n",
              "\n",
              "    .dataframe thead th {\n",
              "        text-align: right;\n",
              "    }\n",
              "</style>\n",
              "<table border=\"1\" class=\"dataframe\">\n",
              "  <thead>\n",
              "    <tr style=\"text-align: right;\">\n",
              "      <th></th>\n",
              "      <th>agency_id</th>\n",
              "      <th>agency</th>\n",
              "      <th>borough</th>\n",
              "      <th>closed</th>\n",
              "      <th>complaint_type</th>\n",
              "      <th>total</th>\n",
              "      <th>perc_closed</th>\n",
              "      <th>closed_within_a_day</th>\n",
              "      <th>number_of_records</th>\n",
              "      <th>past_number_of_weeks</th>\n",
              "      <th>created_after_timestamp</th>\n",
              "      <th>overall_closed_within_a_day</th>\n",
              "    </tr>\n",
              "  </thead>\n",
              "  <tbody>\n",
              "    <tr>\n",
              "      <th>0</th>\n",
              "      <td>10</td>\n",
              "      <td>DOB</td>\n",
              "      <td>QUEENS</td>\n",
              "      <td>455</td>\n",
              "      <td>Plumbing</td>\n",
              "      <td>600</td>\n",
              "      <td>0.758333</td>\n",
              "      <td>0.096703</td>\n",
              "      <td>455.0</td>\n",
              "      <td>12.0</td>\n",
              "      <td>2017-06-17T13:04:38.930226</td>\n",
              "      <td>0.073333</td>\n",
              "    </tr>\n",
              "    <tr>\n",
              "      <th>1</th>\n",
              "      <td>11</td>\n",
              "      <td>DOB</td>\n",
              "      <td>QUEENS</td>\n",
              "      <td>216</td>\n",
              "      <td>Special Enforcement</td>\n",
              "      <td>369</td>\n",
              "      <td>0.585366</td>\n",
              "      <td>0.009259</td>\n",
              "      <td>216.0</td>\n",
              "      <td>12.0</td>\n",
              "      <td>2017-06-17T13:04:38.930226</td>\n",
              "      <td>0.005420</td>\n",
              "    </tr>\n",
              "    <tr>\n",
              "      <th>6</th>\n",
              "      <td>6</td>\n",
              "      <td>DOB</td>\n",
              "      <td>QUEENS</td>\n",
              "      <td>14</td>\n",
              "      <td>BEST/Site Safety</td>\n",
              "      <td>18</td>\n",
              "      <td>0.777778</td>\n",
              "      <td>0.642857</td>\n",
              "      <td>14.0</td>\n",
              "      <td>12.0</td>\n",
              "      <td>2017-06-17T13:04:38.930226</td>\n",
              "      <td>0.500000</td>\n",
              "    </tr>\n",
              "    <tr>\n",
              "      <th>7</th>\n",
              "      <td>7</td>\n",
              "      <td>DOB</td>\n",
              "      <td>QUEENS</td>\n",
              "      <td>188</td>\n",
              "      <td>Electrical</td>\n",
              "      <td>209</td>\n",
              "      <td>0.899522</td>\n",
              "      <td>0.234043</td>\n",
              "      <td>188.0</td>\n",
              "      <td>12.0</td>\n",
              "      <td>2017-06-17T13:04:38.930226</td>\n",
              "      <td>0.210526</td>\n",
              "    </tr>\n",
              "    <tr>\n",
              "      <th>15</th>\n",
              "      <td>15</td>\n",
              "      <td>DOB</td>\n",
              "      <td>QUEENS</td>\n",
              "      <td>8</td>\n",
              "      <td>Emergency Response Team (ERT)</td>\n",
              "      <td>8</td>\n",
              "      <td>1.000000</td>\n",
              "      <td>0.625000</td>\n",
              "      <td>8.0</td>\n",
              "      <td>12.0</td>\n",
              "      <td>2017-06-17T13:04:38.930226</td>\n",
              "      <td>0.625000</td>\n",
              "    </tr>\n",
              "    <tr>\n",
              "      <th>25</th>\n",
              "      <td>25</td>\n",
              "      <td>DOB</td>\n",
              "      <td>QUEENS</td>\n",
              "      <td>132</td>\n",
              "      <td>Special Projects Inspection Team (SPIT)</td>\n",
              "      <td>218</td>\n",
              "      <td>0.605505</td>\n",
              "      <td>0.098485</td>\n",
              "      <td>132.0</td>\n",
              "      <td>12.0</td>\n",
              "      <td>2017-06-17T13:04:38.930226</td>\n",
              "      <td>0.059633</td>\n",
              "    </tr>\n",
              "    <tr>\n",
              "      <th>31</th>\n",
              "      <td>31</td>\n",
              "      <td>DOB</td>\n",
              "      <td>QUEENS</td>\n",
              "      <td>1</td>\n",
              "      <td>Miscellaneous Categories</td>\n",
              "      <td>1</td>\n",
              "      <td>1.000000</td>\n",
              "      <td>0.000000</td>\n",
              "      <td>1.0</td>\n",
              "      <td>12.0</td>\n",
              "      <td>2017-06-17T13:04:38.930226</td>\n",
              "      <td>0.000000</td>\n",
              "    </tr>\n",
              "    <tr>\n",
              "      <th>40</th>\n",
              "      <td>40</td>\n",
              "      <td>DOB</td>\n",
              "      <td>QUEENS</td>\n",
              "      <td>508</td>\n",
              "      <td>Elevator</td>\n",
              "      <td>543</td>\n",
              "      <td>0.935543</td>\n",
              "      <td>0.181102</td>\n",
              "      <td>508.0</td>\n",
              "      <td>12.0</td>\n",
              "      <td>2017-06-17T13:04:38.930226</td>\n",
              "      <td>0.169429</td>\n",
              "    </tr>\n",
              "    <tr>\n",
              "      <th>54</th>\n",
              "      <td>54</td>\n",
              "      <td>DOB</td>\n",
              "      <td>QUEENS</td>\n",
              "      <td>14</td>\n",
              "      <td>Investigations and Discipline (IAD)</td>\n",
              "      <td>18</td>\n",
              "      <td>0.777778</td>\n",
              "      <td>0.071429</td>\n",
              "      <td>14.0</td>\n",
              "      <td>12.0</td>\n",
              "      <td>2017-06-17T13:04:38.930226</td>\n",
              "      <td>0.055556</td>\n",
              "    </tr>\n",
              "    <tr>\n",
              "      <th>58</th>\n",
              "      <td>58</td>\n",
              "      <td>DOB</td>\n",
              "      <td>QUEENS</td>\n",
              "      <td>12</td>\n",
              "      <td>Cranes and Derricks</td>\n",
              "      <td>12</td>\n",
              "      <td>1.000000</td>\n",
              "      <td>0.500000</td>\n",
              "      <td>12.0</td>\n",
              "      <td>12.0</td>\n",
              "      <td>2017-06-17T13:04:38.930226</td>\n",
              "      <td>0.500000</td>\n",
              "    </tr>\n",
              "    <tr>\n",
              "      <th>64</th>\n",
              "      <td>64</td>\n",
              "      <td>DOB</td>\n",
              "      <td>QUEENS</td>\n",
              "      <td>1139</td>\n",
              "      <td>General Construction/Plumbing</td>\n",
              "      <td>1776</td>\n",
              "      <td>0.641329</td>\n",
              "      <td>0.430202</td>\n",
              "      <td>1139.0</td>\n",
              "      <td>12.0</td>\n",
              "      <td>2017-06-17T13:04:38.930226</td>\n",
              "      <td>0.275901</td>\n",
              "    </tr>\n",
              "    <tr>\n",
              "      <th>65</th>\n",
              "      <td>65</td>\n",
              "      <td>DOB</td>\n",
              "      <td>QUEENS</td>\n",
              "      <td>6</td>\n",
              "      <td>Special Natural Area District (SNAD)</td>\n",
              "      <td>12</td>\n",
              "      <td>0.500000</td>\n",
              "      <td>0.000000</td>\n",
              "      <td>6.0</td>\n",
              "      <td>12.0</td>\n",
              "      <td>2017-06-17T13:04:38.930226</td>\n",
              "      <td>0.000000</td>\n",
              "    </tr>\n",
              "    <tr>\n",
              "      <th>68</th>\n",
              "      <td>68</td>\n",
              "      <td>DOB</td>\n",
              "      <td>QUEENS</td>\n",
              "      <td>4</td>\n",
              "      <td>Scaffold Safety</td>\n",
              "      <td>6</td>\n",
              "      <td>0.666667</td>\n",
              "      <td>0.750000</td>\n",
              "      <td>4.0</td>\n",
              "      <td>12.0</td>\n",
              "      <td>2017-06-17T13:04:38.930226</td>\n",
              "      <td>0.500000</td>\n",
              "    </tr>\n",
              "    <tr>\n",
              "      <th>69</th>\n",
              "      <td>69</td>\n",
              "      <td>DOB</td>\n",
              "      <td>QUEENS</td>\n",
              "      <td>964</td>\n",
              "      <td>Building/Use</td>\n",
              "      <td>3543</td>\n",
              "      <td>0.272086</td>\n",
              "      <td>0.076763</td>\n",
              "      <td>964.0</td>\n",
              "      <td>12.0</td>\n",
              "      <td>2017-06-17T13:04:38.930226</td>\n",
              "      <td>0.020886</td>\n",
              "    </tr>\n",
              "    <tr>\n",
              "      <th>70</th>\n",
              "      <td>70</td>\n",
              "      <td>DOB</td>\n",
              "      <td>QUEENS</td>\n",
              "      <td>31</td>\n",
              "      <td>Boilers</td>\n",
              "      <td>36</td>\n",
              "      <td>0.861111</td>\n",
              "      <td>0.032258</td>\n",
              "      <td>31.0</td>\n",
              "      <td>12.0</td>\n",
              "      <td>2017-06-17T13:04:38.930226</td>\n",
              "      <td>0.027778</td>\n",
              "    </tr>\n",
              "  </tbody>\n",
              "</table>\n",
              "</div>"
            ],
            "text/plain": [
              "    agency_id agency  ...     created_after_timestamp  overall_closed_within_a_day\n",
              "0          10    DOB  ...  2017-06-17T13:04:38.930226                     0.073333\n",
              "1          11    DOB  ...  2017-06-17T13:04:38.930226                     0.005420\n",
              "6           6    DOB  ...  2017-06-17T13:04:38.930226                     0.500000\n",
              "7           7    DOB  ...  2017-06-17T13:04:38.930226                     0.210526\n",
              "15         15    DOB  ...  2017-06-17T13:04:38.930226                     0.625000\n",
              "25         25    DOB  ...  2017-06-17T13:04:38.930226                     0.059633\n",
              "31         31    DOB  ...  2017-06-17T13:04:38.930226                     0.000000\n",
              "40         40    DOB  ...  2017-06-17T13:04:38.930226                     0.169429\n",
              "54         54    DOB  ...  2017-06-17T13:04:38.930226                     0.055556\n",
              "58         58    DOB  ...  2017-06-17T13:04:38.930226                     0.500000\n",
              "64         64    DOB  ...  2017-06-17T13:04:38.930226                     0.275901\n",
              "65         65    DOB  ...  2017-06-17T13:04:38.930226                     0.000000\n",
              "68         68    DOB  ...  2017-06-17T13:04:38.930226                     0.500000\n",
              "69         69    DOB  ...  2017-06-17T13:04:38.930226                     0.020886\n",
              "70         70    DOB  ...  2017-06-17T13:04:38.930226                     0.027778\n",
              "\n",
              "[15 rows x 12 columns]"
            ]
          },
          "metadata": {
            "tags": []
          },
          "execution_count": 100
        }
      ]
    },
    {
      "cell_type": "code",
      "metadata": {
        "colab": {
          "base_uri": "https://localhost:8080/",
          "height": 69
        },
        "id": "UA183KyLLOh2",
        "outputId": "aeed6ffe-7652-44d3-dabb-e9a59af3a757"
      },
      "source": [
        "df4 = df[(df['borough']=='Queens') & (df['complaint_type']=='Plumbing')]\r\n",
        "df4"
      ],
      "execution_count": null,
      "outputs": [
        {
          "output_type": "execute_result",
          "data": {
            "text/html": [
              "<div>\n",
              "<style scoped>\n",
              "    .dataframe tbody tr th:only-of-type {\n",
              "        vertical-align: middle;\n",
              "    }\n",
              "\n",
              "    .dataframe tbody tr th {\n",
              "        vertical-align: top;\n",
              "    }\n",
              "\n",
              "    .dataframe thead th {\n",
              "        text-align: right;\n",
              "    }\n",
              "</style>\n",
              "<table border=\"1\" class=\"dataframe\">\n",
              "  <thead>\n",
              "    <tr style=\"text-align: right;\">\n",
              "      <th></th>\n",
              "      <th>agency_id</th>\n",
              "      <th>agency</th>\n",
              "      <th>borough</th>\n",
              "      <th>closed</th>\n",
              "      <th>complaint_type</th>\n",
              "      <th>total</th>\n",
              "      <th>perc_closed</th>\n",
              "      <th>closed_within_a_day</th>\n",
              "      <th>number_of_records</th>\n",
              "      <th>past_number_of_weeks</th>\n",
              "      <th>created_after_timestamp</th>\n",
              "      <th>overall_closed_within_a_day</th>\n",
              "    </tr>\n",
              "  </thead>\n",
              "  <tbody>\n",
              "  </tbody>\n",
              "</table>\n",
              "</div>"
            ],
            "text/plain": [
              "Empty DataFrame\n",
              "Columns: [agency_id, agency, borough, closed, complaint_type, total, perc_closed, closed_within_a_day, number_of_records, past_number_of_weeks, created_after_timestamp, overall_closed_within_a_day]\n",
              "Index: []"
            ]
          },
          "metadata": {
            "tags": []
          },
          "execution_count": 105
        }
      ]
    },
    {
      "cell_type": "code",
      "metadata": {
        "colab": {
          "base_uri": "https://localhost:8080/",
          "height": 309
        },
        "id": "NmDcLZrXL02H",
        "outputId": "685f9b8c-5ea1-45b9-b41c-baa337589a5e"
      },
      "source": [
        "df5 = df[df['complaint_type']=='Plumbing']\r\n",
        "df5"
      ],
      "execution_count": null,
      "outputs": [
        {
          "output_type": "execute_result",
          "data": {
            "text/html": [
              "<div>\n",
              "<style scoped>\n",
              "    .dataframe tbody tr th:only-of-type {\n",
              "        vertical-align: middle;\n",
              "    }\n",
              "\n",
              "    .dataframe tbody tr th {\n",
              "        vertical-align: top;\n",
              "    }\n",
              "\n",
              "    .dataframe thead th {\n",
              "        text-align: right;\n",
              "    }\n",
              "</style>\n",
              "<table border=\"1\" class=\"dataframe\">\n",
              "  <thead>\n",
              "    <tr style=\"text-align: right;\">\n",
              "      <th></th>\n",
              "      <th>agency_id</th>\n",
              "      <th>agency</th>\n",
              "      <th>borough</th>\n",
              "      <th>closed</th>\n",
              "      <th>complaint_type</th>\n",
              "      <th>total</th>\n",
              "      <th>perc_closed</th>\n",
              "      <th>closed_within_a_day</th>\n",
              "      <th>number_of_records</th>\n",
              "      <th>past_number_of_weeks</th>\n",
              "      <th>created_after_timestamp</th>\n",
              "      <th>overall_closed_within_a_day</th>\n",
              "    </tr>\n",
              "  </thead>\n",
              "  <tbody>\n",
              "    <tr>\n",
              "      <th>0</th>\n",
              "      <td>10</td>\n",
              "      <td>DOB</td>\n",
              "      <td>QUEENS</td>\n",
              "      <td>455</td>\n",
              "      <td>Plumbing</td>\n",
              "      <td>600</td>\n",
              "      <td>0.758333</td>\n",
              "      <td>0.096703</td>\n",
              "      <td>455.0</td>\n",
              "      <td>12.0</td>\n",
              "      <td>2017-06-17T13:04:38.930226</td>\n",
              "      <td>0.073333</td>\n",
              "    </tr>\n",
              "    <tr>\n",
              "      <th>38</th>\n",
              "      <td>38</td>\n",
              "      <td>DOB</td>\n",
              "      <td>MANHATTAN</td>\n",
              "      <td>225</td>\n",
              "      <td>Plumbing</td>\n",
              "      <td>306</td>\n",
              "      <td>0.735294</td>\n",
              "      <td>0.248889</td>\n",
              "      <td>225.0</td>\n",
              "      <td>12.0</td>\n",
              "      <td>2017-06-17T13:04:38.930226</td>\n",
              "      <td>0.183007</td>\n",
              "    </tr>\n",
              "    <tr>\n",
              "      <th>43</th>\n",
              "      <td>43</td>\n",
              "      <td>DOB</td>\n",
              "      <td>STATEN ISLAND</td>\n",
              "      <td>48</td>\n",
              "      <td>Plumbing</td>\n",
              "      <td>65</td>\n",
              "      <td>0.738462</td>\n",
              "      <td>0.145833</td>\n",
              "      <td>48.0</td>\n",
              "      <td>12.0</td>\n",
              "      <td>2017-06-17T13:04:38.930226</td>\n",
              "      <td>0.107692</td>\n",
              "    </tr>\n",
              "    <tr>\n",
              "      <th>48</th>\n",
              "      <td>48</td>\n",
              "      <td>DOB</td>\n",
              "      <td>BRONX</td>\n",
              "      <td>128</td>\n",
              "      <td>Plumbing</td>\n",
              "      <td>158</td>\n",
              "      <td>0.810127</td>\n",
              "      <td>0.218750</td>\n",
              "      <td>128.0</td>\n",
              "      <td>12.0</td>\n",
              "      <td>2017-06-17T13:04:38.930226</td>\n",
              "      <td>0.177215</td>\n",
              "    </tr>\n",
              "    <tr>\n",
              "      <th>60</th>\n",
              "      <td>60</td>\n",
              "      <td>DOB</td>\n",
              "      <td>BROOKLYN</td>\n",
              "      <td>411</td>\n",
              "      <td>Plumbing</td>\n",
              "      <td>488</td>\n",
              "      <td>0.842213</td>\n",
              "      <td>0.301703</td>\n",
              "      <td>411.0</td>\n",
              "      <td>12.0</td>\n",
              "      <td>2017-06-17T13:04:38.930226</td>\n",
              "      <td>0.254098</td>\n",
              "    </tr>\n",
              "  </tbody>\n",
              "</table>\n",
              "</div>"
            ],
            "text/plain": [
              "    agency_id agency  ...     created_after_timestamp  overall_closed_within_a_day\n",
              "0          10    DOB  ...  2017-06-17T13:04:38.930226                     0.073333\n",
              "38         38    DOB  ...  2017-06-17T13:04:38.930226                     0.183007\n",
              "43         43    DOB  ...  2017-06-17T13:04:38.930226                     0.107692\n",
              "48         48    DOB  ...  2017-06-17T13:04:38.930226                     0.177215\n",
              "60         60    DOB  ...  2017-06-17T13:04:38.930226                     0.254098\n",
              "\n",
              "[5 rows x 12 columns]"
            ]
          },
          "metadata": {
            "tags": []
          },
          "execution_count": 103
        }
      ]
    },
    {
      "cell_type": "code",
      "metadata": {
        "colab": {
          "base_uri": "https://localhost:8080/"
        },
        "id": "38pHjKWKL62O",
        "outputId": "c36d18ec-d6eb-4ecb-b36e-bf47604a3d2d"
      },
      "source": [
        "df6 = df[df['complaint_type']=='Plumbing'].count()\r\n",
        "df6"
      ],
      "execution_count": null,
      "outputs": [
        {
          "output_type": "execute_result",
          "data": {
            "text/plain": [
              "agency_id                      5\n",
              "agency                         5\n",
              "borough                        5\n",
              "closed                         5\n",
              "complaint_type                 5\n",
              "total                          5\n",
              "perc_closed                    5\n",
              "closed_within_a_day            5\n",
              "number_of_records              5\n",
              "past_number_of_weeks           5\n",
              "created_after_timestamp        5\n",
              "overall_closed_within_a_day    5\n",
              "dtype: int64"
            ]
          },
          "metadata": {
            "tags": []
          },
          "execution_count": 104
        }
      ]
    },
    {
      "cell_type": "code",
      "metadata": {
        "colab": {
          "base_uri": "https://localhost:8080/",
          "height": 142
        },
        "id": "nTAs76cYNHsD",
        "outputId": "40c995a0-cb96-4e35-868e-d4cb9cff0557"
      },
      "source": [
        "df = {'A':[1,2,np.nan],'B':[3,np.nan,np.nan]}\r\n",
        "df\r\n",
        "df=pd.DataFrame(df)\r\n",
        "df"
      ],
      "execution_count": null,
      "outputs": [
        {
          "output_type": "execute_result",
          "data": {
            "text/html": [
              "<div>\n",
              "<style scoped>\n",
              "    .dataframe tbody tr th:only-of-type {\n",
              "        vertical-align: middle;\n",
              "    }\n",
              "\n",
              "    .dataframe tbody tr th {\n",
              "        vertical-align: top;\n",
              "    }\n",
              "\n",
              "    .dataframe thead th {\n",
              "        text-align: right;\n",
              "    }\n",
              "</style>\n",
              "<table border=\"1\" class=\"dataframe\">\n",
              "  <thead>\n",
              "    <tr style=\"text-align: right;\">\n",
              "      <th></th>\n",
              "      <th>A</th>\n",
              "      <th>B</th>\n",
              "    </tr>\n",
              "  </thead>\n",
              "  <tbody>\n",
              "    <tr>\n",
              "      <th>0</th>\n",
              "      <td>1.0</td>\n",
              "      <td>3.0</td>\n",
              "    </tr>\n",
              "    <tr>\n",
              "      <th>1</th>\n",
              "      <td>2.0</td>\n",
              "      <td>NaN</td>\n",
              "    </tr>\n",
              "    <tr>\n",
              "      <th>2</th>\n",
              "      <td>NaN</td>\n",
              "      <td>NaN</td>\n",
              "    </tr>\n",
              "  </tbody>\n",
              "</table>\n",
              "</div>"
            ],
            "text/plain": [
              "     A    B\n",
              "0  1.0  3.0\n",
              "1  2.0  NaN\n",
              "2  NaN  NaN"
            ]
          },
          "metadata": {
            "tags": []
          },
          "execution_count": 106
        }
      ]
    },
    {
      "cell_type": "code",
      "metadata": {
        "colab": {
          "base_uri": "https://localhost:8080/"
        },
        "id": "3YkIVZl_Njpd",
        "outputId": "0493ec36-94a4-4a77-95cc-d827583c7c94"
      },
      "source": [
        "df.isnull().sum()"
      ],
      "execution_count": null,
      "outputs": [
        {
          "output_type": "execute_result",
          "data": {
            "text/plain": [
              "A    1\n",
              "B    2\n",
              "dtype: int64"
            ]
          },
          "metadata": {
            "tags": []
          },
          "execution_count": 108
        }
      ]
    },
    {
      "cell_type": "code",
      "metadata": {
        "colab": {
          "base_uri": "https://localhost:8080/"
        },
        "id": "ag6mhpw7N3jv",
        "outputId": "5d1ed104-5eeb-4c22-8fbb-c854d2f9fe2f"
      },
      "source": [
        "print(df.isnull().sum())"
      ],
      "execution_count": null,
      "outputs": [
        {
          "output_type": "stream",
          "text": [
            "A    1\n",
            "B    2\n",
            "dtype: int64\n"
          ],
          "name": "stdout"
        }
      ]
    },
    {
      "cell_type": "code",
      "metadata": {
        "colab": {
          "base_uri": "https://localhost:8080/"
        },
        "id": "k3qnsrhlN9xb",
        "outputId": "67d6d304-ccef-4c0a-bd91-827b93a976d7"
      },
      "source": [
        "print(df.isnull().sum().sum())"
      ],
      "execution_count": null,
      "outputs": [
        {
          "output_type": "stream",
          "text": [
            "3\n"
          ],
          "name": "stdout"
        }
      ]
    },
    {
      "cell_type": "code",
      "metadata": {
        "colab": {
          "base_uri": "https://localhost:8080/",
          "height": 80
        },
        "id": "o2v7iJZhOIyP",
        "outputId": "5ad794c0-9068-4a31-c9f9-851efb6d8c04"
      },
      "source": [
        "df.dropna()\r\n"
      ],
      "execution_count": null,
      "outputs": [
        {
          "output_type": "execute_result",
          "data": {
            "text/html": [
              "<div>\n",
              "<style scoped>\n",
              "    .dataframe tbody tr th:only-of-type {\n",
              "        vertical-align: middle;\n",
              "    }\n",
              "\n",
              "    .dataframe tbody tr th {\n",
              "        vertical-align: top;\n",
              "    }\n",
              "\n",
              "    .dataframe thead th {\n",
              "        text-align: right;\n",
              "    }\n",
              "</style>\n",
              "<table border=\"1\" class=\"dataframe\">\n",
              "  <thead>\n",
              "    <tr style=\"text-align: right;\">\n",
              "      <th></th>\n",
              "      <th>A</th>\n",
              "      <th>B</th>\n",
              "    </tr>\n",
              "  </thead>\n",
              "  <tbody>\n",
              "    <tr>\n",
              "      <th>0</th>\n",
              "      <td>1.0</td>\n",
              "      <td>3.0</td>\n",
              "    </tr>\n",
              "  </tbody>\n",
              "</table>\n",
              "</div>"
            ],
            "text/plain": [
              "     A    B\n",
              "0  1.0  3.0"
            ]
          },
          "metadata": {
            "tags": []
          },
          "execution_count": 113
        }
      ]
    },
    {
      "cell_type": "code",
      "metadata": {
        "colab": {
          "base_uri": "https://localhost:8080/",
          "height": 142
        },
        "id": "NKesEmAcOu36",
        "outputId": "9975077c-8a18-46cb-8858-88121092a7e0"
      },
      "source": [
        "df.fillna(value='empty')"
      ],
      "execution_count": null,
      "outputs": [
        {
          "output_type": "execute_result",
          "data": {
            "text/html": [
              "<div>\n",
              "<style scoped>\n",
              "    .dataframe tbody tr th:only-of-type {\n",
              "        vertical-align: middle;\n",
              "    }\n",
              "\n",
              "    .dataframe tbody tr th {\n",
              "        vertical-align: top;\n",
              "    }\n",
              "\n",
              "    .dataframe thead th {\n",
              "        text-align: right;\n",
              "    }\n",
              "</style>\n",
              "<table border=\"1\" class=\"dataframe\">\n",
              "  <thead>\n",
              "    <tr style=\"text-align: right;\">\n",
              "      <th></th>\n",
              "      <th>A</th>\n",
              "      <th>B</th>\n",
              "    </tr>\n",
              "  </thead>\n",
              "  <tbody>\n",
              "    <tr>\n",
              "      <th>0</th>\n",
              "      <td>1</td>\n",
              "      <td>3</td>\n",
              "    </tr>\n",
              "    <tr>\n",
              "      <th>1</th>\n",
              "      <td>2</td>\n",
              "      <td>empty</td>\n",
              "    </tr>\n",
              "    <tr>\n",
              "      <th>2</th>\n",
              "      <td>empty</td>\n",
              "      <td>empty</td>\n",
              "    </tr>\n",
              "  </tbody>\n",
              "</table>\n",
              "</div>"
            ],
            "text/plain": [
              "       A      B\n",
              "0      1      3\n",
              "1      2  empty\n",
              "2  empty  empty"
            ]
          },
          "metadata": {
            "tags": []
          },
          "execution_count": 114
        }
      ]
    },
    {
      "cell_type": "code",
      "metadata": {
        "colab": {
          "base_uri": "https://localhost:8080/",
          "height": 817
        },
        "id": "TtsulhSNSQJ4",
        "outputId": "07661f5d-d29b-49d1-8f0e-705a472a0f06"
      },
      "source": [
        "dfNew = pd.read_csv('http://avijitroy.com/microCred6/Employees.csv',index_col=None)\r\n",
        "dfNew"
      ],
      "execution_count": null,
      "outputs": [
        {
          "output_type": "error",
          "ename": "UnicodeDecodeError",
          "evalue": "ignored",
          "traceback": [
            "\u001b[0;31m---------------------------------------------------------------------------\u001b[0m",
            "\u001b[0;31mUnicodeDecodeError\u001b[0m                        Traceback (most recent call last)",
            "\u001b[0;32mpandas/_libs/parsers.pyx\u001b[0m in \u001b[0;36mpandas._libs.parsers.TextReader._convert_tokens\u001b[0;34m()\u001b[0m\n",
            "\u001b[0;32mpandas/_libs/parsers.pyx\u001b[0m in \u001b[0;36mpandas._libs.parsers.TextReader._convert_with_dtype\u001b[0;34m()\u001b[0m\n",
            "\u001b[0;32mpandas/_libs/parsers.pyx\u001b[0m in \u001b[0;36mpandas._libs.parsers.TextReader._string_convert\u001b[0;34m()\u001b[0m\n",
            "\u001b[0;32mpandas/_libs/parsers.pyx\u001b[0m in \u001b[0;36mpandas._libs.parsers._string_box_utf8\u001b[0;34m()\u001b[0m\n",
            "\u001b[0;31mUnicodeDecodeError\u001b[0m: 'utf-8' codec can't decode byte 0xe7 in position 4: invalid continuation byte",
            "\nDuring handling of the above exception, another exception occurred:\n",
            "\u001b[0;31mUnicodeDecodeError\u001b[0m                        Traceback (most recent call last)",
            "\u001b[0;32m<ipython-input-128-75e77bba6475>\u001b[0m in \u001b[0;36m<module>\u001b[0;34m()\u001b[0m\n\u001b[0;32m----> 1\u001b[0;31m \u001b[0mdfNew\u001b[0m \u001b[0;34m=\u001b[0m \u001b[0mpd\u001b[0m\u001b[0;34m.\u001b[0m\u001b[0mread_csv\u001b[0m\u001b[0;34m(\u001b[0m\u001b[0;34m'http://avijitroy.com/microCred6/Employees.csv'\u001b[0m\u001b[0;34m,\u001b[0m\u001b[0mindex_col\u001b[0m\u001b[0;34m=\u001b[0m\u001b[0;32mNone\u001b[0m\u001b[0;34m)\u001b[0m\u001b[0;34m\u001b[0m\u001b[0;34m\u001b[0m\u001b[0m\n\u001b[0m\u001b[1;32m      2\u001b[0m \u001b[0mdfNew\u001b[0m\u001b[0;34m\u001b[0m\u001b[0;34m\u001b[0m\u001b[0m\n",
            "\u001b[0;32m/usr/local/lib/python3.6/dist-packages/pandas/io/parsers.py\u001b[0m in \u001b[0;36mread_csv\u001b[0;34m(filepath_or_buffer, sep, delimiter, header, names, index_col, usecols, squeeze, prefix, mangle_dupe_cols, dtype, engine, converters, true_values, false_values, skipinitialspace, skiprows, skipfooter, nrows, na_values, keep_default_na, na_filter, verbose, skip_blank_lines, parse_dates, infer_datetime_format, keep_date_col, date_parser, dayfirst, cache_dates, iterator, chunksize, compression, thousands, decimal, lineterminator, quotechar, quoting, doublequote, escapechar, comment, encoding, dialect, error_bad_lines, warn_bad_lines, delim_whitespace, low_memory, memory_map, float_precision)\u001b[0m\n\u001b[1;32m    686\u001b[0m     )\n\u001b[1;32m    687\u001b[0m \u001b[0;34m\u001b[0m\u001b[0m\n\u001b[0;32m--> 688\u001b[0;31m     \u001b[0;32mreturn\u001b[0m \u001b[0m_read\u001b[0m\u001b[0;34m(\u001b[0m\u001b[0mfilepath_or_buffer\u001b[0m\u001b[0;34m,\u001b[0m \u001b[0mkwds\u001b[0m\u001b[0;34m)\u001b[0m\u001b[0;34m\u001b[0m\u001b[0;34m\u001b[0m\u001b[0m\n\u001b[0m\u001b[1;32m    689\u001b[0m \u001b[0;34m\u001b[0m\u001b[0m\n\u001b[1;32m    690\u001b[0m \u001b[0;34m\u001b[0m\u001b[0m\n",
            "\u001b[0;32m/usr/local/lib/python3.6/dist-packages/pandas/io/parsers.py\u001b[0m in \u001b[0;36m_read\u001b[0;34m(filepath_or_buffer, kwds)\u001b[0m\n\u001b[1;32m    458\u001b[0m \u001b[0;34m\u001b[0m\u001b[0m\n\u001b[1;32m    459\u001b[0m     \u001b[0;32mtry\u001b[0m\u001b[0;34m:\u001b[0m\u001b[0;34m\u001b[0m\u001b[0;34m\u001b[0m\u001b[0m\n\u001b[0;32m--> 460\u001b[0;31m         \u001b[0mdata\u001b[0m \u001b[0;34m=\u001b[0m \u001b[0mparser\u001b[0m\u001b[0;34m.\u001b[0m\u001b[0mread\u001b[0m\u001b[0;34m(\u001b[0m\u001b[0mnrows\u001b[0m\u001b[0;34m)\u001b[0m\u001b[0;34m\u001b[0m\u001b[0;34m\u001b[0m\u001b[0m\n\u001b[0m\u001b[1;32m    461\u001b[0m     \u001b[0;32mfinally\u001b[0m\u001b[0;34m:\u001b[0m\u001b[0;34m\u001b[0m\u001b[0;34m\u001b[0m\u001b[0m\n\u001b[1;32m    462\u001b[0m         \u001b[0mparser\u001b[0m\u001b[0;34m.\u001b[0m\u001b[0mclose\u001b[0m\u001b[0;34m(\u001b[0m\u001b[0;34m)\u001b[0m\u001b[0;34m\u001b[0m\u001b[0;34m\u001b[0m\u001b[0m\n",
            "\u001b[0;32m/usr/local/lib/python3.6/dist-packages/pandas/io/parsers.py\u001b[0m in \u001b[0;36mread\u001b[0;34m(self, nrows)\u001b[0m\n\u001b[1;32m   1196\u001b[0m     \u001b[0;32mdef\u001b[0m \u001b[0mread\u001b[0m\u001b[0;34m(\u001b[0m\u001b[0mself\u001b[0m\u001b[0;34m,\u001b[0m \u001b[0mnrows\u001b[0m\u001b[0;34m=\u001b[0m\u001b[0;32mNone\u001b[0m\u001b[0;34m)\u001b[0m\u001b[0;34m:\u001b[0m\u001b[0;34m\u001b[0m\u001b[0;34m\u001b[0m\u001b[0m\n\u001b[1;32m   1197\u001b[0m         \u001b[0mnrows\u001b[0m \u001b[0;34m=\u001b[0m \u001b[0m_validate_integer\u001b[0m\u001b[0;34m(\u001b[0m\u001b[0;34m\"nrows\"\u001b[0m\u001b[0;34m,\u001b[0m \u001b[0mnrows\u001b[0m\u001b[0;34m)\u001b[0m\u001b[0;34m\u001b[0m\u001b[0;34m\u001b[0m\u001b[0m\n\u001b[0;32m-> 1198\u001b[0;31m         \u001b[0mret\u001b[0m \u001b[0;34m=\u001b[0m \u001b[0mself\u001b[0m\u001b[0;34m.\u001b[0m\u001b[0m_engine\u001b[0m\u001b[0;34m.\u001b[0m\u001b[0mread\u001b[0m\u001b[0;34m(\u001b[0m\u001b[0mnrows\u001b[0m\u001b[0;34m)\u001b[0m\u001b[0;34m\u001b[0m\u001b[0;34m\u001b[0m\u001b[0m\n\u001b[0m\u001b[1;32m   1199\u001b[0m \u001b[0;34m\u001b[0m\u001b[0m\n\u001b[1;32m   1200\u001b[0m         \u001b[0;31m# May alter columns / col_dict\u001b[0m\u001b[0;34m\u001b[0m\u001b[0;34m\u001b[0m\u001b[0;34m\u001b[0m\u001b[0m\n",
            "\u001b[0;32m/usr/local/lib/python3.6/dist-packages/pandas/io/parsers.py\u001b[0m in \u001b[0;36mread\u001b[0;34m(self, nrows)\u001b[0m\n\u001b[1;32m   2155\u001b[0m     \u001b[0;32mdef\u001b[0m \u001b[0mread\u001b[0m\u001b[0;34m(\u001b[0m\u001b[0mself\u001b[0m\u001b[0;34m,\u001b[0m \u001b[0mnrows\u001b[0m\u001b[0;34m=\u001b[0m\u001b[0;32mNone\u001b[0m\u001b[0;34m)\u001b[0m\u001b[0;34m:\u001b[0m\u001b[0;34m\u001b[0m\u001b[0;34m\u001b[0m\u001b[0m\n\u001b[1;32m   2156\u001b[0m         \u001b[0;32mtry\u001b[0m\u001b[0;34m:\u001b[0m\u001b[0;34m\u001b[0m\u001b[0;34m\u001b[0m\u001b[0m\n\u001b[0;32m-> 2157\u001b[0;31m             \u001b[0mdata\u001b[0m \u001b[0;34m=\u001b[0m \u001b[0mself\u001b[0m\u001b[0;34m.\u001b[0m\u001b[0m_reader\u001b[0m\u001b[0;34m.\u001b[0m\u001b[0mread\u001b[0m\u001b[0;34m(\u001b[0m\u001b[0mnrows\u001b[0m\u001b[0;34m)\u001b[0m\u001b[0;34m\u001b[0m\u001b[0;34m\u001b[0m\u001b[0m\n\u001b[0m\u001b[1;32m   2158\u001b[0m         \u001b[0;32mexcept\u001b[0m \u001b[0mStopIteration\u001b[0m\u001b[0;34m:\u001b[0m\u001b[0;34m\u001b[0m\u001b[0;34m\u001b[0m\u001b[0m\n\u001b[1;32m   2159\u001b[0m             \u001b[0;32mif\u001b[0m \u001b[0mself\u001b[0m\u001b[0;34m.\u001b[0m\u001b[0m_first_chunk\u001b[0m\u001b[0;34m:\u001b[0m\u001b[0;34m\u001b[0m\u001b[0;34m\u001b[0m\u001b[0m\n",
            "\u001b[0;32mpandas/_libs/parsers.pyx\u001b[0m in \u001b[0;36mpandas._libs.parsers.TextReader.read\u001b[0;34m()\u001b[0m\n",
            "\u001b[0;32mpandas/_libs/parsers.pyx\u001b[0m in \u001b[0;36mpandas._libs.parsers.TextReader._read_low_memory\u001b[0;34m()\u001b[0m\n",
            "\u001b[0;32mpandas/_libs/parsers.pyx\u001b[0m in \u001b[0;36mpandas._libs.parsers.TextReader._read_rows\u001b[0;34m()\u001b[0m\n",
            "\u001b[0;32mpandas/_libs/parsers.pyx\u001b[0m in \u001b[0;36mpandas._libs.parsers.TextReader._convert_column_data\u001b[0;34m()\u001b[0m\n",
            "\u001b[0;32mpandas/_libs/parsers.pyx\u001b[0m in \u001b[0;36mpandas._libs.parsers.TextReader._convert_tokens\u001b[0;34m()\u001b[0m\n",
            "\u001b[0;32mpandas/_libs/parsers.pyx\u001b[0m in \u001b[0;36mpandas._libs.parsers.TextReader._convert_with_dtype\u001b[0;34m()\u001b[0m\n",
            "\u001b[0;32mpandas/_libs/parsers.pyx\u001b[0m in \u001b[0;36mpandas._libs.parsers.TextReader._string_convert\u001b[0;34m()\u001b[0m\n",
            "\u001b[0;32mpandas/_libs/parsers.pyx\u001b[0m in \u001b[0;36mpandas._libs.parsers._string_box_utf8\u001b[0;34m()\u001b[0m\n",
            "\u001b[0;31mUnicodeDecodeError\u001b[0m: 'utf-8' codec can't decode byte 0xe7 in position 4: invalid continuation byte"
          ]
        }
      ]
    },
    {
      "cell_type": "code",
      "metadata": {
        "colab": {
          "base_uri": "https://localhost:8080/"
        },
        "id": "qQKpOmq2VLgu",
        "outputId": "af0f1261-51f9-4eaa-d758-ed2f75b00a6c"
      },
      "source": [
        "dfNew.groupby(['GENDER'])['EID'].count()"
      ],
      "execution_count": null,
      "outputs": [
        {
          "output_type": "execute_result",
          "data": {
            "text/plain": [
              "GENDER\n",
              "F    38\n",
              "M    64\n",
              "Name: EID, dtype: int64"
            ]
          },
          "metadata": {
            "tags": []
          },
          "execution_count": 129
        }
      ]
    },
    {
      "cell_type": "code",
      "metadata": {
        "colab": {
          "base_uri": "https://localhost:8080/",
          "height": 501
        },
        "id": "4EgFzqXLWsyK",
        "outputId": "10b5511d-3cb0-4935-8b8f-63aeef101f50"
      },
      "source": [
        "dfNew.groupby(['TITLE'])['EID'].count().plot(kind='bar')"
      ],
      "execution_count": null,
      "outputs": [
        {
          "output_type": "execute_result",
          "data": {
            "text/plain": [
              "<matplotlib.axes._subplots.AxesSubplot at 0x7f0cf77b9da0>"
            ]
          },
          "metadata": {
            "tags": []
          },
          "execution_count": 132
        },
        {
          "output_type": "display_data",
          "data": {
            "image/png": "[encoded data removed]",
            "text/plain": [
              "<Figure size 432x288 with 1 Axes>"
            ]
          },
          "metadata": {
            "tags": [],
            "needs_background": "light"
          }
        }
      ]
    }
  ]
}