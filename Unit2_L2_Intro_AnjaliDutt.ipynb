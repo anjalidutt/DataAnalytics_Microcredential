{
  "nbformat": 4,
  "nbformat_minor": 0,
  "metadata": {
    "colab": {
      "name": "Unit2_L2_Intro_AnjaliDutt.ipynb",
      "provenance": [],
      "collapsed_sections": [],
      "authorship_tag": "ABX9TyMyYHJsoVp9ljGlHQ3dj6Ie",
      "include_colab_link": true
    },
    "kernelspec": {
      "name": "python3",
      "display_name": "Python 3"
    }
  },
  "cells": [
    {
      "cell_type": "markdown",
      "metadata": {
        "id": "view-in-github",
        "colab_type": "text"
      },
      "source": [
        "<a href=\"https://colab.research.google.com/github/anjalidutt/DataAnalytics_Microcredential/blob/assignment_one/Unit2_L2_Intro_AnjaliDutt.ipynb\" target=\"_parent\"><img src=\"https://colab.research.google.com/assets/colab-badge.svg\" alt=\"Open In Colab\"/></a>"
      ]
    },
    {
      "cell_type": "markdown",
      "metadata": {
        "id": "KZxS9OrM1WSN"
      },
      "source": [
        "**Name: Anjali Dutt**\r\n",
        "---\r\n",
        "\r\n"
      ]
    },
    {
      "cell_type": "markdown",
      "metadata": {
        "id": "z88G7nS31bau"
      },
      "source": [
        "**Python for Data Analytics**\r\n"
      ]
    },
    {
      "cell_type": "markdown",
      "metadata": {
        "id": "sQRp3nwq1fDm"
      },
      "source": [
        "**Ques 1: What is Python and why is it useful?**"
      ]
    },
    {
      "cell_type": "markdown",
      "metadata": {
        "id": "0HEAIM051krX"
      },
      "source": [
        "Python is a general purpose programming language which is readable(easy interpretation).  It has various powerful libraries that can be used for a wide array of tasks such as data analytics(pandas,numpy,matplotlib) to machine learning(scikit-learn, NLTK, OpenCV etc)"
      ]
    },
    {
      "cell_type": "markdown",
      "metadata": {
        "id": "xbPturTW1sUS"
      },
      "source": [
        "**Ques 2: Are the following variable names allowed in python?**\r\n",
        "* 1_message \r\n",
        "* Greeting_message\r\n",
        "* Message_1\r\n",
        "* First name\r\n",
        "* Full_name\r\n",
        "\r\n"
      ]
    },
    {
      "cell_type": "markdown",
      "metadata": {
        "id": "qTtSwLUZ12LO"
      },
      "source": [
        "* 1_message : Not Allowed(Cannot begin with number)\r\n",
        "* Greeting_message: Allowed\r\n",
        "* Message_1:Allowed\r\n",
        "* First name:Not Allowed(No Spaces)\r\n",
        "* Full_name: Allowed\r\n"
      ]
    },
    {
      "cell_type": "markdown",
      "metadata": {
        "id": "h7DpIN642SVQ"
      },
      "source": [
        "**Ques 3: Create a variable that holds the string “hello there!”**"
      ]
    },
    {
      "cell_type": "code",
      "metadata": {
        "id": "2DgDoUKE1Vus"
      },
      "source": [
        "my_var = \"hello there!\""
      ],
      "execution_count": null,
      "outputs": []
    },
    {
      "cell_type": "markdown",
      "metadata": {
        "id": "N1sjuwCr2W0_"
      },
      "source": [
        "**Ques 4: Create a variable for first name, last name and an email extension.  Concatenating all three together to form an email address.  For example: firstnamelastname@gmail.com**"
      ]
    },
    {
      "cell_type": "code",
      "metadata": {
        "colab": {
          "base_uri": "https://localhost:8080/"
        },
        "id": "wxJDwGDK2dXi",
        "outputId": "abc6a962-ed69-41e7-8eb0-cf0f48423113"
      },
      "source": [
        "first_name =input(\"Enter first name: \")\r\n",
        "last_name = input(\"Enter last name: \")\r\n",
        "email_extension = input(\"Enter email extension: \")\r\n",
        "email_address = first_name + last_name +email_extension \r\n",
        "print(email_address)\r\n"
      ],
      "execution_count": null,
      "outputs": [
        {
          "output_type": "stream",
          "text": [
            "Enter first name: anjAli\n",
            "Enter last name: Dutt\n",
            "Enter email extension: e.mail\n"
          ],
          "name": "stdout"
        }
      ]
    },
    {
      "cell_type": "markdown",
      "metadata": {
        "id": "9zRWjuXW2hJx"
      },
      "source": [
        "**Ques 5: Store someone you know name in a variable called name.  Print their name in lower and uppercase using a method.**"
      ]
    },
    {
      "cell_type": "code",
      "metadata": {
        "colab": {
          "base_uri": "https://localhost:8080/"
        },
        "id": "DW8URf532gbG",
        "outputId": "1f24c6e0-0e8d-47dd-e4a1-2fffaf23a370"
      },
      "source": [
        "my_name = \"Anjali\"\r\n",
        "print(\"lower case: \"+my_name .lower(),\"upper case: \"+my_name .upper(), sep= \"\\n\")\r\n"
      ],
      "execution_count": null,
      "outputs": [
        {
          "output_type": "stream",
          "text": [
            "lower case: anjali\n",
            "upper case: ANJALI\n"
          ],
          "name": "stdout"
        }
      ]
    },
    {
      "cell_type": "markdown",
      "metadata": {
        "id": "koxhJETL20yW"
      },
      "source": [
        "**Ques 6: Using a variable, ask your friend if they want to hang out on the 15th of the month.  For example, “Do you want to hang out on the 15th of this month?”  You should have to convert the number to a string.**"
      ]
    },
    {
      "cell_type": "code",
      "metadata": {
        "colab": {
          "base_uri": "https://localhost:8080/"
        },
        "id": "8fFrKsJd25Ok",
        "outputId": "e78ef842-3639-4fe3-ba09-b4b8a176865a"
      },
      "source": [
        "my_ques = input(\"Do you want to hang out on the 15th  of this month?\")"
      ],
      "execution_count": null,
      "outputs": [
        {
          "output_type": "stream",
          "text": [
            "Do you want to hang out on the 15th  of this month?yes\n"
          ],
          "name": "stdout"
        }
      ]
    }
  ]
}