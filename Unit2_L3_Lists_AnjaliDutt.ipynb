{
  "nbformat": 4,
  "nbformat_minor": 0,
  "metadata": {
    "colab": {
      "name": "Unit2_L3_Lists_AnjaliDutt.ipynb",
      "provenance": [],
      "authorship_tag": "ABX9TyP5sS71NctDbWtLdbhYp0Xg",
      "include_colab_link": true
    },
    "kernelspec": {
      "name": "python3",
      "display_name": "Python 3"
    }
  },
  "cells": [
    {
      "cell_type": "markdown",
      "metadata": {
        "id": "view-in-github",
        "colab_type": "text"
      },
      "source": [
        "<a href=\"https://colab.research.google.com/github/anjalidutt/DataAnalytics_Microcredential/blob/assignment_one/Unit2_L3_Lists_AnjaliDutt.ipynb\" target=\"_parent\"><img src=\"https://colab.research.google.com/assets/colab-badge.svg\" alt=\"Open In Colab\"/></a>"
      ]
    },
    {
      "cell_type": "markdown",
      "metadata": {
        "id": "VG4GsSFUmvTP"
      },
      "source": [
        "**Name: Anjali Dutt**"
      ]
    },
    {
      "cell_type": "markdown",
      "metadata": {
        "id": "mAPI_QLvm3SW"
      },
      "source": [
        "**Lesson 3: Working with Lists**"
      ]
    },
    {
      "cell_type": "markdown",
      "metadata": {
        "id": "U50erIz8nON5"
      },
      "source": [
        "**Ques 1: Create a list of 5 of your favorite tv shows.**  \r\n"
      ]
    },
    {
      "cell_type": "code",
      "metadata": {
        "id": "SaPEd8z2hfzw"
      },
      "source": [
        "favorite_tv_shows = [\"Breaking Bad\", \"Mr Robot\", \"The Office\", \"Black Mirror\", \"Prison Break\"]"
      ],
      "execution_count": null,
      "outputs": []
    },
    {
      "cell_type": "markdown",
      "metadata": {
        "id": "55o3BNgLoKkC"
      },
      "source": [
        "**Ques 2: Print the list in its original order.**\r\n"
      ]
    },
    {
      "cell_type": "code",
      "metadata": {
        "colab": {
          "base_uri": "https://localhost:8080/"
        },
        "id": "ozF0iVfVoOJn",
        "outputId": "c6dba912-c3c8-4a83-ab4b-30296c0d9494"
      },
      "source": [
        "print(favorite_tv_shows)"
      ],
      "execution_count": null,
      "outputs": [
        {
          "output_type": "stream",
          "text": [
            "['Breaking Bad', 'Mr Robot', 'The Office', 'Black Mirror', 'Prison Break']\n"
          ],
          "name": "stdout"
        }
      ]
    },
    {
      "cell_type": "markdown",
      "metadata": {
        "id": "hHJZpJFdoRav"
      },
      "source": [
        "**Ques 3: Use the sorted() function to print the list in alphabetical order.  How is sorted() different from sort()?**\r\n"
      ]
    },
    {
      "cell_type": "markdown",
      "metadata": {
        "id": "SN78AxJhoRXh"
      },
      "source": [
        "sort() sorts the original list, that is modifies the original list, whereas sorted() creates a new variables with the sorted list and therefore does not modify the original list.\r\n",
        "Additonally, sort() does not return any value, while sorted() returns the sorted list.\r\n",
        "There is also a difference in syntax : list.sort() and sorted(list) which indicates tha sort() is a method whereas sorted() is a function"
      ]
    },
    {
      "cell_type": "code",
      "metadata": {
        "colab": {
          "base_uri": "https://localhost:8080/"
        },
        "id": "eeJTe4x-oaPZ",
        "outputId": "47fdd107-8155-48ba-cae0-70225acc468e"
      },
      "source": [
        "print(sorted(favorite_tv_shows))"
      ],
      "execution_count": null,
      "outputs": [
        {
          "output_type": "stream",
          "text": [
            "['Black Mirror', 'Breaking Bad', 'Mr Robot', 'Prison Break', 'The Office']\n"
          ],
          "name": "stdout"
        }
      ]
    },
    {
      "cell_type": "markdown",
      "metadata": {
        "id": "quDR4CyqqMKp"
      },
      "source": [
        "**Ques 4: Print out your original list.**\r\n"
      ]
    },
    {
      "cell_type": "code",
      "metadata": {
        "colab": {
          "base_uri": "https://localhost:8080/"
        },
        "id": "nXBEgjMkqe9E",
        "outputId": "9b0a0a2f-c33f-4b1e-aadc-d81cc5878619"
      },
      "source": [
        "print(favorite_tv_shows)"
      ],
      "execution_count": null,
      "outputs": [
        {
          "output_type": "stream",
          "text": [
            "['Breaking Bad', 'Mr Robot', 'The Office', 'Black Mirror', 'Prison Break']\n"
          ],
          "name": "stdout"
        }
      ]
    },
    {
      "cell_type": "markdown",
      "metadata": {
        "id": "_jI0JTwXqnMg"
      },
      "source": [
        "**Ques 5: Used sorted() to print your list in reverse alphabetical order.** "
      ]
    },
    {
      "cell_type": "code",
      "metadata": {
        "colab": {
          "base_uri": "https://localhost:8080/"
        },
        "id": "jcXWuFtgqqhS",
        "outputId": "4933b8b1-5495-435c-f8b8-43ec7405213b"
      },
      "source": [
        "print(sorted(favorite_tv_shows, reverse=True))"
      ],
      "execution_count": null,
      "outputs": [
        {
          "output_type": "stream",
          "text": [
            "['The Office', 'Prison Break', 'Mr Robot', 'Breaking Bad', 'Black Mirror']\n"
          ],
          "name": "stdout"
        }
      ]
    },
    {
      "cell_type": "markdown",
      "metadata": {
        "id": "LqE61ZFoq3Hf"
      },
      "source": [
        "**Ques 6: Create a message indicating how many favorite TV shows you have – use the len() function.**"
      ]
    },
    {
      "cell_type": "code",
      "metadata": {
        "colab": {
          "base_uri": "https://localhost:8080/"
        },
        "id": "RYY8_L9_q8Ho",
        "outputId": "dd81acb5-2bbb-4afd-8d4c-f36e9b9195e2"
      },
      "source": [
        "print(f\"I have {str(len(favorite_tv_shows))} favorite TV shows\")"
      ],
      "execution_count": null,
      "outputs": [
        {
          "output_type": "stream",
          "text": [
            "I have 5 favorite TV shows\n"
          ],
          "name": "stdout"
        }
      ]
    }
  ]
}