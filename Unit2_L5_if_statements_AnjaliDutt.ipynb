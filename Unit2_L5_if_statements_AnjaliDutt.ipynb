{
  "nbformat": 4,
  "nbformat_minor": 0,
  "metadata": {
    "colab": {
      "name": "Unit2_L5_if statements_AnjaliDutt.ipynb",
      "provenance": [],
      "collapsed_sections": [],
      "authorship_tag": "ABX9TyNuT6THe2lfP1gN4CjN4TaP",
      "include_colab_link": true
    },
    "kernelspec": {
      "name": "python3",
      "display_name": "Python 3"
    }
  },
  "cells": [
    {
      "cell_type": "markdown",
      "metadata": {
        "id": "view-in-github",
        "colab_type": "text"
      },
      "source": [
        "<a href=\"https://colab.research.google.com/github/anjalidutt/DataAnalytics_Microcredential/blob/assignment_three/Unit2_L5_if_statements_AnjaliDutt.ipynb\" target=\"_parent\"><img src=\"https://colab.research.google.com/assets/colab-badge.svg\" alt=\"Open In Colab\"/></a>"
      ]
    },
    {
      "cell_type": "markdown",
      "metadata": {
        "id": "sGdVy9uoSJ3O"
      },
      "source": [
        "\r\n",
        "\r\n",
        "\r\n",
        "**Ques 1: Make a list of 5 or more usernames, including an admin account.  Imagine you are writing code that will welcome people to your application on login. Loop through the list and print your greeting.\r\n",
        "If the admin account logs in, give them a special greeting.  They’re the admin, after all!\r\n",
        "Other users can get the generic greeting**\r\n",
        "\r\n"
      ]
    },
    {
      "cell_type": "code",
      "metadata": {
        "colab": {
          "base_uri": "https://localhost:8080/"
        },
        "id": "CdWhjT4wNRYT",
        "outputId": "48520301-63c7-445b-8fc5-f8a79a921ddd"
      },
      "source": [
        "people_list=[\"admin\",\"user1\",\"user2\",\"user3\",\"user4\"]\r\n",
        "\r\n",
        "for i in people_list:\r\n",
        "  if i==\"admin\":\r\n",
        "    print(\"Welcome. Have a great day!\")\r\n",
        "  else:\r\n",
        "    print(\"Welcome\")"
      ],
      "execution_count": 5,
      "outputs": [
        {
          "output_type": "stream",
          "text": [
            "Welcome. Have a great day!\n",
            "Welcome\n",
            "Welcome\n",
            "Welcome\n",
            "Welcome\n"
          ],
          "name": "stdout"
        }
      ]
    },
    {
      "cell_type": "markdown",
      "metadata": {
        "id": "XuWEIOONSdHB"
      },
      "source": [
        "**Ques 2: Store numbers 1-10 in a list\r\n",
        "Loop through the list\r\n",
        "Use an if-elif-else chain inside your loop to print the ordinal ending for each number – for example – 1st, 2nd, 3rd … etc.**\r\n"
      ]
    },
    {
      "cell_type": "code",
      "metadata": {
        "colab": {
          "base_uri": "https://localhost:8080/"
        },
        "id": "X7bNeScgSgxU",
        "outputId": "58a77520-335a-4e9e-b5cc-8e59b0ecdfb0"
      },
      "source": [
        "my_list= list(range(1,11))\r\n",
        "for i in my_list:\r\n",
        "  if i == 1:\r\n",
        "    print(str(i)+\"st\")\r\n",
        "  elif i==2:\r\n",
        "    print(str(i)+\"nd\")\r\n",
        "  elif i==3:\r\n",
        "    print(str(i)+\"rd\")\r\n",
        "  else:\r\n",
        "    print(str(i)+\"th\")"
      ],
      "execution_count": 3,
      "outputs": [
        {
          "output_type": "stream",
          "text": [
            "1st\n",
            "2nd\n",
            "3rd\n",
            "4th\n",
            "5th\n",
            "6th\n",
            "7th\n",
            "8th\n",
            "9th\n",
            "10th\n"
          ],
          "name": "stdout"
        }
      ]
    }
  ]
}