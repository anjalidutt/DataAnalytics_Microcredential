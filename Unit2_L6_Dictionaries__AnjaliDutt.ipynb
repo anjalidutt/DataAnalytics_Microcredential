{
  "nbformat": 4,
  "nbformat_minor": 0,
  "metadata": {
    "colab": {
      "name": "Unit2_L6_Dictionaries _AnjaliDutt.ipynb",
      "provenance": [],
      "collapsed_sections": [],
      "authorship_tag": "ABX9TyNEfSRCWhiVjUI/CLjknc5B",
      "include_colab_link": true
    },
    "kernelspec": {
      "name": "python3",
      "display_name": "Python 3"
    }
  },
  "cells": [
    {
      "cell_type": "markdown",
      "metadata": {
        "id": "view-in-github",
        "colab_type": "text"
      },
      "source": [
        "<a href=\"https://colab.research.google.com/github/anjalidutt/DataAnalytics_Microcredential/blob/assignment_three/Unit2_L6_Dictionaries__AnjaliDutt.ipynb\" target=\"_parent\"><img src=\"https://colab.research.google.com/assets/colab-badge.svg\" alt=\"Open In Colab\"/></a>"
      ]
    },
    {
      "cell_type": "markdown",
      "metadata": {
        "id": "Ly8XEtQ_TiPu"
      },
      "source": [
        "**1.Create a simple dictionary that stores 2 variables, for example: first and last name.**"
      ]
    },
    {
      "cell_type": "code",
      "metadata": {
        "id": "-_n0LEhNTcmL"
      },
      "source": [
        "name = {\"first_name\":\"Anjali\", \"last_name\":\"Dutt\"}"
      ],
      "execution_count": 12,
      "outputs": []
    },
    {
      "cell_type": "markdown",
      "metadata": {
        "id": "96LxCth2Tz2J"
      },
      "source": [
        "**2. Print out those variables stored in your previous dictionary.**\r\n"
      ]
    },
    {
      "cell_type": "code",
      "metadata": {
        "colab": {
          "base_uri": "https://localhost:8080/"
        },
        "id": "lFWXmjSgT5Dx",
        "outputId": "96a2a582-e750-4664-f427-7afb962c6988"
      },
      "source": [
        "for k,v in name.items():\r\n",
        "  print(k+\": \"+v)"
      ],
      "execution_count": 13,
      "outputs": [
        {
          "output_type": "stream",
          "text": [
            "first_name: Anjali\n",
            "last_name: Dutt\n"
          ],
          "name": "stdout"
        }
      ]
    },
    {
      "cell_type": "markdown",
      "metadata": {
        "id": "gDucOLnvUOpE"
      },
      "source": [
        "**3.Add a message to those variables on printing: for example: “Hello, firstname lastname!”**"
      ]
    },
    {
      "cell_type": "code",
      "metadata": {
        "colab": {
          "base_uri": "https://localhost:8080/"
        },
        "id": "b9LadUqaUQY7",
        "outputId": "3f54dc99-1247-4314-ed05-e61bf11e65b4"
      },
      "source": [
        "print(f'Hello, {name.get(\"first_name\")} {name.get(\"last_name\")}!')"
      ],
      "execution_count": 14,
      "outputs": [
        {
          "output_type": "stream",
          "text": [
            "Hello Anjali Dutt!\n"
          ],
          "name": "stdout"
        }
      ]
    },
    {
      "cell_type": "markdown",
      "metadata": {
        "id": "-NroX5WqVMIM"
      },
      "source": [
        "**4.Create a dictionary that holds 2 key: value pairs:\r\n",
        "Look through your dictionary and print each pair**"
      ]
    },
    {
      "cell_type": "code",
      "metadata": {
        "colab": {
          "base_uri": "https://localhost:8080/"
        },
        "id": "tPmEd7bzVOj2",
        "outputId": "9b63f693-6b66-4052-8875-14d57a0346d0"
      },
      "source": [
        "days={\"day1\":\"mon\",\"day2\":\"tue\"}\r\n",
        "for k,v in days.items():\r\n",
        "  print(k+\": \"+v)"
      ],
      "execution_count": 15,
      "outputs": [
        {
          "output_type": "stream",
          "text": [
            "day1: mon\n",
            "day2: tue\n"
          ],
          "name": "stdout"
        }
      ]
    },
    {
      "cell_type": "markdown",
      "metadata": {
        "id": "s4lpeZfWVlhm"
      },
      "source": [
        "**Create a nested dictionary containing three dictionaries – these dictionaries could be anything (favorite pets, travel locations, etc.)\r\n",
        "Loop through the dictionaries and print a message for each.**"
      ]
    },
    {
      "cell_type": "code",
      "metadata": {
        "colab": {
          "base_uri": "https://localhost:8080/"
        },
        "id": "6HUAyqpgVptd",
        "outputId": "86abab79-c695-47c7-81ba-317f6941a860"
      },
      "source": [
        "countries={\"Asia\":{\"South Asia\":\"India\", \"East Asia\":\"Japan\", \"Middle East\":\"UAE\"}, \"Europe\":{\"East Europe\":\"Russia\",\"West Europe\":\"France\"} ,\"Americas\":{\"North America\":\"USA\",\"South America\":\"Brazil\"}}\r\n",
        "for k in countries.keys():\r\n",
        "  for i,j in countries[k].items():\r\n",
        "    print(f'{j} is a country in the {i} region of {k}')"
      ],
      "execution_count": 18,
      "outputs": [
        {
          "output_type": "stream",
          "text": [
            "India is a country in the South Asia region of Asia\n",
            "Japan is a country in the East Asia region of Asia\n",
            "UAE is a country in the Middle East region of Asia\n",
            "Russia is a country in the East Europe region of Europe\n",
            "France is a country in the West Europe region of Europe\n",
            "USA is a country in the North America region of Americas\n",
            "Brazil is a country in the South America region of Americas\n"
          ],
          "name": "stdout"
        }
      ]
    }
  ]
}