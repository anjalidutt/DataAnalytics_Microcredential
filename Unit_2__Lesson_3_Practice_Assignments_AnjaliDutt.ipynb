{
  "nbformat": 4,
  "nbformat_minor": 0,
  "metadata": {
    "colab": {
      "name": "Unit 2 _Lesson 3_Practice Assignments_AnjaliDutt.ipynb",
      "provenance": [],
      "collapsed_sections": [],
      "authorship_tag": "ABX9TyMBgP9Qdmxhicu9fdNp8Lgj",
      "include_colab_link": true
    },
    "kernelspec": {
      "name": "python3",
      "display_name": "Python 3"
    }
  },
  "cells": [
    {
      "cell_type": "markdown",
      "metadata": {
        "id": "view-in-github",
        "colab_type": "text"
      },
      "source": [
        "<a href=\"https://colab.research.google.com/github/anjalidutt/DataAnalytics_Microcredential/blob/assignment_one/Unit_2__Lesson_3_Practice_Assignments_AnjaliDutt.ipynb\" target=\"_parent\"><img src=\"https://colab.research.google.com/assets/colab-badge.svg\" alt=\"Open In Colab\"/></a>"
      ]
    },
    {
      "cell_type": "markdown",
      "metadata": {
        "id": "BAfVVnzhHvtk"
      },
      "source": [
        "**Unit 2 – Lesson 4**"
      ]
    },
    {
      "cell_type": "markdown",
      "metadata": {
        "id": "tl6SRIlFHyGz"
      },
      "source": [
        "**Practice Assignments**"
      ]
    },
    {
      "cell_type": "markdown",
      "metadata": {
        "id": "QAqiJfhTH3jF"
      },
      "source": [
        "**Ques 1:\tWrite a Python program to construct the following pattern, using a nested for loop.**\r\n",
        "\r\n",
        "```\r\n",
        "\r\n",
        "* \r\n",
        "* * \r\n",
        "* * * \r\n",
        "* * * * \r\n",
        "* * * * * \r\n",
        "* * * * \r\n",
        "* * * \r\n",
        "* * \r\n",
        "*\r\n",
        "\r\n",
        "```\r\n",
        "\r\n"
      ]
    },
    {
      "cell_type": "code",
      "metadata": {
        "colab": {
          "base_uri": "https://localhost:8080/"
        },
        "id": "S1HvlZLyHufi",
        "outputId": "ef18fad8-41a0-4f63-e2d0-70bf651a423f"
      },
      "source": [
        "for i in range(1,-1,-1):\r\n",
        "  for j in range(5):\r\n",
        "    print('* '*(j*i + (5-j)*(1-i)))  #(j*i + (5-j)-i*(5-j))\r\n"
      ],
      "execution_count": 45,
      "outputs": [
        {
          "output_type": "stream",
          "text": [
            "\n",
            "* \n",
            "* * \n",
            "* * * \n",
            "* * * * \n",
            "* * * * * \n",
            "* * * * \n",
            "* * * \n",
            "* * \n",
            "* \n"
          ],
          "name": "stdout"
        }
      ]
    },
    {
      "cell_type": "markdown",
      "metadata": {
        "id": "xbSW-3h0JJIm"
      },
      "source": [
        "**Ques 2:\tWrite a Python program that accepts a word from the user and reverse it. Hint: use range() function**"
      ]
    },
    {
      "cell_type": "code",
      "metadata": {
        "colab": {
          "base_uri": "https://localhost:8080/"
        },
        "id": "4wPNuUTRJQMw",
        "outputId": "e2a060ca-816f-4c92-9235-b5935ebd78de"
      },
      "source": [
        "word = input('Enter a word: ')\r\n",
        "new_word=''\r\n",
        "for i in range(len(word)):\r\n",
        "  new_word += word[len(word)-i-1]\r\n",
        "print(new_word)\r\n"
      ],
      "execution_count": 14,
      "outputs": [
        {
          "output_type": "stream",
          "text": [
            "Enter a word: anjali\n",
            "ilajna\n"
          ],
          "name": "stdout"
        }
      ]
    },
    {
      "cell_type": "markdown",
      "metadata": {
        "id": "sov4IK-GJ7K7"
      },
      "source": [
        "**Ques 3: Write a Python program that prints all the numbers from 0 to 6 except 3 and 6.\r\n",
        " Note : Use 'continue' statement.\r\n",
        "Expected Output : 0 1 2 4 5**\r\n"
      ]
    },
    {
      "cell_type": "code",
      "metadata": {
        "colab": {
          "base_uri": "https://localhost:8080/"
        },
        "id": "pGXWgOuiKBjw",
        "outputId": "fed789fe-7758-417c-fb5e-09631b8d977d"
      },
      "source": [
        "for i in range(6):\r\n",
        "  if i==3:\r\n",
        "    continue\r\n",
        "  print(i, end=' ')"
      ],
      "execution_count": 15,
      "outputs": [
        {
          "output_type": "stream",
          "text": [
            "0 1 2 4 5 "
          ],
          "name": "stdout"
        }
      ]
    },
    {
      "cell_type": "markdown",
      "metadata": {
        "id": "eJ9j0NOJKOIb"
      },
      "source": [
        "**Ques 4: Write a Python program to calculate a dog's age in dog's years. Go to the editor\r\n",
        "Note: For the first two years, a dog year is equal to 10.5 human years. After that, each dog year equals 4 human years.\r\n",
        " Expected Output:\r\n",
        "Input a dog's age in human years: 15                                    \r\n",
        "The dog's age in dog's years is 73**"
      ]
    },
    {
      "cell_type": "code",
      "metadata": {
        "colab": {
          "base_uri": "https://localhost:8080/"
        },
        "id": "gqYt-I_GMScl",
        "outputId": "85af3385-c4eb-45c0-a3fc-82c7a7973b07"
      },
      "source": [
        "dog_humanAge = int(input(\"Input a dog's age in human years: \")) \r\n",
        "dog_dogAge=0\r\n",
        "dog_dogAge = max((dog_humanAge-2)*4,0) +10.5*min(2, dog_humanAge)\r\n",
        "print(f\"The dog's age in dog's years is {dog_dogAge}\") \r\n"
      ],
      "execution_count": 51,
      "outputs": [
        {
          "output_type": "stream",
          "text": [
            "Input a dog's age in human years: 15\n",
            "The dog's age in dog's years is 73.0\n"
          ],
          "name": "stdout"
        }
      ]
    }
  ]
}