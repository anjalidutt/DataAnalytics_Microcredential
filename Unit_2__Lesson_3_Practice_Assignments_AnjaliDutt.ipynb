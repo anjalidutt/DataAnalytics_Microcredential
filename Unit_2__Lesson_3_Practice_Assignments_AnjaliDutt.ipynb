{
  "nbformat": 4,
  "nbformat_minor": 0,
  "metadata": {
    "colab": {
      "name": "Unit 2 _Lesson 3_Practice Assignments_AnjaliDutt.ipynb",
      "provenance": [],
      "collapsed_sections": [],
      "authorship_tag": "ABX9TyNWvtoiEaLB0hpASghSEakp",
      "include_colab_link": true
    },
    "kernelspec": {
      "name": "python3",
      "display_name": "Python 3"
    }
  },
  "cells": [
    {
      "cell_type": "markdown",
      "metadata": {
        "id": "view-in-github",
        "colab_type": "text"
      },
      "source": [
        "<a href=\"https://colab.research.google.com/github/anjalidutt/DataAnalytics_Microcredential/blob/assignment_one/Unit_2__Lesson_3_Practice_Assignments_AnjaliDutt.ipynb\" target=\"_parent\"><img src=\"https://colab.research.google.com/assets/colab-badge.svg\" alt=\"Open In Colab\"/></a>"
      ]
    },
    {
      "cell_type": "markdown",
      "metadata": {
        "id": "BAfVVnzhHvtk"
      },
      "source": [
        "**Unit 2 – Lesson 4**"
      ]
    },
    {
      "cell_type": "markdown",
      "metadata": {
        "id": "tl6SRIlFHyGz"
      },
      "source": [
        "**Practice Assignments**"
      ]
    },
    {
      "cell_type": "markdown",
      "metadata": {
        "id": "QAqiJfhTH3jF"
      },
      "source": [
        "**Ques 1:\tWrite a Python program to construct the following pattern, using a nested for loop.**\r\n",
        "\r\n",
        "```\r\n",
        "\r\n",
        "* \r\n",
        "* * \r\n",
        "* * * \r\n",
        "* * * * \r\n",
        "* * * * * \r\n",
        "* * * * \r\n",
        "* * * \r\n",
        "* * \r\n",
        "*\r\n",
        "\r\n",
        "```\r\n",
        "\r\n"
      ]
    },
    {
      "cell_type": "markdown",
      "metadata": {
        "id": "uCXpbBitehx1"
      },
      "source": [
        ""
      ]
    },
    {
      "cell_type": "code",
      "metadata": {
        "colab": {
          "base_uri": "https://localhost:8080/"
        },
        "id": "S1HvlZLyHufi",
        "outputId": "ef18fad8-41a0-4f63-e2d0-70bf651a423f"
      },
      "source": [
        "for i in range(1,-1,-1):\r\n",
        "  for j in range(5):\r\n",
        "    print('* '*(j*i + (5-j)*(1-i)))  #(j*i + (5-j)-i*(5-j))\r\n"
      ],
      "execution_count": 45,
      "outputs": [
        {
          "output_type": "stream",
          "text": [
            "\n",
            "* \n",
            "* * \n",
            "* * * \n",
            "* * * * \n",
            "* * * * * \n",
            "* * * * \n",
            "* * * \n",
            "* * \n",
            "* \n"
          ],
          "name": "stdout"
        }
      ]
    },
    {
      "cell_type": "markdown",
      "metadata": {
        "id": "xbSW-3h0JJIm"
      },
      "source": [
        "**Ques 2:\tWrite a Python program that accepts a word from the user and reverse it. Hint: use range() function**"
      ]
    },
    {
      "cell_type": "code",
      "metadata": {
        "colab": {
          "base_uri": "https://localhost:8080/"
        },
        "id": "4wPNuUTRJQMw",
        "outputId": "066be3c6-2b8a-4ae4-c6d8-8fb79971a5b3"
      },
      "source": [
        "word = input('Enter a word: ')\r\n",
        "for i in range(len(word)-1,-1,-1):\r\n",
        "  print(word[i], end='')\r\n"
      ],
      "execution_count": 56,
      "outputs": [
        {
          "output_type": "stream",
          "text": [
            "Enter a word: anjali\n",
            "ilajna"
          ],
          "name": "stdout"
        }
      ]
    },
    {
      "cell_type": "code",
      "metadata": {
        "colab": {
          "base_uri": "https://localhost:8080/"
        },
        "id": "CpYYflqlUjEy",
        "outputId": "3528632a-5b65-4fd9-f7bf-180e02aa8ced"
      },
      "source": [
        "#Using slice\r\n",
        "word = input('Enter a word: ')\r\n",
        "print(word[::-1])"
      ],
      "execution_count": 53,
      "outputs": [
        {
          "output_type": "stream",
          "text": [
            "Enter a word: anjali\n",
            "ilajna\n"
          ],
          "name": "stdout"
        }
      ]
    },
    {
      "cell_type": "markdown",
      "metadata": {
        "id": "sov4IK-GJ7K7"
      },
      "source": [
        "**Ques 3: Write a Python program that prints all the numbers from 0 to 6 except 3 and 6.\r\n",
        " Note : Use 'continue' statement.\r\n",
        "Expected Output : 0 1 2 4 5**\r\n"
      ]
    },
    {
      "cell_type": "code",
      "metadata": {
        "colab": {
          "base_uri": "https://localhost:8080/"
        },
        "id": "pGXWgOuiKBjw",
        "outputId": "fed789fe-7758-417c-fb5e-09631b8d977d"
      },
      "source": [
        "for i in range(6):\r\n",
        "  if i==3:\r\n",
        "    continue\r\n",
        "  print(i, end=' ')"
      ],
      "execution_count": 15,
      "outputs": [
        {
          "output_type": "stream",
          "text": [
            "0 1 2 4 5 "
          ],
          "name": "stdout"
        }
      ]
    },
    {
      "cell_type": "markdown",
      "metadata": {
        "id": "eJ9j0NOJKOIb"
      },
      "source": [
        "**Ques 4: Write a Python program to calculate a dog's age in dog's years. Go to the editor\r\n",
        "Note: For the first two years, a dog year is equal to 10.5 human years. After that, each dog year equals 4 human years.\r\n",
        " Expected Output:\r\n",
        "Input a dog's age in human years: 15                                    \r\n",
        "The dog's age in dog's years is 73**"
      ]
    },
    {
      "cell_type": "code",
      "metadata": {
        "colab": {
          "base_uri": "https://localhost:8080/"
        },
        "id": "gqYt-I_GMScl",
        "outputId": "cc4c59ba-7463-4375-e805-9bb81b286771"
      },
      "source": [
        "dog_humanAge = int(input(\"Input a dog's age in human years: \")) \r\n",
        "dog_dogAge = max((dog_humanAge-2)*4,0) +10.5*min(2, dog_humanAge)\r\n",
        "print(f\"The dog's age in dog's years is {dog_dogAge}\") \r\n"
      ],
      "execution_count": 57,
      "outputs": [
        {
          "output_type": "stream",
          "text": [
            "Input a dog's age in human years: 0\n",
            "The dog's age in dog's years is 0.0\n"
          ],
          "name": "stdout"
        }
      ]
    },
    {
      "cell_type": "markdown",
      "metadata": {
        "id": "spDrDrwQejqU"
      },
      "source": [
        "**Ques 5: # admission prices are as follows:**\r\n",
        "\r\n",
        "\r\n",
        "```\r\n",
        "\r\n",
        "age < 5 free\r\n",
        "age >= 5 < 15  10.00\r\n",
        "age >= 15 < 21 15.00\r\n",
        "everyone else is 20.00\r\n",
        "\r\n",
        "input the age\r\n",
        "input the quantity\r\n",
        "print out total cost of tickets\r\n",
        "```"
      ]
    },
    {
      "cell_type": "code",
      "metadata": {
        "colab": {
          "base_uri": "https://localhost:8080/"
        },
        "id": "ey7Edh4keoxM",
        "outputId": "2f117ce8-c061-4474-8484-32c0ae78a371"
      },
      "source": [
        "age = (float(input('Enter your age: ')))\r\n",
        "if age<5:\r\n",
        "  print(\"Cost: Free\")\r\n",
        "elif age<15:\r\n",
        "  print(\"Cost: $10.00\")\r\n",
        "elif age<21:\r\n",
        "  print(\"Cost: $15.00\")\r\n",
        "else:\r\n",
        "  print(\"Cost: $20.00\")"
      ],
      "execution_count": 64,
      "outputs": [
        {
          "output_type": "stream",
          "text": [
            "Enter your age: 12\n",
            "Cost: $10.00\n"
          ],
          "name": "stdout"
        }
      ]
    }
  ]
}