{
  "nbformat": 4,
  "nbformat_minor": 0,
  "metadata": {
    "colab": {
      "name": "assignment10.ipynb",
      "provenance": [],
      "authorship_tag": "ABX9TyPe+6zMlQpRdOegGGlg7BXw",
      "include_colab_link": true
    },
    "kernelspec": {
      "name": "python3",
      "display_name": "Python 3"
    }
  },
  "cells": [
    {
      "cell_type": "markdown",
      "metadata": {
        "id": "view-in-github",
        "colab_type": "text"
      },
      "source": [
        "<a href=\"https://colab.research.google.com/github/anjalidutt/DataAnalytics_Microcredential/blob/assignment_10/assignment10.ipynb\" target=\"_parent\"><img src=\"https://colab.research.google.com/assets/colab-badge.svg\" alt=\"Open In Colab\"/></a>"
      ]
    },
    {
      "cell_type": "code",
      "metadata": {
        "id": "XWPP0D4Iudxr"
      },
      "source": [
        "import seaborn as sns\r\n",
        "%matplotlib inline"
      ],
      "execution_count": null,
      "outputs": []
    },
    {
      "cell_type": "code",
      "metadata": {
        "colab": {
          "base_uri": "https://localhost:8080/",
          "height": 669
        },
        "id": "c8FFBcg0uofz",
        "outputId": "550f25b1-7253-42d9-ce4f-dc6dcb3dd42b"
      },
      "source": [
        "import pandas as pd\r\n",
        "pd.set_option('display.max_rows',999)\r\n",
        "df=pd.DataFrame()\r\n",
        "df=sns.load_dataset('tips')\r\n",
        "df.sort_values(by=['total_bill'],inplace=True)\r\n",
        "df.head(20)"
      ],
      "execution_count": null,
      "outputs": [
        {
          "output_type": "execute_result",
          "data": {
            "text/html": [
              "<div>\n",
              "<style scoped>\n",
              "    .dataframe tbody tr th:only-of-type {\n",
              "        vertical-align: middle;\n",
              "    }\n",
              "\n",
              "    .dataframe tbody tr th {\n",
              "        vertical-align: top;\n",
              "    }\n",
              "\n",
              "    .dataframe thead th {\n",
              "        text-align: right;\n",
              "    }\n",
              "</style>\n",
              "<table border=\"1\" class=\"dataframe\">\n",
              "  <thead>\n",
              "    <tr style=\"text-align: right;\">\n",
              "      <th></th>\n",
              "      <th>total_bill</th>\n",
              "      <th>tip</th>\n",
              "      <th>sex</th>\n",
              "      <th>smoker</th>\n",
              "      <th>day</th>\n",
              "      <th>time</th>\n",
              "      <th>size</th>\n",
              "    </tr>\n",
              "  </thead>\n",
              "  <tbody>\n",
              "    <tr>\n",
              "      <th>67</th>\n",
              "      <td>3.07</td>\n",
              "      <td>1.00</td>\n",
              "      <td>Female</td>\n",
              "      <td>Yes</td>\n",
              "      <td>Sat</td>\n",
              "      <td>Dinner</td>\n",
              "      <td>1</td>\n",
              "    </tr>\n",
              "    <tr>\n",
              "      <th>92</th>\n",
              "      <td>5.75</td>\n",
              "      <td>1.00</td>\n",
              "      <td>Female</td>\n",
              "      <td>Yes</td>\n",
              "      <td>Fri</td>\n",
              "      <td>Dinner</td>\n",
              "      <td>2</td>\n",
              "    </tr>\n",
              "    <tr>\n",
              "      <th>111</th>\n",
              "      <td>7.25</td>\n",
              "      <td>1.00</td>\n",
              "      <td>Female</td>\n",
              "      <td>No</td>\n",
              "      <td>Sat</td>\n",
              "      <td>Dinner</td>\n",
              "      <td>1</td>\n",
              "    </tr>\n",
              "    <tr>\n",
              "      <th>172</th>\n",
              "      <td>7.25</td>\n",
              "      <td>5.15</td>\n",
              "      <td>Male</td>\n",
              "      <td>Yes</td>\n",
              "      <td>Sun</td>\n",
              "      <td>Dinner</td>\n",
              "      <td>2</td>\n",
              "    </tr>\n",
              "    <tr>\n",
              "      <th>149</th>\n",
              "      <td>7.51</td>\n",
              "      <td>2.00</td>\n",
              "      <td>Male</td>\n",
              "      <td>No</td>\n",
              "      <td>Thur</td>\n",
              "      <td>Lunch</td>\n",
              "      <td>2</td>\n",
              "    </tr>\n",
              "    <tr>\n",
              "      <th>195</th>\n",
              "      <td>7.56</td>\n",
              "      <td>1.44</td>\n",
              "      <td>Male</td>\n",
              "      <td>No</td>\n",
              "      <td>Thur</td>\n",
              "      <td>Lunch</td>\n",
              "      <td>2</td>\n",
              "    </tr>\n",
              "    <tr>\n",
              "      <th>218</th>\n",
              "      <td>7.74</td>\n",
              "      <td>1.44</td>\n",
              "      <td>Male</td>\n",
              "      <td>Yes</td>\n",
              "      <td>Sat</td>\n",
              "      <td>Dinner</td>\n",
              "      <td>2</td>\n",
              "    </tr>\n",
              "    <tr>\n",
              "      <th>145</th>\n",
              "      <td>8.35</td>\n",
              "      <td>1.50</td>\n",
              "      <td>Female</td>\n",
              "      <td>No</td>\n",
              "      <td>Thur</td>\n",
              "      <td>Lunch</td>\n",
              "      <td>2</td>\n",
              "    </tr>\n",
              "    <tr>\n",
              "      <th>135</th>\n",
              "      <td>8.51</td>\n",
              "      <td>1.25</td>\n",
              "      <td>Female</td>\n",
              "      <td>No</td>\n",
              "      <td>Thur</td>\n",
              "      <td>Lunch</td>\n",
              "      <td>2</td>\n",
              "    </tr>\n",
              "    <tr>\n",
              "      <th>126</th>\n",
              "      <td>8.52</td>\n",
              "      <td>1.48</td>\n",
              "      <td>Male</td>\n",
              "      <td>No</td>\n",
              "      <td>Thur</td>\n",
              "      <td>Lunch</td>\n",
              "      <td>2</td>\n",
              "    </tr>\n",
              "    <tr>\n",
              "      <th>222</th>\n",
              "      <td>8.58</td>\n",
              "      <td>1.92</td>\n",
              "      <td>Male</td>\n",
              "      <td>Yes</td>\n",
              "      <td>Fri</td>\n",
              "      <td>Lunch</td>\n",
              "      <td>1</td>\n",
              "    </tr>\n",
              "    <tr>\n",
              "      <th>6</th>\n",
              "      <td>8.77</td>\n",
              "      <td>2.00</td>\n",
              "      <td>Male</td>\n",
              "      <td>No</td>\n",
              "      <td>Sun</td>\n",
              "      <td>Dinner</td>\n",
              "      <td>2</td>\n",
              "    </tr>\n",
              "    <tr>\n",
              "      <th>30</th>\n",
              "      <td>9.55</td>\n",
              "      <td>1.45</td>\n",
              "      <td>Male</td>\n",
              "      <td>No</td>\n",
              "      <td>Sat</td>\n",
              "      <td>Dinner</td>\n",
              "      <td>2</td>\n",
              "    </tr>\n",
              "    <tr>\n",
              "      <th>178</th>\n",
              "      <td>9.60</td>\n",
              "      <td>4.00</td>\n",
              "      <td>Female</td>\n",
              "      <td>Yes</td>\n",
              "      <td>Sun</td>\n",
              "      <td>Dinner</td>\n",
              "      <td>2</td>\n",
              "    </tr>\n",
              "    <tr>\n",
              "      <th>43</th>\n",
              "      <td>9.68</td>\n",
              "      <td>1.32</td>\n",
              "      <td>Male</td>\n",
              "      <td>No</td>\n",
              "      <td>Sun</td>\n",
              "      <td>Dinner</td>\n",
              "      <td>2</td>\n",
              "    </tr>\n",
              "    <tr>\n",
              "      <th>148</th>\n",
              "      <td>9.78</td>\n",
              "      <td>1.73</td>\n",
              "      <td>Male</td>\n",
              "      <td>No</td>\n",
              "      <td>Thur</td>\n",
              "      <td>Lunch</td>\n",
              "      <td>2</td>\n",
              "    </tr>\n",
              "    <tr>\n",
              "      <th>53</th>\n",
              "      <td>9.94</td>\n",
              "      <td>1.56</td>\n",
              "      <td>Male</td>\n",
              "      <td>No</td>\n",
              "      <td>Sun</td>\n",
              "      <td>Dinner</td>\n",
              "      <td>2</td>\n",
              "    </tr>\n",
              "    <tr>\n",
              "      <th>235</th>\n",
              "      <td>10.07</td>\n",
              "      <td>1.25</td>\n",
              "      <td>Male</td>\n",
              "      <td>No</td>\n",
              "      <td>Sat</td>\n",
              "      <td>Dinner</td>\n",
              "      <td>2</td>\n",
              "    </tr>\n",
              "    <tr>\n",
              "      <th>82</th>\n",
              "      <td>10.07</td>\n",
              "      <td>1.83</td>\n",
              "      <td>Female</td>\n",
              "      <td>No</td>\n",
              "      <td>Thur</td>\n",
              "      <td>Lunch</td>\n",
              "      <td>1</td>\n",
              "    </tr>\n",
              "    <tr>\n",
              "      <th>226</th>\n",
              "      <td>10.09</td>\n",
              "      <td>2.00</td>\n",
              "      <td>Female</td>\n",
              "      <td>Yes</td>\n",
              "      <td>Fri</td>\n",
              "      <td>Lunch</td>\n",
              "      <td>2</td>\n",
              "    </tr>\n",
              "  </tbody>\n",
              "</table>\n",
              "</div>"
            ],
            "text/plain": [
              "     total_bill   tip     sex smoker   day    time  size\n",
              "67         3.07  1.00  Female    Yes   Sat  Dinner     1\n",
              "92         5.75  1.00  Female    Yes   Fri  Dinner     2\n",
              "111        7.25  1.00  Female     No   Sat  Dinner     1\n",
              "172        7.25  5.15    Male    Yes   Sun  Dinner     2\n",
              "149        7.51  2.00    Male     No  Thur   Lunch     2\n",
              "195        7.56  1.44    Male     No  Thur   Lunch     2\n",
              "218        7.74  1.44    Male    Yes   Sat  Dinner     2\n",
              "145        8.35  1.50  Female     No  Thur   Lunch     2\n",
              "135        8.51  1.25  Female     No  Thur   Lunch     2\n",
              "126        8.52  1.48    Male     No  Thur   Lunch     2\n",
              "222        8.58  1.92    Male    Yes   Fri   Lunch     1\n",
              "6          8.77  2.00    Male     No   Sun  Dinner     2\n",
              "30         9.55  1.45    Male     No   Sat  Dinner     2\n",
              "178        9.60  4.00  Female    Yes   Sun  Dinner     2\n",
              "43         9.68  1.32    Male     No   Sun  Dinner     2\n",
              "148        9.78  1.73    Male     No  Thur   Lunch     2\n",
              "53         9.94  1.56    Male     No   Sun  Dinner     2\n",
              "235       10.07  1.25    Male     No   Sat  Dinner     2\n",
              "82        10.07  1.83  Female     No  Thur   Lunch     1\n",
              "226       10.09  2.00  Female    Yes   Fri   Lunch     2"
            ]
          },
          "metadata": {
            "tags": []
          },
          "execution_count": 6
        }
      ]
    },
    {
      "cell_type": "code",
      "metadata": {
        "id": "vqtFTNM8v9oN"
      },
      "source": [
        ""
      ],
      "execution_count": null,
      "outputs": []
    },
    {
      "cell_type": "code",
      "metadata": {
        "colab": {
          "base_uri": "https://localhost:8080/",
          "height": 1000
        },
        "id": "rF-YsBmwv-RZ",
        "outputId": "11528181-186f-4112-c313-216095c6e3b6"
      },
      "source": [
        "tips= sns.load_dataset('tips')\r\n",
        "tips\r\n"
      ],
      "execution_count": null,
      "outputs": [
        {
          "output_type": "execute_result",
          "data": {
            "text/html": [
              "<div>\n",
              "<style scoped>\n",
              "    .dataframe tbody tr th:only-of-type {\n",
              "        vertical-align: middle;\n",
              "    }\n",
              "\n",
              "    .dataframe tbody tr th {\n",
              "        vertical-align: top;\n",
              "    }\n",
              "\n",
              "    .dataframe thead th {\n",
              "        text-align: right;\n",
              "    }\n",
              "</style>\n",
              "<table border=\"1\" class=\"dataframe\">\n",
              "  <thead>\n",
              "    <tr style=\"text-align: right;\">\n",
              "      <th></th>\n",
              "      <th>total_bill</th>\n",
              "      <th>tip</th>\n",
              "      <th>sex</th>\n",
              "      <th>smoker</th>\n",
              "      <th>day</th>\n",
              "      <th>time</th>\n",
              "      <th>size</th>\n",
              "    </tr>\n",
              "  </thead>\n",
              "  <tbody>\n",
              "    <tr>\n",
              "      <th>0</th>\n",
              "      <td>16.99</td>\n",
              "      <td>1.01</td>\n",
              "      <td>Female</td>\n",
              "      <td>No</td>\n",
              "      <td>Sun</td>\n",
              "      <td>Dinner</td>\n",
              "      <td>2</td>\n",
              "    </tr>\n",
              "    <tr>\n",
              "      <th>1</th>\n",
              "      <td>10.34</td>\n",
              "      <td>1.66</td>\n",
              "      <td>Male</td>\n",
              "      <td>No</td>\n",
              "      <td>Sun</td>\n",
              "      <td>Dinner</td>\n",
              "      <td>3</td>\n",
              "    </tr>\n",
              "    <tr>\n",
              "      <th>2</th>\n",
              "      <td>21.01</td>\n",
              "      <td>3.50</td>\n",
              "      <td>Male</td>\n",
              "      <td>No</td>\n",
              "      <td>Sun</td>\n",
              "      <td>Dinner</td>\n",
              "      <td>3</td>\n",
              "    </tr>\n",
              "    <tr>\n",
              "      <th>3</th>\n",
              "      <td>23.68</td>\n",
              "      <td>3.31</td>\n",
              "      <td>Male</td>\n",
              "      <td>No</td>\n",
              "      <td>Sun</td>\n",
              "      <td>Dinner</td>\n",
              "      <td>2</td>\n",
              "    </tr>\n",
              "    <tr>\n",
              "      <th>4</th>\n",
              "      <td>24.59</td>\n",
              "      <td>3.61</td>\n",
              "      <td>Female</td>\n",
              "      <td>No</td>\n",
              "      <td>Sun</td>\n",
              "      <td>Dinner</td>\n",
              "      <td>4</td>\n",
              "    </tr>\n",
              "    <tr>\n",
              "      <th>5</th>\n",
              "      <td>25.29</td>\n",
              "      <td>4.71</td>\n",
              "      <td>Male</td>\n",
              "      <td>No</td>\n",
              "      <td>Sun</td>\n",
              "      <td>Dinner</td>\n",
              "      <td>4</td>\n",
              "    </tr>\n",
              "    <tr>\n",
              "      <th>6</th>\n",
              "      <td>8.77</td>\n",
              "      <td>2.00</td>\n",
              "      <td>Male</td>\n",
              "      <td>No</td>\n",
              "      <td>Sun</td>\n",
              "      <td>Dinner</td>\n",
              "      <td>2</td>\n",
              "    </tr>\n",
              "    <tr>\n",
              "      <th>7</th>\n",
              "      <td>26.88</td>\n",
              "      <td>3.12</td>\n",
              "      <td>Male</td>\n",
              "      <td>No</td>\n",
              "      <td>Sun</td>\n",
              "      <td>Dinner</td>\n",
              "      <td>4</td>\n",
              "    </tr>\n",
              "    <tr>\n",
              "      <th>8</th>\n",
              "      <td>15.04</td>\n",
              "      <td>1.96</td>\n",
              "      <td>Male</td>\n",
              "      <td>No</td>\n",
              "      <td>Sun</td>\n",
              "      <td>Dinner</td>\n",
              "      <td>2</td>\n",
              "    </tr>\n",
              "    <tr>\n",
              "      <th>9</th>\n",
              "      <td>14.78</td>\n",
              "      <td>3.23</td>\n",
              "      <td>Male</td>\n",
              "      <td>No</td>\n",
              "      <td>Sun</td>\n",
              "      <td>Dinner</td>\n",
              "      <td>2</td>\n",
              "    </tr>\n",
              "    <tr>\n",
              "      <th>10</th>\n",
              "      <td>10.27</td>\n",
              "      <td>1.71</td>\n",
              "      <td>Male</td>\n",
              "      <td>No</td>\n",
              "      <td>Sun</td>\n",
              "      <td>Dinner</td>\n",
              "      <td>2</td>\n",
              "    </tr>\n",
              "    <tr>\n",
              "      <th>11</th>\n",
              "      <td>35.26</td>\n",
              "      <td>5.00</td>\n",
              "      <td>Female</td>\n",
              "      <td>No</td>\n",
              "      <td>Sun</td>\n",
              "      <td>Dinner</td>\n",
              "      <td>4</td>\n",
              "    </tr>\n",
              "    <tr>\n",
              "      <th>12</th>\n",
              "      <td>15.42</td>\n",
              "      <td>1.57</td>\n",
              "      <td>Male</td>\n",
              "      <td>No</td>\n",
              "      <td>Sun</td>\n",
              "      <td>Dinner</td>\n",
              "      <td>2</td>\n",
              "    </tr>\n",
              "    <tr>\n",
              "      <th>13</th>\n",
              "      <td>18.43</td>\n",
              "      <td>3.00</td>\n",
              "      <td>Male</td>\n",
              "      <td>No</td>\n",
              "      <td>Sun</td>\n",
              "      <td>Dinner</td>\n",
              "      <td>4</td>\n",
              "    </tr>\n",
              "    <tr>\n",
              "      <th>14</th>\n",
              "      <td>14.83</td>\n",
              "      <td>3.02</td>\n",
              "      <td>Female</td>\n",
              "      <td>No</td>\n",
              "      <td>Sun</td>\n",
              "      <td>Dinner</td>\n",
              "      <td>2</td>\n",
              "    </tr>\n",
              "    <tr>\n",
              "      <th>15</th>\n",
              "      <td>21.58</td>\n",
              "      <td>3.92</td>\n",
              "      <td>Male</td>\n",
              "      <td>No</td>\n",
              "      <td>Sun</td>\n",
              "      <td>Dinner</td>\n",
              "      <td>2</td>\n",
              "    </tr>\n",
              "    <tr>\n",
              "      <th>16</th>\n",
              "      <td>10.33</td>\n",
              "      <td>1.67</td>\n",
              "      <td>Female</td>\n",
              "      <td>No</td>\n",
              "      <td>Sun</td>\n",
              "      <td>Dinner</td>\n",
              "      <td>3</td>\n",
              "    </tr>\n",
              "    <tr>\n",
              "      <th>17</th>\n",
              "      <td>16.29</td>\n",
              "      <td>3.71</td>\n",
              "      <td>Male</td>\n",
              "      <td>No</td>\n",
              "      <td>Sun</td>\n",
              "      <td>Dinner</td>\n",
              "      <td>3</td>\n",
              "    </tr>\n",
              "    <tr>\n",
              "      <th>18</th>\n",
              "      <td>16.97</td>\n",
              "      <td>3.50</td>\n",
              "      <td>Female</td>\n",
              "      <td>No</td>\n",
              "      <td>Sun</td>\n",
              "      <td>Dinner</td>\n",
              "      <td>3</td>\n",
              "    </tr>\n",
              "    <tr>\n",
              "      <th>19</th>\n",
              "      <td>20.65</td>\n",
              "      <td>3.35</td>\n",
              "      <td>Male</td>\n",
              "      <td>No</td>\n",
              "      <td>Sat</td>\n",
              "      <td>Dinner</td>\n",
              "      <td>3</td>\n",
              "    </tr>\n",
              "    <tr>\n",
              "      <th>20</th>\n",
              "      <td>17.92</td>\n",
              "      <td>4.08</td>\n",
              "      <td>Male</td>\n",
              "      <td>No</td>\n",
              "      <td>Sat</td>\n",
              "      <td>Dinner</td>\n",
              "      <td>2</td>\n",
              "    </tr>\n",
              "    <tr>\n",
              "      <th>21</th>\n",
              "      <td>20.29</td>\n",
              "      <td>2.75</td>\n",
              "      <td>Female</td>\n",
              "      <td>No</td>\n",
              "      <td>Sat</td>\n",
              "      <td>Dinner</td>\n",
              "      <td>2</td>\n",
              "    </tr>\n",
              "    <tr>\n",
              "      <th>22</th>\n",
              "      <td>15.77</td>\n",
              "      <td>2.23</td>\n",
              "      <td>Female</td>\n",
              "      <td>No</td>\n",
              "      <td>Sat</td>\n",
              "      <td>Dinner</td>\n",
              "      <td>2</td>\n",
              "    </tr>\n",
              "    <tr>\n",
              "      <th>23</th>\n",
              "      <td>39.42</td>\n",
              "      <td>7.58</td>\n",
              "      <td>Male</td>\n",
              "      <td>No</td>\n",
              "      <td>Sat</td>\n",
              "      <td>Dinner</td>\n",
              "      <td>4</td>\n",
              "    </tr>\n",
              "    <tr>\n",
              "      <th>24</th>\n",
              "      <td>19.82</td>\n",
              "      <td>3.18</td>\n",
              "      <td>Male</td>\n",
              "      <td>No</td>\n",
              "      <td>Sat</td>\n",
              "      <td>Dinner</td>\n",
              "      <td>2</td>\n",
              "    </tr>\n",
              "    <tr>\n",
              "      <th>25</th>\n",
              "      <td>17.81</td>\n",
              "      <td>2.34</td>\n",
              "      <td>Male</td>\n",
              "      <td>No</td>\n",
              "      <td>Sat</td>\n",
              "      <td>Dinner</td>\n",
              "      <td>4</td>\n",
              "    </tr>\n",
              "    <tr>\n",
              "      <th>26</th>\n",
              "      <td>13.37</td>\n",
              "      <td>2.00</td>\n",
              "      <td>Male</td>\n",
              "      <td>No</td>\n",
              "      <td>Sat</td>\n",
              "      <td>Dinner</td>\n",
              "      <td>2</td>\n",
              "    </tr>\n",
              "    <tr>\n",
              "      <th>27</th>\n",
              "      <td>12.69</td>\n",
              "      <td>2.00</td>\n",
              "      <td>Male</td>\n",
              "      <td>No</td>\n",
              "      <td>Sat</td>\n",
              "      <td>Dinner</td>\n",
              "      <td>2</td>\n",
              "    </tr>\n",
              "    <tr>\n",
              "      <th>28</th>\n",
              "      <td>21.70</td>\n",
              "      <td>4.30</td>\n",
              "      <td>Male</td>\n",
              "      <td>No</td>\n",
              "      <td>Sat</td>\n",
              "      <td>Dinner</td>\n",
              "      <td>2</td>\n",
              "    </tr>\n",
              "    <tr>\n",
              "      <th>29</th>\n",
              "      <td>19.65</td>\n",
              "      <td>3.00</td>\n",
              "      <td>Female</td>\n",
              "      <td>No</td>\n",
              "      <td>Sat</td>\n",
              "      <td>Dinner</td>\n",
              "      <td>2</td>\n",
              "    </tr>\n",
              "    <tr>\n",
              "      <th>30</th>\n",
              "      <td>9.55</td>\n",
              "      <td>1.45</td>\n",
              "      <td>Male</td>\n",
              "      <td>No</td>\n",
              "      <td>Sat</td>\n",
              "      <td>Dinner</td>\n",
              "      <td>2</td>\n",
              "    </tr>\n",
              "    <tr>\n",
              "      <th>31</th>\n",
              "      <td>18.35</td>\n",
              "      <td>2.50</td>\n",
              "      <td>Male</td>\n",
              "      <td>No</td>\n",
              "      <td>Sat</td>\n",
              "      <td>Dinner</td>\n",
              "      <td>4</td>\n",
              "    </tr>\n",
              "    <tr>\n",
              "      <th>32</th>\n",
              "      <td>15.06</td>\n",
              "      <td>3.00</td>\n",
              "      <td>Female</td>\n",
              "      <td>No</td>\n",
              "      <td>Sat</td>\n",
              "      <td>Dinner</td>\n",
              "      <td>2</td>\n",
              "    </tr>\n",
              "    <tr>\n",
              "      <th>33</th>\n",
              "      <td>20.69</td>\n",
              "      <td>2.45</td>\n",
              "      <td>Female</td>\n",
              "      <td>No</td>\n",
              "      <td>Sat</td>\n",
              "      <td>Dinner</td>\n",
              "      <td>4</td>\n",
              "    </tr>\n",
              "    <tr>\n",
              "      <th>34</th>\n",
              "      <td>17.78</td>\n",
              "      <td>3.27</td>\n",
              "      <td>Male</td>\n",
              "      <td>No</td>\n",
              "      <td>Sat</td>\n",
              "      <td>Dinner</td>\n",
              "      <td>2</td>\n",
              "    </tr>\n",
              "    <tr>\n",
              "      <th>35</th>\n",
              "      <td>24.06</td>\n",
              "      <td>3.60</td>\n",
              "      <td>Male</td>\n",
              "      <td>No</td>\n",
              "      <td>Sat</td>\n",
              "      <td>Dinner</td>\n",
              "      <td>3</td>\n",
              "    </tr>\n",
              "    <tr>\n",
              "      <th>36</th>\n",
              "      <td>16.31</td>\n",
              "      <td>2.00</td>\n",
              "      <td>Male</td>\n",
              "      <td>No</td>\n",
              "      <td>Sat</td>\n",
              "      <td>Dinner</td>\n",
              "      <td>3</td>\n",
              "    </tr>\n",
              "    <tr>\n",
              "      <th>37</th>\n",
              "      <td>16.93</td>\n",
              "      <td>3.07</td>\n",
              "      <td>Female</td>\n",
              "      <td>No</td>\n",
              "      <td>Sat</td>\n",
              "      <td>Dinner</td>\n",
              "      <td>3</td>\n",
              "    </tr>\n",
              "    <tr>\n",
              "      <th>38</th>\n",
              "      <td>18.69</td>\n",
              "      <td>2.31</td>\n",
              "      <td>Male</td>\n",
              "      <td>No</td>\n",
              "      <td>Sat</td>\n",
              "      <td>Dinner</td>\n",
              "      <td>3</td>\n",
              "    </tr>\n",
              "    <tr>\n",
              "      <th>39</th>\n",
              "      <td>31.27</td>\n",
              "      <td>5.00</td>\n",
              "      <td>Male</td>\n",
              "      <td>No</td>\n",
              "      <td>Sat</td>\n",
              "      <td>Dinner</td>\n",
              "      <td>3</td>\n",
              "    </tr>\n",
              "    <tr>\n",
              "      <th>40</th>\n",
              "      <td>16.04</td>\n",
              "      <td>2.24</td>\n",
              "      <td>Male</td>\n",
              "      <td>No</td>\n",
              "      <td>Sat</td>\n",
              "      <td>Dinner</td>\n",
              "      <td>3</td>\n",
              "    </tr>\n",
              "    <tr>\n",
              "      <th>41</th>\n",
              "      <td>17.46</td>\n",
              "      <td>2.54</td>\n",
              "      <td>Male</td>\n",
              "      <td>No</td>\n",
              "      <td>Sun</td>\n",
              "      <td>Dinner</td>\n",
              "      <td>2</td>\n",
              "    </tr>\n",
              "    <tr>\n",
              "      <th>42</th>\n",
              "      <td>13.94</td>\n",
              "      <td>3.06</td>\n",
              "      <td>Male</td>\n",
              "      <td>No</td>\n",
              "      <td>Sun</td>\n",
              "      <td>Dinner</td>\n",
              "      <td>2</td>\n",
              "    </tr>\n",
              "    <tr>\n",
              "      <th>43</th>\n",
              "      <td>9.68</td>\n",
              "      <td>1.32</td>\n",
              "      <td>Male</td>\n",
              "      <td>No</td>\n",
              "      <td>Sun</td>\n",
              "      <td>Dinner</td>\n",
              "      <td>2</td>\n",
              "    </tr>\n",
              "    <tr>\n",
              "      <th>44</th>\n",
              "      <td>30.40</td>\n",
              "      <td>5.60</td>\n",
              "      <td>Male</td>\n",
              "      <td>No</td>\n",
              "      <td>Sun</td>\n",
              "      <td>Dinner</td>\n",
              "      <td>4</td>\n",
              "    </tr>\n",
              "    <tr>\n",
              "      <th>45</th>\n",
              "      <td>18.29</td>\n",
              "      <td>3.00</td>\n",
              "      <td>Male</td>\n",
              "      <td>No</td>\n",
              "      <td>Sun</td>\n",
              "      <td>Dinner</td>\n",
              "      <td>2</td>\n",
              "    </tr>\n",
              "    <tr>\n",
              "      <th>46</th>\n",
              "      <td>22.23</td>\n",
              "      <td>5.00</td>\n",
              "      <td>Male</td>\n",
              "      <td>No</td>\n",
              "      <td>Sun</td>\n",
              "      <td>Dinner</td>\n",
              "      <td>2</td>\n",
              "    </tr>\n",
              "    <tr>\n",
              "      <th>47</th>\n",
              "      <td>32.40</td>\n",
              "      <td>6.00</td>\n",
              "      <td>Male</td>\n",
              "      <td>No</td>\n",
              "      <td>Sun</td>\n",
              "      <td>Dinner</td>\n",
              "      <td>4</td>\n",
              "    </tr>\n",
              "    <tr>\n",
              "      <th>48</th>\n",
              "      <td>28.55</td>\n",
              "      <td>2.05</td>\n",
              "      <td>Male</td>\n",
              "      <td>No</td>\n",
              "      <td>Sun</td>\n",
              "      <td>Dinner</td>\n",
              "      <td>3</td>\n",
              "    </tr>\n",
              "    <tr>\n",
              "      <th>49</th>\n",
              "      <td>18.04</td>\n",
              "      <td>3.00</td>\n",
              "      <td>Male</td>\n",
              "      <td>No</td>\n",
              "      <td>Sun</td>\n",
              "      <td>Dinner</td>\n",
              "      <td>2</td>\n",
              "    </tr>\n",
              "    <tr>\n",
              "      <th>50</th>\n",
              "      <td>12.54</td>\n",
              "      <td>2.50</td>\n",
              "      <td>Male</td>\n",
              "      <td>No</td>\n",
              "      <td>Sun</td>\n",
              "      <td>Dinner</td>\n",
              "      <td>2</td>\n",
              "    </tr>\n",
              "    <tr>\n",
              "      <th>51</th>\n",
              "      <td>10.29</td>\n",
              "      <td>2.60</td>\n",
              "      <td>Female</td>\n",
              "      <td>No</td>\n",
              "      <td>Sun</td>\n",
              "      <td>Dinner</td>\n",
              "      <td>2</td>\n",
              "    </tr>\n",
              "    <tr>\n",
              "      <th>52</th>\n",
              "      <td>34.81</td>\n",
              "      <td>5.20</td>\n",
              "      <td>Female</td>\n",
              "      <td>No</td>\n",
              "      <td>Sun</td>\n",
              "      <td>Dinner</td>\n",
              "      <td>4</td>\n",
              "    </tr>\n",
              "    <tr>\n",
              "      <th>53</th>\n",
              "      <td>9.94</td>\n",
              "      <td>1.56</td>\n",
              "      <td>Male</td>\n",
              "      <td>No</td>\n",
              "      <td>Sun</td>\n",
              "      <td>Dinner</td>\n",
              "      <td>2</td>\n",
              "    </tr>\n",
              "    <tr>\n",
              "      <th>54</th>\n",
              "      <td>25.56</td>\n",
              "      <td>4.34</td>\n",
              "      <td>Male</td>\n",
              "      <td>No</td>\n",
              "      <td>Sun</td>\n",
              "      <td>Dinner</td>\n",
              "      <td>4</td>\n",
              "    </tr>\n",
              "    <tr>\n",
              "      <th>55</th>\n",
              "      <td>19.49</td>\n",
              "      <td>3.51</td>\n",
              "      <td>Male</td>\n",
              "      <td>No</td>\n",
              "      <td>Sun</td>\n",
              "      <td>Dinner</td>\n",
              "      <td>2</td>\n",
              "    </tr>\n",
              "    <tr>\n",
              "      <th>56</th>\n",
              "      <td>38.01</td>\n",
              "      <td>3.00</td>\n",
              "      <td>Male</td>\n",
              "      <td>Yes</td>\n",
              "      <td>Sat</td>\n",
              "      <td>Dinner</td>\n",
              "      <td>4</td>\n",
              "    </tr>\n",
              "    <tr>\n",
              "      <th>57</th>\n",
              "      <td>26.41</td>\n",
              "      <td>1.50</td>\n",
              "      <td>Female</td>\n",
              "      <td>No</td>\n",
              "      <td>Sat</td>\n",
              "      <td>Dinner</td>\n",
              "      <td>2</td>\n",
              "    </tr>\n",
              "    <tr>\n",
              "      <th>58</th>\n",
              "      <td>11.24</td>\n",
              "      <td>1.76</td>\n",
              "      <td>Male</td>\n",
              "      <td>Yes</td>\n",
              "      <td>Sat</td>\n",
              "      <td>Dinner</td>\n",
              "      <td>2</td>\n",
              "    </tr>\n",
              "    <tr>\n",
              "      <th>59</th>\n",
              "      <td>48.27</td>\n",
              "      <td>6.73</td>\n",
              "      <td>Male</td>\n",
              "      <td>No</td>\n",
              "      <td>Sat</td>\n",
              "      <td>Dinner</td>\n",
              "      <td>4</td>\n",
              "    </tr>\n",
              "    <tr>\n",
              "      <th>60</th>\n",
              "      <td>20.29</td>\n",
              "      <td>3.21</td>\n",
              "      <td>Male</td>\n",
              "      <td>Yes</td>\n",
              "      <td>Sat</td>\n",
              "      <td>Dinner</td>\n",
              "      <td>2</td>\n",
              "    </tr>\n",
              "    <tr>\n",
              "      <th>61</th>\n",
              "      <td>13.81</td>\n",
              "      <td>2.00</td>\n",
              "      <td>Male</td>\n",
              "      <td>Yes</td>\n",
              "      <td>Sat</td>\n",
              "      <td>Dinner</td>\n",
              "      <td>2</td>\n",
              "    </tr>\n",
              "    <tr>\n",
              "      <th>62</th>\n",
              "      <td>11.02</td>\n",
              "      <td>1.98</td>\n",
              "      <td>Male</td>\n",
              "      <td>Yes</td>\n",
              "      <td>Sat</td>\n",
              "      <td>Dinner</td>\n",
              "      <td>2</td>\n",
              "    </tr>\n",
              "    <tr>\n",
              "      <th>63</th>\n",
              "      <td>18.29</td>\n",
              "      <td>3.76</td>\n",
              "      <td>Male</td>\n",
              "      <td>Yes</td>\n",
              "      <td>Sat</td>\n",
              "      <td>Dinner</td>\n",
              "      <td>4</td>\n",
              "    </tr>\n",
              "    <tr>\n",
              "      <th>64</th>\n",
              "      <td>17.59</td>\n",
              "      <td>2.64</td>\n",
              "      <td>Male</td>\n",
              "      <td>No</td>\n",
              "      <td>Sat</td>\n",
              "      <td>Dinner</td>\n",
              "      <td>3</td>\n",
              "    </tr>\n",
              "    <tr>\n",
              "      <th>65</th>\n",
              "      <td>20.08</td>\n",
              "      <td>3.15</td>\n",
              "      <td>Male</td>\n",
              "      <td>No</td>\n",
              "      <td>Sat</td>\n",
              "      <td>Dinner</td>\n",
              "      <td>3</td>\n",
              "    </tr>\n",
              "    <tr>\n",
              "      <th>66</th>\n",
              "      <td>16.45</td>\n",
              "      <td>2.47</td>\n",
              "      <td>Female</td>\n",
              "      <td>No</td>\n",
              "      <td>Sat</td>\n",
              "      <td>Dinner</td>\n",
              "      <td>2</td>\n",
              "    </tr>\n",
              "    <tr>\n",
              "      <th>67</th>\n",
              "      <td>3.07</td>\n",
              "      <td>1.00</td>\n",
              "      <td>Female</td>\n",
              "      <td>Yes</td>\n",
              "      <td>Sat</td>\n",
              "      <td>Dinner</td>\n",
              "      <td>1</td>\n",
              "    </tr>\n",
              "    <tr>\n",
              "      <th>68</th>\n",
              "      <td>20.23</td>\n",
              "      <td>2.01</td>\n",
              "      <td>Male</td>\n",
              "      <td>No</td>\n",
              "      <td>Sat</td>\n",
              "      <td>Dinner</td>\n",
              "      <td>2</td>\n",
              "    </tr>\n",
              "    <tr>\n",
              "      <th>69</th>\n",
              "      <td>15.01</td>\n",
              "      <td>2.09</td>\n",
              "      <td>Male</td>\n",
              "      <td>Yes</td>\n",
              "      <td>Sat</td>\n",
              "      <td>Dinner</td>\n",
              "      <td>2</td>\n",
              "    </tr>\n",
              "    <tr>\n",
              "      <th>70</th>\n",
              "      <td>12.02</td>\n",
              "      <td>1.97</td>\n",
              "      <td>Male</td>\n",
              "      <td>No</td>\n",
              "      <td>Sat</td>\n",
              "      <td>Dinner</td>\n",
              "      <td>2</td>\n",
              "    </tr>\n",
              "    <tr>\n",
              "      <th>71</th>\n",
              "      <td>17.07</td>\n",
              "      <td>3.00</td>\n",
              "      <td>Female</td>\n",
              "      <td>No</td>\n",
              "      <td>Sat</td>\n",
              "      <td>Dinner</td>\n",
              "      <td>3</td>\n",
              "    </tr>\n",
              "    <tr>\n",
              "      <th>72</th>\n",
              "      <td>26.86</td>\n",
              "      <td>3.14</td>\n",
              "      <td>Female</td>\n",
              "      <td>Yes</td>\n",
              "      <td>Sat</td>\n",
              "      <td>Dinner</td>\n",
              "      <td>2</td>\n",
              "    </tr>\n",
              "    <tr>\n",
              "      <th>73</th>\n",
              "      <td>25.28</td>\n",
              "      <td>5.00</td>\n",
              "      <td>Female</td>\n",
              "      <td>Yes</td>\n",
              "      <td>Sat</td>\n",
              "      <td>Dinner</td>\n",
              "      <td>2</td>\n",
              "    </tr>\n",
              "    <tr>\n",
              "      <th>74</th>\n",
              "      <td>14.73</td>\n",
              "      <td>2.20</td>\n",
              "      <td>Female</td>\n",
              "      <td>No</td>\n",
              "      <td>Sat</td>\n",
              "      <td>Dinner</td>\n",
              "      <td>2</td>\n",
              "    </tr>\n",
              "    <tr>\n",
              "      <th>75</th>\n",
              "      <td>10.51</td>\n",
              "      <td>1.25</td>\n",
              "      <td>Male</td>\n",
              "      <td>No</td>\n",
              "      <td>Sat</td>\n",
              "      <td>Dinner</td>\n",
              "      <td>2</td>\n",
              "    </tr>\n",
              "    <tr>\n",
              "      <th>76</th>\n",
              "      <td>17.92</td>\n",
              "      <td>3.08</td>\n",
              "      <td>Male</td>\n",
              "      <td>Yes</td>\n",
              "      <td>Sat</td>\n",
              "      <td>Dinner</td>\n",
              "      <td>2</td>\n",
              "    </tr>\n",
              "    <tr>\n",
              "      <th>77</th>\n",
              "      <td>27.20</td>\n",
              "      <td>4.00</td>\n",
              "      <td>Male</td>\n",
              "      <td>No</td>\n",
              "      <td>Thur</td>\n",
              "      <td>Lunch</td>\n",
              "      <td>4</td>\n",
              "    </tr>\n",
              "    <tr>\n",
              "      <th>78</th>\n",
              "      <td>22.76</td>\n",
              "      <td>3.00</td>\n",
              "      <td>Male</td>\n",
              "      <td>No</td>\n",
              "      <td>Thur</td>\n",
              "      <td>Lunch</td>\n",
              "      <td>2</td>\n",
              "    </tr>\n",
              "    <tr>\n",
              "      <th>79</th>\n",
              "      <td>17.29</td>\n",
              "      <td>2.71</td>\n",
              "      <td>Male</td>\n",
              "      <td>No</td>\n",
              "      <td>Thur</td>\n",
              "      <td>Lunch</td>\n",
              "      <td>2</td>\n",
              "    </tr>\n",
              "    <tr>\n",
              "      <th>80</th>\n",
              "      <td>19.44</td>\n",
              "      <td>3.00</td>\n",
              "      <td>Male</td>\n",
              "      <td>Yes</td>\n",
              "      <td>Thur</td>\n",
              "      <td>Lunch</td>\n",
              "      <td>2</td>\n",
              "    </tr>\n",
              "    <tr>\n",
              "      <th>81</th>\n",
              "      <td>16.66</td>\n",
              "      <td>3.40</td>\n",
              "      <td>Male</td>\n",
              "      <td>No</td>\n",
              "      <td>Thur</td>\n",
              "      <td>Lunch</td>\n",
              "      <td>2</td>\n",
              "    </tr>\n",
              "    <tr>\n",
              "      <th>82</th>\n",
              "      <td>10.07</td>\n",
              "      <td>1.83</td>\n",
              "      <td>Female</td>\n",
              "      <td>No</td>\n",
              "      <td>Thur</td>\n",
              "      <td>Lunch</td>\n",
              "      <td>1</td>\n",
              "    </tr>\n",
              "    <tr>\n",
              "      <th>83</th>\n",
              "      <td>32.68</td>\n",
              "      <td>5.00</td>\n",
              "      <td>Male</td>\n",
              "      <td>Yes</td>\n",
              "      <td>Thur</td>\n",
              "      <td>Lunch</td>\n",
              "      <td>2</td>\n",
              "    </tr>\n",
              "    <tr>\n",
              "      <th>84</th>\n",
              "      <td>15.98</td>\n",
              "      <td>2.03</td>\n",
              "      <td>Male</td>\n",
              "      <td>No</td>\n",
              "      <td>Thur</td>\n",
              "      <td>Lunch</td>\n",
              "      <td>2</td>\n",
              "    </tr>\n",
              "    <tr>\n",
              "      <th>85</th>\n",
              "      <td>34.83</td>\n",
              "      <td>5.17</td>\n",
              "      <td>Female</td>\n",
              "      <td>No</td>\n",
              "      <td>Thur</td>\n",
              "      <td>Lunch</td>\n",
              "      <td>4</td>\n",
              "    </tr>\n",
              "    <tr>\n",
              "      <th>86</th>\n",
              "      <td>13.03</td>\n",
              "      <td>2.00</td>\n",
              "      <td>Male</td>\n",
              "      <td>No</td>\n",
              "      <td>Thur</td>\n",
              "      <td>Lunch</td>\n",
              "      <td>2</td>\n",
              "    </tr>\n",
              "    <tr>\n",
              "      <th>87</th>\n",
              "      <td>18.28</td>\n",
              "      <td>4.00</td>\n",
              "      <td>Male</td>\n",
              "      <td>No</td>\n",
              "      <td>Thur</td>\n",
              "      <td>Lunch</td>\n",
              "      <td>2</td>\n",
              "    </tr>\n",
              "    <tr>\n",
              "      <th>88</th>\n",
              "      <td>24.71</td>\n",
              "      <td>5.85</td>\n",
              "      <td>Male</td>\n",
              "      <td>No</td>\n",
              "      <td>Thur</td>\n",
              "      <td>Lunch</td>\n",
              "      <td>2</td>\n",
              "    </tr>\n",
              "    <tr>\n",
              "      <th>89</th>\n",
              "      <td>21.16</td>\n",
              "      <td>3.00</td>\n",
              "      <td>Male</td>\n",
              "      <td>No</td>\n",
              "      <td>Thur</td>\n",
              "      <td>Lunch</td>\n",
              "      <td>2</td>\n",
              "    </tr>\n",
              "    <tr>\n",
              "      <th>90</th>\n",
              "      <td>28.97</td>\n",
              "      <td>3.00</td>\n",
              "      <td>Male</td>\n",
              "      <td>Yes</td>\n",
              "      <td>Fri</td>\n",
              "      <td>Dinner</td>\n",
              "      <td>2</td>\n",
              "    </tr>\n",
              "    <tr>\n",
              "      <th>91</th>\n",
              "      <td>22.49</td>\n",
              "      <td>3.50</td>\n",
              "      <td>Male</td>\n",
              "      <td>No</td>\n",
              "      <td>Fri</td>\n",
              "      <td>Dinner</td>\n",
              "      <td>2</td>\n",
              "    </tr>\n",
              "    <tr>\n",
              "      <th>92</th>\n",
              "      <td>5.75</td>\n",
              "      <td>1.00</td>\n",
              "      <td>Female</td>\n",
              "      <td>Yes</td>\n",
              "      <td>Fri</td>\n",
              "      <td>Dinner</td>\n",
              "      <td>2</td>\n",
              "    </tr>\n",
              "    <tr>\n",
              "      <th>93</th>\n",
              "      <td>16.32</td>\n",
              "      <td>4.30</td>\n",
              "      <td>Female</td>\n",
              "      <td>Yes</td>\n",
              "      <td>Fri</td>\n",
              "      <td>Dinner</td>\n",
              "      <td>2</td>\n",
              "    </tr>\n",
              "    <tr>\n",
              "      <th>94</th>\n",
              "      <td>22.75</td>\n",
              "      <td>3.25</td>\n",
              "      <td>Female</td>\n",
              "      <td>No</td>\n",
              "      <td>Fri</td>\n",
              "      <td>Dinner</td>\n",
              "      <td>2</td>\n",
              "    </tr>\n",
              "    <tr>\n",
              "      <th>95</th>\n",
              "      <td>40.17</td>\n",
              "      <td>4.73</td>\n",
              "      <td>Male</td>\n",
              "      <td>Yes</td>\n",
              "      <td>Fri</td>\n",
              "      <td>Dinner</td>\n",
              "      <td>4</td>\n",
              "    </tr>\n",
              "    <tr>\n",
              "      <th>96</th>\n",
              "      <td>27.28</td>\n",
              "      <td>4.00</td>\n",
              "      <td>Male</td>\n",
              "      <td>Yes</td>\n",
              "      <td>Fri</td>\n",
              "      <td>Dinner</td>\n",
              "      <td>2</td>\n",
              "    </tr>\n",
              "    <tr>\n",
              "      <th>97</th>\n",
              "      <td>12.03</td>\n",
              "      <td>1.50</td>\n",
              "      <td>Male</td>\n",
              "      <td>Yes</td>\n",
              "      <td>Fri</td>\n",
              "      <td>Dinner</td>\n",
              "      <td>2</td>\n",
              "    </tr>\n",
              "    <tr>\n",
              "      <th>98</th>\n",
              "      <td>21.01</td>\n",
              "      <td>3.00</td>\n",
              "      <td>Male</td>\n",
              "      <td>Yes</td>\n",
              "      <td>Fri</td>\n",
              "      <td>Dinner</td>\n",
              "      <td>2</td>\n",
              "    </tr>\n",
              "    <tr>\n",
              "      <th>99</th>\n",
              "      <td>12.46</td>\n",
              "      <td>1.50</td>\n",
              "      <td>Male</td>\n",
              "      <td>No</td>\n",
              "      <td>Fri</td>\n",
              "      <td>Dinner</td>\n",
              "      <td>2</td>\n",
              "    </tr>\n",
              "    <tr>\n",
              "      <th>100</th>\n",
              "      <td>11.35</td>\n",
              "      <td>2.50</td>\n",
              "      <td>Female</td>\n",
              "      <td>Yes</td>\n",
              "      <td>Fri</td>\n",
              "      <td>Dinner</td>\n",
              "      <td>2</td>\n",
              "    </tr>\n",
              "    <tr>\n",
              "      <th>101</th>\n",
              "      <td>15.38</td>\n",
              "      <td>3.00</td>\n",
              "      <td>Female</td>\n",
              "      <td>Yes</td>\n",
              "      <td>Fri</td>\n",
              "      <td>Dinner</td>\n",
              "      <td>2</td>\n",
              "    </tr>\n",
              "    <tr>\n",
              "      <th>102</th>\n",
              "      <td>44.30</td>\n",
              "      <td>2.50</td>\n",
              "      <td>Female</td>\n",
              "      <td>Yes</td>\n",
              "      <td>Sat</td>\n",
              "      <td>Dinner</td>\n",
              "      <td>3</td>\n",
              "    </tr>\n",
              "    <tr>\n",
              "      <th>103</th>\n",
              "      <td>22.42</td>\n",
              "      <td>3.48</td>\n",
              "      <td>Female</td>\n",
              "      <td>Yes</td>\n",
              "      <td>Sat</td>\n",
              "      <td>Dinner</td>\n",
              "      <td>2</td>\n",
              "    </tr>\n",
              "    <tr>\n",
              "      <th>104</th>\n",
              "      <td>20.92</td>\n",
              "      <td>4.08</td>\n",
              "      <td>Female</td>\n",
              "      <td>No</td>\n",
              "      <td>Sat</td>\n",
              "      <td>Dinner</td>\n",
              "      <td>2</td>\n",
              "    </tr>\n",
              "    <tr>\n",
              "      <th>105</th>\n",
              "      <td>15.36</td>\n",
              "      <td>1.64</td>\n",
              "      <td>Male</td>\n",
              "      <td>Yes</td>\n",
              "      <td>Sat</td>\n",
              "      <td>Dinner</td>\n",
              "      <td>2</td>\n",
              "    </tr>\n",
              "    <tr>\n",
              "      <th>106</th>\n",
              "      <td>20.49</td>\n",
              "      <td>4.06</td>\n",
              "      <td>Male</td>\n",
              "      <td>Yes</td>\n",
              "      <td>Sat</td>\n",
              "      <td>Dinner</td>\n",
              "      <td>2</td>\n",
              "    </tr>\n",
              "    <tr>\n",
              "      <th>107</th>\n",
              "      <td>25.21</td>\n",
              "      <td>4.29</td>\n",
              "      <td>Male</td>\n",
              "      <td>Yes</td>\n",
              "      <td>Sat</td>\n",
              "      <td>Dinner</td>\n",
              "      <td>2</td>\n",
              "    </tr>\n",
              "    <tr>\n",
              "      <th>108</th>\n",
              "      <td>18.24</td>\n",
              "      <td>3.76</td>\n",
              "      <td>Male</td>\n",
              "      <td>No</td>\n",
              "      <td>Sat</td>\n",
              "      <td>Dinner</td>\n",
              "      <td>2</td>\n",
              "    </tr>\n",
              "    <tr>\n",
              "      <th>109</th>\n",
              "      <td>14.31</td>\n",
              "      <td>4.00</td>\n",
              "      <td>Female</td>\n",
              "      <td>Yes</td>\n",
              "      <td>Sat</td>\n",
              "      <td>Dinner</td>\n",
              "      <td>2</td>\n",
              "    </tr>\n",
              "    <tr>\n",
              "      <th>110</th>\n",
              "      <td>14.00</td>\n",
              "      <td>3.00</td>\n",
              "      <td>Male</td>\n",
              "      <td>No</td>\n",
              "      <td>Sat</td>\n",
              "      <td>Dinner</td>\n",
              "      <td>2</td>\n",
              "    </tr>\n",
              "    <tr>\n",
              "      <th>111</th>\n",
              "      <td>7.25</td>\n",
              "      <td>1.00</td>\n",
              "      <td>Female</td>\n",
              "      <td>No</td>\n",
              "      <td>Sat</td>\n",
              "      <td>Dinner</td>\n",
              "      <td>1</td>\n",
              "    </tr>\n",
              "    <tr>\n",
              "      <th>112</th>\n",
              "      <td>38.07</td>\n",
              "      <td>4.00</td>\n",
              "      <td>Male</td>\n",
              "      <td>No</td>\n",
              "      <td>Sun</td>\n",
              "      <td>Dinner</td>\n",
              "      <td>3</td>\n",
              "    </tr>\n",
              "    <tr>\n",
              "      <th>113</th>\n",
              "      <td>23.95</td>\n",
              "      <td>2.55</td>\n",
              "      <td>Male</td>\n",
              "      <td>No</td>\n",
              "      <td>Sun</td>\n",
              "      <td>Dinner</td>\n",
              "      <td>2</td>\n",
              "    </tr>\n",
              "    <tr>\n",
              "      <th>114</th>\n",
              "      <td>25.71</td>\n",
              "      <td>4.00</td>\n",
              "      <td>Female</td>\n",
              "      <td>No</td>\n",
              "      <td>Sun</td>\n",
              "      <td>Dinner</td>\n",
              "      <td>3</td>\n",
              "    </tr>\n",
              "    <tr>\n",
              "      <th>115</th>\n",
              "      <td>17.31</td>\n",
              "      <td>3.50</td>\n",
              "      <td>Female</td>\n",
              "      <td>No</td>\n",
              "      <td>Sun</td>\n",
              "      <td>Dinner</td>\n",
              "      <td>2</td>\n",
              "    </tr>\n",
              "    <tr>\n",
              "      <th>116</th>\n",
              "      <td>29.93</td>\n",
              "      <td>5.07</td>\n",
              "      <td>Male</td>\n",
              "      <td>No</td>\n",
              "      <td>Sun</td>\n",
              "      <td>Dinner</td>\n",
              "      <td>4</td>\n",
              "    </tr>\n",
              "    <tr>\n",
              "      <th>117</th>\n",
              "      <td>10.65</td>\n",
              "      <td>1.50</td>\n",
              "      <td>Female</td>\n",
              "      <td>No</td>\n",
              "      <td>Thur</td>\n",
              "      <td>Lunch</td>\n",
              "      <td>2</td>\n",
              "    </tr>\n",
              "    <tr>\n",
              "      <th>118</th>\n",
              "      <td>12.43</td>\n",
              "      <td>1.80</td>\n",
              "      <td>Female</td>\n",
              "      <td>No</td>\n",
              "      <td>Thur</td>\n",
              "      <td>Lunch</td>\n",
              "      <td>2</td>\n",
              "    </tr>\n",
              "    <tr>\n",
              "      <th>119</th>\n",
              "      <td>24.08</td>\n",
              "      <td>2.92</td>\n",
              "      <td>Female</td>\n",
              "      <td>No</td>\n",
              "      <td>Thur</td>\n",
              "      <td>Lunch</td>\n",
              "      <td>4</td>\n",
              "    </tr>\n",
              "    <tr>\n",
              "      <th>120</th>\n",
              "      <td>11.69</td>\n",
              "      <td>2.31</td>\n",
              "      <td>Male</td>\n",
              "      <td>No</td>\n",
              "      <td>Thur</td>\n",
              "      <td>Lunch</td>\n",
              "      <td>2</td>\n",
              "    </tr>\n",
              "    <tr>\n",
              "      <th>121</th>\n",
              "      <td>13.42</td>\n",
              "      <td>1.68</td>\n",
              "      <td>Female</td>\n",
              "      <td>No</td>\n",
              "      <td>Thur</td>\n",
              "      <td>Lunch</td>\n",
              "      <td>2</td>\n",
              "    </tr>\n",
              "    <tr>\n",
              "      <th>122</th>\n",
              "      <td>14.26</td>\n",
              "      <td>2.50</td>\n",
              "      <td>Male</td>\n",
              "      <td>No</td>\n",
              "      <td>Thur</td>\n",
              "      <td>Lunch</td>\n",
              "      <td>2</td>\n",
              "    </tr>\n",
              "    <tr>\n",
              "      <th>123</th>\n",
              "      <td>15.95</td>\n",
              "      <td>2.00</td>\n",
              "      <td>Male</td>\n",
              "      <td>No</td>\n",
              "      <td>Thur</td>\n",
              "      <td>Lunch</td>\n",
              "      <td>2</td>\n",
              "    </tr>\n",
              "    <tr>\n",
              "      <th>124</th>\n",
              "      <td>12.48</td>\n",
              "      <td>2.52</td>\n",
              "      <td>Female</td>\n",
              "      <td>No</td>\n",
              "      <td>Thur</td>\n",
              "      <td>Lunch</td>\n",
              "      <td>2</td>\n",
              "    </tr>\n",
              "    <tr>\n",
              "      <th>125</th>\n",
              "      <td>29.80</td>\n",
              "      <td>4.20</td>\n",
              "      <td>Female</td>\n",
              "      <td>No</td>\n",
              "      <td>Thur</td>\n",
              "      <td>Lunch</td>\n",
              "      <td>6</td>\n",
              "    </tr>\n",
              "    <tr>\n",
              "      <th>126</th>\n",
              "      <td>8.52</td>\n",
              "      <td>1.48</td>\n",
              "      <td>Male</td>\n",
              "      <td>No</td>\n",
              "      <td>Thur</td>\n",
              "      <td>Lunch</td>\n",
              "      <td>2</td>\n",
              "    </tr>\n",
              "    <tr>\n",
              "      <th>127</th>\n",
              "      <td>14.52</td>\n",
              "      <td>2.00</td>\n",
              "      <td>Female</td>\n",
              "      <td>No</td>\n",
              "      <td>Thur</td>\n",
              "      <td>Lunch</td>\n",
              "      <td>2</td>\n",
              "    </tr>\n",
              "    <tr>\n",
              "      <th>128</th>\n",
              "      <td>11.38</td>\n",
              "      <td>2.00</td>\n",
              "      <td>Female</td>\n",
              "      <td>No</td>\n",
              "      <td>Thur</td>\n",
              "      <td>Lunch</td>\n",
              "      <td>2</td>\n",
              "    </tr>\n",
              "    <tr>\n",
              "      <th>129</th>\n",
              "      <td>22.82</td>\n",
              "      <td>2.18</td>\n",
              "      <td>Male</td>\n",
              "      <td>No</td>\n",
              "      <td>Thur</td>\n",
              "      <td>Lunch</td>\n",
              "      <td>3</td>\n",
              "    </tr>\n",
              "    <tr>\n",
              "      <th>130</th>\n",
              "      <td>19.08</td>\n",
              "      <td>1.50</td>\n",
              "      <td>Male</td>\n",
              "      <td>No</td>\n",
              "      <td>Thur</td>\n",
              "      <td>Lunch</td>\n",
              "      <td>2</td>\n",
              "    </tr>\n",
              "    <tr>\n",
              "      <th>131</th>\n",
              "      <td>20.27</td>\n",
              "      <td>2.83</td>\n",
              "      <td>Female</td>\n",
              "      <td>No</td>\n",
              "      <td>Thur</td>\n",
              "      <td>Lunch</td>\n",
              "      <td>2</td>\n",
              "    </tr>\n",
              "    <tr>\n",
              "      <th>132</th>\n",
              "      <td>11.17</td>\n",
              "      <td>1.50</td>\n",
              "      <td>Female</td>\n",
              "      <td>No</td>\n",
              "      <td>Thur</td>\n",
              "      <td>Lunch</td>\n",
              "      <td>2</td>\n",
              "    </tr>\n",
              "    <tr>\n",
              "      <th>133</th>\n",
              "      <td>12.26</td>\n",
              "      <td>2.00</td>\n",
              "      <td>Female</td>\n",
              "      <td>No</td>\n",
              "      <td>Thur</td>\n",
              "      <td>Lunch</td>\n",
              "      <td>2</td>\n",
              "    </tr>\n",
              "    <tr>\n",
              "      <th>134</th>\n",
              "      <td>18.26</td>\n",
              "      <td>3.25</td>\n",
              "      <td>Female</td>\n",
              "      <td>No</td>\n",
              "      <td>Thur</td>\n",
              "      <td>Lunch</td>\n",
              "      <td>2</td>\n",
              "    </tr>\n",
              "    <tr>\n",
              "      <th>135</th>\n",
              "      <td>8.51</td>\n",
              "      <td>1.25</td>\n",
              "      <td>Female</td>\n",
              "      <td>No</td>\n",
              "      <td>Thur</td>\n",
              "      <td>Lunch</td>\n",
              "      <td>2</td>\n",
              "    </tr>\n",
              "    <tr>\n",
              "      <th>136</th>\n",
              "      <td>10.33</td>\n",
              "      <td>2.00</td>\n",
              "      <td>Female</td>\n",
              "      <td>No</td>\n",
              "      <td>Thur</td>\n",
              "      <td>Lunch</td>\n",
              "      <td>2</td>\n",
              "    </tr>\n",
              "    <tr>\n",
              "      <th>137</th>\n",
              "      <td>14.15</td>\n",
              "      <td>2.00</td>\n",
              "      <td>Female</td>\n",
              "      <td>No</td>\n",
              "      <td>Thur</td>\n",
              "      <td>Lunch</td>\n",
              "      <td>2</td>\n",
              "    </tr>\n",
              "    <tr>\n",
              "      <th>138</th>\n",
              "      <td>16.00</td>\n",
              "      <td>2.00</td>\n",
              "      <td>Male</td>\n",
              "      <td>Yes</td>\n",
              "      <td>Thur</td>\n",
              "      <td>Lunch</td>\n",
              "      <td>2</td>\n",
              "    </tr>\n",
              "    <tr>\n",
              "      <th>139</th>\n",
              "      <td>13.16</td>\n",
              "      <td>2.75</td>\n",
              "      <td>Female</td>\n",
              "      <td>No</td>\n",
              "      <td>Thur</td>\n",
              "      <td>Lunch</td>\n",
              "      <td>2</td>\n",
              "    </tr>\n",
              "    <tr>\n",
              "      <th>140</th>\n",
              "      <td>17.47</td>\n",
              "      <td>3.50</td>\n",
              "      <td>Female</td>\n",
              "      <td>No</td>\n",
              "      <td>Thur</td>\n",
              "      <td>Lunch</td>\n",
              "      <td>2</td>\n",
              "    </tr>\n",
              "    <tr>\n",
              "      <th>141</th>\n",
              "      <td>34.30</td>\n",
              "      <td>6.70</td>\n",
              "      <td>Male</td>\n",
              "      <td>No</td>\n",
              "      <td>Thur</td>\n",
              "      <td>Lunch</td>\n",
              "      <td>6</td>\n",
              "    </tr>\n",
              "    <tr>\n",
              "      <th>142</th>\n",
              "      <td>41.19</td>\n",
              "      <td>5.00</td>\n",
              "      <td>Male</td>\n",
              "      <td>No</td>\n",
              "      <td>Thur</td>\n",
              "      <td>Lunch</td>\n",
              "      <td>5</td>\n",
              "    </tr>\n",
              "    <tr>\n",
              "      <th>143</th>\n",
              "      <td>27.05</td>\n",
              "      <td>5.00</td>\n",
              "      <td>Female</td>\n",
              "      <td>No</td>\n",
              "      <td>Thur</td>\n",
              "      <td>Lunch</td>\n",
              "      <td>6</td>\n",
              "    </tr>\n",
              "    <tr>\n",
              "      <th>144</th>\n",
              "      <td>16.43</td>\n",
              "      <td>2.30</td>\n",
              "      <td>Female</td>\n",
              "      <td>No</td>\n",
              "      <td>Thur</td>\n",
              "      <td>Lunch</td>\n",
              "      <td>2</td>\n",
              "    </tr>\n",
              "    <tr>\n",
              "      <th>145</th>\n",
              "      <td>8.35</td>\n",
              "      <td>1.50</td>\n",
              "      <td>Female</td>\n",
              "      <td>No</td>\n",
              "      <td>Thur</td>\n",
              "      <td>Lunch</td>\n",
              "      <td>2</td>\n",
              "    </tr>\n",
              "    <tr>\n",
              "      <th>146</th>\n",
              "      <td>18.64</td>\n",
              "      <td>1.36</td>\n",
              "      <td>Female</td>\n",
              "      <td>No</td>\n",
              "      <td>Thur</td>\n",
              "      <td>Lunch</td>\n",
              "      <td>3</td>\n",
              "    </tr>\n",
              "    <tr>\n",
              "      <th>147</th>\n",
              "      <td>11.87</td>\n",
              "      <td>1.63</td>\n",
              "      <td>Female</td>\n",
              "      <td>No</td>\n",
              "      <td>Thur</td>\n",
              "      <td>Lunch</td>\n",
              "      <td>2</td>\n",
              "    </tr>\n",
              "    <tr>\n",
              "      <th>148</th>\n",
              "      <td>9.78</td>\n",
              "      <td>1.73</td>\n",
              "      <td>Male</td>\n",
              "      <td>No</td>\n",
              "      <td>Thur</td>\n",
              "      <td>Lunch</td>\n",
              "      <td>2</td>\n",
              "    </tr>\n",
              "    <tr>\n",
              "      <th>149</th>\n",
              "      <td>7.51</td>\n",
              "      <td>2.00</td>\n",
              "      <td>Male</td>\n",
              "      <td>No</td>\n",
              "      <td>Thur</td>\n",
              "      <td>Lunch</td>\n",
              "      <td>2</td>\n",
              "    </tr>\n",
              "    <tr>\n",
              "      <th>150</th>\n",
              "      <td>14.07</td>\n",
              "      <td>2.50</td>\n",
              "      <td>Male</td>\n",
              "      <td>No</td>\n",
              "      <td>Sun</td>\n",
              "      <td>Dinner</td>\n",
              "      <td>2</td>\n",
              "    </tr>\n",
              "    <tr>\n",
              "      <th>151</th>\n",
              "      <td>13.13</td>\n",
              "      <td>2.00</td>\n",
              "      <td>Male</td>\n",
              "      <td>No</td>\n",
              "      <td>Sun</td>\n",
              "      <td>Dinner</td>\n",
              "      <td>2</td>\n",
              "    </tr>\n",
              "    <tr>\n",
              "      <th>152</th>\n",
              "      <td>17.26</td>\n",
              "      <td>2.74</td>\n",
              "      <td>Male</td>\n",
              "      <td>No</td>\n",
              "      <td>Sun</td>\n",
              "      <td>Dinner</td>\n",
              "      <td>3</td>\n",
              "    </tr>\n",
              "    <tr>\n",
              "      <th>153</th>\n",
              "      <td>24.55</td>\n",
              "      <td>2.00</td>\n",
              "      <td>Male</td>\n",
              "      <td>No</td>\n",
              "      <td>Sun</td>\n",
              "      <td>Dinner</td>\n",
              "      <td>4</td>\n",
              "    </tr>\n",
              "    <tr>\n",
              "      <th>154</th>\n",
              "      <td>19.77</td>\n",
              "      <td>2.00</td>\n",
              "      <td>Male</td>\n",
              "      <td>No</td>\n",
              "      <td>Sun</td>\n",
              "      <td>Dinner</td>\n",
              "      <td>4</td>\n",
              "    </tr>\n",
              "    <tr>\n",
              "      <th>155</th>\n",
              "      <td>29.85</td>\n",
              "      <td>5.14</td>\n",
              "      <td>Female</td>\n",
              "      <td>No</td>\n",
              "      <td>Sun</td>\n",
              "      <td>Dinner</td>\n",
              "      <td>5</td>\n",
              "    </tr>\n",
              "    <tr>\n",
              "      <th>156</th>\n",
              "      <td>48.17</td>\n",
              "      <td>5.00</td>\n",
              "      <td>Male</td>\n",
              "      <td>No</td>\n",
              "      <td>Sun</td>\n",
              "      <td>Dinner</td>\n",
              "      <td>6</td>\n",
              "    </tr>\n",
              "    <tr>\n",
              "      <th>157</th>\n",
              "      <td>25.00</td>\n",
              "      <td>3.75</td>\n",
              "      <td>Female</td>\n",
              "      <td>No</td>\n",
              "      <td>Sun</td>\n",
              "      <td>Dinner</td>\n",
              "      <td>4</td>\n",
              "    </tr>\n",
              "    <tr>\n",
              "      <th>158</th>\n",
              "      <td>13.39</td>\n",
              "      <td>2.61</td>\n",
              "      <td>Female</td>\n",
              "      <td>No</td>\n",
              "      <td>Sun</td>\n",
              "      <td>Dinner</td>\n",
              "      <td>2</td>\n",
              "    </tr>\n",
              "    <tr>\n",
              "      <th>159</th>\n",
              "      <td>16.49</td>\n",
              "      <td>2.00</td>\n",
              "      <td>Male</td>\n",
              "      <td>No</td>\n",
              "      <td>Sun</td>\n",
              "      <td>Dinner</td>\n",
              "      <td>4</td>\n",
              "    </tr>\n",
              "    <tr>\n",
              "      <th>160</th>\n",
              "      <td>21.50</td>\n",
              "      <td>3.50</td>\n",
              "      <td>Male</td>\n",
              "      <td>No</td>\n",
              "      <td>Sun</td>\n",
              "      <td>Dinner</td>\n",
              "      <td>4</td>\n",
              "    </tr>\n",
              "    <tr>\n",
              "      <th>161</th>\n",
              "      <td>12.66</td>\n",
              "      <td>2.50</td>\n",
              "      <td>Male</td>\n",
              "      <td>No</td>\n",
              "      <td>Sun</td>\n",
              "      <td>Dinner</td>\n",
              "      <td>2</td>\n",
              "    </tr>\n",
              "    <tr>\n",
              "      <th>162</th>\n",
              "      <td>16.21</td>\n",
              "      <td>2.00</td>\n",
              "      <td>Female</td>\n",
              "      <td>No</td>\n",
              "      <td>Sun</td>\n",
              "      <td>Dinner</td>\n",
              "      <td>3</td>\n",
              "    </tr>\n",
              "    <tr>\n",
              "      <th>163</th>\n",
              "      <td>13.81</td>\n",
              "      <td>2.00</td>\n",
              "      <td>Male</td>\n",
              "      <td>No</td>\n",
              "      <td>Sun</td>\n",
              "      <td>Dinner</td>\n",
              "      <td>2</td>\n",
              "    </tr>\n",
              "    <tr>\n",
              "      <th>164</th>\n",
              "      <td>17.51</td>\n",
              "      <td>3.00</td>\n",
              "      <td>Female</td>\n",
              "      <td>Yes</td>\n",
              "      <td>Sun</td>\n",
              "      <td>Dinner</td>\n",
              "      <td>2</td>\n",
              "    </tr>\n",
              "    <tr>\n",
              "      <th>165</th>\n",
              "      <td>24.52</td>\n",
              "      <td>3.48</td>\n",
              "      <td>Male</td>\n",
              "      <td>No</td>\n",
              "      <td>Sun</td>\n",
              "      <td>Dinner</td>\n",
              "      <td>3</td>\n",
              "    </tr>\n",
              "    <tr>\n",
              "      <th>166</th>\n",
              "      <td>20.76</td>\n",
              "      <td>2.24</td>\n",
              "      <td>Male</td>\n",
              "      <td>No</td>\n",
              "      <td>Sun</td>\n",
              "      <td>Dinner</td>\n",
              "      <td>2</td>\n",
              "    </tr>\n",
              "    <tr>\n",
              "      <th>167</th>\n",
              "      <td>31.71</td>\n",
              "      <td>4.50</td>\n",
              "      <td>Male</td>\n",
              "      <td>No</td>\n",
              "      <td>Sun</td>\n",
              "      <td>Dinner</td>\n",
              "      <td>4</td>\n",
              "    </tr>\n",
              "    <tr>\n",
              "      <th>168</th>\n",
              "      <td>10.59</td>\n",
              "      <td>1.61</td>\n",
              "      <td>Female</td>\n",
              "      <td>Yes</td>\n",
              "      <td>Sat</td>\n",
              "      <td>Dinner</td>\n",
              "      <td>2</td>\n",
              "    </tr>\n",
              "    <tr>\n",
              "      <th>169</th>\n",
              "      <td>10.63</td>\n",
              "      <td>2.00</td>\n",
              "      <td>Female</td>\n",
              "      <td>Yes</td>\n",
              "      <td>Sat</td>\n",
              "      <td>Dinner</td>\n",
              "      <td>2</td>\n",
              "    </tr>\n",
              "    <tr>\n",
              "      <th>170</th>\n",
              "      <td>50.81</td>\n",
              "      <td>10.00</td>\n",
              "      <td>Male</td>\n",
              "      <td>Yes</td>\n",
              "      <td>Sat</td>\n",
              "      <td>Dinner</td>\n",
              "      <td>3</td>\n",
              "    </tr>\n",
              "    <tr>\n",
              "      <th>171</th>\n",
              "      <td>15.81</td>\n",
              "      <td>3.16</td>\n",
              "      <td>Male</td>\n",
              "      <td>Yes</td>\n",
              "      <td>Sat</td>\n",
              "      <td>Dinner</td>\n",
              "      <td>2</td>\n",
              "    </tr>\n",
              "    <tr>\n",
              "      <th>172</th>\n",
              "      <td>7.25</td>\n",
              "      <td>5.15</td>\n",
              "      <td>Male</td>\n",
              "      <td>Yes</td>\n",
              "      <td>Sun</td>\n",
              "      <td>Dinner</td>\n",
              "      <td>2</td>\n",
              "    </tr>\n",
              "    <tr>\n",
              "      <th>173</th>\n",
              "      <td>31.85</td>\n",
              "      <td>3.18</td>\n",
              "      <td>Male</td>\n",
              "      <td>Yes</td>\n",
              "      <td>Sun</td>\n",
              "      <td>Dinner</td>\n",
              "      <td>2</td>\n",
              "    </tr>\n",
              "    <tr>\n",
              "      <th>174</th>\n",
              "      <td>16.82</td>\n",
              "      <td>4.00</td>\n",
              "      <td>Male</td>\n",
              "      <td>Yes</td>\n",
              "      <td>Sun</td>\n",
              "      <td>Dinner</td>\n",
              "      <td>2</td>\n",
              "    </tr>\n",
              "    <tr>\n",
              "      <th>175</th>\n",
              "      <td>32.90</td>\n",
              "      <td>3.11</td>\n",
              "      <td>Male</td>\n",
              "      <td>Yes</td>\n",
              "      <td>Sun</td>\n",
              "      <td>Dinner</td>\n",
              "      <td>2</td>\n",
              "    </tr>\n",
              "    <tr>\n",
              "      <th>176</th>\n",
              "      <td>17.89</td>\n",
              "      <td>2.00</td>\n",
              "      <td>Male</td>\n",
              "      <td>Yes</td>\n",
              "      <td>Sun</td>\n",
              "      <td>Dinner</td>\n",
              "      <td>2</td>\n",
              "    </tr>\n",
              "    <tr>\n",
              "      <th>177</th>\n",
              "      <td>14.48</td>\n",
              "      <td>2.00</td>\n",
              "      <td>Male</td>\n",
              "      <td>Yes</td>\n",
              "      <td>Sun</td>\n",
              "      <td>Dinner</td>\n",
              "      <td>2</td>\n",
              "    </tr>\n",
              "    <tr>\n",
              "      <th>178</th>\n",
              "      <td>9.60</td>\n",
              "      <td>4.00</td>\n",
              "      <td>Female</td>\n",
              "      <td>Yes</td>\n",
              "      <td>Sun</td>\n",
              "      <td>Dinner</td>\n",
              "      <td>2</td>\n",
              "    </tr>\n",
              "    <tr>\n",
              "      <th>179</th>\n",
              "      <td>34.63</td>\n",
              "      <td>3.55</td>\n",
              "      <td>Male</td>\n",
              "      <td>Yes</td>\n",
              "      <td>Sun</td>\n",
              "      <td>Dinner</td>\n",
              "      <td>2</td>\n",
              "    </tr>\n",
              "    <tr>\n",
              "      <th>180</th>\n",
              "      <td>34.65</td>\n",
              "      <td>3.68</td>\n",
              "      <td>Male</td>\n",
              "      <td>Yes</td>\n",
              "      <td>Sun</td>\n",
              "      <td>Dinner</td>\n",
              "      <td>4</td>\n",
              "    </tr>\n",
              "    <tr>\n",
              "      <th>181</th>\n",
              "      <td>23.33</td>\n",
              "      <td>5.65</td>\n",
              "      <td>Male</td>\n",
              "      <td>Yes</td>\n",
              "      <td>Sun</td>\n",
              "      <td>Dinner</td>\n",
              "      <td>2</td>\n",
              "    </tr>\n",
              "    <tr>\n",
              "      <th>182</th>\n",
              "      <td>45.35</td>\n",
              "      <td>3.50</td>\n",
              "      <td>Male</td>\n",
              "      <td>Yes</td>\n",
              "      <td>Sun</td>\n",
              "      <td>Dinner</td>\n",
              "      <td>3</td>\n",
              "    </tr>\n",
              "    <tr>\n",
              "      <th>183</th>\n",
              "      <td>23.17</td>\n",
              "      <td>6.50</td>\n",
              "      <td>Male</td>\n",
              "      <td>Yes</td>\n",
              "      <td>Sun</td>\n",
              "      <td>Dinner</td>\n",
              "      <td>4</td>\n",
              "    </tr>\n",
              "    <tr>\n",
              "      <th>184</th>\n",
              "      <td>40.55</td>\n",
              "      <td>3.00</td>\n",
              "      <td>Male</td>\n",
              "      <td>Yes</td>\n",
              "      <td>Sun</td>\n",
              "      <td>Dinner</td>\n",
              "      <td>2</td>\n",
              "    </tr>\n",
              "    <tr>\n",
              "      <th>185</th>\n",
              "      <td>20.69</td>\n",
              "      <td>5.00</td>\n",
              "      <td>Male</td>\n",
              "      <td>No</td>\n",
              "      <td>Sun</td>\n",
              "      <td>Dinner</td>\n",
              "      <td>5</td>\n",
              "    </tr>\n",
              "    <tr>\n",
              "      <th>186</th>\n",
              "      <td>20.90</td>\n",
              "      <td>3.50</td>\n",
              "      <td>Female</td>\n",
              "      <td>Yes</td>\n",
              "      <td>Sun</td>\n",
              "      <td>Dinner</td>\n",
              "      <td>3</td>\n",
              "    </tr>\n",
              "    <tr>\n",
              "      <th>187</th>\n",
              "      <td>30.46</td>\n",
              "      <td>2.00</td>\n",
              "      <td>Male</td>\n",
              "      <td>Yes</td>\n",
              "      <td>Sun</td>\n",
              "      <td>Dinner</td>\n",
              "      <td>5</td>\n",
              "    </tr>\n",
              "    <tr>\n",
              "      <th>188</th>\n",
              "      <td>18.15</td>\n",
              "      <td>3.50</td>\n",
              "      <td>Female</td>\n",
              "      <td>Yes</td>\n",
              "      <td>Sun</td>\n",
              "      <td>Dinner</td>\n",
              "      <td>3</td>\n",
              "    </tr>\n",
              "    <tr>\n",
              "      <th>189</th>\n",
              "      <td>23.10</td>\n",
              "      <td>4.00</td>\n",
              "      <td>Male</td>\n",
              "      <td>Yes</td>\n",
              "      <td>Sun</td>\n",
              "      <td>Dinner</td>\n",
              "      <td>3</td>\n",
              "    </tr>\n",
              "    <tr>\n",
              "      <th>190</th>\n",
              "      <td>15.69</td>\n",
              "      <td>1.50</td>\n",
              "      <td>Male</td>\n",
              "      <td>Yes</td>\n",
              "      <td>Sun</td>\n",
              "      <td>Dinner</td>\n",
              "      <td>2</td>\n",
              "    </tr>\n",
              "    <tr>\n",
              "      <th>191</th>\n",
              "      <td>19.81</td>\n",
              "      <td>4.19</td>\n",
              "      <td>Female</td>\n",
              "      <td>Yes</td>\n",
              "      <td>Thur</td>\n",
              "      <td>Lunch</td>\n",
              "      <td>2</td>\n",
              "    </tr>\n",
              "    <tr>\n",
              "      <th>192</th>\n",
              "      <td>28.44</td>\n",
              "      <td>2.56</td>\n",
              "      <td>Male</td>\n",
              "      <td>Yes</td>\n",
              "      <td>Thur</td>\n",
              "      <td>Lunch</td>\n",
              "      <td>2</td>\n",
              "    </tr>\n",
              "    <tr>\n",
              "      <th>193</th>\n",
              "      <td>15.48</td>\n",
              "      <td>2.02</td>\n",
              "      <td>Male</td>\n",
              "      <td>Yes</td>\n",
              "      <td>Thur</td>\n",
              "      <td>Lunch</td>\n",
              "      <td>2</td>\n",
              "    </tr>\n",
              "    <tr>\n",
              "      <th>194</th>\n",
              "      <td>16.58</td>\n",
              "      <td>4.00</td>\n",
              "      <td>Male</td>\n",
              "      <td>Yes</td>\n",
              "      <td>Thur</td>\n",
              "      <td>Lunch</td>\n",
              "      <td>2</td>\n",
              "    </tr>\n",
              "    <tr>\n",
              "      <th>195</th>\n",
              "      <td>7.56</td>\n",
              "      <td>1.44</td>\n",
              "      <td>Male</td>\n",
              "      <td>No</td>\n",
              "      <td>Thur</td>\n",
              "      <td>Lunch</td>\n",
              "      <td>2</td>\n",
              "    </tr>\n",
              "    <tr>\n",
              "      <th>196</th>\n",
              "      <td>10.34</td>\n",
              "      <td>2.00</td>\n",
              "      <td>Male</td>\n",
              "      <td>Yes</td>\n",
              "      <td>Thur</td>\n",
              "      <td>Lunch</td>\n",
              "      <td>2</td>\n",
              "    </tr>\n",
              "    <tr>\n",
              "      <th>197</th>\n",
              "      <td>43.11</td>\n",
              "      <td>5.00</td>\n",
              "      <td>Female</td>\n",
              "      <td>Yes</td>\n",
              "      <td>Thur</td>\n",
              "      <td>Lunch</td>\n",
              "      <td>4</td>\n",
              "    </tr>\n",
              "    <tr>\n",
              "      <th>198</th>\n",
              "      <td>13.00</td>\n",
              "      <td>2.00</td>\n",
              "      <td>Female</td>\n",
              "      <td>Yes</td>\n",
              "      <td>Thur</td>\n",
              "      <td>Lunch</td>\n",
              "      <td>2</td>\n",
              "    </tr>\n",
              "    <tr>\n",
              "      <th>199</th>\n",
              "      <td>13.51</td>\n",
              "      <td>2.00</td>\n",
              "      <td>Male</td>\n",
              "      <td>Yes</td>\n",
              "      <td>Thur</td>\n",
              "      <td>Lunch</td>\n",
              "      <td>2</td>\n",
              "    </tr>\n",
              "    <tr>\n",
              "      <th>200</th>\n",
              "      <td>18.71</td>\n",
              "      <td>4.00</td>\n",
              "      <td>Male</td>\n",
              "      <td>Yes</td>\n",
              "      <td>Thur</td>\n",
              "      <td>Lunch</td>\n",
              "      <td>3</td>\n",
              "    </tr>\n",
              "    <tr>\n",
              "      <th>201</th>\n",
              "      <td>12.74</td>\n",
              "      <td>2.01</td>\n",
              "      <td>Female</td>\n",
              "      <td>Yes</td>\n",
              "      <td>Thur</td>\n",
              "      <td>Lunch</td>\n",
              "      <td>2</td>\n",
              "    </tr>\n",
              "    <tr>\n",
              "      <th>202</th>\n",
              "      <td>13.00</td>\n",
              "      <td>2.00</td>\n",
              "      <td>Female</td>\n",
              "      <td>Yes</td>\n",
              "      <td>Thur</td>\n",
              "      <td>Lunch</td>\n",
              "      <td>2</td>\n",
              "    </tr>\n",
              "    <tr>\n",
              "      <th>203</th>\n",
              "      <td>16.40</td>\n",
              "      <td>2.50</td>\n",
              "      <td>Female</td>\n",
              "      <td>Yes</td>\n",
              "      <td>Thur</td>\n",
              "      <td>Lunch</td>\n",
              "      <td>2</td>\n",
              "    </tr>\n",
              "    <tr>\n",
              "      <th>204</th>\n",
              "      <td>20.53</td>\n",
              "      <td>4.00</td>\n",
              "      <td>Male</td>\n",
              "      <td>Yes</td>\n",
              "      <td>Thur</td>\n",
              "      <td>Lunch</td>\n",
              "      <td>4</td>\n",
              "    </tr>\n",
              "    <tr>\n",
              "      <th>205</th>\n",
              "      <td>16.47</td>\n",
              "      <td>3.23</td>\n",
              "      <td>Female</td>\n",
              "      <td>Yes</td>\n",
              "      <td>Thur</td>\n",
              "      <td>Lunch</td>\n",
              "      <td>3</td>\n",
              "    </tr>\n",
              "    <tr>\n",
              "      <th>206</th>\n",
              "      <td>26.59</td>\n",
              "      <td>3.41</td>\n",
              "      <td>Male</td>\n",
              "      <td>Yes</td>\n",
              "      <td>Sat</td>\n",
              "      <td>Dinner</td>\n",
              "      <td>3</td>\n",
              "    </tr>\n",
              "    <tr>\n",
              "      <th>207</th>\n",
              "      <td>38.73</td>\n",
              "      <td>3.00</td>\n",
              "      <td>Male</td>\n",
              "      <td>Yes</td>\n",
              "      <td>Sat</td>\n",
              "      <td>Dinner</td>\n",
              "      <td>4</td>\n",
              "    </tr>\n",
              "    <tr>\n",
              "      <th>208</th>\n",
              "      <td>24.27</td>\n",
              "      <td>2.03</td>\n",
              "      <td>Male</td>\n",
              "      <td>Yes</td>\n",
              "      <td>Sat</td>\n",
              "      <td>Dinner</td>\n",
              "      <td>2</td>\n",
              "    </tr>\n",
              "    <tr>\n",
              "      <th>209</th>\n",
              "      <td>12.76</td>\n",
              "      <td>2.23</td>\n",
              "      <td>Female</td>\n",
              "      <td>Yes</td>\n",
              "      <td>Sat</td>\n",
              "      <td>Dinner</td>\n",
              "      <td>2</td>\n",
              "    </tr>\n",
              "    <tr>\n",
              "      <th>210</th>\n",
              "      <td>30.06</td>\n",
              "      <td>2.00</td>\n",
              "      <td>Male</td>\n",
              "      <td>Yes</td>\n",
              "      <td>Sat</td>\n",
              "      <td>Dinner</td>\n",
              "      <td>3</td>\n",
              "    </tr>\n",
              "    <tr>\n",
              "      <th>211</th>\n",
              "      <td>25.89</td>\n",
              "      <td>5.16</td>\n",
              "      <td>Male</td>\n",
              "      <td>Yes</td>\n",
              "      <td>Sat</td>\n",
              "      <td>Dinner</td>\n",
              "      <td>4</td>\n",
              "    </tr>\n",
              "    <tr>\n",
              "      <th>212</th>\n",
              "      <td>48.33</td>\n",
              "      <td>9.00</td>\n",
              "      <td>Male</td>\n",
              "      <td>No</td>\n",
              "      <td>Sat</td>\n",
              "      <td>Dinner</td>\n",
              "      <td>4</td>\n",
              "    </tr>\n",
              "    <tr>\n",
              "      <th>213</th>\n",
              "      <td>13.27</td>\n",
              "      <td>2.50</td>\n",
              "      <td>Female</td>\n",
              "      <td>Yes</td>\n",
              "      <td>Sat</td>\n",
              "      <td>Dinner</td>\n",
              "      <td>2</td>\n",
              "    </tr>\n",
              "    <tr>\n",
              "      <th>214</th>\n",
              "      <td>28.17</td>\n",
              "      <td>6.50</td>\n",
              "      <td>Female</td>\n",
              "      <td>Yes</td>\n",
              "      <td>Sat</td>\n",
              "      <td>Dinner</td>\n",
              "      <td>3</td>\n",
              "    </tr>\n",
              "    <tr>\n",
              "      <th>215</th>\n",
              "      <td>12.90</td>\n",
              "      <td>1.10</td>\n",
              "      <td>Female</td>\n",
              "      <td>Yes</td>\n",
              "      <td>Sat</td>\n",
              "      <td>Dinner</td>\n",
              "      <td>2</td>\n",
              "    </tr>\n",
              "    <tr>\n",
              "      <th>216</th>\n",
              "      <td>28.15</td>\n",
              "      <td>3.00</td>\n",
              "      <td>Male</td>\n",
              "      <td>Yes</td>\n",
              "      <td>Sat</td>\n",
              "      <td>Dinner</td>\n",
              "      <td>5</td>\n",
              "    </tr>\n",
              "    <tr>\n",
              "      <th>217</th>\n",
              "      <td>11.59</td>\n",
              "      <td>1.50</td>\n",
              "      <td>Male</td>\n",
              "      <td>Yes</td>\n",
              "      <td>Sat</td>\n",
              "      <td>Dinner</td>\n",
              "      <td>2</td>\n",
              "    </tr>\n",
              "    <tr>\n",
              "      <th>218</th>\n",
              "      <td>7.74</td>\n",
              "      <td>1.44</td>\n",
              "      <td>Male</td>\n",
              "      <td>Yes</td>\n",
              "      <td>Sat</td>\n",
              "      <td>Dinner</td>\n",
              "      <td>2</td>\n",
              "    </tr>\n",
              "    <tr>\n",
              "      <th>219</th>\n",
              "      <td>30.14</td>\n",
              "      <td>3.09</td>\n",
              "      <td>Female</td>\n",
              "      <td>Yes</td>\n",
              "      <td>Sat</td>\n",
              "      <td>Dinner</td>\n",
              "      <td>4</td>\n",
              "    </tr>\n",
              "    <tr>\n",
              "      <th>220</th>\n",
              "      <td>12.16</td>\n",
              "      <td>2.20</td>\n",
              "      <td>Male</td>\n",
              "      <td>Yes</td>\n",
              "      <td>Fri</td>\n",
              "      <td>Lunch</td>\n",
              "      <td>2</td>\n",
              "    </tr>\n",
              "    <tr>\n",
              "      <th>221</th>\n",
              "      <td>13.42</td>\n",
              "      <td>3.48</td>\n",
              "      <td>Female</td>\n",
              "      <td>Yes</td>\n",
              "      <td>Fri</td>\n",
              "      <td>Lunch</td>\n",
              "      <td>2</td>\n",
              "    </tr>\n",
              "    <tr>\n",
              "      <th>222</th>\n",
              "      <td>8.58</td>\n",
              "      <td>1.92</td>\n",
              "      <td>Male</td>\n",
              "      <td>Yes</td>\n",
              "      <td>Fri</td>\n",
              "      <td>Lunch</td>\n",
              "      <td>1</td>\n",
              "    </tr>\n",
              "    <tr>\n",
              "      <th>223</th>\n",
              "      <td>15.98</td>\n",
              "      <td>3.00</td>\n",
              "      <td>Female</td>\n",
              "      <td>No</td>\n",
              "      <td>Fri</td>\n",
              "      <td>Lunch</td>\n",
              "      <td>3</td>\n",
              "    </tr>\n",
              "    <tr>\n",
              "      <th>224</th>\n",
              "      <td>13.42</td>\n",
              "      <td>1.58</td>\n",
              "      <td>Male</td>\n",
              "      <td>Yes</td>\n",
              "      <td>Fri</td>\n",
              "      <td>Lunch</td>\n",
              "      <td>2</td>\n",
              "    </tr>\n",
              "    <tr>\n",
              "      <th>225</th>\n",
              "      <td>16.27</td>\n",
              "      <td>2.50</td>\n",
              "      <td>Female</td>\n",
              "      <td>Yes</td>\n",
              "      <td>Fri</td>\n",
              "      <td>Lunch</td>\n",
              "      <td>2</td>\n",
              "    </tr>\n",
              "    <tr>\n",
              "      <th>226</th>\n",
              "      <td>10.09</td>\n",
              "      <td>2.00</td>\n",
              "      <td>Female</td>\n",
              "      <td>Yes</td>\n",
              "      <td>Fri</td>\n",
              "      <td>Lunch</td>\n",
              "      <td>2</td>\n",
              "    </tr>\n",
              "    <tr>\n",
              "      <th>227</th>\n",
              "      <td>20.45</td>\n",
              "      <td>3.00</td>\n",
              "      <td>Male</td>\n",
              "      <td>No</td>\n",
              "      <td>Sat</td>\n",
              "      <td>Dinner</td>\n",
              "      <td>4</td>\n",
              "    </tr>\n",
              "    <tr>\n",
              "      <th>228</th>\n",
              "      <td>13.28</td>\n",
              "      <td>2.72</td>\n",
              "      <td>Male</td>\n",
              "      <td>No</td>\n",
              "      <td>Sat</td>\n",
              "      <td>Dinner</td>\n",
              "      <td>2</td>\n",
              "    </tr>\n",
              "    <tr>\n",
              "      <th>229</th>\n",
              "      <td>22.12</td>\n",
              "      <td>2.88</td>\n",
              "      <td>Female</td>\n",
              "      <td>Yes</td>\n",
              "      <td>Sat</td>\n",
              "      <td>Dinner</td>\n",
              "      <td>2</td>\n",
              "    </tr>\n",
              "    <tr>\n",
              "      <th>230</th>\n",
              "      <td>24.01</td>\n",
              "      <td>2.00</td>\n",
              "      <td>Male</td>\n",
              "      <td>Yes</td>\n",
              "      <td>Sat</td>\n",
              "      <td>Dinner</td>\n",
              "      <td>4</td>\n",
              "    </tr>\n",
              "    <tr>\n",
              "      <th>231</th>\n",
              "      <td>15.69</td>\n",
              "      <td>3.00</td>\n",
              "      <td>Male</td>\n",
              "      <td>Yes</td>\n",
              "      <td>Sat</td>\n",
              "      <td>Dinner</td>\n",
              "      <td>3</td>\n",
              "    </tr>\n",
              "    <tr>\n",
              "      <th>232</th>\n",
              "      <td>11.61</td>\n",
              "      <td>3.39</td>\n",
              "      <td>Male</td>\n",
              "      <td>No</td>\n",
              "      <td>Sat</td>\n",
              "      <td>Dinner</td>\n",
              "      <td>2</td>\n",
              "    </tr>\n",
              "    <tr>\n",
              "      <th>233</th>\n",
              "      <td>10.77</td>\n",
              "      <td>1.47</td>\n",
              "      <td>Male</td>\n",
              "      <td>No</td>\n",
              "      <td>Sat</td>\n",
              "      <td>Dinner</td>\n",
              "      <td>2</td>\n",
              "    </tr>\n",
              "    <tr>\n",
              "      <th>234</th>\n",
              "      <td>15.53</td>\n",
              "      <td>3.00</td>\n",
              "      <td>Male</td>\n",
              "      <td>Yes</td>\n",
              "      <td>Sat</td>\n",
              "      <td>Dinner</td>\n",
              "      <td>2</td>\n",
              "    </tr>\n",
              "    <tr>\n",
              "      <th>235</th>\n",
              "      <td>10.07</td>\n",
              "      <td>1.25</td>\n",
              "      <td>Male</td>\n",
              "      <td>No</td>\n",
              "      <td>Sat</td>\n",
              "      <td>Dinner</td>\n",
              "      <td>2</td>\n",
              "    </tr>\n",
              "    <tr>\n",
              "      <th>236</th>\n",
              "      <td>12.60</td>\n",
              "      <td>1.00</td>\n",
              "      <td>Male</td>\n",
              "      <td>Yes</td>\n",
              "      <td>Sat</td>\n",
              "      <td>Dinner</td>\n",
              "      <td>2</td>\n",
              "    </tr>\n",
              "    <tr>\n",
              "      <th>237</th>\n",
              "      <td>32.83</td>\n",
              "      <td>1.17</td>\n",
              "      <td>Male</td>\n",
              "      <td>Yes</td>\n",
              "      <td>Sat</td>\n",
              "      <td>Dinner</td>\n",
              "      <td>2</td>\n",
              "    </tr>\n",
              "    <tr>\n",
              "      <th>238</th>\n",
              "      <td>35.83</td>\n",
              "      <td>4.67</td>\n",
              "      <td>Female</td>\n",
              "      <td>No</td>\n",
              "      <td>Sat</td>\n",
              "      <td>Dinner</td>\n",
              "      <td>3</td>\n",
              "    </tr>\n",
              "    <tr>\n",
              "      <th>239</th>\n",
              "      <td>29.03</td>\n",
              "      <td>5.92</td>\n",
              "      <td>Male</td>\n",
              "      <td>No</td>\n",
              "      <td>Sat</td>\n",
              "      <td>Dinner</td>\n",
              "      <td>3</td>\n",
              "    </tr>\n",
              "    <tr>\n",
              "      <th>240</th>\n",
              "      <td>27.18</td>\n",
              "      <td>2.00</td>\n",
              "      <td>Female</td>\n",
              "      <td>Yes</td>\n",
              "      <td>Sat</td>\n",
              "      <td>Dinner</td>\n",
              "      <td>2</td>\n",
              "    </tr>\n",
              "    <tr>\n",
              "      <th>241</th>\n",
              "      <td>22.67</td>\n",
              "      <td>2.00</td>\n",
              "      <td>Male</td>\n",
              "      <td>Yes</td>\n",
              "      <td>Sat</td>\n",
              "      <td>Dinner</td>\n",
              "      <td>2</td>\n",
              "    </tr>\n",
              "    <tr>\n",
              "      <th>242</th>\n",
              "      <td>17.82</td>\n",
              "      <td>1.75</td>\n",
              "      <td>Male</td>\n",
              "      <td>No</td>\n",
              "      <td>Sat</td>\n",
              "      <td>Dinner</td>\n",
              "      <td>2</td>\n",
              "    </tr>\n",
              "    <tr>\n",
              "      <th>243</th>\n",
              "      <td>18.78</td>\n",
              "      <td>3.00</td>\n",
              "      <td>Female</td>\n",
              "      <td>No</td>\n",
              "      <td>Thur</td>\n",
              "      <td>Dinner</td>\n",
              "      <td>2</td>\n",
              "    </tr>\n",
              "  </tbody>\n",
              "</table>\n",
              "</div>"
            ],
            "text/plain": [
              "     total_bill    tip     sex smoker   day    time  size\n",
              "0         16.99   1.01  Female     No   Sun  Dinner     2\n",
              "1         10.34   1.66    Male     No   Sun  Dinner     3\n",
              "2         21.01   3.50    Male     No   Sun  Dinner     3\n",
              "3         23.68   3.31    Male     No   Sun  Dinner     2\n",
              "4         24.59   3.61  Female     No   Sun  Dinner     4\n",
              "5         25.29   4.71    Male     No   Sun  Dinner     4\n",
              "6          8.77   2.00    Male     No   Sun  Dinner     2\n",
              "7         26.88   3.12    Male     No   Sun  Dinner     4\n",
              "8         15.04   1.96    Male     No   Sun  Dinner     2\n",
              "9         14.78   3.23    Male     No   Sun  Dinner     2\n",
              "10        10.27   1.71    Male     No   Sun  Dinner     2\n",
              "11        35.26   5.00  Female     No   Sun  Dinner     4\n",
              "12        15.42   1.57    Male     No   Sun  Dinner     2\n",
              "13        18.43   3.00    Male     No   Sun  Dinner     4\n",
              "14        14.83   3.02  Female     No   Sun  Dinner     2\n",
              "15        21.58   3.92    Male     No   Sun  Dinner     2\n",
              "16        10.33   1.67  Female     No   Sun  Dinner     3\n",
              "17        16.29   3.71    Male     No   Sun  Dinner     3\n",
              "18        16.97   3.50  Female     No   Sun  Dinner     3\n",
              "19        20.65   3.35    Male     No   Sat  Dinner     3\n",
              "20        17.92   4.08    Male     No   Sat  Dinner     2\n",
              "21        20.29   2.75  Female     No   Sat  Dinner     2\n",
              "22        15.77   2.23  Female     No   Sat  Dinner     2\n",
              "23        39.42   7.58    Male     No   Sat  Dinner     4\n",
              "24        19.82   3.18    Male     No   Sat  Dinner     2\n",
              "25        17.81   2.34    Male     No   Sat  Dinner     4\n",
              "26        13.37   2.00    Male     No   Sat  Dinner     2\n",
              "27        12.69   2.00    Male     No   Sat  Dinner     2\n",
              "28        21.70   4.30    Male     No   Sat  Dinner     2\n",
              "29        19.65   3.00  Female     No   Sat  Dinner     2\n",
              "30         9.55   1.45    Male     No   Sat  Dinner     2\n",
              "31        18.35   2.50    Male     No   Sat  Dinner     4\n",
              "32        15.06   3.00  Female     No   Sat  Dinner     2\n",
              "33        20.69   2.45  Female     No   Sat  Dinner     4\n",
              "34        17.78   3.27    Male     No   Sat  Dinner     2\n",
              "35        24.06   3.60    Male     No   Sat  Dinner     3\n",
              "36        16.31   2.00    Male     No   Sat  Dinner     3\n",
              "37        16.93   3.07  Female     No   Sat  Dinner     3\n",
              "38        18.69   2.31    Male     No   Sat  Dinner     3\n",
              "39        31.27   5.00    Male     No   Sat  Dinner     3\n",
              "40        16.04   2.24    Male     No   Sat  Dinner     3\n",
              "41        17.46   2.54    Male     No   Sun  Dinner     2\n",
              "42        13.94   3.06    Male     No   Sun  Dinner     2\n",
              "43         9.68   1.32    Male     No   Sun  Dinner     2\n",
              "44        30.40   5.60    Male     No   Sun  Dinner     4\n",
              "45        18.29   3.00    Male     No   Sun  Dinner     2\n",
              "46        22.23   5.00    Male     No   Sun  Dinner     2\n",
              "47        32.40   6.00    Male     No   Sun  Dinner     4\n",
              "48        28.55   2.05    Male     No   Sun  Dinner     3\n",
              "49        18.04   3.00    Male     No   Sun  Dinner     2\n",
              "50        12.54   2.50    Male     No   Sun  Dinner     2\n",
              "51        10.29   2.60  Female     No   Sun  Dinner     2\n",
              "52        34.81   5.20  Female     No   Sun  Dinner     4\n",
              "53         9.94   1.56    Male     No   Sun  Dinner     2\n",
              "54        25.56   4.34    Male     No   Sun  Dinner     4\n",
              "55        19.49   3.51    Male     No   Sun  Dinner     2\n",
              "56        38.01   3.00    Male    Yes   Sat  Dinner     4\n",
              "57        26.41   1.50  Female     No   Sat  Dinner     2\n",
              "58        11.24   1.76    Male    Yes   Sat  Dinner     2\n",
              "59        48.27   6.73    Male     No   Sat  Dinner     4\n",
              "60        20.29   3.21    Male    Yes   Sat  Dinner     2\n",
              "61        13.81   2.00    Male    Yes   Sat  Dinner     2\n",
              "62        11.02   1.98    Male    Yes   Sat  Dinner     2\n",
              "63        18.29   3.76    Male    Yes   Sat  Dinner     4\n",
              "64        17.59   2.64    Male     No   Sat  Dinner     3\n",
              "65        20.08   3.15    Male     No   Sat  Dinner     3\n",
              "66        16.45   2.47  Female     No   Sat  Dinner     2\n",
              "67         3.07   1.00  Female    Yes   Sat  Dinner     1\n",
              "68        20.23   2.01    Male     No   Sat  Dinner     2\n",
              "69        15.01   2.09    Male    Yes   Sat  Dinner     2\n",
              "70        12.02   1.97    Male     No   Sat  Dinner     2\n",
              "71        17.07   3.00  Female     No   Sat  Dinner     3\n",
              "72        26.86   3.14  Female    Yes   Sat  Dinner     2\n",
              "73        25.28   5.00  Female    Yes   Sat  Dinner     2\n",
              "74        14.73   2.20  Female     No   Sat  Dinner     2\n",
              "75        10.51   1.25    Male     No   Sat  Dinner     2\n",
              "76        17.92   3.08    Male    Yes   Sat  Dinner     2\n",
              "77        27.20   4.00    Male     No  Thur   Lunch     4\n",
              "78        22.76   3.00    Male     No  Thur   Lunch     2\n",
              "79        17.29   2.71    Male     No  Thur   Lunch     2\n",
              "80        19.44   3.00    Male    Yes  Thur   Lunch     2\n",
              "81        16.66   3.40    Male     No  Thur   Lunch     2\n",
              "82        10.07   1.83  Female     No  Thur   Lunch     1\n",
              "83        32.68   5.00    Male    Yes  Thur   Lunch     2\n",
              "84        15.98   2.03    Male     No  Thur   Lunch     2\n",
              "85        34.83   5.17  Female     No  Thur   Lunch     4\n",
              "86        13.03   2.00    Male     No  Thur   Lunch     2\n",
              "87        18.28   4.00    Male     No  Thur   Lunch     2\n",
              "88        24.71   5.85    Male     No  Thur   Lunch     2\n",
              "89        21.16   3.00    Male     No  Thur   Lunch     2\n",
              "90        28.97   3.00    Male    Yes   Fri  Dinner     2\n",
              "91        22.49   3.50    Male     No   Fri  Dinner     2\n",
              "92         5.75   1.00  Female    Yes   Fri  Dinner     2\n",
              "93        16.32   4.30  Female    Yes   Fri  Dinner     2\n",
              "94        22.75   3.25  Female     No   Fri  Dinner     2\n",
              "95        40.17   4.73    Male    Yes   Fri  Dinner     4\n",
              "96        27.28   4.00    Male    Yes   Fri  Dinner     2\n",
              "97        12.03   1.50    Male    Yes   Fri  Dinner     2\n",
              "98        21.01   3.00    Male    Yes   Fri  Dinner     2\n",
              "99        12.46   1.50    Male     No   Fri  Dinner     2\n",
              "100       11.35   2.50  Female    Yes   Fri  Dinner     2\n",
              "101       15.38   3.00  Female    Yes   Fri  Dinner     2\n",
              "102       44.30   2.50  Female    Yes   Sat  Dinner     3\n",
              "103       22.42   3.48  Female    Yes   Sat  Dinner     2\n",
              "104       20.92   4.08  Female     No   Sat  Dinner     2\n",
              "105       15.36   1.64    Male    Yes   Sat  Dinner     2\n",
              "106       20.49   4.06    Male    Yes   Sat  Dinner     2\n",
              "107       25.21   4.29    Male    Yes   Sat  Dinner     2\n",
              "108       18.24   3.76    Male     No   Sat  Dinner     2\n",
              "109       14.31   4.00  Female    Yes   Sat  Dinner     2\n",
              "110       14.00   3.00    Male     No   Sat  Dinner     2\n",
              "111        7.25   1.00  Female     No   Sat  Dinner     1\n",
              "112       38.07   4.00    Male     No   Sun  Dinner     3\n",
              "113       23.95   2.55    Male     No   Sun  Dinner     2\n",
              "114       25.71   4.00  Female     No   Sun  Dinner     3\n",
              "115       17.31   3.50  Female     No   Sun  Dinner     2\n",
              "116       29.93   5.07    Male     No   Sun  Dinner     4\n",
              "117       10.65   1.50  Female     No  Thur   Lunch     2\n",
              "118       12.43   1.80  Female     No  Thur   Lunch     2\n",
              "119       24.08   2.92  Female     No  Thur   Lunch     4\n",
              "120       11.69   2.31    Male     No  Thur   Lunch     2\n",
              "121       13.42   1.68  Female     No  Thur   Lunch     2\n",
              "122       14.26   2.50    Male     No  Thur   Lunch     2\n",
              "123       15.95   2.00    Male     No  Thur   Lunch     2\n",
              "124       12.48   2.52  Female     No  Thur   Lunch     2\n",
              "125       29.80   4.20  Female     No  Thur   Lunch     6\n",
              "126        8.52   1.48    Male     No  Thur   Lunch     2\n",
              "127       14.52   2.00  Female     No  Thur   Lunch     2\n",
              "128       11.38   2.00  Female     No  Thur   Lunch     2\n",
              "129       22.82   2.18    Male     No  Thur   Lunch     3\n",
              "130       19.08   1.50    Male     No  Thur   Lunch     2\n",
              "131       20.27   2.83  Female     No  Thur   Lunch     2\n",
              "132       11.17   1.50  Female     No  Thur   Lunch     2\n",
              "133       12.26   2.00  Female     No  Thur   Lunch     2\n",
              "134       18.26   3.25  Female     No  Thur   Lunch     2\n",
              "135        8.51   1.25  Female     No  Thur   Lunch     2\n",
              "136       10.33   2.00  Female     No  Thur   Lunch     2\n",
              "137       14.15   2.00  Female     No  Thur   Lunch     2\n",
              "138       16.00   2.00    Male    Yes  Thur   Lunch     2\n",
              "139       13.16   2.75  Female     No  Thur   Lunch     2\n",
              "140       17.47   3.50  Female     No  Thur   Lunch     2\n",
              "141       34.30   6.70    Male     No  Thur   Lunch     6\n",
              "142       41.19   5.00    Male     No  Thur   Lunch     5\n",
              "143       27.05   5.00  Female     No  Thur   Lunch     6\n",
              "144       16.43   2.30  Female     No  Thur   Lunch     2\n",
              "145        8.35   1.50  Female     No  Thur   Lunch     2\n",
              "146       18.64   1.36  Female     No  Thur   Lunch     3\n",
              "147       11.87   1.63  Female     No  Thur   Lunch     2\n",
              "148        9.78   1.73    Male     No  Thur   Lunch     2\n",
              "149        7.51   2.00    Male     No  Thur   Lunch     2\n",
              "150       14.07   2.50    Male     No   Sun  Dinner     2\n",
              "151       13.13   2.00    Male     No   Sun  Dinner     2\n",
              "152       17.26   2.74    Male     No   Sun  Dinner     3\n",
              "153       24.55   2.00    Male     No   Sun  Dinner     4\n",
              "154       19.77   2.00    Male     No   Sun  Dinner     4\n",
              "155       29.85   5.14  Female     No   Sun  Dinner     5\n",
              "156       48.17   5.00    Male     No   Sun  Dinner     6\n",
              "157       25.00   3.75  Female     No   Sun  Dinner     4\n",
              "158       13.39   2.61  Female     No   Sun  Dinner     2\n",
              "159       16.49   2.00    Male     No   Sun  Dinner     4\n",
              "160       21.50   3.50    Male     No   Sun  Dinner     4\n",
              "161       12.66   2.50    Male     No   Sun  Dinner     2\n",
              "162       16.21   2.00  Female     No   Sun  Dinner     3\n",
              "163       13.81   2.00    Male     No   Sun  Dinner     2\n",
              "164       17.51   3.00  Female    Yes   Sun  Dinner     2\n",
              "165       24.52   3.48    Male     No   Sun  Dinner     3\n",
              "166       20.76   2.24    Male     No   Sun  Dinner     2\n",
              "167       31.71   4.50    Male     No   Sun  Dinner     4\n",
              "168       10.59   1.61  Female    Yes   Sat  Dinner     2\n",
              "169       10.63   2.00  Female    Yes   Sat  Dinner     2\n",
              "170       50.81  10.00    Male    Yes   Sat  Dinner     3\n",
              "171       15.81   3.16    Male    Yes   Sat  Dinner     2\n",
              "172        7.25   5.15    Male    Yes   Sun  Dinner     2\n",
              "173       31.85   3.18    Male    Yes   Sun  Dinner     2\n",
              "174       16.82   4.00    Male    Yes   Sun  Dinner     2\n",
              "175       32.90   3.11    Male    Yes   Sun  Dinner     2\n",
              "176       17.89   2.00    Male    Yes   Sun  Dinner     2\n",
              "177       14.48   2.00    Male    Yes   Sun  Dinner     2\n",
              "178        9.60   4.00  Female    Yes   Sun  Dinner     2\n",
              "179       34.63   3.55    Male    Yes   Sun  Dinner     2\n",
              "180       34.65   3.68    Male    Yes   Sun  Dinner     4\n",
              "181       23.33   5.65    Male    Yes   Sun  Dinner     2\n",
              "182       45.35   3.50    Male    Yes   Sun  Dinner     3\n",
              "183       23.17   6.50    Male    Yes   Sun  Dinner     4\n",
              "184       40.55   3.00    Male    Yes   Sun  Dinner     2\n",
              "185       20.69   5.00    Male     No   Sun  Dinner     5\n",
              "186       20.90   3.50  Female    Yes   Sun  Dinner     3\n",
              "187       30.46   2.00    Male    Yes   Sun  Dinner     5\n",
              "188       18.15   3.50  Female    Yes   Sun  Dinner     3\n",
              "189       23.10   4.00    Male    Yes   Sun  Dinner     3\n",
              "190       15.69   1.50    Male    Yes   Sun  Dinner     2\n",
              "191       19.81   4.19  Female    Yes  Thur   Lunch     2\n",
              "192       28.44   2.56    Male    Yes  Thur   Lunch     2\n",
              "193       15.48   2.02    Male    Yes  Thur   Lunch     2\n",
              "194       16.58   4.00    Male    Yes  Thur   Lunch     2\n",
              "195        7.56   1.44    Male     No  Thur   Lunch     2\n",
              "196       10.34   2.00    Male    Yes  Thur   Lunch     2\n",
              "197       43.11   5.00  Female    Yes  Thur   Lunch     4\n",
              "198       13.00   2.00  Female    Yes  Thur   Lunch     2\n",
              "199       13.51   2.00    Male    Yes  Thur   Lunch     2\n",
              "200       18.71   4.00    Male    Yes  Thur   Lunch     3\n",
              "201       12.74   2.01  Female    Yes  Thur   Lunch     2\n",
              "202       13.00   2.00  Female    Yes  Thur   Lunch     2\n",
              "203       16.40   2.50  Female    Yes  Thur   Lunch     2\n",
              "204       20.53   4.00    Male    Yes  Thur   Lunch     4\n",
              "205       16.47   3.23  Female    Yes  Thur   Lunch     3\n",
              "206       26.59   3.41    Male    Yes   Sat  Dinner     3\n",
              "207       38.73   3.00    Male    Yes   Sat  Dinner     4\n",
              "208       24.27   2.03    Male    Yes   Sat  Dinner     2\n",
              "209       12.76   2.23  Female    Yes   Sat  Dinner     2\n",
              "210       30.06   2.00    Male    Yes   Sat  Dinner     3\n",
              "211       25.89   5.16    Male    Yes   Sat  Dinner     4\n",
              "212       48.33   9.00    Male     No   Sat  Dinner     4\n",
              "213       13.27   2.50  Female    Yes   Sat  Dinner     2\n",
              "214       28.17   6.50  Female    Yes   Sat  Dinner     3\n",
              "215       12.90   1.10  Female    Yes   Sat  Dinner     2\n",
              "216       28.15   3.00    Male    Yes   Sat  Dinner     5\n",
              "217       11.59   1.50    Male    Yes   Sat  Dinner     2\n",
              "218        7.74   1.44    Male    Yes   Sat  Dinner     2\n",
              "219       30.14   3.09  Female    Yes   Sat  Dinner     4\n",
              "220       12.16   2.20    Male    Yes   Fri   Lunch     2\n",
              "221       13.42   3.48  Female    Yes   Fri   Lunch     2\n",
              "222        8.58   1.92    Male    Yes   Fri   Lunch     1\n",
              "223       15.98   3.00  Female     No   Fri   Lunch     3\n",
              "224       13.42   1.58    Male    Yes   Fri   Lunch     2\n",
              "225       16.27   2.50  Female    Yes   Fri   Lunch     2\n",
              "226       10.09   2.00  Female    Yes   Fri   Lunch     2\n",
              "227       20.45   3.00    Male     No   Sat  Dinner     4\n",
              "228       13.28   2.72    Male     No   Sat  Dinner     2\n",
              "229       22.12   2.88  Female    Yes   Sat  Dinner     2\n",
              "230       24.01   2.00    Male    Yes   Sat  Dinner     4\n",
              "231       15.69   3.00    Male    Yes   Sat  Dinner     3\n",
              "232       11.61   3.39    Male     No   Sat  Dinner     2\n",
              "233       10.77   1.47    Male     No   Sat  Dinner     2\n",
              "234       15.53   3.00    Male    Yes   Sat  Dinner     2\n",
              "235       10.07   1.25    Male     No   Sat  Dinner     2\n",
              "236       12.60   1.00    Male    Yes   Sat  Dinner     2\n",
              "237       32.83   1.17    Male    Yes   Sat  Dinner     2\n",
              "238       35.83   4.67  Female     No   Sat  Dinner     3\n",
              "239       29.03   5.92    Male     No   Sat  Dinner     3\n",
              "240       27.18   2.00  Female    Yes   Sat  Dinner     2\n",
              "241       22.67   2.00    Male    Yes   Sat  Dinner     2\n",
              "242       17.82   1.75    Male     No   Sat  Dinner     2\n",
              "243       18.78   3.00  Female     No  Thur  Dinner     2"
            ]
          },
          "metadata": {
            "tags": []
          },
          "execution_count": 11
        }
      ]
    },
    {
      "cell_type": "code",
      "metadata": {
        "colab": {
          "base_uri": "https://localhost:8080/",
          "height": 351
        },
        "id": "6AyK00Qhw4U8",
        "outputId": "b4dc065f-1c68-4338-8c5c-3c2d87d0a588"
      },
      "source": [
        "sns.distplot(tips['total_bill'],bins=20)"
      ],
      "execution_count": null,
      "outputs": [
        {
          "output_type": "stream",
          "text": [
            "/usr/local/lib/python3.6/dist-packages/seaborn/distributions.py:2557: FutureWarning: `distplot` is a deprecated function and will be removed in a future version. Please adapt your code to use either `displot` (a figure-level function with similar flexibility) or `histplot` (an axes-level function for histograms).\n",
            "  warnings.warn(msg, FutureWarning)\n"
          ],
          "name": "stderr"
        },
        {
          "output_type": "execute_result",
          "data": {
            "text/plain": [
              "<matplotlib.axes._subplots.AxesSubplot at 0x7f67a4e396d8>"
            ]
          },
          "metadata": {
            "tags": []
          },
          "execution_count": 13
        },
        {
          "output_type": "display_data",
          "data": {
            "image/png": "[encoded data removed]",
            "text/plain": [
              "<Figure size 432x288 with 1 Axes>"
            ]
          },
          "metadata": {
            "tags": [],
            "needs_background": "light"
          }
        }
      ]
    },
    {
      "cell_type": "code",
      "metadata": {
        "colab": {
          "base_uri": "https://localhost:8080/",
          "height": 458
        },
        "id": "D-JhuRPlxaUr",
        "outputId": "3b4f632c-5175-4f52-cb1e-9f1086c00aac"
      },
      "source": [
        "sns.jointplot(x='total_bill', y='tip',data=tips)"
      ],
      "execution_count": null,
      "outputs": [
        {
          "output_type": "execute_result",
          "data": {
            "text/plain": [
              "<seaborn.axisgrid.JointGrid at 0x7f67a4b37470>"
            ]
          },
          "metadata": {
            "tags": []
          },
          "execution_count": 16
        },
        {
          "output_type": "display_data",
          "data": {
            "image/png": "[encoded data removed]",
            "text/plain": [
              "<Figure size 432x432 with 3 Axes>"
            ]
          },
          "metadata": {
            "tags": [],
            "needs_background": "light"
          }
        }
      ]
    },
    {
      "cell_type": "code",
      "metadata": {
        "colab": {
          "base_uri": "https://localhost:8080/",
          "height": 458
        },
        "id": "7OnPqZWCyDb1",
        "outputId": "c6e99f61-35aa-4ae8-ac76-e3d157746df2"
      },
      "source": [
        "sns.jointplot(x='total_bill', y='tip',data=tips,kind=hex)"
      ],
      "execution_count": null,
      "outputs": [
        {
          "output_type": "execute_result",
          "data": {
            "text/plain": [
              "<seaborn.axisgrid.JointGrid at 0x7f67a4de0dd8>"
            ]
          },
          "metadata": {
            "tags": []
          },
          "execution_count": 20
        },
        {
          "output_type": "display_data",
          "data": {
            "image/png": "[encoded data removed]",
            "text/plain": [
              "<Figure size 432x432 with 3 Axes>"
            ]
          },
          "metadata": {
            "tags": [],
            "needs_background": "light"
          }
        }
      ]
    },
    {
      "cell_type": "code",
      "metadata": {
        "colab": {
          "base_uri": "https://localhost:8080/",
          "height": 567
        },
        "id": "SRSLX5tqx28e",
        "outputId": "5e2e0643-9f9f-4779-b73b-66ba637c392b"
      },
      "source": [
        "sns.pairplot(tips)"
      ],
      "execution_count": null,
      "outputs": [
        {
          "output_type": "execute_result",
          "data": {
            "text/plain": [
              "<seaborn.axisgrid.PairGrid at 0x7f67a49a69e8>"
            ]
          },
          "metadata": {
            "tags": []
          },
          "execution_count": 18
        },
        {
          "output_type": "display_data",
          "data": {
            "image/png": "[encoded data removed]",
            "text/plain": [
              "<Figure size 540x540 with 12 Axes>"
            ]
          },
          "metadata": {
            "tags": [],
            "needs_background": "light"
          }
        }
      ]
    },
    {
      "cell_type": "code",
      "metadata": {
        "colab": {
          "base_uri": "https://localhost:8080/",
          "height": 567
        },
        "id": "_ff0Hp5QyVj6",
        "outputId": "0c271a0f-ee93-4ad4-f170-d3ac8bb39053"
      },
      "source": [
        "sns.pairplot(tips,hue='sex')"
      ],
      "execution_count": null,
      "outputs": [
        {
          "output_type": "execute_result",
          "data": {
            "text/plain": [
              "<seaborn.axisgrid.PairGrid at 0x7f67a44e2080>"
            ]
          },
          "metadata": {
            "tags": []
          },
          "execution_count": 21
        },
        {
          "output_type": "display_data",
          "data": {
            "image/png": "[encoded data removed]",
            "text/plain": [
              "<Figure size 612.125x540 with 12 Axes>"
            ]
          },
          "metadata": {
            "tags": [],
            "needs_background": "light"
          }
        }
      ]
    },
    {
      "cell_type": "code",
      "metadata": {
        "colab": {
          "base_uri": "https://localhost:8080/",
          "height": 296
        },
        "id": "7TKcawrNw83Y",
        "outputId": "5a1a73b1-3f98-4654-ec6e-a76a467ae5f5"
      },
      "source": [
        "sns.boxplot(x='day',y='total_bill',data=tips)"
      ],
      "execution_count": null,
      "outputs": [
        {
          "output_type": "execute_result",
          "data": {
            "text/plain": [
              "<matplotlib.axes._subplots.AxesSubplot at 0x7f67a472fc50>"
            ]
          },
          "metadata": {
            "tags": []
          },
          "execution_count": 22
        },
        {
          "output_type": "display_data",
          "data": {
            "image/png": "[encoded data removed]",
            "text/plain": [
              "<Figure size 432x288 with 1 Axes>"
            ]
          },
          "metadata": {
            "tags": [],
            "needs_background": "light"
          }
        }
      ]
    },
    {
      "cell_type": "code",
      "metadata": {
        "colab": {
          "base_uri": "https://localhost:8080/",
          "height": 296
        },
        "id": "sZKe03pCvLQP",
        "outputId": "3b96ffde-9408-4ef5-8e0c-4370eb13b43c"
      },
      "source": [
        "sns.boxplot(x='day',y='total_bill',data=tips,hue='smoker')"
      ],
      "execution_count": null,
      "outputs": [
        {
          "output_type": "execute_result",
          "data": {
            "text/plain": [
              "<matplotlib.axes._subplots.AxesSubplot at 0x7f67a450fe80>"
            ]
          },
          "metadata": {
            "tags": []
          },
          "execution_count": 23
        },
        {
          "output_type": "display_data",
          "data": {
            "image/png": "[encoded data removed]",
            "text/plain": [
              "<Figure size 432x288 with 1 Axes>"
            ]
          },
          "metadata": {
            "tags": [],
            "needs_background": "light"
          }
        }
      ]
    },
    {
      "cell_type": "code",
      "metadata": {
        "colab": {
          "base_uri": "https://localhost:8080/",
          "height": 296
        },
        "id": "fN66_cCFzPMg",
        "outputId": "86ecb819-fbb0-43f1-ac2b-f5fd1a07081b"
      },
      "source": [
        "sns.barplot(x='sex',y='total_bill',data=tips)"
      ],
      "execution_count": null,
      "outputs": [
        {
          "output_type": "execute_result",
          "data": {
            "text/plain": [
              "<matplotlib.axes._subplots.AxesSubplot at 0x7f67a274e8d0>"
            ]
          },
          "metadata": {
            "tags": []
          },
          "execution_count": 24
        },
        {
          "output_type": "display_data",
          "data": {
            "image/png": "[encoded data removed]",
            "text/plain": [
              "<Figure size 432x288 with 1 Axes>"
            ]
          },
          "metadata": {
            "tags": [],
            "needs_background": "light"
          }
        }
      ]
    },
    {
      "cell_type": "code",
      "metadata": {
        "colab": {
          "base_uri": "https://localhost:8080/"
        },
        "id": "_8Zrye7hzjto",
        "outputId": "1863f197-c98b-43ec-a5e9-411da69244f8"
      },
      "source": [
        "!pip install plotly\r\n",
        "!pip install cufflinks"
      ],
      "execution_count": null,
      "outputs": [
        {
          "output_type": "stream",
          "text": [
            "Requirement already satisfied: plotly in /usr/local/lib/python3.6/dist-packages (4.4.1)\n",
            "Requirement already satisfied: six in /usr/local/lib/python3.6/dist-packages (from plotly) (1.15.0)\n",
            "Requirement already satisfied: retrying>=1.3.3 in /usr/local/lib/python3.6/dist-packages (from plotly) (1.3.3)\n",
            "Requirement already satisfied: cufflinks in /usr/local/lib/python3.6/dist-packages (0.17.3)\n",
            "Requirement already satisfied: setuptools>=34.4.1 in /usr/local/lib/python3.6/dist-packages (from cufflinks) (51.1.1)\n",
            "Requirement already satisfied: ipywidgets>=7.0.0 in /usr/local/lib/python3.6/dist-packages (from cufflinks) (7.6.3)\n",
            "Requirement already satisfied: plotly>=4.1.1 in /usr/local/lib/python3.6/dist-packages (from cufflinks) (4.4.1)\n",
            "Requirement already satisfied: numpy>=1.9.2 in /usr/local/lib/python3.6/dist-packages (from cufflinks) (1.19.5)\n",
            "Requirement already satisfied: ipython>=5.3.0 in /usr/local/lib/python3.6/dist-packages (from cufflinks) (5.5.0)\n",
            "Requirement already satisfied: pandas>=0.19.2 in /usr/local/lib/python3.6/dist-packages (from cufflinks) (1.1.5)\n",
            "Requirement already satisfied: six>=1.9.0 in /usr/local/lib/python3.6/dist-packages (from cufflinks) (1.15.0)\n",
            "Requirement already satisfied: colorlover>=0.2.1 in /usr/local/lib/python3.6/dist-packages (from cufflinks) (0.3.0)\n",
            "Requirement already satisfied: widgetsnbextension~=3.5.0 in /usr/local/lib/python3.6/dist-packages (from ipywidgets>=7.0.0->cufflinks) (3.5.1)\n",
            "Requirement already satisfied: traitlets>=4.3.1 in /usr/local/lib/python3.6/dist-packages (from ipywidgets>=7.0.0->cufflinks) (4.3.3)\n",
            "Requirement already satisfied: jupyterlab-widgets>=1.0.0; python_version >= \"3.6\" in /usr/local/lib/python3.6/dist-packages (from ipywidgets>=7.0.0->cufflinks) (1.0.0)\n",
            "Requirement already satisfied: nbformat>=4.2.0 in /usr/local/lib/python3.6/dist-packages (from ipywidgets>=7.0.0->cufflinks) (5.0.8)\n",
            "Requirement already satisfied: ipykernel>=4.5.1 in /usr/local/lib/python3.6/dist-packages (from ipywidgets>=7.0.0->cufflinks) (4.10.1)\n",
            "Requirement already satisfied: retrying>=1.3.3 in /usr/local/lib/python3.6/dist-packages (from plotly>=4.1.1->cufflinks) (1.3.3)\n",
            "Requirement already satisfied: pexpect; sys_platform != \"win32\" in /usr/local/lib/python3.6/dist-packages (from ipython>=5.3.0->cufflinks) (4.8.0)\n",
            "Requirement already satisfied: pygments in /usr/local/lib/python3.6/dist-packages (from ipython>=5.3.0->cufflinks) (2.6.1)\n",
            "Requirement already satisfied: decorator in /usr/local/lib/python3.6/dist-packages (from ipython>=5.3.0->cufflinks) (4.4.2)\n",
            "Requirement already satisfied: pickleshare in /usr/local/lib/python3.6/dist-packages (from ipython>=5.3.0->cufflinks) (0.7.5)\n",
            "Requirement already satisfied: prompt-toolkit<2.0.0,>=1.0.4 in /usr/local/lib/python3.6/dist-packages (from ipython>=5.3.0->cufflinks) (1.0.18)\n",
            "Requirement already satisfied: simplegeneric>0.8 in /usr/local/lib/python3.6/dist-packages (from ipython>=5.3.0->cufflinks) (0.8.1)\n",
            "Requirement already satisfied: pytz>=2017.2 in /usr/local/lib/python3.6/dist-packages (from pandas>=0.19.2->cufflinks) (2018.9)\n",
            "Requirement already satisfied: python-dateutil>=2.7.3 in /usr/local/lib/python3.6/dist-packages (from pandas>=0.19.2->cufflinks) (2.8.1)\n",
            "Requirement already satisfied: notebook>=4.4.1 in /usr/local/lib/python3.6/dist-packages (from widgetsnbextension~=3.5.0->ipywidgets>=7.0.0->cufflinks) (5.3.1)\n",
            "Requirement already satisfied: ipython-genutils in /usr/local/lib/python3.6/dist-packages (from traitlets>=4.3.1->ipywidgets>=7.0.0->cufflinks) (0.2.0)\n",
            "Requirement already satisfied: jsonschema!=2.5.0,>=2.4 in /usr/local/lib/python3.6/dist-packages (from nbformat>=4.2.0->ipywidgets>=7.0.0->cufflinks) (2.6.0)\n",
            "Requirement already satisfied: jupyter-core in /usr/local/lib/python3.6/dist-packages (from nbformat>=4.2.0->ipywidgets>=7.0.0->cufflinks) (4.7.0)\n",
            "Requirement already satisfied: tornado>=4.0 in /usr/local/lib/python3.6/dist-packages (from ipykernel>=4.5.1->ipywidgets>=7.0.0->cufflinks) (5.1.1)\n",
            "Requirement already satisfied: jupyter-client in /usr/local/lib/python3.6/dist-packages (from ipykernel>=4.5.1->ipywidgets>=7.0.0->cufflinks) (5.3.5)\n",
            "Requirement already satisfied: ptyprocess>=0.5 in /usr/local/lib/python3.6/dist-packages (from pexpect; sys_platform != \"win32\"->ipython>=5.3.0->cufflinks) (0.7.0)\n",
            "Requirement already satisfied: wcwidth in /usr/local/lib/python3.6/dist-packages (from prompt-toolkit<2.0.0,>=1.0.4->ipython>=5.3.0->cufflinks) (0.2.5)\n",
            "Requirement already satisfied: terminado>=0.8.1 in /usr/local/lib/python3.6/dist-packages (from notebook>=4.4.1->widgetsnbextension~=3.5.0->ipywidgets>=7.0.0->cufflinks) (0.9.2)\n",
            "Requirement already satisfied: Send2Trash in /usr/local/lib/python3.6/dist-packages (from notebook>=4.4.1->widgetsnbextension~=3.5.0->ipywidgets>=7.0.0->cufflinks) (1.5.0)\n",
            "Requirement already satisfied: jinja2 in /usr/local/lib/python3.6/dist-packages (from notebook>=4.4.1->widgetsnbextension~=3.5.0->ipywidgets>=7.0.0->cufflinks) (2.11.2)\n",
            "Requirement already satisfied: nbconvert in /usr/local/lib/python3.6/dist-packages (from notebook>=4.4.1->widgetsnbextension~=3.5.0->ipywidgets>=7.0.0->cufflinks) (5.6.1)\n",
            "Requirement already satisfied: pyzmq>=13 in /usr/local/lib/python3.6/dist-packages (from jupyter-client->ipykernel>=4.5.1->ipywidgets>=7.0.0->cufflinks) (20.0.0)\n",
            "Requirement already satisfied: MarkupSafe>=0.23 in /usr/local/lib/python3.6/dist-packages (from jinja2->notebook>=4.4.1->widgetsnbextension~=3.5.0->ipywidgets>=7.0.0->cufflinks) (1.1.1)\n",
            "Requirement already satisfied: entrypoints>=0.2.2 in /usr/local/lib/python3.6/dist-packages (from nbconvert->notebook>=4.4.1->widgetsnbextension~=3.5.0->ipywidgets>=7.0.0->cufflinks) (0.3)\n",
            "Requirement already satisfied: bleach in /usr/local/lib/python3.6/dist-packages (from nbconvert->notebook>=4.4.1->widgetsnbextension~=3.5.0->ipywidgets>=7.0.0->cufflinks) (3.2.1)\n",
            "Requirement already satisfied: defusedxml in /usr/local/lib/python3.6/dist-packages (from nbconvert->notebook>=4.4.1->widgetsnbextension~=3.5.0->ipywidgets>=7.0.0->cufflinks) (0.6.0)\n",
            "Requirement already satisfied: mistune<2,>=0.8.1 in /usr/local/lib/python3.6/dist-packages (from nbconvert->notebook>=4.4.1->widgetsnbextension~=3.5.0->ipywidgets>=7.0.0->cufflinks) (0.8.4)\n",
            "Requirement already satisfied: testpath in /usr/local/lib/python3.6/dist-packages (from nbconvert->notebook>=4.4.1->widgetsnbextension~=3.5.0->ipywidgets>=7.0.0->cufflinks) (0.4.4)\n",
            "Requirement already satisfied: pandocfilters>=1.4.1 in /usr/local/lib/python3.6/dist-packages (from nbconvert->notebook>=4.4.1->widgetsnbextension~=3.5.0->ipywidgets>=7.0.0->cufflinks) (1.4.3)\n",
            "Requirement already satisfied: webencodings in /usr/local/lib/python3.6/dist-packages (from bleach->nbconvert->notebook>=4.4.1->widgetsnbextension~=3.5.0->ipywidgets>=7.0.0->cufflinks) (0.5.1)\n",
            "Requirement already satisfied: packaging in /usr/local/lib/python3.6/dist-packages (from bleach->nbconvert->notebook>=4.4.1->widgetsnbextension~=3.5.0->ipywidgets>=7.0.0->cufflinks) (20.8)\n",
            "Requirement already satisfied: pyparsing>=2.0.2 in /usr/local/lib/python3.6/dist-packages (from packaging->bleach->nbconvert->notebook>=4.4.1->widgetsnbextension~=3.5.0->ipywidgets>=7.0.0->cufflinks) (2.4.7)\n"
          ],
          "name": "stdout"
        }
      ]
    },
    {
      "cell_type": "code",
      "metadata": {
        "colab": {
          "base_uri": "https://localhost:8080/",
          "height": 17
        },
        "id": "CK9bJQD4zqaz",
        "outputId": "4e831089-d832-485b-faa8-d6666af85735"
      },
      "source": [
        "import pandas as pd\r\n",
        "import numpy as np\r\n",
        "import cufflinks as cf \r\n",
        "from plotly.offline import download_plotlyjs,init_notebook_mode,plot,iplot\r\n",
        "init_notebook_mode(connected=True)\r\n",
        "cf.go_offline()\r\n",
        "%matplotlib inline"
      ],
      "execution_count": null,
      "outputs": [
        {
          "output_type": "display_data",
          "data": {
            "text/html": [
              "        <script type=\"text/javascript\">\n",
              "        window.PlotlyConfig = {MathJaxConfig: 'local'};\n",
              "        if (window.MathJax) {MathJax.Hub.Config({SVG: {font: \"STIX-Web\"}});}\n",
              "        if (typeof require !== 'undefined') {\n",
              "        require.undef(\"plotly\");\n",
              "        requirejs.config({\n",
              "            paths: {\n",
              "                'plotly': ['https://cdn.plot.ly/plotly-latest.min']\n",
              "            }\n",
              "        });\n",
              "        require(['plotly'], function(Plotly) {\n",
              "            window._Plotly = Plotly;\n",
              "        });\n",
              "        }\n",
              "        </script>\n",
              "        "
            ]
          },
          "metadata": {
            "tags": []
          }
        },
        {
          "output_type": "display_data",
          "data": {
            "text/html": [
              "        <script type=\"text/javascript\">\n",
              "        window.PlotlyConfig = {MathJaxConfig: 'local'};\n",
              "        if (window.MathJax) {MathJax.Hub.Config({SVG: {font: \"STIX-Web\"}});}\n",
              "        if (typeof require !== 'undefined') {\n",
              "        require.undef(\"plotly\");\n",
              "        requirejs.config({\n",
              "            paths: {\n",
              "                'plotly': ['https://cdn.plot.ly/plotly-latest.min']\n",
              "            }\n",
              "        });\n",
              "        require(['plotly'], function(Plotly) {\n",
              "            window._Plotly = Plotly;\n",
              "        });\n",
              "        }\n",
              "        </script>\n",
              "        "
            ]
          },
          "metadata": {
            "tags": []
          }
        }
      ]
    },
    {
      "cell_type": "code",
      "metadata": {
        "colab": {
          "base_uri": "https://localhost:8080/",
          "height": 1000
        },
        "id": "Zxnqpo6x0cSS",
        "outputId": "0c980a88-d926-47b2-848a-62b8fcf010a8"
      },
      "source": [
        "df=pd.DataFrame(np.random.randn(100,5),columns='A B C D E'.split())\r\n",
        "df"
      ],
      "execution_count": null,
      "outputs": [
        {
          "output_type": "execute_result",
          "data": {
            "text/html": [
              "<div>\n",
              "<style scoped>\n",
              "    .dataframe tbody tr th:only-of-type {\n",
              "        vertical-align: middle;\n",
              "    }\n",
              "\n",
              "    .dataframe tbody tr th {\n",
              "        vertical-align: top;\n",
              "    }\n",
              "\n",
              "    .dataframe thead th {\n",
              "        text-align: right;\n",
              "    }\n",
              "</style>\n",
              "<table border=\"1\" class=\"dataframe\">\n",
              "  <thead>\n",
              "    <tr style=\"text-align: right;\">\n",
              "      <th></th>\n",
              "      <th>A</th>\n",
              "      <th>B</th>\n",
              "      <th>C</th>\n",
              "      <th>D</th>\n",
              "      <th>E</th>\n",
              "    </tr>\n",
              "  </thead>\n",
              "  <tbody>\n",
              "    <tr>\n",
              "      <th>0</th>\n",
              "      <td>-1.174977</td>\n",
              "      <td>0.546616</td>\n",
              "      <td>-0.703596</td>\n",
              "      <td>-0.143478</td>\n",
              "      <td>-0.604960</td>\n",
              "    </tr>\n",
              "    <tr>\n",
              "      <th>1</th>\n",
              "      <td>-0.377917</td>\n",
              "      <td>0.753603</td>\n",
              "      <td>-1.151438</td>\n",
              "      <td>0.587337</td>\n",
              "      <td>0.628736</td>\n",
              "    </tr>\n",
              "    <tr>\n",
              "      <th>2</th>\n",
              "      <td>-0.570899</td>\n",
              "      <td>0.991264</td>\n",
              "      <td>0.599885</td>\n",
              "      <td>-0.371119</td>\n",
              "      <td>1.380918</td>\n",
              "    </tr>\n",
              "    <tr>\n",
              "      <th>3</th>\n",
              "      <td>0.554999</td>\n",
              "      <td>-0.569975</td>\n",
              "      <td>-0.519275</td>\n",
              "      <td>-0.021643</td>\n",
              "      <td>-0.096027</td>\n",
              "    </tr>\n",
              "    <tr>\n",
              "      <th>4</th>\n",
              "      <td>1.074131</td>\n",
              "      <td>-1.196731</td>\n",
              "      <td>0.402343</td>\n",
              "      <td>-0.098115</td>\n",
              "      <td>0.549870</td>\n",
              "    </tr>\n",
              "    <tr>\n",
              "      <th>5</th>\n",
              "      <td>0.302159</td>\n",
              "      <td>-0.834077</td>\n",
              "      <td>-0.767206</td>\n",
              "      <td>-1.192776</td>\n",
              "      <td>0.868589</td>\n",
              "    </tr>\n",
              "    <tr>\n",
              "      <th>6</th>\n",
              "      <td>1.544273</td>\n",
              "      <td>-1.349606</td>\n",
              "      <td>1.102915</td>\n",
              "      <td>0.248604</td>\n",
              "      <td>0.658849</td>\n",
              "    </tr>\n",
              "    <tr>\n",
              "      <th>7</th>\n",
              "      <td>1.298861</td>\n",
              "      <td>-0.019052</td>\n",
              "      <td>0.747955</td>\n",
              "      <td>-1.390068</td>\n",
              "      <td>-1.727741</td>\n",
              "    </tr>\n",
              "    <tr>\n",
              "      <th>8</th>\n",
              "      <td>-0.659937</td>\n",
              "      <td>0.653961</td>\n",
              "      <td>-1.294475</td>\n",
              "      <td>0.799463</td>\n",
              "      <td>1.247394</td>\n",
              "    </tr>\n",
              "    <tr>\n",
              "      <th>9</th>\n",
              "      <td>0.071022</td>\n",
              "      <td>0.499502</td>\n",
              "      <td>0.026481</td>\n",
              "      <td>1.307643</td>\n",
              "      <td>0.782456</td>\n",
              "    </tr>\n",
              "    <tr>\n",
              "      <th>10</th>\n",
              "      <td>-2.035450</td>\n",
              "      <td>-1.609905</td>\n",
              "      <td>1.002779</td>\n",
              "      <td>1.430094</td>\n",
              "      <td>-0.118924</td>\n",
              "    </tr>\n",
              "    <tr>\n",
              "      <th>11</th>\n",
              "      <td>0.260722</td>\n",
              "      <td>-0.890075</td>\n",
              "      <td>-1.322305</td>\n",
              "      <td>1.002112</td>\n",
              "      <td>-1.222803</td>\n",
              "    </tr>\n",
              "    <tr>\n",
              "      <th>12</th>\n",
              "      <td>1.886172</td>\n",
              "      <td>-0.315124</td>\n",
              "      <td>-1.406487</td>\n",
              "      <td>0.472035</td>\n",
              "      <td>-0.309206</td>\n",
              "    </tr>\n",
              "    <tr>\n",
              "      <th>13</th>\n",
              "      <td>-0.231090</td>\n",
              "      <td>-0.931839</td>\n",
              "      <td>2.606417</td>\n",
              "      <td>-0.991067</td>\n",
              "      <td>-1.896366</td>\n",
              "    </tr>\n",
              "    <tr>\n",
              "      <th>14</th>\n",
              "      <td>-1.575862</td>\n",
              "      <td>-1.028081</td>\n",
              "      <td>-0.078188</td>\n",
              "      <td>-1.142657</td>\n",
              "      <td>1.452352</td>\n",
              "    </tr>\n",
              "    <tr>\n",
              "      <th>15</th>\n",
              "      <td>-0.463084</td>\n",
              "      <td>0.365963</td>\n",
              "      <td>-0.594402</td>\n",
              "      <td>-0.361310</td>\n",
              "      <td>-1.150706</td>\n",
              "    </tr>\n",
              "    <tr>\n",
              "      <th>16</th>\n",
              "      <td>0.479083</td>\n",
              "      <td>0.950147</td>\n",
              "      <td>-0.810135</td>\n",
              "      <td>-1.084319</td>\n",
              "      <td>2.362543</td>\n",
              "    </tr>\n",
              "    <tr>\n",
              "      <th>17</th>\n",
              "      <td>-1.212529</td>\n",
              "      <td>0.739479</td>\n",
              "      <td>-0.575482</td>\n",
              "      <td>0.628381</td>\n",
              "      <td>0.317280</td>\n",
              "    </tr>\n",
              "    <tr>\n",
              "      <th>18</th>\n",
              "      <td>-0.028514</td>\n",
              "      <td>-1.125337</td>\n",
              "      <td>0.876210</td>\n",
              "      <td>-1.367959</td>\n",
              "      <td>-1.562173</td>\n",
              "    </tr>\n",
              "    <tr>\n",
              "      <th>19</th>\n",
              "      <td>0.331252</td>\n",
              "      <td>-1.412886</td>\n",
              "      <td>-0.607382</td>\n",
              "      <td>-0.781814</td>\n",
              "      <td>-0.835528</td>\n",
              "    </tr>\n",
              "    <tr>\n",
              "      <th>20</th>\n",
              "      <td>-1.252207</td>\n",
              "      <td>0.494983</td>\n",
              "      <td>-0.531879</td>\n",
              "      <td>0.270188</td>\n",
              "      <td>-0.173886</td>\n",
              "    </tr>\n",
              "    <tr>\n",
              "      <th>21</th>\n",
              "      <td>-0.220593</td>\n",
              "      <td>-1.132125</td>\n",
              "      <td>1.353745</td>\n",
              "      <td>-0.183756</td>\n",
              "      <td>-1.697452</td>\n",
              "    </tr>\n",
              "    <tr>\n",
              "      <th>22</th>\n",
              "      <td>0.119612</td>\n",
              "      <td>0.311344</td>\n",
              "      <td>1.532252</td>\n",
              "      <td>0.438734</td>\n",
              "      <td>-1.580502</td>\n",
              "    </tr>\n",
              "    <tr>\n",
              "      <th>23</th>\n",
              "      <td>1.857557</td>\n",
              "      <td>1.785996</td>\n",
              "      <td>0.220996</td>\n",
              "      <td>1.656158</td>\n",
              "      <td>-1.774097</td>\n",
              "    </tr>\n",
              "    <tr>\n",
              "      <th>24</th>\n",
              "      <td>-0.906074</td>\n",
              "      <td>1.426091</td>\n",
              "      <td>-1.224664</td>\n",
              "      <td>0.399335</td>\n",
              "      <td>-0.449090</td>\n",
              "    </tr>\n",
              "    <tr>\n",
              "      <th>25</th>\n",
              "      <td>-1.089364</td>\n",
              "      <td>0.885543</td>\n",
              "      <td>-0.595323</td>\n",
              "      <td>0.292106</td>\n",
              "      <td>-0.920376</td>\n",
              "    </tr>\n",
              "    <tr>\n",
              "      <th>26</th>\n",
              "      <td>1.092296</td>\n",
              "      <td>-0.932182</td>\n",
              "      <td>-0.843178</td>\n",
              "      <td>-0.856697</td>\n",
              "      <td>-1.793300</td>\n",
              "    </tr>\n",
              "    <tr>\n",
              "      <th>27</th>\n",
              "      <td>0.507730</td>\n",
              "      <td>1.946019</td>\n",
              "      <td>0.132824</td>\n",
              "      <td>0.579318</td>\n",
              "      <td>-2.573998</td>\n",
              "    </tr>\n",
              "    <tr>\n",
              "      <th>28</th>\n",
              "      <td>1.508125</td>\n",
              "      <td>0.375832</td>\n",
              "      <td>-1.102999</td>\n",
              "      <td>1.190940</td>\n",
              "      <td>-0.923339</td>\n",
              "    </tr>\n",
              "    <tr>\n",
              "      <th>29</th>\n",
              "      <td>0.312702</td>\n",
              "      <td>0.035768</td>\n",
              "      <td>1.416820</td>\n",
              "      <td>0.124966</td>\n",
              "      <td>0.938181</td>\n",
              "    </tr>\n",
              "    <tr>\n",
              "      <th>30</th>\n",
              "      <td>-0.448420</td>\n",
              "      <td>0.144347</td>\n",
              "      <td>0.291222</td>\n",
              "      <td>-0.334982</td>\n",
              "      <td>-0.022017</td>\n",
              "    </tr>\n",
              "    <tr>\n",
              "      <th>31</th>\n",
              "      <td>-0.487139</td>\n",
              "      <td>-0.277571</td>\n",
              "      <td>0.673453</td>\n",
              "      <td>0.111942</td>\n",
              "      <td>1.379139</td>\n",
              "    </tr>\n",
              "    <tr>\n",
              "      <th>32</th>\n",
              "      <td>1.008617</td>\n",
              "      <td>-0.996319</td>\n",
              "      <td>0.151868</td>\n",
              "      <td>-2.984234</td>\n",
              "      <td>0.902896</td>\n",
              "    </tr>\n",
              "    <tr>\n",
              "      <th>33</th>\n",
              "      <td>1.076196</td>\n",
              "      <td>-3.125390</td>\n",
              "      <td>-0.090554</td>\n",
              "      <td>0.428061</td>\n",
              "      <td>0.219516</td>\n",
              "    </tr>\n",
              "    <tr>\n",
              "      <th>34</th>\n",
              "      <td>-1.061529</td>\n",
              "      <td>0.165512</td>\n",
              "      <td>-1.053664</td>\n",
              "      <td>0.321125</td>\n",
              "      <td>-1.790134</td>\n",
              "    </tr>\n",
              "    <tr>\n",
              "      <th>35</th>\n",
              "      <td>0.478592</td>\n",
              "      <td>-0.113584</td>\n",
              "      <td>-0.645839</td>\n",
              "      <td>2.018186</td>\n",
              "      <td>-0.133888</td>\n",
              "    </tr>\n",
              "    <tr>\n",
              "      <th>36</th>\n",
              "      <td>-0.151205</td>\n",
              "      <td>0.997514</td>\n",
              "      <td>-1.768446</td>\n",
              "      <td>0.076203</td>\n",
              "      <td>-0.059432</td>\n",
              "    </tr>\n",
              "    <tr>\n",
              "      <th>37</th>\n",
              "      <td>-1.343515</td>\n",
              "      <td>0.813554</td>\n",
              "      <td>1.346475</td>\n",
              "      <td>-0.139868</td>\n",
              "      <td>-0.315073</td>\n",
              "    </tr>\n",
              "    <tr>\n",
              "      <th>38</th>\n",
              "      <td>1.590809</td>\n",
              "      <td>1.346300</td>\n",
              "      <td>0.918028</td>\n",
              "      <td>0.920803</td>\n",
              "      <td>1.125650</td>\n",
              "    </tr>\n",
              "    <tr>\n",
              "      <th>39</th>\n",
              "      <td>0.241428</td>\n",
              "      <td>-0.043725</td>\n",
              "      <td>0.633323</td>\n",
              "      <td>1.036132</td>\n",
              "      <td>0.137994</td>\n",
              "    </tr>\n",
              "    <tr>\n",
              "      <th>40</th>\n",
              "      <td>-1.610045</td>\n",
              "      <td>0.102153</td>\n",
              "      <td>1.493792</td>\n",
              "      <td>0.183531</td>\n",
              "      <td>0.352248</td>\n",
              "    </tr>\n",
              "    <tr>\n",
              "      <th>41</th>\n",
              "      <td>0.688004</td>\n",
              "      <td>-0.226553</td>\n",
              "      <td>-0.264548</td>\n",
              "      <td>-0.046923</td>\n",
              "      <td>-0.151519</td>\n",
              "    </tr>\n",
              "    <tr>\n",
              "      <th>42</th>\n",
              "      <td>0.412277</td>\n",
              "      <td>-0.650332</td>\n",
              "      <td>-0.764624</td>\n",
              "      <td>-1.316629</td>\n",
              "      <td>-0.877701</td>\n",
              "    </tr>\n",
              "    <tr>\n",
              "      <th>43</th>\n",
              "      <td>-0.578527</td>\n",
              "      <td>-0.292337</td>\n",
              "      <td>-0.637818</td>\n",
              "      <td>0.535342</td>\n",
              "      <td>0.465113</td>\n",
              "    </tr>\n",
              "    <tr>\n",
              "      <th>44</th>\n",
              "      <td>0.706519</td>\n",
              "      <td>-0.469300</td>\n",
              "      <td>-0.481887</td>\n",
              "      <td>0.301068</td>\n",
              "      <td>0.337301</td>\n",
              "    </tr>\n",
              "    <tr>\n",
              "      <th>45</th>\n",
              "      <td>-0.345736</td>\n",
              "      <td>-0.036699</td>\n",
              "      <td>-0.487711</td>\n",
              "      <td>2.140568</td>\n",
              "      <td>-0.693342</td>\n",
              "    </tr>\n",
              "    <tr>\n",
              "      <th>46</th>\n",
              "      <td>1.589922</td>\n",
              "      <td>-0.752313</td>\n",
              "      <td>-0.385054</td>\n",
              "      <td>-1.695416</td>\n",
              "      <td>-2.366080</td>\n",
              "    </tr>\n",
              "    <tr>\n",
              "      <th>47</th>\n",
              "      <td>0.678668</td>\n",
              "      <td>2.556109</td>\n",
              "      <td>-1.312675</td>\n",
              "      <td>0.052709</td>\n",
              "      <td>-0.064358</td>\n",
              "    </tr>\n",
              "    <tr>\n",
              "      <th>48</th>\n",
              "      <td>-0.010687</td>\n",
              "      <td>0.123241</td>\n",
              "      <td>1.984413</td>\n",
              "      <td>-0.836479</td>\n",
              "      <td>0.180747</td>\n",
              "    </tr>\n",
              "    <tr>\n",
              "      <th>49</th>\n",
              "      <td>-0.261880</td>\n",
              "      <td>0.932430</td>\n",
              "      <td>0.647426</td>\n",
              "      <td>-0.425547</td>\n",
              "      <td>-1.460499</td>\n",
              "    </tr>\n",
              "    <tr>\n",
              "      <th>50</th>\n",
              "      <td>-1.061079</td>\n",
              "      <td>-1.647961</td>\n",
              "      <td>0.442059</td>\n",
              "      <td>-0.768313</td>\n",
              "      <td>0.800204</td>\n",
              "    </tr>\n",
              "    <tr>\n",
              "      <th>51</th>\n",
              "      <td>1.101814</td>\n",
              "      <td>0.262530</td>\n",
              "      <td>-0.036958</td>\n",
              "      <td>0.509815</td>\n",
              "      <td>0.208068</td>\n",
              "    </tr>\n",
              "    <tr>\n",
              "      <th>52</th>\n",
              "      <td>0.631630</td>\n",
              "      <td>2.143234</td>\n",
              "      <td>-1.858437</td>\n",
              "      <td>0.824359</td>\n",
              "      <td>-1.236571</td>\n",
              "    </tr>\n",
              "    <tr>\n",
              "      <th>53</th>\n",
              "      <td>0.952452</td>\n",
              "      <td>1.005386</td>\n",
              "      <td>-0.479463</td>\n",
              "      <td>0.573655</td>\n",
              "      <td>0.472133</td>\n",
              "    </tr>\n",
              "    <tr>\n",
              "      <th>54</th>\n",
              "      <td>-0.927684</td>\n",
              "      <td>-1.592166</td>\n",
              "      <td>0.881034</td>\n",
              "      <td>-0.817794</td>\n",
              "      <td>0.521546</td>\n",
              "    </tr>\n",
              "    <tr>\n",
              "      <th>55</th>\n",
              "      <td>-1.224989</td>\n",
              "      <td>0.519011</td>\n",
              "      <td>-0.099993</td>\n",
              "      <td>1.677043</td>\n",
              "      <td>1.032523</td>\n",
              "    </tr>\n",
              "    <tr>\n",
              "      <th>56</th>\n",
              "      <td>1.094412</td>\n",
              "      <td>-0.000674</td>\n",
              "      <td>2.276336</td>\n",
              "      <td>-0.543689</td>\n",
              "      <td>2.247434</td>\n",
              "    </tr>\n",
              "    <tr>\n",
              "      <th>57</th>\n",
              "      <td>1.651398</td>\n",
              "      <td>1.633378</td>\n",
              "      <td>-0.030085</td>\n",
              "      <td>-1.272884</td>\n",
              "      <td>0.142715</td>\n",
              "    </tr>\n",
              "    <tr>\n",
              "      <th>58</th>\n",
              "      <td>-1.230907</td>\n",
              "      <td>1.635593</td>\n",
              "      <td>-0.502656</td>\n",
              "      <td>0.124415</td>\n",
              "      <td>0.339701</td>\n",
              "    </tr>\n",
              "    <tr>\n",
              "      <th>59</th>\n",
              "      <td>-0.778006</td>\n",
              "      <td>-0.127051</td>\n",
              "      <td>-0.276995</td>\n",
              "      <td>-0.148300</td>\n",
              "      <td>-2.143671</td>\n",
              "    </tr>\n",
              "    <tr>\n",
              "      <th>60</th>\n",
              "      <td>-0.271222</td>\n",
              "      <td>-0.473286</td>\n",
              "      <td>-0.544344</td>\n",
              "      <td>0.467309</td>\n",
              "      <td>0.269350</td>\n",
              "    </tr>\n",
              "    <tr>\n",
              "      <th>61</th>\n",
              "      <td>1.040334</td>\n",
              "      <td>-0.760366</td>\n",
              "      <td>-0.787485</td>\n",
              "      <td>0.185155</td>\n",
              "      <td>-0.720048</td>\n",
              "    </tr>\n",
              "    <tr>\n",
              "      <th>62</th>\n",
              "      <td>0.586468</td>\n",
              "      <td>-0.597631</td>\n",
              "      <td>1.107257</td>\n",
              "      <td>-1.217932</td>\n",
              "      <td>-0.722115</td>\n",
              "    </tr>\n",
              "    <tr>\n",
              "      <th>63</th>\n",
              "      <td>-0.532168</td>\n",
              "      <td>1.504380</td>\n",
              "      <td>-0.383197</td>\n",
              "      <td>0.032079</td>\n",
              "      <td>1.068129</td>\n",
              "    </tr>\n",
              "    <tr>\n",
              "      <th>64</th>\n",
              "      <td>-0.899138</td>\n",
              "      <td>1.326982</td>\n",
              "      <td>1.012276</td>\n",
              "      <td>0.260805</td>\n",
              "      <td>2.525520</td>\n",
              "    </tr>\n",
              "    <tr>\n",
              "      <th>65</th>\n",
              "      <td>0.371895</td>\n",
              "      <td>-1.686301</td>\n",
              "      <td>-0.773826</td>\n",
              "      <td>0.266013</td>\n",
              "      <td>-0.513146</td>\n",
              "    </tr>\n",
              "    <tr>\n",
              "      <th>66</th>\n",
              "      <td>0.769406</td>\n",
              "      <td>-1.739679</td>\n",
              "      <td>-0.082624</td>\n",
              "      <td>-1.110408</td>\n",
              "      <td>1.134621</td>\n",
              "    </tr>\n",
              "    <tr>\n",
              "      <th>67</th>\n",
              "      <td>-0.051434</td>\n",
              "      <td>-0.057644</td>\n",
              "      <td>-0.842232</td>\n",
              "      <td>-1.653138</td>\n",
              "      <td>0.871695</td>\n",
              "    </tr>\n",
              "    <tr>\n",
              "      <th>68</th>\n",
              "      <td>-0.927315</td>\n",
              "      <td>0.642558</td>\n",
              "      <td>1.567429</td>\n",
              "      <td>0.294631</td>\n",
              "      <td>0.624044</td>\n",
              "    </tr>\n",
              "    <tr>\n",
              "      <th>69</th>\n",
              "      <td>0.859187</td>\n",
              "      <td>-0.325514</td>\n",
              "      <td>-0.754519</td>\n",
              "      <td>-0.655468</td>\n",
              "      <td>-1.404569</td>\n",
              "    </tr>\n",
              "    <tr>\n",
              "      <th>70</th>\n",
              "      <td>-0.618243</td>\n",
              "      <td>0.398207</td>\n",
              "      <td>-1.922912</td>\n",
              "      <td>-1.856504</td>\n",
              "      <td>2.144460</td>\n",
              "    </tr>\n",
              "    <tr>\n",
              "      <th>71</th>\n",
              "      <td>-0.286262</td>\n",
              "      <td>-1.685216</td>\n",
              "      <td>1.743857</td>\n",
              "      <td>-0.303586</td>\n",
              "      <td>1.142463</td>\n",
              "    </tr>\n",
              "    <tr>\n",
              "      <th>72</th>\n",
              "      <td>0.446888</td>\n",
              "      <td>-0.317423</td>\n",
              "      <td>-0.668222</td>\n",
              "      <td>0.107886</td>\n",
              "      <td>0.912395</td>\n",
              "    </tr>\n",
              "    <tr>\n",
              "      <th>73</th>\n",
              "      <td>-0.655681</td>\n",
              "      <td>0.728768</td>\n",
              "      <td>-0.908012</td>\n",
              "      <td>-1.183005</td>\n",
              "      <td>-0.100411</td>\n",
              "    </tr>\n",
              "    <tr>\n",
              "      <th>74</th>\n",
              "      <td>-0.239849</td>\n",
              "      <td>-1.105146</td>\n",
              "      <td>0.041064</td>\n",
              "      <td>0.289878</td>\n",
              "      <td>0.076300</td>\n",
              "    </tr>\n",
              "    <tr>\n",
              "      <th>75</th>\n",
              "      <td>0.889418</td>\n",
              "      <td>-0.542176</td>\n",
              "      <td>-0.422282</td>\n",
              "      <td>0.446435</td>\n",
              "      <td>-0.093866</td>\n",
              "    </tr>\n",
              "    <tr>\n",
              "      <th>76</th>\n",
              "      <td>-0.633951</td>\n",
              "      <td>1.733374</td>\n",
              "      <td>-1.213820</td>\n",
              "      <td>-1.331700</td>\n",
              "      <td>1.382043</td>\n",
              "    </tr>\n",
              "    <tr>\n",
              "      <th>77</th>\n",
              "      <td>0.010437</td>\n",
              "      <td>1.963168</td>\n",
              "      <td>1.005964</td>\n",
              "      <td>0.368377</td>\n",
              "      <td>1.585257</td>\n",
              "    </tr>\n",
              "    <tr>\n",
              "      <th>78</th>\n",
              "      <td>-2.050502</td>\n",
              "      <td>-0.140263</td>\n",
              "      <td>-0.313692</td>\n",
              "      <td>-0.966664</td>\n",
              "      <td>0.586578</td>\n",
              "    </tr>\n",
              "    <tr>\n",
              "      <th>79</th>\n",
              "      <td>0.064297</td>\n",
              "      <td>-0.665439</td>\n",
              "      <td>1.666131</td>\n",
              "      <td>-0.757200</td>\n",
              "      <td>1.289856</td>\n",
              "    </tr>\n",
              "    <tr>\n",
              "      <th>80</th>\n",
              "      <td>-0.321375</td>\n",
              "      <td>-0.717995</td>\n",
              "      <td>-0.282727</td>\n",
              "      <td>0.443545</td>\n",
              "      <td>-0.246947</td>\n",
              "    </tr>\n",
              "    <tr>\n",
              "      <th>81</th>\n",
              "      <td>-0.712662</td>\n",
              "      <td>1.497682</td>\n",
              "      <td>-0.224547</td>\n",
              "      <td>-0.300731</td>\n",
              "      <td>-1.260290</td>\n",
              "    </tr>\n",
              "    <tr>\n",
              "      <th>82</th>\n",
              "      <td>-0.553789</td>\n",
              "      <td>-0.047728</td>\n",
              "      <td>-1.279869</td>\n",
              "      <td>-1.020228</td>\n",
              "      <td>-0.756610</td>\n",
              "    </tr>\n",
              "    <tr>\n",
              "      <th>83</th>\n",
              "      <td>0.645466</td>\n",
              "      <td>-0.196596</td>\n",
              "      <td>-0.352365</td>\n",
              "      <td>-0.861288</td>\n",
              "      <td>0.830625</td>\n",
              "    </tr>\n",
              "    <tr>\n",
              "      <th>84</th>\n",
              "      <td>0.413443</td>\n",
              "      <td>1.676898</td>\n",
              "      <td>-0.244068</td>\n",
              "      <td>0.117074</td>\n",
              "      <td>0.103405</td>\n",
              "    </tr>\n",
              "    <tr>\n",
              "      <th>85</th>\n",
              "      <td>-0.646443</td>\n",
              "      <td>0.116978</td>\n",
              "      <td>-2.372111</td>\n",
              "      <td>-0.612593</td>\n",
              "      <td>-0.347472</td>\n",
              "    </tr>\n",
              "    <tr>\n",
              "      <th>86</th>\n",
              "      <td>1.164800</td>\n",
              "      <td>-0.419084</td>\n",
              "      <td>1.302567</td>\n",
              "      <td>-1.900460</td>\n",
              "      <td>-0.433135</td>\n",
              "    </tr>\n",
              "    <tr>\n",
              "      <th>87</th>\n",
              "      <td>-0.172346</td>\n",
              "      <td>1.655181</td>\n",
              "      <td>-0.173727</td>\n",
              "      <td>-0.299548</td>\n",
              "      <td>-1.542398</td>\n",
              "    </tr>\n",
              "    <tr>\n",
              "      <th>88</th>\n",
              "      <td>0.383234</td>\n",
              "      <td>-2.168165</td>\n",
              "      <td>1.123795</td>\n",
              "      <td>0.468059</td>\n",
              "      <td>0.263312</td>\n",
              "    </tr>\n",
              "    <tr>\n",
              "      <th>89</th>\n",
              "      <td>-0.242589</td>\n",
              "      <td>1.834262</td>\n",
              "      <td>1.376527</td>\n",
              "      <td>-0.487530</td>\n",
              "      <td>1.226948</td>\n",
              "    </tr>\n",
              "    <tr>\n",
              "      <th>90</th>\n",
              "      <td>-0.415918</td>\n",
              "      <td>0.221405</td>\n",
              "      <td>-0.227621</td>\n",
              "      <td>0.166368</td>\n",
              "      <td>0.110625</td>\n",
              "    </tr>\n",
              "    <tr>\n",
              "      <th>91</th>\n",
              "      <td>2.163241</td>\n",
              "      <td>0.145295</td>\n",
              "      <td>1.480490</td>\n",
              "      <td>-0.242187</td>\n",
              "      <td>-0.129564</td>\n",
              "    </tr>\n",
              "    <tr>\n",
              "      <th>92</th>\n",
              "      <td>1.406544</td>\n",
              "      <td>-0.702939</td>\n",
              "      <td>0.375328</td>\n",
              "      <td>0.308727</td>\n",
              "      <td>2.138848</td>\n",
              "    </tr>\n",
              "    <tr>\n",
              "      <th>93</th>\n",
              "      <td>0.097187</td>\n",
              "      <td>1.307547</td>\n",
              "      <td>-0.227637</td>\n",
              "      <td>0.050458</td>\n",
              "      <td>-0.971997</td>\n",
              "    </tr>\n",
              "    <tr>\n",
              "      <th>94</th>\n",
              "      <td>-0.925001</td>\n",
              "      <td>0.210197</td>\n",
              "      <td>-0.595068</td>\n",
              "      <td>0.248029</td>\n",
              "      <td>-0.831940</td>\n",
              "    </tr>\n",
              "    <tr>\n",
              "      <th>95</th>\n",
              "      <td>-0.166068</td>\n",
              "      <td>0.236853</td>\n",
              "      <td>-1.521391</td>\n",
              "      <td>1.191647</td>\n",
              "      <td>-1.235834</td>\n",
              "    </tr>\n",
              "    <tr>\n",
              "      <th>96</th>\n",
              "      <td>-1.713442</td>\n",
              "      <td>-2.041118</td>\n",
              "      <td>0.349084</td>\n",
              "      <td>0.052457</td>\n",
              "      <td>-0.733394</td>\n",
              "    </tr>\n",
              "    <tr>\n",
              "      <th>97</th>\n",
              "      <td>0.746430</td>\n",
              "      <td>1.371440</td>\n",
              "      <td>-0.992922</td>\n",
              "      <td>-0.201418</td>\n",
              "      <td>-0.053623</td>\n",
              "    </tr>\n",
              "    <tr>\n",
              "      <th>98</th>\n",
              "      <td>0.223729</td>\n",
              "      <td>-1.557120</td>\n",
              "      <td>-0.457714</td>\n",
              "      <td>0.563135</td>\n",
              "      <td>-0.377610</td>\n",
              "    </tr>\n",
              "    <tr>\n",
              "      <th>99</th>\n",
              "      <td>-0.371375</td>\n",
              "      <td>-0.050201</td>\n",
              "      <td>-1.310456</td>\n",
              "      <td>0.673230</td>\n",
              "      <td>0.085871</td>\n",
              "    </tr>\n",
              "  </tbody>\n",
              "</table>\n",
              "</div>"
            ],
            "text/plain": [
              "           A         B         C         D         E\n",
              "0  -1.174977  0.546616 -0.703596 -0.143478 -0.604960\n",
              "1  -0.377917  0.753603 -1.151438  0.587337  0.628736\n",
              "2  -0.570899  0.991264  0.599885 -0.371119  1.380918\n",
              "3   0.554999 -0.569975 -0.519275 -0.021643 -0.096027\n",
              "4   1.074131 -1.196731  0.402343 -0.098115  0.549870\n",
              "5   0.302159 -0.834077 -0.767206 -1.192776  0.868589\n",
              "6   1.544273 -1.349606  1.102915  0.248604  0.658849\n",
              "7   1.298861 -0.019052  0.747955 -1.390068 -1.727741\n",
              "8  -0.659937  0.653961 -1.294475  0.799463  1.247394\n",
              "9   0.071022  0.499502  0.026481  1.307643  0.782456\n",
              "10 -2.035450 -1.609905  1.002779  1.430094 -0.118924\n",
              "11  0.260722 -0.890075 -1.322305  1.002112 -1.222803\n",
              "12  1.886172 -0.315124 -1.406487  0.472035 -0.309206\n",
              "13 -0.231090 -0.931839  2.606417 -0.991067 -1.896366\n",
              "14 -1.575862 -1.028081 -0.078188 -1.142657  1.452352\n",
              "15 -0.463084  0.365963 -0.594402 -0.361310 -1.150706\n",
              "16  0.479083  0.950147 -0.810135 -1.084319  2.362543\n",
              "17 -1.212529  0.739479 -0.575482  0.628381  0.317280\n",
              "18 -0.028514 -1.125337  0.876210 -1.367959 -1.562173\n",
              "19  0.331252 -1.412886 -0.607382 -0.781814 -0.835528\n",
              "20 -1.252207  0.494983 -0.531879  0.270188 -0.173886\n",
              "21 -0.220593 -1.132125  1.353745 -0.183756 -1.697452\n",
              "22  0.119612  0.311344  1.532252  0.438734 -1.580502\n",
              "23  1.857557  1.785996  0.220996  1.656158 -1.774097\n",
              "24 -0.906074  1.426091 -1.224664  0.399335 -0.449090\n",
              "25 -1.089364  0.885543 -0.595323  0.292106 -0.920376\n",
              "26  1.092296 -0.932182 -0.843178 -0.856697 -1.793300\n",
              "27  0.507730  1.946019  0.132824  0.579318 -2.573998\n",
              "28  1.508125  0.375832 -1.102999  1.190940 -0.923339\n",
              "29  0.312702  0.035768  1.416820  0.124966  0.938181\n",
              "30 -0.448420  0.144347  0.291222 -0.334982 -0.022017\n",
              "31 -0.487139 -0.277571  0.673453  0.111942  1.379139\n",
              "32  1.008617 -0.996319  0.151868 -2.984234  0.902896\n",
              "33  1.076196 -3.125390 -0.090554  0.428061  0.219516\n",
              "34 -1.061529  0.165512 -1.053664  0.321125 -1.790134\n",
              "35  0.478592 -0.113584 -0.645839  2.018186 -0.133888\n",
              "36 -0.151205  0.997514 -1.768446  0.076203 -0.059432\n",
              "37 -1.343515  0.813554  1.346475 -0.139868 -0.315073\n",
              "38  1.590809  1.346300  0.918028  0.920803  1.125650\n",
              "39  0.241428 -0.043725  0.633323  1.036132  0.137994\n",
              "40 -1.610045  0.102153  1.493792  0.183531  0.352248\n",
              "41  0.688004 -0.226553 -0.264548 -0.046923 -0.151519\n",
              "42  0.412277 -0.650332 -0.764624 -1.316629 -0.877701\n",
              "43 -0.578527 -0.292337 -0.637818  0.535342  0.465113\n",
              "44  0.706519 -0.469300 -0.481887  0.301068  0.337301\n",
              "45 -0.345736 -0.036699 -0.487711  2.140568 -0.693342\n",
              "46  1.589922 -0.752313 -0.385054 -1.695416 -2.366080\n",
              "47  0.678668  2.556109 -1.312675  0.052709 -0.064358\n",
              "48 -0.010687  0.123241  1.984413 -0.836479  0.180747\n",
              "49 -0.261880  0.932430  0.647426 -0.425547 -1.460499\n",
              "50 -1.061079 -1.647961  0.442059 -0.768313  0.800204\n",
              "51  1.101814  0.262530 -0.036958  0.509815  0.208068\n",
              "52  0.631630  2.143234 -1.858437  0.824359 -1.236571\n",
              "53  0.952452  1.005386 -0.479463  0.573655  0.472133\n",
              "54 -0.927684 -1.592166  0.881034 -0.817794  0.521546\n",
              "55 -1.224989  0.519011 -0.099993  1.677043  1.032523\n",
              "56  1.094412 -0.000674  2.276336 -0.543689  2.247434\n",
              "57  1.651398  1.633378 -0.030085 -1.272884  0.142715\n",
              "58 -1.230907  1.635593 -0.502656  0.124415  0.339701\n",
              "59 -0.778006 -0.127051 -0.276995 -0.148300 -2.143671\n",
              "60 -0.271222 -0.473286 -0.544344  0.467309  0.269350\n",
              "61  1.040334 -0.760366 -0.787485  0.185155 -0.720048\n",
              "62  0.586468 -0.597631  1.107257 -1.217932 -0.722115\n",
              "63 -0.532168  1.504380 -0.383197  0.032079  1.068129\n",
              "64 -0.899138  1.326982  1.012276  0.260805  2.525520\n",
              "65  0.371895 -1.686301 -0.773826  0.266013 -0.513146\n",
              "66  0.769406 -1.739679 -0.082624 -1.110408  1.134621\n",
              "67 -0.051434 -0.057644 -0.842232 -1.653138  0.871695\n",
              "68 -0.927315  0.642558  1.567429  0.294631  0.624044\n",
              "69  0.859187 -0.325514 -0.754519 -0.655468 -1.404569\n",
              "70 -0.618243  0.398207 -1.922912 -1.856504  2.144460\n",
              "71 -0.286262 -1.685216  1.743857 -0.303586  1.142463\n",
              "72  0.446888 -0.317423 -0.668222  0.107886  0.912395\n",
              "73 -0.655681  0.728768 -0.908012 -1.183005 -0.100411\n",
              "74 -0.239849 -1.105146  0.041064  0.289878  0.076300\n",
              "75  0.889418 -0.542176 -0.422282  0.446435 -0.093866\n",
              "76 -0.633951  1.733374 -1.213820 -1.331700  1.382043\n",
              "77  0.010437  1.963168  1.005964  0.368377  1.585257\n",
              "78 -2.050502 -0.140263 -0.313692 -0.966664  0.586578\n",
              "79  0.064297 -0.665439  1.666131 -0.757200  1.289856\n",
              "80 -0.321375 -0.717995 -0.282727  0.443545 -0.246947\n",
              "81 -0.712662  1.497682 -0.224547 -0.300731 -1.260290\n",
              "82 -0.553789 -0.047728 -1.279869 -1.020228 -0.756610\n",
              "83  0.645466 -0.196596 -0.352365 -0.861288  0.830625\n",
              "84  0.413443  1.676898 -0.244068  0.117074  0.103405\n",
              "85 -0.646443  0.116978 -2.372111 -0.612593 -0.347472\n",
              "86  1.164800 -0.419084  1.302567 -1.900460 -0.433135\n",
              "87 -0.172346  1.655181 -0.173727 -0.299548 -1.542398\n",
              "88  0.383234 -2.168165  1.123795  0.468059  0.263312\n",
              "89 -0.242589  1.834262  1.376527 -0.487530  1.226948\n",
              "90 -0.415918  0.221405 -0.227621  0.166368  0.110625\n",
              "91  2.163241  0.145295  1.480490 -0.242187 -0.129564\n",
              "92  1.406544 -0.702939  0.375328  0.308727  2.138848\n",
              "93  0.097187  1.307547 -0.227637  0.050458 -0.971997\n",
              "94 -0.925001  0.210197 -0.595068  0.248029 -0.831940\n",
              "95 -0.166068  0.236853 -1.521391  1.191647 -1.235834\n",
              "96 -1.713442 -2.041118  0.349084  0.052457 -0.733394\n",
              "97  0.746430  1.371440 -0.992922 -0.201418 -0.053623\n",
              "98  0.223729 -1.557120 -0.457714  0.563135 -0.377610\n",
              "99 -0.371375 -0.050201 -1.310456  0.673230  0.085871"
            ]
          },
          "metadata": {
            "tags": []
          },
          "execution_count": 39
        }
      ]
    },
    {
      "cell_type": "code",
      "metadata": {
        "colab": {
          "base_uri": "https://localhost:8080/",
          "height": 542
        },
        "id": "vXUHVvnk0pjL",
        "outputId": "bce6e321-907b-4b43-ed20-7c2d121d1683"
      },
      "source": [
        "df.iplot()"
      ],
      "execution_count": null,
      "outputs": [
        {
          "output_type": "display_data",
          "data": {
            "text/html": [
              "<div>\n",
              "        \n",
              "        \n",
              "            <div id=\"7edfc259-b760-45a0-8ead-e943667497d2\" class=\"plotly-graph-div\" style=\"height:525px; width:100%;\"></div>\n",
              "            <script type=\"text/javascript\">\n",
              "                require([\"plotly\"], function(Plotly) {\n",
              "                    window.PLOTLYENV=window.PLOTLYENV || {};\n",
              "                    window.PLOTLYENV.BASE_URL='https://plot.ly';\n",
              "                    \n",
              "                if (document.getElementById(\"7edfc259-b760-45a0-8ead-e943667497d2\")) {\n",
              "                    Plotly.newPlot(\n",
              "                        '7edfc259-b760-45a0-8ead-e943667497d2',\n",
              "                        [{\"line\": {\"color\": \"rgba(255, 153, 51, 1.0)\", \"dash\": \"solid\", \"shape\": \"linear\", \"width\": 1.3}, \"mode\": \"lines\", \"name\": \"A\", \"text\": \"\", \"type\": \"scatter\", \"x\": [0, 1, 2, 3, 4, 5, 6, 7, 8, 9, 10, 11, 12, 13, 14, 15, 16, 17, 18, 19, 20, 21, 22, 23, 24, 25, 26, 27, 28, 29, 30, 31, 32, 33, 34, 35, 36, 37, 38, 39, 40, 41, 42, 43, 44, 45, 46, 47, 48, 49, 50, 51, 52, 53, 54, 55, 56, 57, 58, 59, 60, 61, 62, 63, 64, 65, 66, 67, 68, 69, 70, 71, 72, 73, 74, 75, 76, 77, 78, 79, 80, 81, 82, 83, 84, 85, 86, 87, 88, 89, 90, 91, 92, 93, 94, 95, 96, 97, 98, 99], \"y\": [-1.1749772152084035, -0.3779170738097308, -0.5708994120724677, 0.5549988075322745, 1.0741314482972986, 0.30215920715311495, 1.5442727738941344, 1.2988610564060021, -0.6599371662002036, 0.07102150006878152, -2.0354504738412587, 0.2607217178043962, 1.8861717159018088, -0.23108987869045655, -1.5758617773544141, -0.463083893491209, 0.47908327554731084, -1.2125285980161962, -0.028513615314143148, 0.3312518214411839, -1.2522069900964254, -0.22059339359438407, 0.1196123614866067, 1.8575572864383574, -0.9060742747194106, -1.0893640130976343, 1.0922960505019603, 0.5077301133819063, 1.5081253428844992, 0.31270207248994075, -0.44842028253211147, -0.48713874476952557, 1.0086172742704869, 1.0761959124360045, -1.061528872746395, 0.47859189609133507, -0.1512051511204415, -1.34351472703024, 1.59080904474293, 0.2414278803164778, -1.610044850740366, 0.6880042671733377, 0.4122770167496885, -0.5785266987373706, 0.706519238390045, -0.34573560040548357, 1.5899216517586061, 0.6786676276976589, -0.010687417142944538, -0.2618802173589107, -1.061079173398206, 1.101814343228975, 0.6316295114352966, 0.9524521766761052, -0.927683630622664, -1.224988841155045, 1.094412190712859, 1.6513979409231412, -1.230907417648648, -0.7780062778518667, -0.2712218774411599, 1.0403340914234973, 0.5864681519110181, -0.5321682966066407, -0.8991375244931096, 0.3718946552353434, 0.7694064163434158, -0.05143358583696394, -0.927314626621483, 0.8591874950678026, -0.6182433262182968, -0.2862621123619757, 0.44688801927458033, -0.6556812399505361, -0.23984930677487126, 0.8894179410643122, -0.6339511397430591, 0.010436611921874249, -2.05050197865021, 0.06429702878269146, -0.32137484772117403, -0.7126623132330004, -0.5537891140851676, 0.6454664250040542, 0.413443160826801, -0.6464431876609719, 1.1647999271913172, -0.172345935502807, 0.38323406221589684, -0.24258909831600514, -0.4159183475950709, 2.1632414674819818, 1.4065439035592624, 0.09718682258910089, -0.9250006384261442, -0.16606792502844925, -1.7134423399489533, 0.7464299924683054, 0.22372852507514712, -0.3713750110181599]}, {\"line\": {\"color\": \"rgba(55, 128, 191, 1.0)\", \"dash\": \"solid\", \"shape\": \"linear\", \"width\": 1.3}, \"mode\": \"lines\", \"name\": \"B\", \"text\": \"\", \"type\": \"scatter\", \"x\": [0, 1, 2, 3, 4, 5, 6, 7, 8, 9, 10, 11, 12, 13, 14, 15, 16, 17, 18, 19, 20, 21, 22, 23, 24, 25, 26, 27, 28, 29, 30, 31, 32, 33, 34, 35, 36, 37, 38, 39, 40, 41, 42, 43, 44, 45, 46, 47, 48, 49, 50, 51, 52, 53, 54, 55, 56, 57, 58, 59, 60, 61, 62, 63, 64, 65, 66, 67, 68, 69, 70, 71, 72, 73, 74, 75, 76, 77, 78, 79, 80, 81, 82, 83, 84, 85, 86, 87, 88, 89, 90, 91, 92, 93, 94, 95, 96, 97, 98, 99], \"y\": [0.546615513732223, 0.7536025705810206, 0.991264407438625, -0.5699750866610114, -1.1967305077106531, -0.8340771066923657, -1.349605824794849, -0.019051617412514467, 0.6539614377424288, 0.4995018797051141, -1.609905459758883, -0.8900749396927077, -0.3151235806741814, -0.9318391867987862, -1.0280805454392152, 0.3659629063537766, 0.950147173342877, 0.7394785232802653, -1.1253370082478682, -1.4128858545024612, 0.49498325335462273, -1.132125052054212, 0.3113438414143409, 1.785995521574519, 1.42609090465851, 0.8855430870782791, -0.932182173954428, 1.9460189944360853, 0.3758316515113295, 0.03576806404779884, 0.1443470137252578, -0.2775711437397765, -0.9963185865733284, -3.125390188276243, 0.16551205366499605, -0.11358420003218321, 0.9975144690854232, 0.8135542553291103, 1.3463003072885484, -0.04372457973277888, 0.10215290858645183, -0.2265527387957428, -0.650331987222113, -0.29233679587188643, -0.4692999965404013, -0.03669932244489399, -0.7523134251364739, 2.5561089032818454, 0.12324074364298004, 0.9324296004095772, -1.6479608348248211, 0.26253029980458875, 2.143233947984214, 1.005385616349666, -1.5921664901333332, 0.5190105336663459, -0.0006741111518020859, 1.6333775953328376, 1.6355929919796206, -0.12705134626972722, -0.4732858949587915, -0.7603662266295413, -0.5976314379645705, 1.5043795168493295, 1.3269815182891618, -1.686300868188942, -1.7396789399012504, -0.05764423457453948, 0.6425575928186736, -0.3255140777907368, 0.39820695630582464, -1.6852164311070483, -0.31742278923701694, 0.7287678204899237, -1.1051455526419236, -0.5421761241985412, 1.7333736510924271, 1.9631683060824452, -0.1402630466376674, -0.6654385052084744, -0.7179947691233792, 1.4976821395060327, -0.047727730007448226, -0.19659570292149434, 1.6768979153243728, 0.11697782791786411, -0.4190840955498452, 1.6551813504349189, -2.1681651682631493, 1.8342615956661734, 0.22140460251026692, 0.14529541887994293, -0.7029388212801344, 1.3075468645162707, 0.21019736968437813, 0.23685282944724617, -2.041118378139542, 1.3714398765347129, -1.5571204719098657, -0.050201121219470776]}, {\"line\": {\"color\": \"rgba(50, 171, 96, 1.0)\", \"dash\": \"solid\", \"shape\": \"linear\", \"width\": 1.3}, \"mode\": \"lines\", \"name\": \"C\", \"text\": \"\", \"type\": \"scatter\", \"x\": [0, 1, 2, 3, 4, 5, 6, 7, 8, 9, 10, 11, 12, 13, 14, 15, 16, 17, 18, 19, 20, 21, 22, 23, 24, 25, 26, 27, 28, 29, 30, 31, 32, 33, 34, 35, 36, 37, 38, 39, 40, 41, 42, 43, 44, 45, 46, 47, 48, 49, 50, 51, 52, 53, 54, 55, 56, 57, 58, 59, 60, 61, 62, 63, 64, 65, 66, 67, 68, 69, 70, 71, 72, 73, 74, 75, 76, 77, 78, 79, 80, 81, 82, 83, 84, 85, 86, 87, 88, 89, 90, 91, 92, 93, 94, 95, 96, 97, 98, 99], \"y\": [-0.7035964168667909, -1.151438449731667, 0.5998850241479027, -0.5192749447291733, 0.4023432896159358, -0.7672055616023065, 1.102915341858455, 0.7479551714773277, -1.2944749380995726, 0.026480930855699875, 1.0027787516494706, -1.3223047826797738, -1.4064871871674571, 2.6064166559823425, -0.07818759879597571, -0.5944017643567016, -0.8101352791917279, -0.5754817161970129, 0.8762103608880456, -0.6073815378804366, -0.5318789337249482, 1.3537446312861168, 1.5322517209111137, 0.2209962347596253, -1.2246639730759006, -0.5953232993202333, -0.8431780909639361, 0.13282382003945004, -1.1029988150619408, 1.4168197846565322, 0.2912216132249652, 0.6734534165014228, 0.1518678219293175, -0.09055435628630672, -1.0536635068296916, -0.6458391994729117, -1.7684457123585748, 1.3464747641636234, 0.9180280781429716, 0.6333227437387605, 1.4937920348260851, -0.264548091093156, -0.764623747845522, -0.6378181856877679, -0.48188710293637094, -0.48771082763504436, -0.3850535284655568, -1.312675341464195, 1.9844132348836379, 0.6474255831941002, 0.4420585051072425, -0.036957699063671155, -1.858437372425886, -0.47946291658560597, 0.8810335409213019, -0.0999934850962974, 2.2763364182970873, -0.03008475207567932, -0.5026557391708492, -0.2769951448451758, -0.5443442209099568, -0.7874848213278257, 1.107256548863389, -0.3831972698265307, 1.0122758945612413, -0.773826422368653, -0.08262407645039317, -0.8422319031959423, 1.5674294336909251, -0.7545187812259746, -1.9229122564338956, 1.7438573679575475, -0.6682217177684193, -0.9080124058455009, 0.041064047093406074, -0.42228233165455265, -1.2138195041473907, 1.005963644458875, -0.31369178339115084, 1.6661309101796147, -0.2827266496800416, -0.22454660532867554, -1.2798692164703838, -0.3523653778314622, -0.24406776154054002, -2.3721112151565027, 1.3025674541434242, -0.17372667694840954, 1.1237946561345915, 1.3765273425457278, -0.22762057159287136, 1.4804897888186714, 0.3753281290682731, -0.22763746023592385, -0.5950675813708222, -1.5213907585715436, 0.3490840402643815, -0.9929217720935112, -0.4577142306356627, -1.3104560801961076]}, {\"line\": {\"color\": \"rgba(128, 0, 128, 1.0)\", \"dash\": \"solid\", \"shape\": \"linear\", \"width\": 1.3}, \"mode\": \"lines\", \"name\": \"D\", \"text\": \"\", \"type\": \"scatter\", \"x\": [0, 1, 2, 3, 4, 5, 6, 7, 8, 9, 10, 11, 12, 13, 14, 15, 16, 17, 18, 19, 20, 21, 22, 23, 24, 25, 26, 27, 28, 29, 30, 31, 32, 33, 34, 35, 36, 37, 38, 39, 40, 41, 42, 43, 44, 45, 46, 47, 48, 49, 50, 51, 52, 53, 54, 55, 56, 57, 58, 59, 60, 61, 62, 63, 64, 65, 66, 67, 68, 69, 70, 71, 72, 73, 74, 75, 76, 77, 78, 79, 80, 81, 82, 83, 84, 85, 86, 87, 88, 89, 90, 91, 92, 93, 94, 95, 96, 97, 98, 99], \"y\": [-0.14347769646167882, 0.5873370266734717, -0.37111858846838297, -0.02164315392687805, -0.0981150714016284, -1.192776384077493, 0.24860380209227934, -1.3900680199180455, 0.7994633910500539, 1.3076429646799472, 1.4300942817411164, 1.0021118098261739, 0.47203549718377774, -0.9910669324309332, -1.1426570159066904, -0.36130993490733704, -1.0843188553108367, 0.6283807330322854, -1.3679590971422864, -0.7818141379718702, 0.2701884122623558, -0.1837559648377712, 0.43873442779215766, 1.656158141977978, 0.3993349925828309, 0.29210641821436045, -0.8566972611635604, 0.5793175570280485, 1.1909400381608806, 0.1249658531591891, -0.33498219323185324, 0.11194202972645223, -2.9842336215056733, 0.42806081720405914, 0.32112519628511005, 2.018185839685791, 0.07620257785890765, -0.13986791328528062, 0.920802818397255, 1.0361320826608498, 0.18353117345174993, -0.04692325847145157, -1.3166294199217177, 0.5353419524263042, 0.3010681010514135, 2.1405679667142707, -1.6954163425678264, 0.05270854568625546, -0.8364786849443393, -0.4255468736985105, -0.7683126034446235, 0.5098146834394894, 0.8243591266127813, 0.5736549599351144, -0.8177940349515267, 1.6770429725428273, -0.5436892019541624, -1.2728839884040062, 0.12441468164224781, -0.1483002249536748, 0.4673092857656207, 0.18515450118686205, -1.217932196412744, 0.03207879322514331, 0.2608049806408813, 0.26601281383187425, -1.110408048810417, -1.653138263025912, 0.29463060230803667, -0.6554676603439524, -1.8565039843304423, -0.3035855512406759, 0.10788567246809337, -1.1830051097458008, 0.2898778670200328, 0.4464347484729418, -1.331700353765156, 0.3683766914995959, -0.9666642307468233, -0.7572001972327232, 0.44354506617211986, -0.30073105406790335, -1.0202276717304426, -0.8612881199732524, 0.11707377095287698, -0.6125931793717005, -1.9004604846759419, -0.29954835617892905, 0.4680587537389525, -0.4875296020021846, 0.16636788416809248, -0.24218679624796868, 0.3087267666543777, 0.05045781326119775, 0.24802851021960348, 1.1916467884080164, 0.0524567017882374, -0.20141790863937548, 0.5631347401760456, 0.6732303975997113]}, {\"line\": {\"color\": \"rgba(219, 64, 82, 1.0)\", \"dash\": \"solid\", \"shape\": \"linear\", \"width\": 1.3}, \"mode\": \"lines\", \"name\": \"E\", \"text\": \"\", \"type\": \"scatter\", \"x\": [0, 1, 2, 3, 4, 5, 6, 7, 8, 9, 10, 11, 12, 13, 14, 15, 16, 17, 18, 19, 20, 21, 22, 23, 24, 25, 26, 27, 28, 29, 30, 31, 32, 33, 34, 35, 36, 37, 38, 39, 40, 41, 42, 43, 44, 45, 46, 47, 48, 49, 50, 51, 52, 53, 54, 55, 56, 57, 58, 59, 60, 61, 62, 63, 64, 65, 66, 67, 68, 69, 70, 71, 72, 73, 74, 75, 76, 77, 78, 79, 80, 81, 82, 83, 84, 85, 86, 87, 88, 89, 90, 91, 92, 93, 94, 95, 96, 97, 98, 99], \"y\": [-0.6049598013102498, 0.6287360795698114, 1.3809183006907322, -0.0960271578407001, 0.5498704877326022, 0.8685893168561117, 0.6588490840566661, -1.7277406342055166, 1.2473937311140495, 0.7824558510838419, -0.11892437956968673, -1.2228033089489285, -0.3092057546935234, -1.8963662826473338, 1.4523524235738678, -1.1507058532086465, 2.362542572823207, 0.31728018619568654, -1.562173352755388, -0.8355278094597536, -0.17388613092593447, -1.697452223205147, -1.5805016626013442, -1.7740969041733945, -0.4490901732439773, -0.9203763900391391, -1.7932996231779672, -2.5739980224650876, -0.9233387745242683, 0.9381805159060332, -0.0220171961134242, 1.3791392409257293, 0.9028958557174719, 0.21951585423444525, -1.7901338214942877, -0.1338882752246818, -0.059431725734913426, -0.3150725214378444, 1.125650074590703, 0.1379937890159135, 0.35224768059334216, -0.15151942207469987, -0.8777012525353239, 0.4651131594287982, 0.33730143441823873, -0.6933421464220445, -2.366080455861181, -0.06435771905488798, 0.18074662424592208, -1.4604991278763186, 0.8002043764943033, 0.20806841870464768, -1.2365713819390964, 0.47213308032480844, 0.5215461893696094, 1.0325226768219178, 2.247433796264182, 0.1427150789768096, 0.3397011048986668, -2.143670707200319, 0.2693504922155889, -0.7200478930494146, -0.7221146557721294, 1.0681292392917987, 2.5255204436904024, -0.5131459545868569, 1.134621427131061, 0.8716948908238936, 0.6240436853632244, -1.4045687269758917, 2.1444598738374787, 1.1424626309473467, 0.9123953344372301, -0.1004112182482107, 0.07630033930861066, -0.09386639051224915, 1.382043276542923, 1.5852566018457248, 0.5865784232127874, 1.2898555115947612, -0.2469474848537143, -1.260289605242337, -0.7566101062938434, 0.8306245061698698, 0.10340534851332352, -0.347472351384367, -0.43313537571991556, -1.5423975195425175, 0.26331157692624013, 1.2269482295912035, 0.11062545878271647, -0.12956416990080485, 2.1388477326495066, -0.9719973857131293, -0.831940112864614, -1.2358335300036896, -0.7333943370916469, -0.05362285205111037, -0.3776103086606719, 0.08587077479741446]}],\n",
              "                        {\"legend\": {\"bgcolor\": \"#F5F6F9\", \"font\": {\"color\": \"#4D5663\"}}, \"paper_bgcolor\": \"#F5F6F9\", \"plot_bgcolor\": \"#F5F6F9\", \"template\": {\"data\": {\"bar\": [{\"error_x\": {\"color\": \"#2a3f5f\"}, \"error_y\": {\"color\": \"#2a3f5f\"}, \"marker\": {\"line\": {\"color\": \"#E5ECF6\", \"width\": 0.5}}, \"type\": \"bar\"}], \"barpolar\": [{\"marker\": {\"line\": {\"color\": \"#E5ECF6\", \"width\": 0.5}}, \"type\": \"barpolar\"}], \"carpet\": [{\"aaxis\": {\"endlinecolor\": \"#2a3f5f\", \"gridcolor\": \"white\", \"linecolor\": \"white\", \"minorgridcolor\": \"white\", \"startlinecolor\": \"#2a3f5f\"}, \"baxis\": {\"endlinecolor\": \"#2a3f5f\", \"gridcolor\": \"white\", \"linecolor\": \"white\", \"minorgridcolor\": \"white\", \"startlinecolor\": \"#2a3f5f\"}, \"type\": \"carpet\"}], \"choropleth\": [{\"colorbar\": {\"outlinewidth\": 0, \"ticks\": \"\"}, \"type\": \"choropleth\"}], \"contour\": [{\"colorbar\": {\"outlinewidth\": 0, \"ticks\": \"\"}, \"colorscale\": [[0.0, \"#0d0887\"], [0.1111111111111111, \"#46039f\"], [0.2222222222222222, \"#7201a8\"], [0.3333333333333333, \"#9c179e\"], [0.4444444444444444, \"#bd3786\"], [0.5555555555555556, \"#d8576b\"], [0.6666666666666666, \"#ed7953\"], [0.7777777777777778, \"#fb9f3a\"], [0.8888888888888888, \"#fdca26\"], [1.0, \"#f0f921\"]], \"type\": \"contour\"}], \"contourcarpet\": [{\"colorbar\": {\"outlinewidth\": 0, \"ticks\": \"\"}, \"type\": \"contourcarpet\"}], \"heatmap\": [{\"colorbar\": {\"outlinewidth\": 0, \"ticks\": \"\"}, \"colorscale\": [[0.0, \"#0d0887\"], [0.1111111111111111, \"#46039f\"], [0.2222222222222222, \"#7201a8\"], [0.3333333333333333, \"#9c179e\"], [0.4444444444444444, \"#bd3786\"], [0.5555555555555556, \"#d8576b\"], [0.6666666666666666, \"#ed7953\"], [0.7777777777777778, \"#fb9f3a\"], [0.8888888888888888, \"#fdca26\"], [1.0, \"#f0f921\"]], \"type\": \"heatmap\"}], \"heatmapgl\": [{\"colorbar\": {\"outlinewidth\": 0, \"ticks\": \"\"}, \"colorscale\": [[0.0, \"#0d0887\"], [0.1111111111111111, \"#46039f\"], [0.2222222222222222, \"#7201a8\"], [0.3333333333333333, \"#9c179e\"], [0.4444444444444444, \"#bd3786\"], [0.5555555555555556, \"#d8576b\"], [0.6666666666666666, \"#ed7953\"], [0.7777777777777778, \"#fb9f3a\"], [0.8888888888888888, \"#fdca26\"], [1.0, \"#f0f921\"]], \"type\": \"heatmapgl\"}], \"histogram\": [{\"marker\": {\"colorbar\": {\"outlinewidth\": 0, \"ticks\": \"\"}}, \"type\": \"histogram\"}], \"histogram2d\": [{\"colorbar\": {\"outlinewidth\": 0, \"ticks\": \"\"}, \"colorscale\": [[0.0, \"#0d0887\"], [0.1111111111111111, \"#46039f\"], [0.2222222222222222, \"#7201a8\"], [0.3333333333333333, \"#9c179e\"], [0.4444444444444444, \"#bd3786\"], [0.5555555555555556, \"#d8576b\"], [0.6666666666666666, \"#ed7953\"], [0.7777777777777778, \"#fb9f3a\"], [0.8888888888888888, \"#fdca26\"], [1.0, \"#f0f921\"]], \"type\": \"histogram2d\"}], \"histogram2dcontour\": [{\"colorbar\": {\"outlinewidth\": 0, \"ticks\": \"\"}, \"colorscale\": [[0.0, \"#0d0887\"], [0.1111111111111111, \"#46039f\"], [0.2222222222222222, \"#7201a8\"], [0.3333333333333333, \"#9c179e\"], [0.4444444444444444, \"#bd3786\"], [0.5555555555555556, \"#d8576b\"], [0.6666666666666666, \"#ed7953\"], [0.7777777777777778, \"#fb9f3a\"], [0.8888888888888888, \"#fdca26\"], [1.0, \"#f0f921\"]], \"type\": \"histogram2dcontour\"}], \"mesh3d\": [{\"colorbar\": {\"outlinewidth\": 0, \"ticks\": \"\"}, \"type\": \"mesh3d\"}], \"parcoords\": [{\"line\": {\"colorbar\": {\"outlinewidth\": 0, \"ticks\": \"\"}}, \"type\": \"parcoords\"}], \"pie\": [{\"automargin\": true, \"type\": \"pie\"}], \"scatter\": [{\"marker\": {\"colorbar\": {\"outlinewidth\": 0, \"ticks\": \"\"}}, \"type\": \"scatter\"}], \"scatter3d\": [{\"line\": {\"colorbar\": {\"outlinewidth\": 0, \"ticks\": \"\"}}, \"marker\": {\"colorbar\": {\"outlinewidth\": 0, \"ticks\": \"\"}}, \"type\": \"scatter3d\"}], \"scattercarpet\": [{\"marker\": {\"colorbar\": {\"outlinewidth\": 0, \"ticks\": \"\"}}, \"type\": \"scattercarpet\"}], \"scattergeo\": [{\"marker\": {\"colorbar\": {\"outlinewidth\": 0, \"ticks\": \"\"}}, \"type\": \"scattergeo\"}], \"scattergl\": [{\"marker\": {\"colorbar\": {\"outlinewidth\": 0, \"ticks\": \"\"}}, \"type\": \"scattergl\"}], \"scattermapbox\": [{\"marker\": {\"colorbar\": {\"outlinewidth\": 0, \"ticks\": \"\"}}, \"type\": \"scattermapbox\"}], \"scatterpolar\": [{\"marker\": {\"colorbar\": {\"outlinewidth\": 0, \"ticks\": \"\"}}, \"type\": \"scatterpolar\"}], \"scatterpolargl\": [{\"marker\": {\"colorbar\": {\"outlinewidth\": 0, \"ticks\": \"\"}}, \"type\": \"scatterpolargl\"}], \"scatterternary\": [{\"marker\": {\"colorbar\": {\"outlinewidth\": 0, \"ticks\": \"\"}}, \"type\": \"scatterternary\"}], \"surface\": [{\"colorbar\": {\"outlinewidth\": 0, \"ticks\": \"\"}, \"colorscale\": [[0.0, \"#0d0887\"], [0.1111111111111111, \"#46039f\"], [0.2222222222222222, \"#7201a8\"], [0.3333333333333333, \"#9c179e\"], [0.4444444444444444, \"#bd3786\"], [0.5555555555555556, \"#d8576b\"], [0.6666666666666666, \"#ed7953\"], [0.7777777777777778, \"#fb9f3a\"], [0.8888888888888888, \"#fdca26\"], [1.0, \"#f0f921\"]], \"type\": \"surface\"}], \"table\": [{\"cells\": {\"fill\": {\"color\": \"#EBF0F8\"}, \"line\": {\"color\": \"white\"}}, \"header\": {\"fill\": {\"color\": \"#C8D4E3\"}, \"line\": {\"color\": \"white\"}}, \"type\": \"table\"}]}, \"layout\": {\"annotationdefaults\": {\"arrowcolor\": \"#2a3f5f\", \"arrowhead\": 0, \"arrowwidth\": 1}, \"coloraxis\": {\"colorbar\": {\"outlinewidth\": 0, \"ticks\": \"\"}}, \"colorscale\": {\"diverging\": [[0, \"#8e0152\"], [0.1, \"#c51b7d\"], [0.2, \"#de77ae\"], [0.3, \"#f1b6da\"], [0.4, \"#fde0ef\"], [0.5, \"#f7f7f7\"], [0.6, \"#e6f5d0\"], [0.7, \"#b8e186\"], [0.8, \"#7fbc41\"], [0.9, \"#4d9221\"], [1, \"#276419\"]], \"sequential\": [[0.0, \"#0d0887\"], [0.1111111111111111, \"#46039f\"], [0.2222222222222222, \"#7201a8\"], [0.3333333333333333, \"#9c179e\"], [0.4444444444444444, \"#bd3786\"], [0.5555555555555556, \"#d8576b\"], [0.6666666666666666, \"#ed7953\"], [0.7777777777777778, \"#fb9f3a\"], [0.8888888888888888, \"#fdca26\"], [1.0, \"#f0f921\"]], \"sequentialminus\": [[0.0, \"#0d0887\"], [0.1111111111111111, \"#46039f\"], [0.2222222222222222, \"#7201a8\"], [0.3333333333333333, \"#9c179e\"], [0.4444444444444444, \"#bd3786\"], [0.5555555555555556, \"#d8576b\"], [0.6666666666666666, \"#ed7953\"], [0.7777777777777778, \"#fb9f3a\"], [0.8888888888888888, \"#fdca26\"], [1.0, \"#f0f921\"]]}, \"colorway\": [\"#636efa\", \"#EF553B\", \"#00cc96\", \"#ab63fa\", \"#FFA15A\", \"#19d3f3\", \"#FF6692\", \"#B6E880\", \"#FF97FF\", \"#FECB52\"], \"font\": {\"color\": \"#2a3f5f\"}, \"geo\": {\"bgcolor\": \"white\", \"lakecolor\": \"white\", \"landcolor\": \"#E5ECF6\", \"showlakes\": true, \"showland\": true, \"subunitcolor\": \"white\"}, \"hoverlabel\": {\"align\": \"left\"}, \"hovermode\": \"closest\", \"mapbox\": {\"style\": \"light\"}, \"paper_bgcolor\": \"white\", \"plot_bgcolor\": \"#E5ECF6\", \"polar\": {\"angularaxis\": {\"gridcolor\": \"white\", \"linecolor\": \"white\", \"ticks\": \"\"}, \"bgcolor\": \"#E5ECF6\", \"radialaxis\": {\"gridcolor\": \"white\", \"linecolor\": \"white\", \"ticks\": \"\"}}, \"scene\": {\"xaxis\": {\"backgroundcolor\": \"#E5ECF6\", \"gridcolor\": \"white\", \"gridwidth\": 2, \"linecolor\": \"white\", \"showbackground\": true, \"ticks\": \"\", \"zerolinecolor\": \"white\"}, \"yaxis\": {\"backgroundcolor\": \"#E5ECF6\", \"gridcolor\": \"white\", \"gridwidth\": 2, \"linecolor\": \"white\", \"showbackground\": true, \"ticks\": \"\", \"zerolinecolor\": \"white\"}, \"zaxis\": {\"backgroundcolor\": \"#E5ECF6\", \"gridcolor\": \"white\", \"gridwidth\": 2, \"linecolor\": \"white\", \"showbackground\": true, \"ticks\": \"\", \"zerolinecolor\": \"white\"}}, \"shapedefaults\": {\"line\": {\"color\": \"#2a3f5f\"}}, \"ternary\": {\"aaxis\": {\"gridcolor\": \"white\", \"linecolor\": \"white\", \"ticks\": \"\"}, \"baxis\": {\"gridcolor\": \"white\", \"linecolor\": \"white\", \"ticks\": \"\"}, \"bgcolor\": \"#E5ECF6\", \"caxis\": {\"gridcolor\": \"white\", \"linecolor\": \"white\", \"ticks\": \"\"}}, \"title\": {\"x\": 0.05}, \"xaxis\": {\"automargin\": true, \"gridcolor\": \"white\", \"linecolor\": \"white\", \"ticks\": \"\", \"title\": {\"standoff\": 15}, \"zerolinecolor\": \"white\", \"zerolinewidth\": 2}, \"yaxis\": {\"automargin\": true, \"gridcolor\": \"white\", \"linecolor\": \"white\", \"ticks\": \"\", \"title\": {\"standoff\": 15}, \"zerolinecolor\": \"white\", \"zerolinewidth\": 2}}}, \"title\": {\"font\": {\"color\": \"#4D5663\"}}, \"xaxis\": {\"gridcolor\": \"#E1E5ED\", \"showgrid\": true, \"tickfont\": {\"color\": \"#4D5663\"}, \"title\": {\"font\": {\"color\": \"#4D5663\"}, \"text\": \"\"}, \"zerolinecolor\": \"#E1E5ED\"}, \"yaxis\": {\"gridcolor\": \"#E1E5ED\", \"showgrid\": true, \"tickfont\": {\"color\": \"#4D5663\"}, \"title\": {\"font\": {\"color\": \"#4D5663\"}, \"text\": \"\"}, \"zerolinecolor\": \"#E1E5ED\"}},\n",
              "                        {\"showLink\": true, \"linkText\": \"Export to plot.ly\", \"plotlyServerURL\": \"https://plot.ly\", \"responsive\": true}\n",
              "                    ).then(function(){\n",
              "                            \n",
              "var gd = document.getElementById('7edfc259-b760-45a0-8ead-e943667497d2');\n",
              "var x = new MutationObserver(function (mutations, observer) {{\n",
              "        var display = window.getComputedStyle(gd).display;\n",
              "        if (!display || display === 'none') {{\n",
              "            console.log([gd, 'removed!']);\n",
              "            Plotly.purge(gd);\n",
              "            observer.disconnect();\n",
              "        }}\n",
              "}});\n",
              "\n",
              "// Listen for the removal of the full notebook cells\n",
              "var notebookContainer = gd.closest('#notebook-container');\n",
              "if (notebookContainer) {{\n",
              "    x.observe(notebookContainer, {childList: true});\n",
              "}}\n",
              "\n",
              "// Listen for the clearing of the current output cell\n",
              "var outputEl = gd.closest('.output');\n",
              "if (outputEl) {{\n",
              "    x.observe(outputEl, {childList: true});\n",
              "}}\n",
              "\n",
              "                        })\n",
              "                };\n",
              "                });\n",
              "            </script>\n",
              "        </div>"
            ],
            "application/vnd.plotly.v1+json": {
              "data": [
                {
                  "name": "A",
                  "text": "",
                  "mode": "lines",
                  "y": [
                    -1.1749772152084035,
                    -0.3779170738097308,
                    -0.5708994120724677,
                    0.5549988075322745,
                    1.0741314482972986,
                    0.30215920715311495,
                    1.5442727738941344,
                    1.2988610564060021,
                    -0.6599371662002036,
                    0.07102150006878152,
                    -2.0354504738412587,
                    0.2607217178043962,
                    1.8861717159018088,
                    -0.23108987869045655,
                    -1.5758617773544141,
                    -0.463083893491209,
                    0.47908327554731084,
                    -1.2125285980161962,
                    -0.028513615314143148,
                    0.3312518214411839,
                    -1.2522069900964254,
                    -0.22059339359438407,
                    0.1196123614866067,
                    1.8575572864383574,
                    -0.9060742747194106,
                    -1.0893640130976343,
                    1.0922960505019603,
                    0.5077301133819063,
                    1.5081253428844992,
                    0.31270207248994075,
                    -0.44842028253211147,
                    -0.48713874476952557,
                    1.0086172742704869,
                    1.0761959124360045,
                    -1.061528872746395,
                    0.47859189609133507,
                    -0.1512051511204415,
                    -1.34351472703024,
                    1.59080904474293,
                    0.2414278803164778,
                    -1.610044850740366,
                    0.6880042671733377,
                    0.4122770167496885,
                    -0.5785266987373706,
                    0.706519238390045,
                    -0.34573560040548357,
                    1.5899216517586061,
                    0.6786676276976589,
                    -0.010687417142944538,
                    -0.2618802173589107,
                    -1.061079173398206,
                    1.101814343228975,
                    0.6316295114352966,
                    0.9524521766761052,
                    -0.927683630622664,
                    -1.224988841155045,
                    1.094412190712859,
                    1.6513979409231412,
                    -1.230907417648648,
                    -0.7780062778518667,
                    -0.2712218774411599,
                    1.0403340914234973,
                    0.5864681519110181,
                    -0.5321682966066407,
                    -0.8991375244931096,
                    0.3718946552353434,
                    0.7694064163434158,
                    -0.05143358583696394,
                    -0.927314626621483,
                    0.8591874950678026,
                    -0.6182433262182968,
                    -0.2862621123619757,
                    0.44688801927458033,
                    -0.6556812399505361,
                    -0.23984930677487126,
                    0.8894179410643122,
                    -0.6339511397430591,
                    0.010436611921874249,
                    -2.05050197865021,
                    0.06429702878269146,
                    -0.32137484772117403,
                    -0.7126623132330004,
                    -0.5537891140851676,
                    0.6454664250040542,
                    0.413443160826801,
                    -0.6464431876609719,
                    1.1647999271913172,
                    -0.172345935502807,
                    0.38323406221589684,
                    -0.24258909831600514,
                    -0.4159183475950709,
                    2.1632414674819818,
                    1.4065439035592624,
                    0.09718682258910089,
                    -0.9250006384261442,
                    -0.16606792502844925,
                    -1.7134423399489533,
                    0.7464299924683054,
                    0.22372852507514712,
                    -0.3713750110181599
                  ],
                  "x": [
                    0,
                    1,
                    2,
                    3,
                    4,
                    5,
                    6,
                    7,
                    8,
                    9,
                    10,
                    11,
                    12,
                    13,
                    14,
                    15,
                    16,
                    17,
                    18,
                    19,
                    20,
                    21,
                    22,
                    23,
                    24,
                    25,
                    26,
                    27,
                    28,
                    29,
                    30,
                    31,
                    32,
                    33,
                    34,
                    35,
                    36,
                    37,
                    38,
                    39,
                    40,
                    41,
                    42,
                    43,
                    44,
                    45,
                    46,
                    47,
                    48,
                    49,
                    50,
                    51,
                    52,
                    53,
                    54,
                    55,
                    56,
                    57,
                    58,
                    59,
                    60,
                    61,
                    62,
                    63,
                    64,
                    65,
                    66,
                    67,
                    68,
                    69,
                    70,
                    71,
                    72,
                    73,
                    74,
                    75,
                    76,
                    77,
                    78,
                    79,
                    80,
                    81,
                    82,
                    83,
                    84,
                    85,
                    86,
                    87,
                    88,
                    89,
                    90,
                    91,
                    92,
                    93,
                    94,
                    95,
                    96,
                    97,
                    98,
                    99
                  ],
                  "line": {
                    "color": "rgba(255, 153, 51, 1.0)",
                    "dash": "solid",
                    "shape": "linear",
                    "width": 1.3
                  },
                  "type": "scatter"
                },
                {
                  "name": "B",
                  "text": "",
                  "mode": "lines",
                  "y": [
                    0.546615513732223,
                    0.7536025705810206,
                    0.991264407438625,
                    -0.5699750866610114,
                    -1.1967305077106531,
                    -0.8340771066923657,
                    -1.349605824794849,
                    -0.019051617412514467,
                    0.6539614377424288,
                    0.4995018797051141,
                    -1.609905459758883,
                    -0.8900749396927077,
                    -0.3151235806741814,
                    -0.9318391867987862,
                    -1.0280805454392152,
                    0.3659629063537766,
                    0.950147173342877,
                    0.7394785232802653,
                    -1.1253370082478682,
                    -1.4128858545024612,
                    0.49498325335462273,
                    -1.132125052054212,
                    0.3113438414143409,
                    1.785995521574519,
                    1.42609090465851,
                    0.8855430870782791,
                    -0.932182173954428,
                    1.9460189944360853,
                    0.3758316515113295,
                    0.03576806404779884,
                    0.1443470137252578,
                    -0.2775711437397765,
                    -0.9963185865733284,
                    -3.125390188276243,
                    0.16551205366499605,
                    -0.11358420003218321,
                    0.9975144690854232,
                    0.8135542553291103,
                    1.3463003072885484,
                    -0.04372457973277888,
                    0.10215290858645183,
                    -0.2265527387957428,
                    -0.650331987222113,
                    -0.29233679587188643,
                    -0.4692999965404013,
                    -0.03669932244489399,
                    -0.7523134251364739,
                    2.5561089032818454,
                    0.12324074364298004,
                    0.9324296004095772,
                    -1.6479608348248211,
                    0.26253029980458875,
                    2.143233947984214,
                    1.005385616349666,
                    -1.5921664901333332,
                    0.5190105336663459,
                    -0.0006741111518020859,
                    1.6333775953328376,
                    1.6355929919796206,
                    -0.12705134626972722,
                    -0.4732858949587915,
                    -0.7603662266295413,
                    -0.5976314379645705,
                    1.5043795168493295,
                    1.3269815182891618,
                    -1.686300868188942,
                    -1.7396789399012504,
                    -0.05764423457453948,
                    0.6425575928186736,
                    -0.3255140777907368,
                    0.39820695630582464,
                    -1.6852164311070483,
                    -0.31742278923701694,
                    0.7287678204899237,
                    -1.1051455526419236,
                    -0.5421761241985412,
                    1.7333736510924271,
                    1.9631683060824452,
                    -0.1402630466376674,
                    -0.6654385052084744,
                    -0.7179947691233792,
                    1.4976821395060327,
                    -0.047727730007448226,
                    -0.19659570292149434,
                    1.6768979153243728,
                    0.11697782791786411,
                    -0.4190840955498452,
                    1.6551813504349189,
                    -2.1681651682631493,
                    1.8342615956661734,
                    0.22140460251026692,
                    0.14529541887994293,
                    -0.7029388212801344,
                    1.3075468645162707,
                    0.21019736968437813,
                    0.23685282944724617,
                    -2.041118378139542,
                    1.3714398765347129,
                    -1.5571204719098657,
                    -0.050201121219470776
                  ],
                  "x": [
                    0,
                    1,
                    2,
                    3,
                    4,
                    5,
                    6,
                    7,
                    8,
                    9,
                    10,
                    11,
                    12,
                    13,
                    14,
                    15,
                    16,
                    17,
                    18,
                    19,
                    20,
                    21,
                    22,
                    23,
                    24,
                    25,
                    26,
                    27,
                    28,
                    29,
                    30,
                    31,
                    32,
                    33,
                    34,
                    35,
                    36,
                    37,
                    38,
                    39,
                    40,
                    41,
                    42,
                    43,
                    44,
                    45,
                    46,
                    47,
                    48,
                    49,
                    50,
                    51,
                    52,
                    53,
                    54,
                    55,
                    56,
                    57,
                    58,
                    59,
                    60,
                    61,
                    62,
                    63,
                    64,
                    65,
                    66,
                    67,
                    68,
                    69,
                    70,
                    71,
                    72,
                    73,
                    74,
                    75,
                    76,
                    77,
                    78,
                    79,
                    80,
                    81,
                    82,
                    83,
                    84,
                    85,
                    86,
                    87,
                    88,
                    89,
                    90,
                    91,
                    92,
                    93,
                    94,
                    95,
                    96,
                    97,
                    98,
                    99
                  ],
                  "line": {
                    "color": "rgba(55, 128, 191, 1.0)",
                    "dash": "solid",
                    "shape": "linear",
                    "width": 1.3
                  },
                  "type": "scatter"
                },
                {
                  "name": "C",
                  "text": "",
                  "mode": "lines",
                  "y": [
                    -0.7035964168667909,
                    -1.151438449731667,
                    0.5998850241479027,
                    -0.5192749447291733,
                    0.4023432896159358,
                    -0.7672055616023065,
                    1.102915341858455,
                    0.7479551714773277,
                    -1.2944749380995726,
                    0.026480930855699875,
                    1.0027787516494706,
                    -1.3223047826797738,
                    -1.4064871871674571,
                    2.6064166559823425,
                    -0.07818759879597571,
                    -0.5944017643567016,
                    -0.8101352791917279,
                    -0.5754817161970129,
                    0.8762103608880456,
                    -0.6073815378804366,
                    -0.5318789337249482,
                    1.3537446312861168,
                    1.5322517209111137,
                    0.2209962347596253,
                    -1.2246639730759006,
                    -0.5953232993202333,
                    -0.8431780909639361,
                    0.13282382003945004,
                    -1.1029988150619408,
                    1.4168197846565322,
                    0.2912216132249652,
                    0.6734534165014228,
                    0.1518678219293175,
                    -0.09055435628630672,
                    -1.0536635068296916,
                    -0.6458391994729117,
                    -1.7684457123585748,
                    1.3464747641636234,
                    0.9180280781429716,
                    0.6333227437387605,
                    1.4937920348260851,
                    -0.264548091093156,
                    -0.764623747845522,
                    -0.6378181856877679,
                    -0.48188710293637094,
                    -0.48771082763504436,
                    -0.3850535284655568,
                    -1.312675341464195,
                    1.9844132348836379,
                    0.6474255831941002,
                    0.4420585051072425,
                    -0.036957699063671155,
                    -1.858437372425886,
                    -0.47946291658560597,
                    0.8810335409213019,
                    -0.0999934850962974,
                    2.2763364182970873,
                    -0.03008475207567932,
                    -0.5026557391708492,
                    -0.2769951448451758,
                    -0.5443442209099568,
                    -0.7874848213278257,
                    1.107256548863389,
                    -0.3831972698265307,
                    1.0122758945612413,
                    -0.773826422368653,
                    -0.08262407645039317,
                    -0.8422319031959423,
                    1.5674294336909251,
                    -0.7545187812259746,
                    -1.9229122564338956,
                    1.7438573679575475,
                    -0.6682217177684193,
                    -0.9080124058455009,
                    0.041064047093406074,
                    -0.42228233165455265,
                    -1.2138195041473907,
                    1.005963644458875,
                    -0.31369178339115084,
                    1.6661309101796147,
                    -0.2827266496800416,
                    -0.22454660532867554,
                    -1.2798692164703838,
                    -0.3523653778314622,
                    -0.24406776154054002,
                    -2.3721112151565027,
                    1.3025674541434242,
                    -0.17372667694840954,
                    1.1237946561345915,
                    1.3765273425457278,
                    -0.22762057159287136,
                    1.4804897888186714,
                    0.3753281290682731,
                    -0.22763746023592385,
                    -0.5950675813708222,
                    -1.5213907585715436,
                    0.3490840402643815,
                    -0.9929217720935112,
                    -0.4577142306356627,
                    -1.3104560801961076
                  ],
                  "x": [
                    0,
                    1,
                    2,
                    3,
                    4,
                    5,
                    6,
                    7,
                    8,
                    9,
                    10,
                    11,
                    12,
                    13,
                    14,
                    15,
                    16,
                    17,
                    18,
                    19,
                    20,
                    21,
                    22,
                    23,
                    24,
                    25,
                    26,
                    27,
                    28,
                    29,
                    30,
                    31,
                    32,
                    33,
                    34,
                    35,
                    36,
                    37,
                    38,
                    39,
                    40,
                    41,
                    42,
                    43,
                    44,
                    45,
                    46,
                    47,
                    48,
                    49,
                    50,
                    51,
                    52,
                    53,
                    54,
                    55,
                    56,
                    57,
                    58,
                    59,
                    60,
                    61,
                    62,
                    63,
                    64,
                    65,
                    66,
                    67,
                    68,
                    69,
                    70,
                    71,
                    72,
                    73,
                    74,
                    75,
                    76,
                    77,
                    78,
                    79,
                    80,
                    81,
                    82,
                    83,
                    84,
                    85,
                    86,
                    87,
                    88,
                    89,
                    90,
                    91,
                    92,
                    93,
                    94,
                    95,
                    96,
                    97,
                    98,
                    99
                  ],
                  "line": {
                    "color": "rgba(50, 171, 96, 1.0)",
                    "dash": "solid",
                    "shape": "linear",
                    "width": 1.3
                  },
                  "type": "scatter"
                },
                {
                  "name": "D",
                  "text": "",
                  "mode": "lines",
                  "y": [
                    -0.14347769646167882,
                    0.5873370266734717,
                    -0.37111858846838297,
                    -0.02164315392687805,
                    -0.0981150714016284,
                    -1.192776384077493,
                    0.24860380209227934,
                    -1.3900680199180455,
                    0.7994633910500539,
                    1.3076429646799472,
                    1.4300942817411164,
                    1.0021118098261739,
                    0.47203549718377774,
                    -0.9910669324309332,
                    -1.1426570159066904,
                    -0.36130993490733704,
                    -1.0843188553108367,
                    0.6283807330322854,
                    -1.3679590971422864,
                    -0.7818141379718702,
                    0.2701884122623558,
                    -0.1837559648377712,
                    0.43873442779215766,
                    1.656158141977978,
                    0.3993349925828309,
                    0.29210641821436045,
                    -0.8566972611635604,
                    0.5793175570280485,
                    1.1909400381608806,
                    0.1249658531591891,
                    -0.33498219323185324,
                    0.11194202972645223,
                    -2.9842336215056733,
                    0.42806081720405914,
                    0.32112519628511005,
                    2.018185839685791,
                    0.07620257785890765,
                    -0.13986791328528062,
                    0.920802818397255,
                    1.0361320826608498,
                    0.18353117345174993,
                    -0.04692325847145157,
                    -1.3166294199217177,
                    0.5353419524263042,
                    0.3010681010514135,
                    2.1405679667142707,
                    -1.6954163425678264,
                    0.05270854568625546,
                    -0.8364786849443393,
                    -0.4255468736985105,
                    -0.7683126034446235,
                    0.5098146834394894,
                    0.8243591266127813,
                    0.5736549599351144,
                    -0.8177940349515267,
                    1.6770429725428273,
                    -0.5436892019541624,
                    -1.2728839884040062,
                    0.12441468164224781,
                    -0.1483002249536748,
                    0.4673092857656207,
                    0.18515450118686205,
                    -1.217932196412744,
                    0.03207879322514331,
                    0.2608049806408813,
                    0.26601281383187425,
                    -1.110408048810417,
                    -1.653138263025912,
                    0.29463060230803667,
                    -0.6554676603439524,
                    -1.8565039843304423,
                    -0.3035855512406759,
                    0.10788567246809337,
                    -1.1830051097458008,
                    0.2898778670200328,
                    0.4464347484729418,
                    -1.331700353765156,
                    0.3683766914995959,
                    -0.9666642307468233,
                    -0.7572001972327232,
                    0.44354506617211986,
                    -0.30073105406790335,
                    -1.0202276717304426,
                    -0.8612881199732524,
                    0.11707377095287698,
                    -0.6125931793717005,
                    -1.9004604846759419,
                    -0.29954835617892905,
                    0.4680587537389525,
                    -0.4875296020021846,
                    0.16636788416809248,
                    -0.24218679624796868,
                    0.3087267666543777,
                    0.05045781326119775,
                    0.24802851021960348,
                    1.1916467884080164,
                    0.0524567017882374,
                    -0.20141790863937548,
                    0.5631347401760456,
                    0.6732303975997113
                  ],
                  "x": [
                    0,
                    1,
                    2,
                    3,
                    4,
                    5,
                    6,
                    7,
                    8,
                    9,
                    10,
                    11,
                    12,
                    13,
                    14,
                    15,
                    16,
                    17,
                    18,
                    19,
                    20,
                    21,
                    22,
                    23,
                    24,
                    25,
                    26,
                    27,
                    28,
                    29,
                    30,
                    31,
                    32,
                    33,
                    34,
                    35,
                    36,
                    37,
                    38,
                    39,
                    40,
                    41,
                    42,
                    43,
                    44,
                    45,
                    46,
                    47,
                    48,
                    49,
                    50,
                    51,
                    52,
                    53,
                    54,
                    55,
                    56,
                    57,
                    58,
                    59,
                    60,
                    61,
                    62,
                    63,
                    64,
                    65,
                    66,
                    67,
                    68,
                    69,
                    70,
                    71,
                    72,
                    73,
                    74,
                    75,
                    76,
                    77,
                    78,
                    79,
                    80,
                    81,
                    82,
                    83,
                    84,
                    85,
                    86,
                    87,
                    88,
                    89,
                    90,
                    91,
                    92,
                    93,
                    94,
                    95,
                    96,
                    97,
                    98,
                    99
                  ],
                  "line": {
                    "color": "rgba(128, 0, 128, 1.0)",
                    "dash": "solid",
                    "shape": "linear",
                    "width": 1.3
                  },
                  "type": "scatter"
                },
                {
                  "name": "E",
                  "text": "",
                  "mode": "lines",
                  "y": [
                    -0.6049598013102498,
                    0.6287360795698114,
                    1.3809183006907322,
                    -0.0960271578407001,
                    0.5498704877326022,
                    0.8685893168561117,
                    0.6588490840566661,
                    -1.7277406342055166,
                    1.2473937311140495,
                    0.7824558510838419,
                    -0.11892437956968673,
                    -1.2228033089489285,
                    -0.3092057546935234,
                    -1.8963662826473338,
                    1.4523524235738678,
                    -1.1507058532086465,
                    2.362542572823207,
                    0.31728018619568654,
                    -1.562173352755388,
                    -0.8355278094597536,
                    -0.17388613092593447,
                    -1.697452223205147,
                    -1.5805016626013442,
                    -1.7740969041733945,
                    -0.4490901732439773,
                    -0.9203763900391391,
                    -1.7932996231779672,
                    -2.5739980224650876,
                    -0.9233387745242683,
                    0.9381805159060332,
                    -0.0220171961134242,
                    1.3791392409257293,
                    0.9028958557174719,
                    0.21951585423444525,
                    -1.7901338214942877,
                    -0.1338882752246818,
                    -0.059431725734913426,
                    -0.3150725214378444,
                    1.125650074590703,
                    0.1379937890159135,
                    0.35224768059334216,
                    -0.15151942207469987,
                    -0.8777012525353239,
                    0.4651131594287982,
                    0.33730143441823873,
                    -0.6933421464220445,
                    -2.366080455861181,
                    -0.06435771905488798,
                    0.18074662424592208,
                    -1.4604991278763186,
                    0.8002043764943033,
                    0.20806841870464768,
                    -1.2365713819390964,
                    0.47213308032480844,
                    0.5215461893696094,
                    1.0325226768219178,
                    2.247433796264182,
                    0.1427150789768096,
                    0.3397011048986668,
                    -2.143670707200319,
                    0.2693504922155889,
                    -0.7200478930494146,
                    -0.7221146557721294,
                    1.0681292392917987,
                    2.5255204436904024,
                    -0.5131459545868569,
                    1.134621427131061,
                    0.8716948908238936,
                    0.6240436853632244,
                    -1.4045687269758917,
                    2.1444598738374787,
                    1.1424626309473467,
                    0.9123953344372301,
                    -0.1004112182482107,
                    0.07630033930861066,
                    -0.09386639051224915,
                    1.382043276542923,
                    1.5852566018457248,
                    0.5865784232127874,
                    1.2898555115947612,
                    -0.2469474848537143,
                    -1.260289605242337,
                    -0.7566101062938434,
                    0.8306245061698698,
                    0.10340534851332352,
                    -0.347472351384367,
                    -0.43313537571991556,
                    -1.5423975195425175,
                    0.26331157692624013,
                    1.2269482295912035,
                    0.11062545878271647,
                    -0.12956416990080485,
                    2.1388477326495066,
                    -0.9719973857131293,
                    -0.831940112864614,
                    -1.2358335300036896,
                    -0.7333943370916469,
                    -0.05362285205111037,
                    -0.3776103086606719,
                    0.08587077479741446
                  ],
                  "x": [
                    0,
                    1,
                    2,
                    3,
                    4,
                    5,
                    6,
                    7,
                    8,
                    9,
                    10,
                    11,
                    12,
                    13,
                    14,
                    15,
                    16,
                    17,
                    18,
                    19,
                    20,
                    21,
                    22,
                    23,
                    24,
                    25,
                    26,
                    27,
                    28,
                    29,
                    30,
                    31,
                    32,
                    33,
                    34,
                    35,
                    36,
                    37,
                    38,
                    39,
                    40,
                    41,
                    42,
                    43,
                    44,
                    45,
                    46,
                    47,
                    48,
                    49,
                    50,
                    51,
                    52,
                    53,
                    54,
                    55,
                    56,
                    57,
                    58,
                    59,
                    60,
                    61,
                    62,
                    63,
                    64,
                    65,
                    66,
                    67,
                    68,
                    69,
                    70,
                    71,
                    72,
                    73,
                    74,
                    75,
                    76,
                    77,
                    78,
                    79,
                    80,
                    81,
                    82,
                    83,
                    84,
                    85,
                    86,
                    87,
                    88,
                    89,
                    90,
                    91,
                    92,
                    93,
                    94,
                    95,
                    96,
                    97,
                    98,
                    99
                  ],
                  "line": {
                    "color": "rgba(219, 64, 82, 1.0)",
                    "dash": "solid",
                    "shape": "linear",
                    "width": 1.3
                  },
                  "type": "scatter"
                }
              ],
              "config": {
                "plotlyServerURL": "https://plot.ly",
                "linkText": "Export to plot.ly",
                "showLink": true
              },
              "layout": {
                "template": {
                  "layout": {
                    "shapedefaults": {
                      "line": {
                        "color": "#2a3f5f"
                      }
                    },
                    "polar": {
                      "radialaxis": {
                        "ticks": "",
                        "gridcolor": "white",
                        "linecolor": "white"
                      },
                      "bgcolor": "#E5ECF6",
                      "angularaxis": {
                        "ticks": "",
                        "gridcolor": "white",
                        "linecolor": "white"
                      }
                    },
                    "colorway": [
                      "#636efa",
                      "#EF553B",
                      "#00cc96",
                      "#ab63fa",
                      "#FFA15A",
                      "#19d3f3",
                      "#FF6692",
                      "#B6E880",
                      "#FF97FF",
                      "#FECB52"
                    ],
                    "xaxis": {
                      "automargin": true,
                      "title": {
                        "standoff": 15
                      },
                      "zerolinewidth": 2,
                      "ticks": "",
                      "zerolinecolor": "white",
                      "gridcolor": "white",
                      "linecolor": "white"
                    },
                    "colorscale": {
                      "diverging": [
                        [
                          0,
                          "#8e0152"
                        ],
                        [
                          0.1,
                          "#c51b7d"
                        ],
                        [
                          0.2,
                          "#de77ae"
                        ],
                        [
                          0.3,
                          "#f1b6da"
                        ],
                        [
                          0.4,
                          "#fde0ef"
                        ],
                        [
                          0.5,
                          "#f7f7f7"
                        ],
                        [
                          0.6,
                          "#e6f5d0"
                        ],
                        [
                          0.7,
                          "#b8e186"
                        ],
                        [
                          0.8,
                          "#7fbc41"
                        ],
                        [
                          0.9,
                          "#4d9221"
                        ],
                        [
                          1,
                          "#276419"
                        ]
                      ],
                      "sequential": [
                        [
                          0,
                          "#0d0887"
                        ],
                        [
                          0.1111111111111111,
                          "#46039f"
                        ],
                        [
                          0.2222222222222222,
                          "#7201a8"
                        ],
                        [
                          0.3333333333333333,
                          "#9c179e"
                        ],
                        [
                          0.4444444444444444,
                          "#bd3786"
                        ],
                        [
                          0.5555555555555556,
                          "#d8576b"
                        ],
                        [
                          0.6666666666666666,
                          "#ed7953"
                        ],
                        [
                          0.7777777777777778,
                          "#fb9f3a"
                        ],
                        [
                          0.8888888888888888,
                          "#fdca26"
                        ],
                        [
                          1,
                          "#f0f921"
                        ]
                      ],
                      "sequentialminus": [
                        [
                          0,
                          "#0d0887"
                        ],
                        [
                          0.1111111111111111,
                          "#46039f"
                        ],
                        [
                          0.2222222222222222,
                          "#7201a8"
                        ],
                        [
                          0.3333333333333333,
                          "#9c179e"
                        ],
                        [
                          0.4444444444444444,
                          "#bd3786"
                        ],
                        [
                          0.5555555555555556,
                          "#d8576b"
                        ],
                        [
                          0.6666666666666666,
                          "#ed7953"
                        ],
                        [
                          0.7777777777777778,
                          "#fb9f3a"
                        ],
                        [
                          0.8888888888888888,
                          "#fdca26"
                        ],
                        [
                          1,
                          "#f0f921"
                        ]
                      ]
                    },
                    "paper_bgcolor": "white",
                    "plot_bgcolor": "#E5ECF6",
                    "title": {
                      "x": 0.05
                    },
                    "scene": {
                      "zaxis": {
                        "backgroundcolor": "#E5ECF6",
                        "ticks": "",
                        "gridwidth": 2,
                        "showbackground": true,
                        "zerolinecolor": "white",
                        "gridcolor": "white",
                        "linecolor": "white"
                      },
                      "xaxis": {
                        "backgroundcolor": "#E5ECF6",
                        "ticks": "",
                        "gridwidth": 2,
                        "showbackground": true,
                        "zerolinecolor": "white",
                        "gridcolor": "white",
                        "linecolor": "white"
                      },
                      "yaxis": {
                        "backgroundcolor": "#E5ECF6",
                        "ticks": "",
                        "gridwidth": 2,
                        "showbackground": true,
                        "zerolinecolor": "white",
                        "gridcolor": "white",
                        "linecolor": "white"
                      }
                    },
                    "yaxis": {
                      "automargin": true,
                      "title": {
                        "standoff": 15
                      },
                      "zerolinewidth": 2,
                      "ticks": "",
                      "zerolinecolor": "white",
                      "gridcolor": "white",
                      "linecolor": "white"
                    },
                    "annotationdefaults": {
                      "arrowwidth": 1,
                      "arrowhead": 0,
                      "arrowcolor": "#2a3f5f"
                    },
                    "hoverlabel": {
                      "align": "left"
                    },
                    "ternary": {
                      "bgcolor": "#E5ECF6",
                      "baxis": {
                        "ticks": "",
                        "gridcolor": "white",
                        "linecolor": "white"
                      },
                      "caxis": {
                        "ticks": "",
                        "gridcolor": "white",
                        "linecolor": "white"
                      },
                      "aaxis": {
                        "ticks": "",
                        "gridcolor": "white",
                        "linecolor": "white"
                      }
                    },
                    "mapbox": {
                      "style": "light"
                    },
                    "hovermode": "closest",
                    "font": {
                      "color": "#2a3f5f"
                    },
                    "geo": {
                      "showland": true,
                      "landcolor": "#E5ECF6",
                      "showlakes": true,
                      "bgcolor": "white",
                      "subunitcolor": "white",
                      "lakecolor": "white"
                    },
                    "coloraxis": {
                      "colorbar": {
                        "outlinewidth": 0,
                        "ticks": ""
                      }
                    }
                  },
                  "data": {
                    "mesh3d": [
                      {
                        "colorbar": {
                          "outlinewidth": 0,
                          "ticks": ""
                        },
                        "type": "mesh3d"
                      }
                    ],
                    "scattercarpet": [
                      {
                        "marker": {
                          "colorbar": {
                            "outlinewidth": 0,
                            "ticks": ""
                          }
                        },
                        "type": "scattercarpet"
                      }
                    ],
                    "pie": [
                      {
                        "automargin": true,
                        "type": "pie"
                      }
                    ],
                    "surface": [
                      {
                        "colorbar": {
                          "outlinewidth": 0,
                          "ticks": ""
                        },
                        "type": "surface",
                        "colorscale": [
                          [
                            0,
                            "#0d0887"
                          ],
                          [
                            0.1111111111111111,
                            "#46039f"
                          ],
                          [
                            0.2222222222222222,
                            "#7201a8"
                          ],
                          [
                            0.3333333333333333,
                            "#9c179e"
                          ],
                          [
                            0.4444444444444444,
                            "#bd3786"
                          ],
                          [
                            0.5555555555555556,
                            "#d8576b"
                          ],
                          [
                            0.6666666666666666,
                            "#ed7953"
                          ],
                          [
                            0.7777777777777778,
                            "#fb9f3a"
                          ],
                          [
                            0.8888888888888888,
                            "#fdca26"
                          ],
                          [
                            1,
                            "#f0f921"
                          ]
                        ]
                      }
                    ],
                    "table": [
                      {
                        "header": {
                          "line": {
                            "color": "white"
                          },
                          "fill": {
                            "color": "#C8D4E3"
                          }
                        },
                        "cells": {
                          "line": {
                            "color": "white"
                          },
                          "fill": {
                            "color": "#EBF0F8"
                          }
                        },
                        "type": "table"
                      }
                    ],
                    "scatterpolargl": [
                      {
                        "marker": {
                          "colorbar": {
                            "outlinewidth": 0,
                            "ticks": ""
                          }
                        },
                        "type": "scatterpolargl"
                      }
                    ],
                    "contour": [
                      {
                        "colorbar": {
                          "outlinewidth": 0,
                          "ticks": ""
                        },
                        "type": "contour",
                        "colorscale": [
                          [
                            0,
                            "#0d0887"
                          ],
                          [
                            0.1111111111111111,
                            "#46039f"
                          ],
                          [
                            0.2222222222222222,
                            "#7201a8"
                          ],
                          [
                            0.3333333333333333,
                            "#9c179e"
                          ],
                          [
                            0.4444444444444444,
                            "#bd3786"
                          ],
                          [
                            0.5555555555555556,
                            "#d8576b"
                          ],
                          [
                            0.6666666666666666,
                            "#ed7953"
                          ],
                          [
                            0.7777777777777778,
                            "#fb9f3a"
                          ],
                          [
                            0.8888888888888888,
                            "#fdca26"
                          ],
                          [
                            1,
                            "#f0f921"
                          ]
                        ]
                      }
                    ],
                    "carpet": [
                      {
                        "type": "carpet",
                        "baxis": {
                          "minorgridcolor": "white",
                          "gridcolor": "white",
                          "linecolor": "white",
                          "endlinecolor": "#2a3f5f",
                          "startlinecolor": "#2a3f5f"
                        },
                        "aaxis": {
                          "minorgridcolor": "white",
                          "gridcolor": "white",
                          "linecolor": "white",
                          "endlinecolor": "#2a3f5f",
                          "startlinecolor": "#2a3f5f"
                        }
                      }
                    ],
                    "contourcarpet": [
                      {
                        "colorbar": {
                          "outlinewidth": 0,
                          "ticks": ""
                        },
                        "type": "contourcarpet"
                      }
                    ],
                    "heatmap": [
                      {
                        "colorbar": {
                          "outlinewidth": 0,
                          "ticks": ""
                        },
                        "type": "heatmap",
                        "colorscale": [
                          [
                            0,
                            "#0d0887"
                          ],
                          [
                            0.1111111111111111,
                            "#46039f"
                          ],
                          [
                            0.2222222222222222,
                            "#7201a8"
                          ],
                          [
                            0.3333333333333333,
                            "#9c179e"
                          ],
                          [
                            0.4444444444444444,
                            "#bd3786"
                          ],
                          [
                            0.5555555555555556,
                            "#d8576b"
                          ],
                          [
                            0.6666666666666666,
                            "#ed7953"
                          ],
                          [
                            0.7777777777777778,
                            "#fb9f3a"
                          ],
                          [
                            0.8888888888888888,
                            "#fdca26"
                          ],
                          [
                            1,
                            "#f0f921"
                          ]
                        ]
                      }
                    ],
                    "scattermapbox": [
                      {
                        "marker": {
                          "colorbar": {
                            "outlinewidth": 0,
                            "ticks": ""
                          }
                        },
                        "type": "scattermapbox"
                      }
                    ],
                    "scatter3d": [
                      {
                        "marker": {
                          "colorbar": {
                            "outlinewidth": 0,
                            "ticks": ""
                          }
                        },
                        "line": {
                          "colorbar": {
                            "outlinewidth": 0,
                            "ticks": ""
                          }
                        },
                        "type": "scatter3d"
                      }
                    ],
                    "scattergl": [
                      {
                        "marker": {
                          "colorbar": {
                            "outlinewidth": 0,
                            "ticks": ""
                          }
                        },
                        "type": "scattergl"
                      }
                    ],
                    "scatterternary": [
                      {
                        "marker": {
                          "colorbar": {
                            "outlinewidth": 0,
                            "ticks": ""
                          }
                        },
                        "type": "scatterternary"
                      }
                    ],
                    "histogram": [
                      {
                        "marker": {
                          "colorbar": {
                            "outlinewidth": 0,
                            "ticks": ""
                          }
                        },
                        "type": "histogram"
                      }
                    ],
                    "heatmapgl": [
                      {
                        "colorbar": {
                          "outlinewidth": 0,
                          "ticks": ""
                        },
                        "type": "heatmapgl",
                        "colorscale": [
                          [
                            0,
                            "#0d0887"
                          ],
                          [
                            0.1111111111111111,
                            "#46039f"
                          ],
                          [
                            0.2222222222222222,
                            "#7201a8"
                          ],
                          [
                            0.3333333333333333,
                            "#9c179e"
                          ],
                          [
                            0.4444444444444444,
                            "#bd3786"
                          ],
                          [
                            0.5555555555555556,
                            "#d8576b"
                          ],
                          [
                            0.6666666666666666,
                            "#ed7953"
                          ],
                          [
                            0.7777777777777778,
                            "#fb9f3a"
                          ],
                          [
                            0.8888888888888888,
                            "#fdca26"
                          ],
                          [
                            1,
                            "#f0f921"
                          ]
                        ]
                      }
                    ],
                    "scatterpolar": [
                      {
                        "marker": {
                          "colorbar": {
                            "outlinewidth": 0,
                            "ticks": ""
                          }
                        },
                        "type": "scatterpolar"
                      }
                    ],
                    "histogram2d": [
                      {
                        "colorbar": {
                          "outlinewidth": 0,
                          "ticks": ""
                        },
                        "type": "histogram2d",
                        "colorscale": [
                          [
                            0,
                            "#0d0887"
                          ],
                          [
                            0.1111111111111111,
                            "#46039f"
                          ],
                          [
                            0.2222222222222222,
                            "#7201a8"
                          ],
                          [
                            0.3333333333333333,
                            "#9c179e"
                          ],
                          [
                            0.4444444444444444,
                            "#bd3786"
                          ],
                          [
                            0.5555555555555556,
                            "#d8576b"
                          ],
                          [
                            0.6666666666666666,
                            "#ed7953"
                          ],
                          [
                            0.7777777777777778,
                            "#fb9f3a"
                          ],
                          [
                            0.8888888888888888,
                            "#fdca26"
                          ],
                          [
                            1,
                            "#f0f921"
                          ]
                        ]
                      }
                    ],
                    "scattergeo": [
                      {
                        "marker": {
                          "colorbar": {
                            "outlinewidth": 0,
                            "ticks": ""
                          }
                        },
                        "type": "scattergeo"
                      }
                    ],
                    "bar": [
                      {
                        "marker": {
                          "line": {
                            "color": "#E5ECF6",
                            "width": 0.5
                          }
                        },
                        "type": "bar",
                        "error_x": {
                          "color": "#2a3f5f"
                        },
                        "error_y": {
                          "color": "#2a3f5f"
                        }
                      }
                    ],
                    "choropleth": [
                      {
                        "colorbar": {
                          "outlinewidth": 0,
                          "ticks": ""
                        },
                        "type": "choropleth"
                      }
                    ],
                    "parcoords": [
                      {
                        "line": {
                          "colorbar": {
                            "outlinewidth": 0,
                            "ticks": ""
                          }
                        },
                        "type": "parcoords"
                      }
                    ],
                    "barpolar": [
                      {
                        "marker": {
                          "line": {
                            "color": "#E5ECF6",
                            "width": 0.5
                          }
                        },
                        "type": "barpolar"
                      }
                    ],
                    "histogram2dcontour": [
                      {
                        "colorbar": {
                          "outlinewidth": 0,
                          "ticks": ""
                        },
                        "type": "histogram2dcontour",
                        "colorscale": [
                          [
                            0,
                            "#0d0887"
                          ],
                          [
                            0.1111111111111111,
                            "#46039f"
                          ],
                          [
                            0.2222222222222222,
                            "#7201a8"
                          ],
                          [
                            0.3333333333333333,
                            "#9c179e"
                          ],
                          [
                            0.4444444444444444,
                            "#bd3786"
                          ],
                          [
                            0.5555555555555556,
                            "#d8576b"
                          ],
                          [
                            0.6666666666666666,
                            "#ed7953"
                          ],
                          [
                            0.7777777777777778,
                            "#fb9f3a"
                          ],
                          [
                            0.8888888888888888,
                            "#fdca26"
                          ],
                          [
                            1,
                            "#f0f921"
                          ]
                        ]
                      }
                    ],
                    "scatter": [
                      {
                        "marker": {
                          "colorbar": {
                            "outlinewidth": 0,
                            "ticks": ""
                          }
                        },
                        "type": "scatter"
                      }
                    ]
                  }
                },
                "title": {
                  "font": {
                    "color": "#4D5663"
                  }
                },
                "paper_bgcolor": "#F5F6F9",
                "plot_bgcolor": "#F5F6F9",
                "yaxis": {
                  "tickfont": {
                    "color": "#4D5663"
                  },
                  "zerolinecolor": "#E1E5ED",
                  "title": {
                    "text": "",
                    "font": {
                      "color": "#4D5663"
                    }
                  },
                  "gridcolor": "#E1E5ED",
                  "showgrid": true
                },
                "xaxis": {
                  "tickfont": {
                    "color": "#4D5663"
                  },
                  "zerolinecolor": "#E1E5ED",
                  "title": {
                    "text": "",
                    "font": {
                      "color": "#4D5663"
                    }
                  },
                  "gridcolor": "#E1E5ED",
                  "showgrid": true
                },
                "legend": {
                  "bgcolor": "#F5F6F9",
                  "font": {
                    "color": "#4D5663"
                  }
                }
              }
            }
          },
          "metadata": {
            "tags": []
          }
        }
      ]
    },
    {
      "cell_type": "code",
      "metadata": {
        "colab": {
          "base_uri": "https://localhost:8080/",
          "height": 282
        },
        "id": "Rg3dm4Nk1MQl",
        "outputId": "b60c051b-4231-48b5-c2b5-66784ee91ac2"
      },
      "source": [
        "df.plot()"
      ],
      "execution_count": null,
      "outputs": [
        {
          "output_type": "execute_result",
          "data": {
            "text/plain": [
              "<matplotlib.axes._subplots.AxesSubplot at 0x7f679ced9f60>"
            ]
          },
          "metadata": {
            "tags": []
          },
          "execution_count": 30
        },
        {
          "output_type": "display_data",
          "data": {
            "image/png": "[encoded data removed]",
            "text/plain": [
              "<Figure size 432x288 with 1 Axes>"
            ]
          },
          "metadata": {
            "tags": [],
            "needs_background": "light"
          }
        }
      ]
    },
    {
      "cell_type": "code",
      "metadata": {
        "colab": {
          "base_uri": "https://localhost:8080/",
          "height": 542
        },
        "id": "6xWynC0I0z-x",
        "outputId": "c47cc235-baea-4585-cffe-d6d655505b08"
      },
      "source": [
        "df.iplot(kind='scatter',x='A',y='B',mode='markers')"
      ],
      "execution_count": null,
      "outputs": [
        {
          "output_type": "display_data",
          "data": {
            "text/html": [
              "<div>\n",
              "        \n",
              "        \n",
              "            <div id=\"0478c456-e91f-4d86-a21f-a84e8bfb82ca\" class=\"plotly-graph-div\" style=\"height:525px; width:100%;\"></div>\n",
              "            <script type=\"text/javascript\">\n",
              "                require([\"plotly\"], function(Plotly) {\n",
              "                    window.PLOTLYENV=window.PLOTLYENV || {};\n",
              "                    window.PLOTLYENV.BASE_URL='https://plot.ly';\n",
              "                    \n",
              "                if (document.getElementById(\"0478c456-e91f-4d86-a21f-a84e8bfb82ca\")) {\n",
              "                    Plotly.newPlot(\n",
              "                        '0478c456-e91f-4d86-a21f-a84e8bfb82ca',\n",
              "                        [{\"line\": {\"color\": \"rgba(255, 153, 51, 1.0)\", \"dash\": \"solid\", \"shape\": \"linear\", \"width\": 1.3}, \"marker\": {\"size\": 12, \"symbol\": \"circle\"}, \"mode\": \"markers\", \"name\": \"B\", \"text\": \"\", \"type\": \"scatter\", \"x\": [0.7857130187827595, -0.38691629281913636, 1.8360127089654945, -0.2924020067163934, 0.9235205433254798, 0.36448657299892256, 0.942573299041056, -0.5417554290131854, -0.7546068171711667, -0.5718056645536184, -0.30104571526612733, -0.7163051570305872, -0.36566368060046944, -0.6478543076217094, 1.0029415779698694, -1.5693239864954538, 0.3084970073611844, 0.2694466848665055, 1.1976181564370572, 2.4941272694149217, 0.3996581029708669, -1.4086588503128887, 0.2603955055866097, -1.0664982697773775, 0.06286512172777839, -0.8799249111162605, 0.2622656868164737, 0.8091364704024693, 2.5948406864012017, 0.4420039135141823, -1.0263041566578195, -0.46125321833087435, 0.6840063223720694, -0.6737401295415769, 0.5425736517085374, -0.883470140273883, 0.5503507592189958, 0.042827027147200755, 2.347241759819014, -0.6241238670621426, 0.4554357138580938, 2.175405061497721, -0.24022078872012256, -0.11253744771677608, -0.5562077318909375, -0.031459171034922566, -0.4120645628877545, -1.2818717141445775, 1.9413295458090418, -0.35861391633695605, -1.9972043586817225, 1.009397930977348, 0.49578779070164214, -0.836057034908234, 0.345315037682977, -1.0614356448195612, -0.3246305450010745, -0.048949571762404026, 0.03802963149104864, 0.10683973028595915, -0.18576953317643943, 1.3290363526489533, 0.2788516440407473, 0.16335395230569488, -0.04065950528587544, -1.2675932677336579, -0.4423431310479073, -0.4126558910617534, 0.7118736279631593, 1.159421744625309, -1.682683609083658, 0.6621350131180067, -0.27592053401486466, 0.0002515786585820589, 0.7630034123540528, -1.3987166841935512, -0.32425855366879813, 1.0200038890287029, -0.43974955732969795, -0.5909191911297732, -1.6382826791625107, -1.2736808372077644, 2.050930244475357, 0.8722597516410227, 0.7145116692907106, 1.114946104938644, 2.2681987572076707, -0.3482292558048253, 2.089000102261447, 0.6267858146761821, 0.6235308126560386, -2.163591503912406, 0.056025905482724514, 2.2534170871212558, -1.0272101940974991, 1.3499065301465465, 2.141052871811855, -0.6320997041218337, -0.13210938396021807, -0.8207361761791703], \"y\": [0.6719297289775672, -0.595125797746902, 0.28230810594138767, -1.206968659162229, 0.9763323708655173, 1.02968969905455, -1.956149687968155, 0.8169031036443454, 0.9801186491468801, 0.9766194176396104, -1.9575839798842136, 0.08117905801136664, 0.9505691650700601, -0.5898705612499778, -2.0523929726897228, -0.5159245382050114, -0.06170070144629098, -0.7844431532840856, 0.13164011819216995, 0.5307904711874382, 0.0959437461442954, 0.5236655135249486, 0.7892410724067266, -0.9607699463109172, 1.2389390290479223, 0.015590963717198642, -0.1102834209108599, -0.5258571037669721, -0.5791351281746208, -0.14954953443817637, -0.2850071705223682, 2.177564295360539, -0.46583383273690804, -0.10375779811671593, -0.7628611325604281, -0.36080293753500914, -0.23042229937648892, -1.50591041507617, -1.0448691056755446, 0.8308906062877569, -0.33105591561184033, -1.4140674578981618, 1.3459178561574034, 0.8054317228902925, 0.16786106230047734, -0.7530946793994338, 0.7019529626580752, -0.496701337134233, -1.1804543431347834, -1.067500937939221, -0.8761636793645978, -0.4907796694597033, -1.037624451530444, -0.22533236244943494, 0.8616719494753546, 0.2311525353032186, 0.298963382543782, -1.1876523511732875, -0.9290947179653948, 0.7799494708661231, -0.723163951959647, 1.6081302123932564, -0.31482966376976934, 1.8401312180129406, -1.562600691589042, 0.09900288908956656, 1.225041462819592, 0.1562096854181176, 0.5051186307210183, -1.9794702174690473, -0.2381991132113117, 1.068591268957404, -0.16332773161947906, -1.0805875749764224, 0.00929624912592426, -0.6464281030726416, -0.01739691811425187, -1.1252396323366287, 1.1255326242991646, -0.9669749977604396, -1.7135829126498967, 0.716230749351397, 0.3381027950580457, -1.5389178975999556, 0.7789291275284804, 2.6964914876145367, 0.9803463513107467, -1.2537259978628255, -1.0239816956313197, -1.7584390890703596, -2.557898565075246, -1.3450309854729765, -0.3260789752577263, 0.8954693488285337, -0.8555462531875023, -0.4695644761446738, -0.3543644279648475, 1.4008181218005413, 0.5653754336467182, 0.2977443745705152]}],\n",
              "                        {\"legend\": {\"bgcolor\": \"#F5F6F9\", \"font\": {\"color\": \"#4D5663\"}}, \"paper_bgcolor\": \"#F5F6F9\", \"plot_bgcolor\": \"#F5F6F9\", \"template\": {\"data\": {\"bar\": [{\"error_x\": {\"color\": \"#2a3f5f\"}, \"error_y\": {\"color\": \"#2a3f5f\"}, \"marker\": {\"line\": {\"color\": \"#E5ECF6\", \"width\": 0.5}}, \"type\": \"bar\"}], \"barpolar\": [{\"marker\": {\"line\": {\"color\": \"#E5ECF6\", \"width\": 0.5}}, \"type\": \"barpolar\"}], \"carpet\": [{\"aaxis\": {\"endlinecolor\": \"#2a3f5f\", \"gridcolor\": \"white\", \"linecolor\": \"white\", \"minorgridcolor\": \"white\", \"startlinecolor\": \"#2a3f5f\"}, \"baxis\": {\"endlinecolor\": \"#2a3f5f\", \"gridcolor\": \"white\", \"linecolor\": \"white\", \"minorgridcolor\": \"white\", \"startlinecolor\": \"#2a3f5f\"}, \"type\": \"carpet\"}], \"choropleth\": [{\"colorbar\": {\"outlinewidth\": 0, \"ticks\": \"\"}, \"type\": \"choropleth\"}], \"contour\": [{\"colorbar\": {\"outlinewidth\": 0, \"ticks\": \"\"}, \"colorscale\": [[0.0, \"#0d0887\"], [0.1111111111111111, \"#46039f\"], [0.2222222222222222, \"#7201a8\"], [0.3333333333333333, \"#9c179e\"], [0.4444444444444444, \"#bd3786\"], [0.5555555555555556, \"#d8576b\"], [0.6666666666666666, \"#ed7953\"], [0.7777777777777778, \"#fb9f3a\"], [0.8888888888888888, \"#fdca26\"], [1.0, \"#f0f921\"]], \"type\": \"contour\"}], \"contourcarpet\": [{\"colorbar\": {\"outlinewidth\": 0, \"ticks\": \"\"}, \"type\": \"contourcarpet\"}], \"heatmap\": [{\"colorbar\": {\"outlinewidth\": 0, \"ticks\": \"\"}, \"colorscale\": [[0.0, \"#0d0887\"], [0.1111111111111111, \"#46039f\"], [0.2222222222222222, \"#7201a8\"], [0.3333333333333333, \"#9c179e\"], [0.4444444444444444, \"#bd3786\"], [0.5555555555555556, \"#d8576b\"], [0.6666666666666666, \"#ed7953\"], [0.7777777777777778, \"#fb9f3a\"], [0.8888888888888888, \"#fdca26\"], [1.0, \"#f0f921\"]], \"type\": \"heatmap\"}], \"heatmapgl\": [{\"colorbar\": {\"outlinewidth\": 0, \"ticks\": \"\"}, \"colorscale\": [[0.0, \"#0d0887\"], [0.1111111111111111, \"#46039f\"], [0.2222222222222222, \"#7201a8\"], [0.3333333333333333, \"#9c179e\"], [0.4444444444444444, \"#bd3786\"], [0.5555555555555556, \"#d8576b\"], [0.6666666666666666, \"#ed7953\"], [0.7777777777777778, \"#fb9f3a\"], [0.8888888888888888, \"#fdca26\"], [1.0, \"#f0f921\"]], \"type\": \"heatmapgl\"}], \"histogram\": [{\"marker\": {\"colorbar\": {\"outlinewidth\": 0, \"ticks\": \"\"}}, \"type\": \"histogram\"}], \"histogram2d\": [{\"colorbar\": {\"outlinewidth\": 0, \"ticks\": \"\"}, \"colorscale\": [[0.0, \"#0d0887\"], [0.1111111111111111, \"#46039f\"], [0.2222222222222222, \"#7201a8\"], [0.3333333333333333, \"#9c179e\"], [0.4444444444444444, \"#bd3786\"], [0.5555555555555556, \"#d8576b\"], [0.6666666666666666, \"#ed7953\"], [0.7777777777777778, \"#fb9f3a\"], [0.8888888888888888, \"#fdca26\"], [1.0, \"#f0f921\"]], \"type\": \"histogram2d\"}], \"histogram2dcontour\": [{\"colorbar\": {\"outlinewidth\": 0, \"ticks\": \"\"}, \"colorscale\": [[0.0, \"#0d0887\"], [0.1111111111111111, \"#46039f\"], [0.2222222222222222, \"#7201a8\"], [0.3333333333333333, \"#9c179e\"], [0.4444444444444444, \"#bd3786\"], [0.5555555555555556, \"#d8576b\"], [0.6666666666666666, \"#ed7953\"], [0.7777777777777778, \"#fb9f3a\"], [0.8888888888888888, \"#fdca26\"], [1.0, \"#f0f921\"]], \"type\": \"histogram2dcontour\"}], \"mesh3d\": [{\"colorbar\": {\"outlinewidth\": 0, \"ticks\": \"\"}, \"type\": \"mesh3d\"}], \"parcoords\": [{\"line\": {\"colorbar\": {\"outlinewidth\": 0, \"ticks\": \"\"}}, \"type\": \"parcoords\"}], \"pie\": [{\"automargin\": true, \"type\": \"pie\"}], \"scatter\": [{\"marker\": {\"colorbar\": {\"outlinewidth\": 0, \"ticks\": \"\"}}, \"type\": \"scatter\"}], \"scatter3d\": [{\"line\": {\"colorbar\": {\"outlinewidth\": 0, \"ticks\": \"\"}}, \"marker\": {\"colorbar\": {\"outlinewidth\": 0, \"ticks\": \"\"}}, \"type\": \"scatter3d\"}], \"scattercarpet\": [{\"marker\": {\"colorbar\": {\"outlinewidth\": 0, \"ticks\": \"\"}}, \"type\": \"scattercarpet\"}], \"scattergeo\": [{\"marker\": {\"colorbar\": {\"outlinewidth\": 0, \"ticks\": \"\"}}, \"type\": \"scattergeo\"}], \"scattergl\": [{\"marker\": {\"colorbar\": {\"outlinewidth\": 0, \"ticks\": \"\"}}, \"type\": \"scattergl\"}], \"scattermapbox\": [{\"marker\": {\"colorbar\": {\"outlinewidth\": 0, \"ticks\": \"\"}}, \"type\": \"scattermapbox\"}], \"scatterpolar\": [{\"marker\": {\"colorbar\": {\"outlinewidth\": 0, \"ticks\": \"\"}}, \"type\": \"scatterpolar\"}], \"scatterpolargl\": [{\"marker\": {\"colorbar\": {\"outlinewidth\": 0, \"ticks\": \"\"}}, \"type\": \"scatterpolargl\"}], \"scatterternary\": [{\"marker\": {\"colorbar\": {\"outlinewidth\": 0, \"ticks\": \"\"}}, \"type\": \"scatterternary\"}], \"surface\": [{\"colorbar\": {\"outlinewidth\": 0, \"ticks\": \"\"}, \"colorscale\": [[0.0, \"#0d0887\"], [0.1111111111111111, \"#46039f\"], [0.2222222222222222, \"#7201a8\"], [0.3333333333333333, \"#9c179e\"], [0.4444444444444444, \"#bd3786\"], [0.5555555555555556, \"#d8576b\"], [0.6666666666666666, \"#ed7953\"], [0.7777777777777778, \"#fb9f3a\"], [0.8888888888888888, \"#fdca26\"], [1.0, \"#f0f921\"]], \"type\": \"surface\"}], \"table\": [{\"cells\": {\"fill\": {\"color\": \"#EBF0F8\"}, \"line\": {\"color\": \"white\"}}, \"header\": {\"fill\": {\"color\": \"#C8D4E3\"}, \"line\": {\"color\": \"white\"}}, \"type\": \"table\"}]}, \"layout\": {\"annotationdefaults\": {\"arrowcolor\": \"#2a3f5f\", \"arrowhead\": 0, \"arrowwidth\": 1}, \"coloraxis\": {\"colorbar\": {\"outlinewidth\": 0, \"ticks\": \"\"}}, \"colorscale\": {\"diverging\": [[0, \"#8e0152\"], [0.1, \"#c51b7d\"], [0.2, \"#de77ae\"], [0.3, \"#f1b6da\"], [0.4, \"#fde0ef\"], [0.5, \"#f7f7f7\"], [0.6, \"#e6f5d0\"], [0.7, \"#b8e186\"], [0.8, \"#7fbc41\"], [0.9, \"#4d9221\"], [1, \"#276419\"]], \"sequential\": [[0.0, \"#0d0887\"], [0.1111111111111111, \"#46039f\"], [0.2222222222222222, \"#7201a8\"], [0.3333333333333333, \"#9c179e\"], [0.4444444444444444, \"#bd3786\"], [0.5555555555555556, \"#d8576b\"], [0.6666666666666666, \"#ed7953\"], [0.7777777777777778, \"#fb9f3a\"], [0.8888888888888888, \"#fdca26\"], [1.0, \"#f0f921\"]], \"sequentialminus\": [[0.0, \"#0d0887\"], [0.1111111111111111, \"#46039f\"], [0.2222222222222222, \"#7201a8\"], [0.3333333333333333, \"#9c179e\"], [0.4444444444444444, \"#bd3786\"], [0.5555555555555556, \"#d8576b\"], [0.6666666666666666, \"#ed7953\"], [0.7777777777777778, \"#fb9f3a\"], [0.8888888888888888, \"#fdca26\"], [1.0, \"#f0f921\"]]}, \"colorway\": [\"#636efa\", \"#EF553B\", \"#00cc96\", \"#ab63fa\", \"#FFA15A\", \"#19d3f3\", \"#FF6692\", \"#B6E880\", \"#FF97FF\", \"#FECB52\"], \"font\": {\"color\": \"#2a3f5f\"}, \"geo\": {\"bgcolor\": \"white\", \"lakecolor\": \"white\", \"landcolor\": \"#E5ECF6\", \"showlakes\": true, \"showland\": true, \"subunitcolor\": \"white\"}, \"hoverlabel\": {\"align\": \"left\"}, \"hovermode\": \"closest\", \"mapbox\": {\"style\": \"light\"}, \"paper_bgcolor\": \"white\", \"plot_bgcolor\": \"#E5ECF6\", \"polar\": {\"angularaxis\": {\"gridcolor\": \"white\", \"linecolor\": \"white\", \"ticks\": \"\"}, \"bgcolor\": \"#E5ECF6\", \"radialaxis\": {\"gridcolor\": \"white\", \"linecolor\": \"white\", \"ticks\": \"\"}}, \"scene\": {\"xaxis\": {\"backgroundcolor\": \"#E5ECF6\", \"gridcolor\": \"white\", \"gridwidth\": 2, \"linecolor\": \"white\", \"showbackground\": true, \"ticks\": \"\", \"zerolinecolor\": \"white\"}, \"yaxis\": {\"backgroundcolor\": \"#E5ECF6\", \"gridcolor\": \"white\", \"gridwidth\": 2, \"linecolor\": \"white\", \"showbackground\": true, \"ticks\": \"\", \"zerolinecolor\": \"white\"}, \"zaxis\": {\"backgroundcolor\": \"#E5ECF6\", \"gridcolor\": \"white\", \"gridwidth\": 2, \"linecolor\": \"white\", \"showbackground\": true, \"ticks\": \"\", \"zerolinecolor\": \"white\"}}, \"shapedefaults\": {\"line\": {\"color\": \"#2a3f5f\"}}, \"ternary\": {\"aaxis\": {\"gridcolor\": \"white\", \"linecolor\": \"white\", \"ticks\": \"\"}, \"baxis\": {\"gridcolor\": \"white\", \"linecolor\": \"white\", \"ticks\": \"\"}, \"bgcolor\": \"#E5ECF6\", \"caxis\": {\"gridcolor\": \"white\", \"linecolor\": \"white\", \"ticks\": \"\"}}, \"title\": {\"x\": 0.05}, \"xaxis\": {\"automargin\": true, \"gridcolor\": \"white\", \"linecolor\": \"white\", \"ticks\": \"\", \"title\": {\"standoff\": 15}, \"zerolinecolor\": \"white\", \"zerolinewidth\": 2}, \"yaxis\": {\"automargin\": true, \"gridcolor\": \"white\", \"linecolor\": \"white\", \"ticks\": \"\", \"title\": {\"standoff\": 15}, \"zerolinecolor\": \"white\", \"zerolinewidth\": 2}}}, \"title\": {\"font\": {\"color\": \"#4D5663\"}}, \"xaxis\": {\"gridcolor\": \"#E1E5ED\", \"showgrid\": true, \"tickfont\": {\"color\": \"#4D5663\"}, \"title\": {\"font\": {\"color\": \"#4D5663\"}, \"text\": \"\"}, \"zerolinecolor\": \"#E1E5ED\"}, \"yaxis\": {\"gridcolor\": \"#E1E5ED\", \"showgrid\": true, \"tickfont\": {\"color\": \"#4D5663\"}, \"title\": {\"font\": {\"color\": \"#4D5663\"}, \"text\": \"\"}, \"zerolinecolor\": \"#E1E5ED\"}},\n",
              "                        {\"showLink\": true, \"linkText\": \"Export to plot.ly\", \"plotlyServerURL\": \"https://plot.ly\", \"responsive\": true}\n",
              "                    ).then(function(){\n",
              "                            \n",
              "var gd = document.getElementById('0478c456-e91f-4d86-a21f-a84e8bfb82ca');\n",
              "var x = new MutationObserver(function (mutations, observer) {{\n",
              "        var display = window.getComputedStyle(gd).display;\n",
              "        if (!display || display === 'none') {{\n",
              "            console.log([gd, 'removed!']);\n",
              "            Plotly.purge(gd);\n",
              "            observer.disconnect();\n",
              "        }}\n",
              "}});\n",
              "\n",
              "// Listen for the removal of the full notebook cells\n",
              "var notebookContainer = gd.closest('#notebook-container');\n",
              "if (notebookContainer) {{\n",
              "    x.observe(notebookContainer, {childList: true});\n",
              "}}\n",
              "\n",
              "// Listen for the clearing of the current output cell\n",
              "var outputEl = gd.closest('.output');\n",
              "if (outputEl) {{\n",
              "    x.observe(outputEl, {childList: true});\n",
              "}}\n",
              "\n",
              "                        })\n",
              "                };\n",
              "                });\n",
              "            </script>\n",
              "        </div>"
            ],
            "application/vnd.plotly.v1+json": {
              "data": [
                {
                  "name": "B",
                  "text": "",
                  "y": [
                    0.6719297289775672,
                    -0.595125797746902,
                    0.28230810594138767,
                    -1.206968659162229,
                    0.9763323708655173,
                    1.02968969905455,
                    -1.956149687968155,
                    0.8169031036443454,
                    0.9801186491468801,
                    0.9766194176396104,
                    -1.9575839798842136,
                    0.08117905801136664,
                    0.9505691650700601,
                    -0.5898705612499778,
                    -2.0523929726897228,
                    -0.5159245382050114,
                    -0.06170070144629098,
                    -0.7844431532840856,
                    0.13164011819216995,
                    0.5307904711874382,
                    0.0959437461442954,
                    0.5236655135249486,
                    0.7892410724067266,
                    -0.9607699463109172,
                    1.2389390290479223,
                    0.015590963717198642,
                    -0.1102834209108599,
                    -0.5258571037669721,
                    -0.5791351281746208,
                    -0.14954953443817637,
                    -0.2850071705223682,
                    2.177564295360539,
                    -0.46583383273690804,
                    -0.10375779811671593,
                    -0.7628611325604281,
                    -0.36080293753500914,
                    -0.23042229937648892,
                    -1.50591041507617,
                    -1.0448691056755446,
                    0.8308906062877569,
                    -0.33105591561184033,
                    -1.4140674578981618,
                    1.3459178561574034,
                    0.8054317228902925,
                    0.16786106230047734,
                    -0.7530946793994338,
                    0.7019529626580752,
                    -0.496701337134233,
                    -1.1804543431347834,
                    -1.067500937939221,
                    -0.8761636793645978,
                    -0.4907796694597033,
                    -1.037624451530444,
                    -0.22533236244943494,
                    0.8616719494753546,
                    0.2311525353032186,
                    0.298963382543782,
                    -1.1876523511732875,
                    -0.9290947179653948,
                    0.7799494708661231,
                    -0.723163951959647,
                    1.6081302123932564,
                    -0.31482966376976934,
                    1.8401312180129406,
                    -1.562600691589042,
                    0.09900288908956656,
                    1.225041462819592,
                    0.1562096854181176,
                    0.5051186307210183,
                    -1.9794702174690473,
                    -0.2381991132113117,
                    1.068591268957404,
                    -0.16332773161947906,
                    -1.0805875749764224,
                    0.00929624912592426,
                    -0.6464281030726416,
                    -0.01739691811425187,
                    -1.1252396323366287,
                    1.1255326242991646,
                    -0.9669749977604396,
                    -1.7135829126498967,
                    0.716230749351397,
                    0.3381027950580457,
                    -1.5389178975999556,
                    0.7789291275284804,
                    2.6964914876145367,
                    0.9803463513107467,
                    -1.2537259978628255,
                    -1.0239816956313197,
                    -1.7584390890703596,
                    -2.557898565075246,
                    -1.3450309854729765,
                    -0.3260789752577263,
                    0.8954693488285337,
                    -0.8555462531875023,
                    -0.4695644761446738,
                    -0.3543644279648475,
                    1.4008181218005413,
                    0.5653754336467182,
                    0.2977443745705152
                  ],
                  "mode": "markers",
                  "marker": {
                    "symbol": "circle",
                    "size": 12
                  },
                  "x": [
                    0.7857130187827595,
                    -0.38691629281913636,
                    1.8360127089654945,
                    -0.2924020067163934,
                    0.9235205433254798,
                    0.36448657299892256,
                    0.942573299041056,
                    -0.5417554290131854,
                    -0.7546068171711667,
                    -0.5718056645536184,
                    -0.30104571526612733,
                    -0.7163051570305872,
                    -0.36566368060046944,
                    -0.6478543076217094,
                    1.0029415779698694,
                    -1.5693239864954538,
                    0.3084970073611844,
                    0.2694466848665055,
                    1.1976181564370572,
                    2.4941272694149217,
                    0.3996581029708669,
                    -1.4086588503128887,
                    0.2603955055866097,
                    -1.0664982697773775,
                    0.06286512172777839,
                    -0.8799249111162605,
                    0.2622656868164737,
                    0.8091364704024693,
                    2.5948406864012017,
                    0.4420039135141823,
                    -1.0263041566578195,
                    -0.46125321833087435,
                    0.6840063223720694,
                    -0.6737401295415769,
                    0.5425736517085374,
                    -0.883470140273883,
                    0.5503507592189958,
                    0.042827027147200755,
                    2.347241759819014,
                    -0.6241238670621426,
                    0.4554357138580938,
                    2.175405061497721,
                    -0.24022078872012256,
                    -0.11253744771677608,
                    -0.5562077318909375,
                    -0.031459171034922566,
                    -0.4120645628877545,
                    -1.2818717141445775,
                    1.9413295458090418,
                    -0.35861391633695605,
                    -1.9972043586817225,
                    1.009397930977348,
                    0.49578779070164214,
                    -0.836057034908234,
                    0.345315037682977,
                    -1.0614356448195612,
                    -0.3246305450010745,
                    -0.048949571762404026,
                    0.03802963149104864,
                    0.10683973028595915,
                    -0.18576953317643943,
                    1.3290363526489533,
                    0.2788516440407473,
                    0.16335395230569488,
                    -0.04065950528587544,
                    -1.2675932677336579,
                    -0.4423431310479073,
                    -0.4126558910617534,
                    0.7118736279631593,
                    1.159421744625309,
                    -1.682683609083658,
                    0.6621350131180067,
                    -0.27592053401486466,
                    0.0002515786585820589,
                    0.7630034123540528,
                    -1.3987166841935512,
                    -0.32425855366879813,
                    1.0200038890287029,
                    -0.43974955732969795,
                    -0.5909191911297732,
                    -1.6382826791625107,
                    -1.2736808372077644,
                    2.050930244475357,
                    0.8722597516410227,
                    0.7145116692907106,
                    1.114946104938644,
                    2.2681987572076707,
                    -0.3482292558048253,
                    2.089000102261447,
                    0.6267858146761821,
                    0.6235308126560386,
                    -2.163591503912406,
                    0.056025905482724514,
                    2.2534170871212558,
                    -1.0272101940974991,
                    1.3499065301465465,
                    2.141052871811855,
                    -0.6320997041218337,
                    -0.13210938396021807,
                    -0.8207361761791703
                  ],
                  "line": {
                    "color": "rgba(255, 153, 51, 1.0)",
                    "dash": "solid",
                    "shape": "linear",
                    "width": 1.3
                  },
                  "type": "scatter"
                }
              ],
              "config": {
                "plotlyServerURL": "https://plot.ly",
                "linkText": "Export to plot.ly",
                "showLink": true
              },
              "layout": {
                "template": {
                  "layout": {
                    "shapedefaults": {
                      "line": {
                        "color": "#2a3f5f"
                      }
                    },
                    "polar": {
                      "radialaxis": {
                        "ticks": "",
                        "gridcolor": "white",
                        "linecolor": "white"
                      },
                      "bgcolor": "#E5ECF6",
                      "angularaxis": {
                        "ticks": "",
                        "gridcolor": "white",
                        "linecolor": "white"
                      }
                    },
                    "colorway": [
                      "#636efa",
                      "#EF553B",
                      "#00cc96",
                      "#ab63fa",
                      "#FFA15A",
                      "#19d3f3",
                      "#FF6692",
                      "#B6E880",
                      "#FF97FF",
                      "#FECB52"
                    ],
                    "xaxis": {
                      "automargin": true,
                      "title": {
                        "standoff": 15
                      },
                      "zerolinewidth": 2,
                      "ticks": "",
                      "zerolinecolor": "white",
                      "gridcolor": "white",
                      "linecolor": "white"
                    },
                    "colorscale": {
                      "diverging": [
                        [
                          0,
                          "#8e0152"
                        ],
                        [
                          0.1,
                          "#c51b7d"
                        ],
                        [
                          0.2,
                          "#de77ae"
                        ],
                        [
                          0.3,
                          "#f1b6da"
                        ],
                        [
                          0.4,
                          "#fde0ef"
                        ],
                        [
                          0.5,
                          "#f7f7f7"
                        ],
                        [
                          0.6,
                          "#e6f5d0"
                        ],
                        [
                          0.7,
                          "#b8e186"
                        ],
                        [
                          0.8,
                          "#7fbc41"
                        ],
                        [
                          0.9,
                          "#4d9221"
                        ],
                        [
                          1,
                          "#276419"
                        ]
                      ],
                      "sequential": [
                        [
                          0,
                          "#0d0887"
                        ],
                        [
                          0.1111111111111111,
                          "#46039f"
                        ],
                        [
                          0.2222222222222222,
                          "#7201a8"
                        ],
                        [
                          0.3333333333333333,
                          "#9c179e"
                        ],
                        [
                          0.4444444444444444,
                          "#bd3786"
                        ],
                        [
                          0.5555555555555556,
                          "#d8576b"
                        ],
                        [
                          0.6666666666666666,
                          "#ed7953"
                        ],
                        [
                          0.7777777777777778,
                          "#fb9f3a"
                        ],
                        [
                          0.8888888888888888,
                          "#fdca26"
                        ],
                        [
                          1,
                          "#f0f921"
                        ]
                      ],
                      "sequentialminus": [
                        [
                          0,
                          "#0d0887"
                        ],
                        [
                          0.1111111111111111,
                          "#46039f"
                        ],
                        [
                          0.2222222222222222,
                          "#7201a8"
                        ],
                        [
                          0.3333333333333333,
                          "#9c179e"
                        ],
                        [
                          0.4444444444444444,
                          "#bd3786"
                        ],
                        [
                          0.5555555555555556,
                          "#d8576b"
                        ],
                        [
                          0.6666666666666666,
                          "#ed7953"
                        ],
                        [
                          0.7777777777777778,
                          "#fb9f3a"
                        ],
                        [
                          0.8888888888888888,
                          "#fdca26"
                        ],
                        [
                          1,
                          "#f0f921"
                        ]
                      ]
                    },
                    "paper_bgcolor": "white",
                    "plot_bgcolor": "#E5ECF6",
                    "title": {
                      "x": 0.05
                    },
                    "scene": {
                      "zaxis": {
                        "backgroundcolor": "#E5ECF6",
                        "ticks": "",
                        "gridwidth": 2,
                        "showbackground": true,
                        "zerolinecolor": "white",
                        "gridcolor": "white",
                        "linecolor": "white"
                      },
                      "xaxis": {
                        "backgroundcolor": "#E5ECF6",
                        "ticks": "",
                        "gridwidth": 2,
                        "showbackground": true,
                        "zerolinecolor": "white",
                        "gridcolor": "white",
                        "linecolor": "white"
                      },
                      "yaxis": {
                        "backgroundcolor": "#E5ECF6",
                        "ticks": "",
                        "gridwidth": 2,
                        "showbackground": true,
                        "zerolinecolor": "white",
                        "gridcolor": "white",
                        "linecolor": "white"
                      }
                    },
                    "yaxis": {
                      "automargin": true,
                      "title": {
                        "standoff": 15
                      },
                      "zerolinewidth": 2,
                      "ticks": "",
                      "zerolinecolor": "white",
                      "gridcolor": "white",
                      "linecolor": "white"
                    },
                    "annotationdefaults": {
                      "arrowwidth": 1,
                      "arrowhead": 0,
                      "arrowcolor": "#2a3f5f"
                    },
                    "hoverlabel": {
                      "align": "left"
                    },
                    "ternary": {
                      "bgcolor": "#E5ECF6",
                      "baxis": {
                        "ticks": "",
                        "gridcolor": "white",
                        "linecolor": "white"
                      },
                      "caxis": {
                        "ticks": "",
                        "gridcolor": "white",
                        "linecolor": "white"
                      },
                      "aaxis": {
                        "ticks": "",
                        "gridcolor": "white",
                        "linecolor": "white"
                      }
                    },
                    "mapbox": {
                      "style": "light"
                    },
                    "hovermode": "closest",
                    "font": {
                      "color": "#2a3f5f"
                    },
                    "geo": {
                      "showland": true,
                      "landcolor": "#E5ECF6",
                      "showlakes": true,
                      "bgcolor": "white",
                      "subunitcolor": "white",
                      "lakecolor": "white"
                    },
                    "coloraxis": {
                      "colorbar": {
                        "outlinewidth": 0,
                        "ticks": ""
                      }
                    }
                  },
                  "data": {
                    "mesh3d": [
                      {
                        "colorbar": {
                          "outlinewidth": 0,
                          "ticks": ""
                        },
                        "type": "mesh3d"
                      }
                    ],
                    "scattercarpet": [
                      {
                        "marker": {
                          "colorbar": {
                            "outlinewidth": 0,
                            "ticks": ""
                          }
                        },
                        "type": "scattercarpet"
                      }
                    ],
                    "pie": [
                      {
                        "automargin": true,
                        "type": "pie"
                      }
                    ],
                    "surface": [
                      {
                        "colorbar": {
                          "outlinewidth": 0,
                          "ticks": ""
                        },
                        "type": "surface",
                        "colorscale": [
                          [
                            0,
                            "#0d0887"
                          ],
                          [
                            0.1111111111111111,
                            "#46039f"
                          ],
                          [
                            0.2222222222222222,
                            "#7201a8"
                          ],
                          [
                            0.3333333333333333,
                            "#9c179e"
                          ],
                          [
                            0.4444444444444444,
                            "#bd3786"
                          ],
                          [
                            0.5555555555555556,
                            "#d8576b"
                          ],
                          [
                            0.6666666666666666,
                            "#ed7953"
                          ],
                          [
                            0.7777777777777778,
                            "#fb9f3a"
                          ],
                          [
                            0.8888888888888888,
                            "#fdca26"
                          ],
                          [
                            1,
                            "#f0f921"
                          ]
                        ]
                      }
                    ],
                    "table": [
                      {
                        "header": {
                          "line": {
                            "color": "white"
                          },
                          "fill": {
                            "color": "#C8D4E3"
                          }
                        },
                        "cells": {
                          "line": {
                            "color": "white"
                          },
                          "fill": {
                            "color": "#EBF0F8"
                          }
                        },
                        "type": "table"
                      }
                    ],
                    "scatterpolargl": [
                      {
                        "marker": {
                          "colorbar": {
                            "outlinewidth": 0,
                            "ticks": ""
                          }
                        },
                        "type": "scatterpolargl"
                      }
                    ],
                    "contour": [
                      {
                        "colorbar": {
                          "outlinewidth": 0,
                          "ticks": ""
                        },
                        "type": "contour",
                        "colorscale": [
                          [
                            0,
                            "#0d0887"
                          ],
                          [
                            0.1111111111111111,
                            "#46039f"
                          ],
                          [
                            0.2222222222222222,
                            "#7201a8"
                          ],
                          [
                            0.3333333333333333,
                            "#9c179e"
                          ],
                          [
                            0.4444444444444444,
                            "#bd3786"
                          ],
                          [
                            0.5555555555555556,
                            "#d8576b"
                          ],
                          [
                            0.6666666666666666,
                            "#ed7953"
                          ],
                          [
                            0.7777777777777778,
                            "#fb9f3a"
                          ],
                          [
                            0.8888888888888888,
                            "#fdca26"
                          ],
                          [
                            1,
                            "#f0f921"
                          ]
                        ]
                      }
                    ],
                    "carpet": [
                      {
                        "type": "carpet",
                        "baxis": {
                          "minorgridcolor": "white",
                          "gridcolor": "white",
                          "linecolor": "white",
                          "endlinecolor": "#2a3f5f",
                          "startlinecolor": "#2a3f5f"
                        },
                        "aaxis": {
                          "minorgridcolor": "white",
                          "gridcolor": "white",
                          "linecolor": "white",
                          "endlinecolor": "#2a3f5f",
                          "startlinecolor": "#2a3f5f"
                        }
                      }
                    ],
                    "contourcarpet": [
                      {
                        "colorbar": {
                          "outlinewidth": 0,
                          "ticks": ""
                        },
                        "type": "contourcarpet"
                      }
                    ],
                    "heatmap": [
                      {
                        "colorbar": {
                          "outlinewidth": 0,
                          "ticks": ""
                        },
                        "type": "heatmap",
                        "colorscale": [
                          [
                            0,
                            "#0d0887"
                          ],
                          [
                            0.1111111111111111,
                            "#46039f"
                          ],
                          [
                            0.2222222222222222,
                            "#7201a8"
                          ],
                          [
                            0.3333333333333333,
                            "#9c179e"
                          ],
                          [
                            0.4444444444444444,
                            "#bd3786"
                          ],
                          [
                            0.5555555555555556,
                            "#d8576b"
                          ],
                          [
                            0.6666666666666666,
                            "#ed7953"
                          ],
                          [
                            0.7777777777777778,
                            "#fb9f3a"
                          ],
                          [
                            0.8888888888888888,
                            "#fdca26"
                          ],
                          [
                            1,
                            "#f0f921"
                          ]
                        ]
                      }
                    ],
                    "scattermapbox": [
                      {
                        "marker": {
                          "colorbar": {
                            "outlinewidth": 0,
                            "ticks": ""
                          }
                        },
                        "type": "scattermapbox"
                      }
                    ],
                    "scatter3d": [
                      {
                        "marker": {
                          "colorbar": {
                            "outlinewidth": 0,
                            "ticks": ""
                          }
                        },
                        "line": {
                          "colorbar": {
                            "outlinewidth": 0,
                            "ticks": ""
                          }
                        },
                        "type": "scatter3d"
                      }
                    ],
                    "scattergl": [
                      {
                        "marker": {
                          "colorbar": {
                            "outlinewidth": 0,
                            "ticks": ""
                          }
                        },
                        "type": "scattergl"
                      }
                    ],
                    "scatterternary": [
                      {
                        "marker": {
                          "colorbar": {
                            "outlinewidth": 0,
                            "ticks": ""
                          }
                        },
                        "type": "scatterternary"
                      }
                    ],
                    "histogram": [
                      {
                        "marker": {
                          "colorbar": {
                            "outlinewidth": 0,
                            "ticks": ""
                          }
                        },
                        "type": "histogram"
                      }
                    ],
                    "heatmapgl": [
                      {
                        "colorbar": {
                          "outlinewidth": 0,
                          "ticks": ""
                        },
                        "type": "heatmapgl",
                        "colorscale": [
                          [
                            0,
                            "#0d0887"
                          ],
                          [
                            0.1111111111111111,
                            "#46039f"
                          ],
                          [
                            0.2222222222222222,
                            "#7201a8"
                          ],
                          [
                            0.3333333333333333,
                            "#9c179e"
                          ],
                          [
                            0.4444444444444444,
                            "#bd3786"
                          ],
                          [
                            0.5555555555555556,
                            "#d8576b"
                          ],
                          [
                            0.6666666666666666,
                            "#ed7953"
                          ],
                          [
                            0.7777777777777778,
                            "#fb9f3a"
                          ],
                          [
                            0.8888888888888888,
                            "#fdca26"
                          ],
                          [
                            1,
                            "#f0f921"
                          ]
                        ]
                      }
                    ],
                    "scatterpolar": [
                      {
                        "marker": {
                          "colorbar": {
                            "outlinewidth": 0,
                            "ticks": ""
                          }
                        },
                        "type": "scatterpolar"
                      }
                    ],
                    "histogram2d": [
                      {
                        "colorbar": {
                          "outlinewidth": 0,
                          "ticks": ""
                        },
                        "type": "histogram2d",
                        "colorscale": [
                          [
                            0,
                            "#0d0887"
                          ],
                          [
                            0.1111111111111111,
                            "#46039f"
                          ],
                          [
                            0.2222222222222222,
                            "#7201a8"
                          ],
                          [
                            0.3333333333333333,
                            "#9c179e"
                          ],
                          [
                            0.4444444444444444,
                            "#bd3786"
                          ],
                          [
                            0.5555555555555556,
                            "#d8576b"
                          ],
                          [
                            0.6666666666666666,
                            "#ed7953"
                          ],
                          [
                            0.7777777777777778,
                            "#fb9f3a"
                          ],
                          [
                            0.8888888888888888,
                            "#fdca26"
                          ],
                          [
                            1,
                            "#f0f921"
                          ]
                        ]
                      }
                    ],
                    "scattergeo": [
                      {
                        "marker": {
                          "colorbar": {
                            "outlinewidth": 0,
                            "ticks": ""
                          }
                        },
                        "type": "scattergeo"
                      }
                    ],
                    "bar": [
                      {
                        "marker": {
                          "line": {
                            "color": "#E5ECF6",
                            "width": 0.5
                          }
                        },
                        "type": "bar",
                        "error_x": {
                          "color": "#2a3f5f"
                        },
                        "error_y": {
                          "color": "#2a3f5f"
                        }
                      }
                    ],
                    "choropleth": [
                      {
                        "colorbar": {
                          "outlinewidth": 0,
                          "ticks": ""
                        },
                        "type": "choropleth"
                      }
                    ],
                    "parcoords": [
                      {
                        "line": {
                          "colorbar": {
                            "outlinewidth": 0,
                            "ticks": ""
                          }
                        },
                        "type": "parcoords"
                      }
                    ],
                    "barpolar": [
                      {
                        "marker": {
                          "line": {
                            "color": "#E5ECF6",
                            "width": 0.5
                          }
                        },
                        "type": "barpolar"
                      }
                    ],
                    "histogram2dcontour": [
                      {
                        "colorbar": {
                          "outlinewidth": 0,
                          "ticks": ""
                        },
                        "type": "histogram2dcontour",
                        "colorscale": [
                          [
                            0,
                            "#0d0887"
                          ],
                          [
                            0.1111111111111111,
                            "#46039f"
                          ],
                          [
                            0.2222222222222222,
                            "#7201a8"
                          ],
                          [
                            0.3333333333333333,
                            "#9c179e"
                          ],
                          [
                            0.4444444444444444,
                            "#bd3786"
                          ],
                          [
                            0.5555555555555556,
                            "#d8576b"
                          ],
                          [
                            0.6666666666666666,
                            "#ed7953"
                          ],
                          [
                            0.7777777777777778,
                            "#fb9f3a"
                          ],
                          [
                            0.8888888888888888,
                            "#fdca26"
                          ],
                          [
                            1,
                            "#f0f921"
                          ]
                        ]
                      }
                    ],
                    "scatter": [
                      {
                        "marker": {
                          "colorbar": {
                            "outlinewidth": 0,
                            "ticks": ""
                          }
                        },
                        "type": "scatter"
                      }
                    ]
                  }
                },
                "title": {
                  "font": {
                    "color": "#4D5663"
                  }
                },
                "paper_bgcolor": "#F5F6F9",
                "plot_bgcolor": "#F5F6F9",
                "yaxis": {
                  "tickfont": {
                    "color": "#4D5663"
                  },
                  "zerolinecolor": "#E1E5ED",
                  "title": {
                    "text": "",
                    "font": {
                      "color": "#4D5663"
                    }
                  },
                  "gridcolor": "#E1E5ED",
                  "showgrid": true
                },
                "xaxis": {
                  "tickfont": {
                    "color": "#4D5663"
                  },
                  "zerolinecolor": "#E1E5ED",
                  "title": {
                    "text": "",
                    "font": {
                      "color": "#4D5663"
                    }
                  },
                  "gridcolor": "#E1E5ED",
                  "showgrid": true
                },
                "legend": {
                  "bgcolor": "#F5F6F9",
                  "font": {
                    "color": "#4D5663"
                  }
                }
              }
            }
          },
          "metadata": {
            "tags": []
          }
        }
      ]
    },
    {
      "cell_type": "code",
      "metadata": {
        "colab": {
          "base_uri": "https://localhost:8080/",
          "height": 542
        },
        "id": "SQJFTvHn2LBT",
        "outputId": "65756f12-a263-4fb4-f015-affbb66ad8d2"
      },
      "source": [
        "df.iplot(kind='hist')"
      ],
      "execution_count": null,
      "outputs": [
        {
          "output_type": "display_data",
          "data": {
            "text/html": [
              "<div>\n",
              "        \n",
              "        \n",
              "            <div id=\"3ad11dba-d05e-45d8-94f3-a00eeddfcf2a\" class=\"plotly-graph-div\" style=\"height:525px; width:100%;\"></div>\n",
              "            <script type=\"text/javascript\">\n",
              "                require([\"plotly\"], function(Plotly) {\n",
              "                    window.PLOTLYENV=window.PLOTLYENV || {};\n",
              "                    window.PLOTLYENV.BASE_URL='https://plot.ly';\n",
              "                    \n",
              "                if (document.getElementById(\"3ad11dba-d05e-45d8-94f3-a00eeddfcf2a\")) {\n",
              "                    Plotly.newPlot(\n",
              "                        '3ad11dba-d05e-45d8-94f3-a00eeddfcf2a',\n",
              "                        [{\"histfunc\": \"count\", \"histnorm\": \"\", \"marker\": {\"color\": \"rgba(255, 153, 51, 1.0)\", \"line\": {\"color\": \"#4D5663\", \"width\": 1.3}}, \"name\": \"A\", \"opacity\": 0.8, \"orientation\": \"v\", \"type\": \"histogram\", \"x\": [-1.1749772152084035, -0.3779170738097308, -0.5708994120724677, 0.5549988075322745, 1.0741314482972986, 0.30215920715311495, 1.5442727738941344, 1.2988610564060021, -0.6599371662002036, 0.07102150006878152, -2.0354504738412587, 0.2607217178043962, 1.8861717159018088, -0.23108987869045655, -1.5758617773544141, -0.463083893491209, 0.47908327554731084, -1.2125285980161962, -0.028513615314143148, 0.3312518214411839, -1.2522069900964254, -0.22059339359438407, 0.1196123614866067, 1.8575572864383574, -0.9060742747194106, -1.0893640130976343, 1.0922960505019603, 0.5077301133819063, 1.5081253428844992, 0.31270207248994075, -0.44842028253211147, -0.48713874476952557, 1.0086172742704869, 1.0761959124360045, -1.061528872746395, 0.47859189609133507, -0.1512051511204415, -1.34351472703024, 1.59080904474293, 0.2414278803164778, -1.610044850740366, 0.6880042671733377, 0.4122770167496885, -0.5785266987373706, 0.706519238390045, -0.34573560040548357, 1.5899216517586061, 0.6786676276976589, -0.010687417142944538, -0.2618802173589107, -1.061079173398206, 1.101814343228975, 0.6316295114352966, 0.9524521766761052, -0.927683630622664, -1.224988841155045, 1.094412190712859, 1.6513979409231412, -1.230907417648648, -0.7780062778518667, -0.2712218774411599, 1.0403340914234973, 0.5864681519110181, -0.5321682966066407, -0.8991375244931096, 0.3718946552353434, 0.7694064163434158, -0.05143358583696394, -0.927314626621483, 0.8591874950678026, -0.6182433262182968, -0.2862621123619757, 0.44688801927458033, -0.6556812399505361, -0.23984930677487126, 0.8894179410643122, -0.6339511397430591, 0.010436611921874249, -2.05050197865021, 0.06429702878269146, -0.32137484772117403, -0.7126623132330004, -0.5537891140851676, 0.6454664250040542, 0.413443160826801, -0.6464431876609719, 1.1647999271913172, -0.172345935502807, 0.38323406221589684, -0.24258909831600514, -0.4159183475950709, 2.1632414674819818, 1.4065439035592624, 0.09718682258910089, -0.9250006384261442, -0.16606792502844925, -1.7134423399489533, 0.7464299924683054, 0.22372852507514712, -0.3713750110181599]}, {\"histfunc\": \"count\", \"histnorm\": \"\", \"marker\": {\"color\": \"rgba(55, 128, 191, 1.0)\", \"line\": {\"color\": \"#4D5663\", \"width\": 1.3}}, \"name\": \"B\", \"opacity\": 0.8, \"orientation\": \"v\", \"type\": \"histogram\", \"x\": [0.546615513732223, 0.7536025705810206, 0.991264407438625, -0.5699750866610114, -1.1967305077106531, -0.8340771066923657, -1.349605824794849, -0.019051617412514467, 0.6539614377424288, 0.4995018797051141, -1.609905459758883, -0.8900749396927077, -0.3151235806741814, -0.9318391867987862, -1.0280805454392152, 0.3659629063537766, 0.950147173342877, 0.7394785232802653, -1.1253370082478682, -1.4128858545024612, 0.49498325335462273, -1.132125052054212, 0.3113438414143409, 1.785995521574519, 1.42609090465851, 0.8855430870782791, -0.932182173954428, 1.9460189944360853, 0.3758316515113295, 0.03576806404779884, 0.1443470137252578, -0.2775711437397765, -0.9963185865733284, -3.125390188276243, 0.16551205366499605, -0.11358420003218321, 0.9975144690854232, 0.8135542553291103, 1.3463003072885484, -0.04372457973277888, 0.10215290858645183, -0.2265527387957428, -0.650331987222113, -0.29233679587188643, -0.4692999965404013, -0.03669932244489399, -0.7523134251364739, 2.5561089032818454, 0.12324074364298004, 0.9324296004095772, -1.6479608348248211, 0.26253029980458875, 2.143233947984214, 1.005385616349666, -1.5921664901333332, 0.5190105336663459, -0.0006741111518020859, 1.6333775953328376, 1.6355929919796206, -0.12705134626972722, -0.4732858949587915, -0.7603662266295413, -0.5976314379645705, 1.5043795168493295, 1.3269815182891618, -1.686300868188942, -1.7396789399012504, -0.05764423457453948, 0.6425575928186736, -0.3255140777907368, 0.39820695630582464, -1.6852164311070483, -0.31742278923701694, 0.7287678204899237, -1.1051455526419236, -0.5421761241985412, 1.7333736510924271, 1.9631683060824452, -0.1402630466376674, -0.6654385052084744, -0.7179947691233792, 1.4976821395060327, -0.047727730007448226, -0.19659570292149434, 1.6768979153243728, 0.11697782791786411, -0.4190840955498452, 1.6551813504349189, -2.1681651682631493, 1.8342615956661734, 0.22140460251026692, 0.14529541887994293, -0.7029388212801344, 1.3075468645162707, 0.21019736968437813, 0.23685282944724617, -2.041118378139542, 1.3714398765347129, -1.5571204719098657, -0.050201121219470776]}, {\"histfunc\": \"count\", \"histnorm\": \"\", \"marker\": {\"color\": \"rgba(50, 171, 96, 1.0)\", \"line\": {\"color\": \"#4D5663\", \"width\": 1.3}}, \"name\": \"C\", \"opacity\": 0.8, \"orientation\": \"v\", \"type\": \"histogram\", \"x\": [-0.7035964168667909, -1.151438449731667, 0.5998850241479027, -0.5192749447291733, 0.4023432896159358, -0.7672055616023065, 1.102915341858455, 0.7479551714773277, -1.2944749380995726, 0.026480930855699875, 1.0027787516494706, -1.3223047826797738, -1.4064871871674571, 2.6064166559823425, -0.07818759879597571, -0.5944017643567016, -0.8101352791917279, -0.5754817161970129, 0.8762103608880456, -0.6073815378804366, -0.5318789337249482, 1.3537446312861168, 1.5322517209111137, 0.2209962347596253, -1.2246639730759006, -0.5953232993202333, -0.8431780909639361, 0.13282382003945004, -1.1029988150619408, 1.4168197846565322, 0.2912216132249652, 0.6734534165014228, 0.1518678219293175, -0.09055435628630672, -1.0536635068296916, -0.6458391994729117, -1.7684457123585748, 1.3464747641636234, 0.9180280781429716, 0.6333227437387605, 1.4937920348260851, -0.264548091093156, -0.764623747845522, -0.6378181856877679, -0.48188710293637094, -0.48771082763504436, -0.3850535284655568, -1.312675341464195, 1.9844132348836379, 0.6474255831941002, 0.4420585051072425, -0.036957699063671155, -1.858437372425886, -0.47946291658560597, 0.8810335409213019, -0.0999934850962974, 2.2763364182970873, -0.03008475207567932, -0.5026557391708492, -0.2769951448451758, -0.5443442209099568, -0.7874848213278257, 1.107256548863389, -0.3831972698265307, 1.0122758945612413, -0.773826422368653, -0.08262407645039317, -0.8422319031959423, 1.5674294336909251, -0.7545187812259746, -1.9229122564338956, 1.7438573679575475, -0.6682217177684193, -0.9080124058455009, 0.041064047093406074, -0.42228233165455265, -1.2138195041473907, 1.005963644458875, -0.31369178339115084, 1.6661309101796147, -0.2827266496800416, -0.22454660532867554, -1.2798692164703838, -0.3523653778314622, -0.24406776154054002, -2.3721112151565027, 1.3025674541434242, -0.17372667694840954, 1.1237946561345915, 1.3765273425457278, -0.22762057159287136, 1.4804897888186714, 0.3753281290682731, -0.22763746023592385, -0.5950675813708222, -1.5213907585715436, 0.3490840402643815, -0.9929217720935112, -0.4577142306356627, -1.3104560801961076]}, {\"histfunc\": \"count\", \"histnorm\": \"\", \"marker\": {\"color\": \"rgba(128, 0, 128, 1.0)\", \"line\": {\"color\": \"#4D5663\", \"width\": 1.3}}, \"name\": \"D\", \"opacity\": 0.8, \"orientation\": \"v\", \"type\": \"histogram\", \"x\": [-0.14347769646167882, 0.5873370266734717, -0.37111858846838297, -0.02164315392687805, -0.0981150714016284, -1.192776384077493, 0.24860380209227934, -1.3900680199180455, 0.7994633910500539, 1.3076429646799472, 1.4300942817411164, 1.0021118098261739, 0.47203549718377774, -0.9910669324309332, -1.1426570159066904, -0.36130993490733704, -1.0843188553108367, 0.6283807330322854, -1.3679590971422864, -0.7818141379718702, 0.2701884122623558, -0.1837559648377712, 0.43873442779215766, 1.656158141977978, 0.3993349925828309, 0.29210641821436045, -0.8566972611635604, 0.5793175570280485, 1.1909400381608806, 0.1249658531591891, -0.33498219323185324, 0.11194202972645223, -2.9842336215056733, 0.42806081720405914, 0.32112519628511005, 2.018185839685791, 0.07620257785890765, -0.13986791328528062, 0.920802818397255, 1.0361320826608498, 0.18353117345174993, -0.04692325847145157, -1.3166294199217177, 0.5353419524263042, 0.3010681010514135, 2.1405679667142707, -1.6954163425678264, 0.05270854568625546, -0.8364786849443393, -0.4255468736985105, -0.7683126034446235, 0.5098146834394894, 0.8243591266127813, 0.5736549599351144, -0.8177940349515267, 1.6770429725428273, -0.5436892019541624, -1.2728839884040062, 0.12441468164224781, -0.1483002249536748, 0.4673092857656207, 0.18515450118686205, -1.217932196412744, 0.03207879322514331, 0.2608049806408813, 0.26601281383187425, -1.110408048810417, -1.653138263025912, 0.29463060230803667, -0.6554676603439524, -1.8565039843304423, -0.3035855512406759, 0.10788567246809337, -1.1830051097458008, 0.2898778670200328, 0.4464347484729418, -1.331700353765156, 0.3683766914995959, -0.9666642307468233, -0.7572001972327232, 0.44354506617211986, -0.30073105406790335, -1.0202276717304426, -0.8612881199732524, 0.11707377095287698, -0.6125931793717005, -1.9004604846759419, -0.29954835617892905, 0.4680587537389525, -0.4875296020021846, 0.16636788416809248, -0.24218679624796868, 0.3087267666543777, 0.05045781326119775, 0.24802851021960348, 1.1916467884080164, 0.0524567017882374, -0.20141790863937548, 0.5631347401760456, 0.6732303975997113]}, {\"histfunc\": \"count\", \"histnorm\": \"\", \"marker\": {\"color\": \"rgba(219, 64, 82, 1.0)\", \"line\": {\"color\": \"#4D5663\", \"width\": 1.3}}, \"name\": \"E\", \"opacity\": 0.8, \"orientation\": \"v\", \"type\": \"histogram\", \"x\": [-0.6049598013102498, 0.6287360795698114, 1.3809183006907322, -0.0960271578407001, 0.5498704877326022, 0.8685893168561117, 0.6588490840566661, -1.7277406342055166, 1.2473937311140495, 0.7824558510838419, -0.11892437956968673, -1.2228033089489285, -0.3092057546935234, -1.8963662826473338, 1.4523524235738678, -1.1507058532086465, 2.362542572823207, 0.31728018619568654, -1.562173352755388, -0.8355278094597536, -0.17388613092593447, -1.697452223205147, -1.5805016626013442, -1.7740969041733945, -0.4490901732439773, -0.9203763900391391, -1.7932996231779672, -2.5739980224650876, -0.9233387745242683, 0.9381805159060332, -0.0220171961134242, 1.3791392409257293, 0.9028958557174719, 0.21951585423444525, -1.7901338214942877, -0.1338882752246818, -0.059431725734913426, -0.3150725214378444, 1.125650074590703, 0.1379937890159135, 0.35224768059334216, -0.15151942207469987, -0.8777012525353239, 0.4651131594287982, 0.33730143441823873, -0.6933421464220445, -2.366080455861181, -0.06435771905488798, 0.18074662424592208, -1.4604991278763186, 0.8002043764943033, 0.20806841870464768, -1.2365713819390964, 0.47213308032480844, 0.5215461893696094, 1.0325226768219178, 2.247433796264182, 0.1427150789768096, 0.3397011048986668, -2.143670707200319, 0.2693504922155889, -0.7200478930494146, -0.7221146557721294, 1.0681292392917987, 2.5255204436904024, -0.5131459545868569, 1.134621427131061, 0.8716948908238936, 0.6240436853632244, -1.4045687269758917, 2.1444598738374787, 1.1424626309473467, 0.9123953344372301, -0.1004112182482107, 0.07630033930861066, -0.09386639051224915, 1.382043276542923, 1.5852566018457248, 0.5865784232127874, 1.2898555115947612, -0.2469474848537143, -1.260289605242337, -0.7566101062938434, 0.8306245061698698, 0.10340534851332352, -0.347472351384367, -0.43313537571991556, -1.5423975195425175, 0.26331157692624013, 1.2269482295912035, 0.11062545878271647, -0.12956416990080485, 2.1388477326495066, -0.9719973857131293, -0.831940112864614, -1.2358335300036896, -0.7333943370916469, -0.05362285205111037, -0.3776103086606719, 0.08587077479741446]}],\n",
              "                        {\"barmode\": \"overlay\", \"legend\": {\"bgcolor\": \"#F5F6F9\", \"font\": {\"color\": \"#4D5663\"}}, \"paper_bgcolor\": \"#F5F6F9\", \"plot_bgcolor\": \"#F5F6F9\", \"template\": {\"data\": {\"bar\": [{\"error_x\": {\"color\": \"#2a3f5f\"}, \"error_y\": {\"color\": \"#2a3f5f\"}, \"marker\": {\"line\": {\"color\": \"#E5ECF6\", \"width\": 0.5}}, \"type\": \"bar\"}], \"barpolar\": [{\"marker\": {\"line\": {\"color\": \"#E5ECF6\", \"width\": 0.5}}, \"type\": \"barpolar\"}], \"carpet\": [{\"aaxis\": {\"endlinecolor\": \"#2a3f5f\", \"gridcolor\": \"white\", \"linecolor\": \"white\", \"minorgridcolor\": \"white\", \"startlinecolor\": \"#2a3f5f\"}, \"baxis\": {\"endlinecolor\": \"#2a3f5f\", \"gridcolor\": \"white\", \"linecolor\": \"white\", \"minorgridcolor\": \"white\", \"startlinecolor\": \"#2a3f5f\"}, \"type\": \"carpet\"}], \"choropleth\": [{\"colorbar\": {\"outlinewidth\": 0, \"ticks\": \"\"}, \"type\": \"choropleth\"}], \"contour\": [{\"colorbar\": {\"outlinewidth\": 0, \"ticks\": \"\"}, \"colorscale\": [[0.0, \"#0d0887\"], [0.1111111111111111, \"#46039f\"], [0.2222222222222222, \"#7201a8\"], [0.3333333333333333, \"#9c179e\"], [0.4444444444444444, \"#bd3786\"], [0.5555555555555556, \"#d8576b\"], [0.6666666666666666, \"#ed7953\"], [0.7777777777777778, \"#fb9f3a\"], [0.8888888888888888, \"#fdca26\"], [1.0, \"#f0f921\"]], \"type\": \"contour\"}], \"contourcarpet\": [{\"colorbar\": {\"outlinewidth\": 0, \"ticks\": \"\"}, \"type\": \"contourcarpet\"}], \"heatmap\": [{\"colorbar\": {\"outlinewidth\": 0, \"ticks\": \"\"}, \"colorscale\": [[0.0, \"#0d0887\"], [0.1111111111111111, \"#46039f\"], [0.2222222222222222, \"#7201a8\"], [0.3333333333333333, \"#9c179e\"], [0.4444444444444444, \"#bd3786\"], [0.5555555555555556, \"#d8576b\"], [0.6666666666666666, \"#ed7953\"], [0.7777777777777778, \"#fb9f3a\"], [0.8888888888888888, \"#fdca26\"], [1.0, \"#f0f921\"]], \"type\": \"heatmap\"}], \"heatmapgl\": [{\"colorbar\": {\"outlinewidth\": 0, \"ticks\": \"\"}, \"colorscale\": [[0.0, \"#0d0887\"], [0.1111111111111111, \"#46039f\"], [0.2222222222222222, \"#7201a8\"], [0.3333333333333333, \"#9c179e\"], [0.4444444444444444, \"#bd3786\"], [0.5555555555555556, \"#d8576b\"], [0.6666666666666666, \"#ed7953\"], [0.7777777777777778, \"#fb9f3a\"], [0.8888888888888888, \"#fdca26\"], [1.0, \"#f0f921\"]], \"type\": \"heatmapgl\"}], \"histogram\": [{\"marker\": {\"colorbar\": {\"outlinewidth\": 0, \"ticks\": \"\"}}, \"type\": \"histogram\"}], \"histogram2d\": [{\"colorbar\": {\"outlinewidth\": 0, \"ticks\": \"\"}, \"colorscale\": [[0.0, \"#0d0887\"], [0.1111111111111111, \"#46039f\"], [0.2222222222222222, \"#7201a8\"], [0.3333333333333333, \"#9c179e\"], [0.4444444444444444, \"#bd3786\"], [0.5555555555555556, \"#d8576b\"], [0.6666666666666666, \"#ed7953\"], [0.7777777777777778, \"#fb9f3a\"], [0.8888888888888888, \"#fdca26\"], [1.0, \"#f0f921\"]], \"type\": \"histogram2d\"}], \"histogram2dcontour\": [{\"colorbar\": {\"outlinewidth\": 0, \"ticks\": \"\"}, \"colorscale\": [[0.0, \"#0d0887\"], [0.1111111111111111, \"#46039f\"], [0.2222222222222222, \"#7201a8\"], [0.3333333333333333, \"#9c179e\"], [0.4444444444444444, \"#bd3786\"], [0.5555555555555556, \"#d8576b\"], [0.6666666666666666, \"#ed7953\"], [0.7777777777777778, \"#fb9f3a\"], [0.8888888888888888, \"#fdca26\"], [1.0, \"#f0f921\"]], \"type\": \"histogram2dcontour\"}], \"mesh3d\": [{\"colorbar\": {\"outlinewidth\": 0, \"ticks\": \"\"}, \"type\": \"mesh3d\"}], \"parcoords\": [{\"line\": {\"colorbar\": {\"outlinewidth\": 0, \"ticks\": \"\"}}, \"type\": \"parcoords\"}], \"pie\": [{\"automargin\": true, \"type\": \"pie\"}], \"scatter\": [{\"marker\": {\"colorbar\": {\"outlinewidth\": 0, \"ticks\": \"\"}}, \"type\": \"scatter\"}], \"scatter3d\": [{\"line\": {\"colorbar\": {\"outlinewidth\": 0, \"ticks\": \"\"}}, \"marker\": {\"colorbar\": {\"outlinewidth\": 0, \"ticks\": \"\"}}, \"type\": \"scatter3d\"}], \"scattercarpet\": [{\"marker\": {\"colorbar\": {\"outlinewidth\": 0, \"ticks\": \"\"}}, \"type\": \"scattercarpet\"}], \"scattergeo\": [{\"marker\": {\"colorbar\": {\"outlinewidth\": 0, \"ticks\": \"\"}}, \"type\": \"scattergeo\"}], \"scattergl\": [{\"marker\": {\"colorbar\": {\"outlinewidth\": 0, \"ticks\": \"\"}}, \"type\": \"scattergl\"}], \"scattermapbox\": [{\"marker\": {\"colorbar\": {\"outlinewidth\": 0, \"ticks\": \"\"}}, \"type\": \"scattermapbox\"}], \"scatterpolar\": [{\"marker\": {\"colorbar\": {\"outlinewidth\": 0, \"ticks\": \"\"}}, \"type\": \"scatterpolar\"}], \"scatterpolargl\": [{\"marker\": {\"colorbar\": {\"outlinewidth\": 0, \"ticks\": \"\"}}, \"type\": \"scatterpolargl\"}], \"scatterternary\": [{\"marker\": {\"colorbar\": {\"outlinewidth\": 0, \"ticks\": \"\"}}, \"type\": \"scatterternary\"}], \"surface\": [{\"colorbar\": {\"outlinewidth\": 0, \"ticks\": \"\"}, \"colorscale\": [[0.0, \"#0d0887\"], [0.1111111111111111, \"#46039f\"], [0.2222222222222222, \"#7201a8\"], [0.3333333333333333, \"#9c179e\"], [0.4444444444444444, \"#bd3786\"], [0.5555555555555556, \"#d8576b\"], [0.6666666666666666, \"#ed7953\"], [0.7777777777777778, \"#fb9f3a\"], [0.8888888888888888, \"#fdca26\"], [1.0, \"#f0f921\"]], \"type\": \"surface\"}], \"table\": [{\"cells\": {\"fill\": {\"color\": \"#EBF0F8\"}, \"line\": {\"color\": \"white\"}}, \"header\": {\"fill\": {\"color\": \"#C8D4E3\"}, \"line\": {\"color\": \"white\"}}, \"type\": \"table\"}]}, \"layout\": {\"annotationdefaults\": {\"arrowcolor\": \"#2a3f5f\", \"arrowhead\": 0, \"arrowwidth\": 1}, \"coloraxis\": {\"colorbar\": {\"outlinewidth\": 0, \"ticks\": \"\"}}, \"colorscale\": {\"diverging\": [[0, \"#8e0152\"], [0.1, \"#c51b7d\"], [0.2, \"#de77ae\"], [0.3, \"#f1b6da\"], [0.4, \"#fde0ef\"], [0.5, \"#f7f7f7\"], [0.6, \"#e6f5d0\"], [0.7, \"#b8e186\"], [0.8, \"#7fbc41\"], [0.9, \"#4d9221\"], [1, \"#276419\"]], \"sequential\": [[0.0, \"#0d0887\"], [0.1111111111111111, \"#46039f\"], [0.2222222222222222, \"#7201a8\"], [0.3333333333333333, \"#9c179e\"], [0.4444444444444444, \"#bd3786\"], [0.5555555555555556, \"#d8576b\"], [0.6666666666666666, \"#ed7953\"], [0.7777777777777778, \"#fb9f3a\"], [0.8888888888888888, \"#fdca26\"], [1.0, \"#f0f921\"]], \"sequentialminus\": [[0.0, \"#0d0887\"], [0.1111111111111111, \"#46039f\"], [0.2222222222222222, \"#7201a8\"], [0.3333333333333333, \"#9c179e\"], [0.4444444444444444, \"#bd3786\"], [0.5555555555555556, \"#d8576b\"], [0.6666666666666666, \"#ed7953\"], [0.7777777777777778, \"#fb9f3a\"], [0.8888888888888888, \"#fdca26\"], [1.0, \"#f0f921\"]]}, \"colorway\": [\"#636efa\", \"#EF553B\", \"#00cc96\", \"#ab63fa\", \"#FFA15A\", \"#19d3f3\", \"#FF6692\", \"#B6E880\", \"#FF97FF\", \"#FECB52\"], \"font\": {\"color\": \"#2a3f5f\"}, \"geo\": {\"bgcolor\": \"white\", \"lakecolor\": \"white\", \"landcolor\": \"#E5ECF6\", \"showlakes\": true, \"showland\": true, \"subunitcolor\": \"white\"}, \"hoverlabel\": {\"align\": \"left\"}, \"hovermode\": \"closest\", \"mapbox\": {\"style\": \"light\"}, \"paper_bgcolor\": \"white\", \"plot_bgcolor\": \"#E5ECF6\", \"polar\": {\"angularaxis\": {\"gridcolor\": \"white\", \"linecolor\": \"white\", \"ticks\": \"\"}, \"bgcolor\": \"#E5ECF6\", \"radialaxis\": {\"gridcolor\": \"white\", \"linecolor\": \"white\", \"ticks\": \"\"}}, \"scene\": {\"xaxis\": {\"backgroundcolor\": \"#E5ECF6\", \"gridcolor\": \"white\", \"gridwidth\": 2, \"linecolor\": \"white\", \"showbackground\": true, \"ticks\": \"\", \"zerolinecolor\": \"white\"}, \"yaxis\": {\"backgroundcolor\": \"#E5ECF6\", \"gridcolor\": \"white\", \"gridwidth\": 2, \"linecolor\": \"white\", \"showbackground\": true, \"ticks\": \"\", \"zerolinecolor\": \"white\"}, \"zaxis\": {\"backgroundcolor\": \"#E5ECF6\", \"gridcolor\": \"white\", \"gridwidth\": 2, \"linecolor\": \"white\", \"showbackground\": true, \"ticks\": \"\", \"zerolinecolor\": \"white\"}}, \"shapedefaults\": {\"line\": {\"color\": \"#2a3f5f\"}}, \"ternary\": {\"aaxis\": {\"gridcolor\": \"white\", \"linecolor\": \"white\", \"ticks\": \"\"}, \"baxis\": {\"gridcolor\": \"white\", \"linecolor\": \"white\", \"ticks\": \"\"}, \"bgcolor\": \"#E5ECF6\", \"caxis\": {\"gridcolor\": \"white\", \"linecolor\": \"white\", \"ticks\": \"\"}}, \"title\": {\"x\": 0.05}, \"xaxis\": {\"automargin\": true, \"gridcolor\": \"white\", \"linecolor\": \"white\", \"ticks\": \"\", \"title\": {\"standoff\": 15}, \"zerolinecolor\": \"white\", \"zerolinewidth\": 2}, \"yaxis\": {\"automargin\": true, \"gridcolor\": \"white\", \"linecolor\": \"white\", \"ticks\": \"\", \"title\": {\"standoff\": 15}, \"zerolinecolor\": \"white\", \"zerolinewidth\": 2}}}, \"title\": {\"font\": {\"color\": \"#4D5663\"}}, \"xaxis\": {\"gridcolor\": \"#E1E5ED\", \"showgrid\": true, \"tickfont\": {\"color\": \"#4D5663\"}, \"title\": {\"font\": {\"color\": \"#4D5663\"}, \"text\": \"\"}, \"zerolinecolor\": \"#E1E5ED\"}, \"yaxis\": {\"gridcolor\": \"#E1E5ED\", \"showgrid\": true, \"tickfont\": {\"color\": \"#4D5663\"}, \"title\": {\"font\": {\"color\": \"#4D5663\"}, \"text\": \"\"}, \"zerolinecolor\": \"#E1E5ED\"}},\n",
              "                        {\"showLink\": true, \"linkText\": \"Export to plot.ly\", \"plotlyServerURL\": \"https://plot.ly\", \"responsive\": true}\n",
              "                    ).then(function(){\n",
              "                            \n",
              "var gd = document.getElementById('3ad11dba-d05e-45d8-94f3-a00eeddfcf2a');\n",
              "var x = new MutationObserver(function (mutations, observer) {{\n",
              "        var display = window.getComputedStyle(gd).display;\n",
              "        if (!display || display === 'none') {{\n",
              "            console.log([gd, 'removed!']);\n",
              "            Plotly.purge(gd);\n",
              "            observer.disconnect();\n",
              "        }}\n",
              "}});\n",
              "\n",
              "// Listen for the removal of the full notebook cells\n",
              "var notebookContainer = gd.closest('#notebook-container');\n",
              "if (notebookContainer) {{\n",
              "    x.observe(notebookContainer, {childList: true});\n",
              "}}\n",
              "\n",
              "// Listen for the clearing of the current output cell\n",
              "var outputEl = gd.closest('.output');\n",
              "if (outputEl) {{\n",
              "    x.observe(outputEl, {childList: true});\n",
              "}}\n",
              "\n",
              "                        })\n",
              "                };\n",
              "                });\n",
              "            </script>\n",
              "        </div>"
            ],
            "application/vnd.plotly.v1+json": {
              "data": [
                {
                  "opacity": 0.8,
                  "orientation": "v",
                  "histnorm": "",
                  "histfunc": "count",
                  "marker": {
                    "color": "rgba(255, 153, 51, 1.0)",
                    "line": {
                      "color": "#4D5663",
                      "width": 1.3
                    }
                  },
                  "x": [
                    -1.1749772152084035,
                    -0.3779170738097308,
                    -0.5708994120724677,
                    0.5549988075322745,
                    1.0741314482972986,
                    0.30215920715311495,
                    1.5442727738941344,
                    1.2988610564060021,
                    -0.6599371662002036,
                    0.07102150006878152,
                    -2.0354504738412587,
                    0.2607217178043962,
                    1.8861717159018088,
                    -0.23108987869045655,
                    -1.5758617773544141,
                    -0.463083893491209,
                    0.47908327554731084,
                    -1.2125285980161962,
                    -0.028513615314143148,
                    0.3312518214411839,
                    -1.2522069900964254,
                    -0.22059339359438407,
                    0.1196123614866067,
                    1.8575572864383574,
                    -0.9060742747194106,
                    -1.0893640130976343,
                    1.0922960505019603,
                    0.5077301133819063,
                    1.5081253428844992,
                    0.31270207248994075,
                    -0.44842028253211147,
                    -0.48713874476952557,
                    1.0086172742704869,
                    1.0761959124360045,
                    -1.061528872746395,
                    0.47859189609133507,
                    -0.1512051511204415,
                    -1.34351472703024,
                    1.59080904474293,
                    0.2414278803164778,
                    -1.610044850740366,
                    0.6880042671733377,
                    0.4122770167496885,
                    -0.5785266987373706,
                    0.706519238390045,
                    -0.34573560040548357,
                    1.5899216517586061,
                    0.6786676276976589,
                    -0.010687417142944538,
                    -0.2618802173589107,
                    -1.061079173398206,
                    1.101814343228975,
                    0.6316295114352966,
                    0.9524521766761052,
                    -0.927683630622664,
                    -1.224988841155045,
                    1.094412190712859,
                    1.6513979409231412,
                    -1.230907417648648,
                    -0.7780062778518667,
                    -0.2712218774411599,
                    1.0403340914234973,
                    0.5864681519110181,
                    -0.5321682966066407,
                    -0.8991375244931096,
                    0.3718946552353434,
                    0.7694064163434158,
                    -0.05143358583696394,
                    -0.927314626621483,
                    0.8591874950678026,
                    -0.6182433262182968,
                    -0.2862621123619757,
                    0.44688801927458033,
                    -0.6556812399505361,
                    -0.23984930677487126,
                    0.8894179410643122,
                    -0.6339511397430591,
                    0.010436611921874249,
                    -2.05050197865021,
                    0.06429702878269146,
                    -0.32137484772117403,
                    -0.7126623132330004,
                    -0.5537891140851676,
                    0.6454664250040542,
                    0.413443160826801,
                    -0.6464431876609719,
                    1.1647999271913172,
                    -0.172345935502807,
                    0.38323406221589684,
                    -0.24258909831600514,
                    -0.4159183475950709,
                    2.1632414674819818,
                    1.4065439035592624,
                    0.09718682258910089,
                    -0.9250006384261442,
                    -0.16606792502844925,
                    -1.7134423399489533,
                    0.7464299924683054,
                    0.22372852507514712,
                    -0.3713750110181599
                  ],
                  "type": "histogram",
                  "name": "A"
                },
                {
                  "opacity": 0.8,
                  "orientation": "v",
                  "histnorm": "",
                  "histfunc": "count",
                  "marker": {
                    "color": "rgba(55, 128, 191, 1.0)",
                    "line": {
                      "color": "#4D5663",
                      "width": 1.3
                    }
                  },
                  "x": [
                    0.546615513732223,
                    0.7536025705810206,
                    0.991264407438625,
                    -0.5699750866610114,
                    -1.1967305077106531,
                    -0.8340771066923657,
                    -1.349605824794849,
                    -0.019051617412514467,
                    0.6539614377424288,
                    0.4995018797051141,
                    -1.609905459758883,
                    -0.8900749396927077,
                    -0.3151235806741814,
                    -0.9318391867987862,
                    -1.0280805454392152,
                    0.3659629063537766,
                    0.950147173342877,
                    0.7394785232802653,
                    -1.1253370082478682,
                    -1.4128858545024612,
                    0.49498325335462273,
                    -1.132125052054212,
                    0.3113438414143409,
                    1.785995521574519,
                    1.42609090465851,
                    0.8855430870782791,
                    -0.932182173954428,
                    1.9460189944360853,
                    0.3758316515113295,
                    0.03576806404779884,
                    0.1443470137252578,
                    -0.2775711437397765,
                    -0.9963185865733284,
                    -3.125390188276243,
                    0.16551205366499605,
                    -0.11358420003218321,
                    0.9975144690854232,
                    0.8135542553291103,
                    1.3463003072885484,
                    -0.04372457973277888,
                    0.10215290858645183,
                    -0.2265527387957428,
                    -0.650331987222113,
                    -0.29233679587188643,
                    -0.4692999965404013,
                    -0.03669932244489399,
                    -0.7523134251364739,
                    2.5561089032818454,
                    0.12324074364298004,
                    0.9324296004095772,
                    -1.6479608348248211,
                    0.26253029980458875,
                    2.143233947984214,
                    1.005385616349666,
                    -1.5921664901333332,
                    0.5190105336663459,
                    -0.0006741111518020859,
                    1.6333775953328376,
                    1.6355929919796206,
                    -0.12705134626972722,
                    -0.4732858949587915,
                    -0.7603662266295413,
                    -0.5976314379645705,
                    1.5043795168493295,
                    1.3269815182891618,
                    -1.686300868188942,
                    -1.7396789399012504,
                    -0.05764423457453948,
                    0.6425575928186736,
                    -0.3255140777907368,
                    0.39820695630582464,
                    -1.6852164311070483,
                    -0.31742278923701694,
                    0.7287678204899237,
                    -1.1051455526419236,
                    -0.5421761241985412,
                    1.7333736510924271,
                    1.9631683060824452,
                    -0.1402630466376674,
                    -0.6654385052084744,
                    -0.7179947691233792,
                    1.4976821395060327,
                    -0.047727730007448226,
                    -0.19659570292149434,
                    1.6768979153243728,
                    0.11697782791786411,
                    -0.4190840955498452,
                    1.6551813504349189,
                    -2.1681651682631493,
                    1.8342615956661734,
                    0.22140460251026692,
                    0.14529541887994293,
                    -0.7029388212801344,
                    1.3075468645162707,
                    0.21019736968437813,
                    0.23685282944724617,
                    -2.041118378139542,
                    1.3714398765347129,
                    -1.5571204719098657,
                    -0.050201121219470776
                  ],
                  "type": "histogram",
                  "name": "B"
                },
                {
                  "opacity": 0.8,
                  "orientation": "v",
                  "histnorm": "",
                  "histfunc": "count",
                  "marker": {
                    "color": "rgba(50, 171, 96, 1.0)",
                    "line": {
                      "color": "#4D5663",
                      "width": 1.3
                    }
                  },
                  "x": [
                    -0.7035964168667909,
                    -1.151438449731667,
                    0.5998850241479027,
                    -0.5192749447291733,
                    0.4023432896159358,
                    -0.7672055616023065,
                    1.102915341858455,
                    0.7479551714773277,
                    -1.2944749380995726,
                    0.026480930855699875,
                    1.0027787516494706,
                    -1.3223047826797738,
                    -1.4064871871674571,
                    2.6064166559823425,
                    -0.07818759879597571,
                    -0.5944017643567016,
                    -0.8101352791917279,
                    -0.5754817161970129,
                    0.8762103608880456,
                    -0.6073815378804366,
                    -0.5318789337249482,
                    1.3537446312861168,
                    1.5322517209111137,
                    0.2209962347596253,
                    -1.2246639730759006,
                    -0.5953232993202333,
                    -0.8431780909639361,
                    0.13282382003945004,
                    -1.1029988150619408,
                    1.4168197846565322,
                    0.2912216132249652,
                    0.6734534165014228,
                    0.1518678219293175,
                    -0.09055435628630672,
                    -1.0536635068296916,
                    -0.6458391994729117,
                    -1.7684457123585748,
                    1.3464747641636234,
                    0.9180280781429716,
                    0.6333227437387605,
                    1.4937920348260851,
                    -0.264548091093156,
                    -0.764623747845522,
                    -0.6378181856877679,
                    -0.48188710293637094,
                    -0.48771082763504436,
                    -0.3850535284655568,
                    -1.312675341464195,
                    1.9844132348836379,
                    0.6474255831941002,
                    0.4420585051072425,
                    -0.036957699063671155,
                    -1.858437372425886,
                    -0.47946291658560597,
                    0.8810335409213019,
                    -0.0999934850962974,
                    2.2763364182970873,
                    -0.03008475207567932,
                    -0.5026557391708492,
                    -0.2769951448451758,
                    -0.5443442209099568,
                    -0.7874848213278257,
                    1.107256548863389,
                    -0.3831972698265307,
                    1.0122758945612413,
                    -0.773826422368653,
                    -0.08262407645039317,
                    -0.8422319031959423,
                    1.5674294336909251,
                    -0.7545187812259746,
                    -1.9229122564338956,
                    1.7438573679575475,
                    -0.6682217177684193,
                    -0.9080124058455009,
                    0.041064047093406074,
                    -0.42228233165455265,
                    -1.2138195041473907,
                    1.005963644458875,
                    -0.31369178339115084,
                    1.6661309101796147,
                    -0.2827266496800416,
                    -0.22454660532867554,
                    -1.2798692164703838,
                    -0.3523653778314622,
                    -0.24406776154054002,
                    -2.3721112151565027,
                    1.3025674541434242,
                    -0.17372667694840954,
                    1.1237946561345915,
                    1.3765273425457278,
                    -0.22762057159287136,
                    1.4804897888186714,
                    0.3753281290682731,
                    -0.22763746023592385,
                    -0.5950675813708222,
                    -1.5213907585715436,
                    0.3490840402643815,
                    -0.9929217720935112,
                    -0.4577142306356627,
                    -1.3104560801961076
                  ],
                  "type": "histogram",
                  "name": "C"
                },
                {
                  "opacity": 0.8,
                  "orientation": "v",
                  "histnorm": "",
                  "histfunc": "count",
                  "marker": {
                    "color": "rgba(128, 0, 128, 1.0)",
                    "line": {
                      "color": "#4D5663",
                      "width": 1.3
                    }
                  },
                  "x": [
                    -0.14347769646167882,
                    0.5873370266734717,
                    -0.37111858846838297,
                    -0.02164315392687805,
                    -0.0981150714016284,
                    -1.192776384077493,
                    0.24860380209227934,
                    -1.3900680199180455,
                    0.7994633910500539,
                    1.3076429646799472,
                    1.4300942817411164,
                    1.0021118098261739,
                    0.47203549718377774,
                    -0.9910669324309332,
                    -1.1426570159066904,
                    -0.36130993490733704,
                    -1.0843188553108367,
                    0.6283807330322854,
                    -1.3679590971422864,
                    -0.7818141379718702,
                    0.2701884122623558,
                    -0.1837559648377712,
                    0.43873442779215766,
                    1.656158141977978,
                    0.3993349925828309,
                    0.29210641821436045,
                    -0.8566972611635604,
                    0.5793175570280485,
                    1.1909400381608806,
                    0.1249658531591891,
                    -0.33498219323185324,
                    0.11194202972645223,
                    -2.9842336215056733,
                    0.42806081720405914,
                    0.32112519628511005,
                    2.018185839685791,
                    0.07620257785890765,
                    -0.13986791328528062,
                    0.920802818397255,
                    1.0361320826608498,
                    0.18353117345174993,
                    -0.04692325847145157,
                    -1.3166294199217177,
                    0.5353419524263042,
                    0.3010681010514135,
                    2.1405679667142707,
                    -1.6954163425678264,
                    0.05270854568625546,
                    -0.8364786849443393,
                    -0.4255468736985105,
                    -0.7683126034446235,
                    0.5098146834394894,
                    0.8243591266127813,
                    0.5736549599351144,
                    -0.8177940349515267,
                    1.6770429725428273,
                    -0.5436892019541624,
                    -1.2728839884040062,
                    0.12441468164224781,
                    -0.1483002249536748,
                    0.4673092857656207,
                    0.18515450118686205,
                    -1.217932196412744,
                    0.03207879322514331,
                    0.2608049806408813,
                    0.26601281383187425,
                    -1.110408048810417,
                    -1.653138263025912,
                    0.29463060230803667,
                    -0.6554676603439524,
                    -1.8565039843304423,
                    -0.3035855512406759,
                    0.10788567246809337,
                    -1.1830051097458008,
                    0.2898778670200328,
                    0.4464347484729418,
                    -1.331700353765156,
                    0.3683766914995959,
                    -0.9666642307468233,
                    -0.7572001972327232,
                    0.44354506617211986,
                    -0.30073105406790335,
                    -1.0202276717304426,
                    -0.8612881199732524,
                    0.11707377095287698,
                    -0.6125931793717005,
                    -1.9004604846759419,
                    -0.29954835617892905,
                    0.4680587537389525,
                    -0.4875296020021846,
                    0.16636788416809248,
                    -0.24218679624796868,
                    0.3087267666543777,
                    0.05045781326119775,
                    0.24802851021960348,
                    1.1916467884080164,
                    0.0524567017882374,
                    -0.20141790863937548,
                    0.5631347401760456,
                    0.6732303975997113
                  ],
                  "type": "histogram",
                  "name": "D"
                },
                {
                  "opacity": 0.8,
                  "orientation": "v",
                  "histnorm": "",
                  "histfunc": "count",
                  "marker": {
                    "color": "rgba(219, 64, 82, 1.0)",
                    "line": {
                      "color": "#4D5663",
                      "width": 1.3
                    }
                  },
                  "x": [
                    -0.6049598013102498,
                    0.6287360795698114,
                    1.3809183006907322,
                    -0.0960271578407001,
                    0.5498704877326022,
                    0.8685893168561117,
                    0.6588490840566661,
                    -1.7277406342055166,
                    1.2473937311140495,
                    0.7824558510838419,
                    -0.11892437956968673,
                    -1.2228033089489285,
                    -0.3092057546935234,
                    -1.8963662826473338,
                    1.4523524235738678,
                    -1.1507058532086465,
                    2.362542572823207,
                    0.31728018619568654,
                    -1.562173352755388,
                    -0.8355278094597536,
                    -0.17388613092593447,
                    -1.697452223205147,
                    -1.5805016626013442,
                    -1.7740969041733945,
                    -0.4490901732439773,
                    -0.9203763900391391,
                    -1.7932996231779672,
                    -2.5739980224650876,
                    -0.9233387745242683,
                    0.9381805159060332,
                    -0.0220171961134242,
                    1.3791392409257293,
                    0.9028958557174719,
                    0.21951585423444525,
                    -1.7901338214942877,
                    -0.1338882752246818,
                    -0.059431725734913426,
                    -0.3150725214378444,
                    1.125650074590703,
                    0.1379937890159135,
                    0.35224768059334216,
                    -0.15151942207469987,
                    -0.8777012525353239,
                    0.4651131594287982,
                    0.33730143441823873,
                    -0.6933421464220445,
                    -2.366080455861181,
                    -0.06435771905488798,
                    0.18074662424592208,
                    -1.4604991278763186,
                    0.8002043764943033,
                    0.20806841870464768,
                    -1.2365713819390964,
                    0.47213308032480844,
                    0.5215461893696094,
                    1.0325226768219178,
                    2.247433796264182,
                    0.1427150789768096,
                    0.3397011048986668,
                    -2.143670707200319,
                    0.2693504922155889,
                    -0.7200478930494146,
                    -0.7221146557721294,
                    1.0681292392917987,
                    2.5255204436904024,
                    -0.5131459545868569,
                    1.134621427131061,
                    0.8716948908238936,
                    0.6240436853632244,
                    -1.4045687269758917,
                    2.1444598738374787,
                    1.1424626309473467,
                    0.9123953344372301,
                    -0.1004112182482107,
                    0.07630033930861066,
                    -0.09386639051224915,
                    1.382043276542923,
                    1.5852566018457248,
                    0.5865784232127874,
                    1.2898555115947612,
                    -0.2469474848537143,
                    -1.260289605242337,
                    -0.7566101062938434,
                    0.8306245061698698,
                    0.10340534851332352,
                    -0.347472351384367,
                    -0.43313537571991556,
                    -1.5423975195425175,
                    0.26331157692624013,
                    1.2269482295912035,
                    0.11062545878271647,
                    -0.12956416990080485,
                    2.1388477326495066,
                    -0.9719973857131293,
                    -0.831940112864614,
                    -1.2358335300036896,
                    -0.7333943370916469,
                    -0.05362285205111037,
                    -0.3776103086606719,
                    0.08587077479741446
                  ],
                  "type": "histogram",
                  "name": "E"
                }
              ],
              "config": {
                "plotlyServerURL": "https://plot.ly",
                "linkText": "Export to plot.ly",
                "showLink": true
              },
              "layout": {
                "xaxis": {
                  "tickfont": {
                    "color": "#4D5663"
                  },
                  "zerolinecolor": "#E1E5ED",
                  "title": {
                    "text": "",
                    "font": {
                      "color": "#4D5663"
                    }
                  },
                  "gridcolor": "#E1E5ED",
                  "showgrid": true
                },
                "title": {
                  "font": {
                    "color": "#4D5663"
                  }
                },
                "paper_bgcolor": "#F5F6F9",
                "plot_bgcolor": "#F5F6F9",
                "yaxis": {
                  "tickfont": {
                    "color": "#4D5663"
                  },
                  "zerolinecolor": "#E1E5ED",
                  "title": {
                    "text": "",
                    "font": {
                      "color": "#4D5663"
                    }
                  },
                  "gridcolor": "#E1E5ED",
                  "showgrid": true
                },
                "barmode": "overlay",
                "template": {
                  "layout": {
                    "shapedefaults": {
                      "line": {
                        "color": "#2a3f5f"
                      }
                    },
                    "polar": {
                      "radialaxis": {
                        "ticks": "",
                        "gridcolor": "white",
                        "linecolor": "white"
                      },
                      "bgcolor": "#E5ECF6",
                      "angularaxis": {
                        "ticks": "",
                        "gridcolor": "white",
                        "linecolor": "white"
                      }
                    },
                    "colorway": [
                      "#636efa",
                      "#EF553B",
                      "#00cc96",
                      "#ab63fa",
                      "#FFA15A",
                      "#19d3f3",
                      "#FF6692",
                      "#B6E880",
                      "#FF97FF",
                      "#FECB52"
                    ],
                    "xaxis": {
                      "automargin": true,
                      "title": {
                        "standoff": 15
                      },
                      "zerolinewidth": 2,
                      "ticks": "",
                      "zerolinecolor": "white",
                      "gridcolor": "white",
                      "linecolor": "white"
                    },
                    "colorscale": {
                      "diverging": [
                        [
                          0,
                          "#8e0152"
                        ],
                        [
                          0.1,
                          "#c51b7d"
                        ],
                        [
                          0.2,
                          "#de77ae"
                        ],
                        [
                          0.3,
                          "#f1b6da"
                        ],
                        [
                          0.4,
                          "#fde0ef"
                        ],
                        [
                          0.5,
                          "#f7f7f7"
                        ],
                        [
                          0.6,
                          "#e6f5d0"
                        ],
                        [
                          0.7,
                          "#b8e186"
                        ],
                        [
                          0.8,
                          "#7fbc41"
                        ],
                        [
                          0.9,
                          "#4d9221"
                        ],
                        [
                          1,
                          "#276419"
                        ]
                      ],
                      "sequential": [
                        [
                          0,
                          "#0d0887"
                        ],
                        [
                          0.1111111111111111,
                          "#46039f"
                        ],
                        [
                          0.2222222222222222,
                          "#7201a8"
                        ],
                        [
                          0.3333333333333333,
                          "#9c179e"
                        ],
                        [
                          0.4444444444444444,
                          "#bd3786"
                        ],
                        [
                          0.5555555555555556,
                          "#d8576b"
                        ],
                        [
                          0.6666666666666666,
                          "#ed7953"
                        ],
                        [
                          0.7777777777777778,
                          "#fb9f3a"
                        ],
                        [
                          0.8888888888888888,
                          "#fdca26"
                        ],
                        [
                          1,
                          "#f0f921"
                        ]
                      ],
                      "sequentialminus": [
                        [
                          0,
                          "#0d0887"
                        ],
                        [
                          0.1111111111111111,
                          "#46039f"
                        ],
                        [
                          0.2222222222222222,
                          "#7201a8"
                        ],
                        [
                          0.3333333333333333,
                          "#9c179e"
                        ],
                        [
                          0.4444444444444444,
                          "#bd3786"
                        ],
                        [
                          0.5555555555555556,
                          "#d8576b"
                        ],
                        [
                          0.6666666666666666,
                          "#ed7953"
                        ],
                        [
                          0.7777777777777778,
                          "#fb9f3a"
                        ],
                        [
                          0.8888888888888888,
                          "#fdca26"
                        ],
                        [
                          1,
                          "#f0f921"
                        ]
                      ]
                    },
                    "paper_bgcolor": "white",
                    "plot_bgcolor": "#E5ECF6",
                    "title": {
                      "x": 0.05
                    },
                    "scene": {
                      "zaxis": {
                        "backgroundcolor": "#E5ECF6",
                        "ticks": "",
                        "gridwidth": 2,
                        "showbackground": true,
                        "zerolinecolor": "white",
                        "gridcolor": "white",
                        "linecolor": "white"
                      },
                      "xaxis": {
                        "backgroundcolor": "#E5ECF6",
                        "ticks": "",
                        "gridwidth": 2,
                        "showbackground": true,
                        "zerolinecolor": "white",
                        "gridcolor": "white",
                        "linecolor": "white"
                      },
                      "yaxis": {
                        "backgroundcolor": "#E5ECF6",
                        "ticks": "",
                        "gridwidth": 2,
                        "showbackground": true,
                        "zerolinecolor": "white",
                        "gridcolor": "white",
                        "linecolor": "white"
                      }
                    },
                    "yaxis": {
                      "automargin": true,
                      "title": {
                        "standoff": 15
                      },
                      "zerolinewidth": 2,
                      "ticks": "",
                      "zerolinecolor": "white",
                      "gridcolor": "white",
                      "linecolor": "white"
                    },
                    "annotationdefaults": {
                      "arrowwidth": 1,
                      "arrowhead": 0,
                      "arrowcolor": "#2a3f5f"
                    },
                    "hoverlabel": {
                      "align": "left"
                    },
                    "ternary": {
                      "bgcolor": "#E5ECF6",
                      "baxis": {
                        "ticks": "",
                        "gridcolor": "white",
                        "linecolor": "white"
                      },
                      "caxis": {
                        "ticks": "",
                        "gridcolor": "white",
                        "linecolor": "white"
                      },
                      "aaxis": {
                        "ticks": "",
                        "gridcolor": "white",
                        "linecolor": "white"
                      }
                    },
                    "mapbox": {
                      "style": "light"
                    },
                    "hovermode": "closest",
                    "font": {
                      "color": "#2a3f5f"
                    },
                    "geo": {
                      "showland": true,
                      "landcolor": "#E5ECF6",
                      "showlakes": true,
                      "bgcolor": "white",
                      "subunitcolor": "white",
                      "lakecolor": "white"
                    },
                    "coloraxis": {
                      "colorbar": {
                        "outlinewidth": 0,
                        "ticks": ""
                      }
                    }
                  },
                  "data": {
                    "mesh3d": [
                      {
                        "colorbar": {
                          "outlinewidth": 0,
                          "ticks": ""
                        },
                        "type": "mesh3d"
                      }
                    ],
                    "scattercarpet": [
                      {
                        "marker": {
                          "colorbar": {
                            "outlinewidth": 0,
                            "ticks": ""
                          }
                        },
                        "type": "scattercarpet"
                      }
                    ],
                    "pie": [
                      {
                        "automargin": true,
                        "type": "pie"
                      }
                    ],
                    "surface": [
                      {
                        "colorbar": {
                          "outlinewidth": 0,
                          "ticks": ""
                        },
                        "type": "surface",
                        "colorscale": [
                          [
                            0,
                            "#0d0887"
                          ],
                          [
                            0.1111111111111111,
                            "#46039f"
                          ],
                          [
                            0.2222222222222222,
                            "#7201a8"
                          ],
                          [
                            0.3333333333333333,
                            "#9c179e"
                          ],
                          [
                            0.4444444444444444,
                            "#bd3786"
                          ],
                          [
                            0.5555555555555556,
                            "#d8576b"
                          ],
                          [
                            0.6666666666666666,
                            "#ed7953"
                          ],
                          [
                            0.7777777777777778,
                            "#fb9f3a"
                          ],
                          [
                            0.8888888888888888,
                            "#fdca26"
                          ],
                          [
                            1,
                            "#f0f921"
                          ]
                        ]
                      }
                    ],
                    "table": [
                      {
                        "header": {
                          "line": {
                            "color": "white"
                          },
                          "fill": {
                            "color": "#C8D4E3"
                          }
                        },
                        "cells": {
                          "line": {
                            "color": "white"
                          },
                          "fill": {
                            "color": "#EBF0F8"
                          }
                        },
                        "type": "table"
                      }
                    ],
                    "scatterpolargl": [
                      {
                        "marker": {
                          "colorbar": {
                            "outlinewidth": 0,
                            "ticks": ""
                          }
                        },
                        "type": "scatterpolargl"
                      }
                    ],
                    "contour": [
                      {
                        "colorbar": {
                          "outlinewidth": 0,
                          "ticks": ""
                        },
                        "type": "contour",
                        "colorscale": [
                          [
                            0,
                            "#0d0887"
                          ],
                          [
                            0.1111111111111111,
                            "#46039f"
                          ],
                          [
                            0.2222222222222222,
                            "#7201a8"
                          ],
                          [
                            0.3333333333333333,
                            "#9c179e"
                          ],
                          [
                            0.4444444444444444,
                            "#bd3786"
                          ],
                          [
                            0.5555555555555556,
                            "#d8576b"
                          ],
                          [
                            0.6666666666666666,
                            "#ed7953"
                          ],
                          [
                            0.7777777777777778,
                            "#fb9f3a"
                          ],
                          [
                            0.8888888888888888,
                            "#fdca26"
                          ],
                          [
                            1,
                            "#f0f921"
                          ]
                        ]
                      }
                    ],
                    "carpet": [
                      {
                        "type": "carpet",
                        "baxis": {
                          "minorgridcolor": "white",
                          "gridcolor": "white",
                          "linecolor": "white",
                          "endlinecolor": "#2a3f5f",
                          "startlinecolor": "#2a3f5f"
                        },
                        "aaxis": {
                          "minorgridcolor": "white",
                          "gridcolor": "white",
                          "linecolor": "white",
                          "endlinecolor": "#2a3f5f",
                          "startlinecolor": "#2a3f5f"
                        }
                      }
                    ],
                    "contourcarpet": [
                      {
                        "colorbar": {
                          "outlinewidth": 0,
                          "ticks": ""
                        },
                        "type": "contourcarpet"
                      }
                    ],
                    "heatmap": [
                      {
                        "colorbar": {
                          "outlinewidth": 0,
                          "ticks": ""
                        },
                        "type": "heatmap",
                        "colorscale": [
                          [
                            0,
                            "#0d0887"
                          ],
                          [
                            0.1111111111111111,
                            "#46039f"
                          ],
                          [
                            0.2222222222222222,
                            "#7201a8"
                          ],
                          [
                            0.3333333333333333,
                            "#9c179e"
                          ],
                          [
                            0.4444444444444444,
                            "#bd3786"
                          ],
                          [
                            0.5555555555555556,
                            "#d8576b"
                          ],
                          [
                            0.6666666666666666,
                            "#ed7953"
                          ],
                          [
                            0.7777777777777778,
                            "#fb9f3a"
                          ],
                          [
                            0.8888888888888888,
                            "#fdca26"
                          ],
                          [
                            1,
                            "#f0f921"
                          ]
                        ]
                      }
                    ],
                    "scattermapbox": [
                      {
                        "marker": {
                          "colorbar": {
                            "outlinewidth": 0,
                            "ticks": ""
                          }
                        },
                        "type": "scattermapbox"
                      }
                    ],
                    "scatter3d": [
                      {
                        "marker": {
                          "colorbar": {
                            "outlinewidth": 0,
                            "ticks": ""
                          }
                        },
                        "line": {
                          "colorbar": {
                            "outlinewidth": 0,
                            "ticks": ""
                          }
                        },
                        "type": "scatter3d"
                      }
                    ],
                    "scattergl": [
                      {
                        "marker": {
                          "colorbar": {
                            "outlinewidth": 0,
                            "ticks": ""
                          }
                        },
                        "type": "scattergl"
                      }
                    ],
                    "scatterternary": [
                      {
                        "marker": {
                          "colorbar": {
                            "outlinewidth": 0,
                            "ticks": ""
                          }
                        },
                        "type": "scatterternary"
                      }
                    ],
                    "histogram": [
                      {
                        "marker": {
                          "colorbar": {
                            "outlinewidth": 0,
                            "ticks": ""
                          }
                        },
                        "type": "histogram"
                      }
                    ],
                    "heatmapgl": [
                      {
                        "colorbar": {
                          "outlinewidth": 0,
                          "ticks": ""
                        },
                        "type": "heatmapgl",
                        "colorscale": [
                          [
                            0,
                            "#0d0887"
                          ],
                          [
                            0.1111111111111111,
                            "#46039f"
                          ],
                          [
                            0.2222222222222222,
                            "#7201a8"
                          ],
                          [
                            0.3333333333333333,
                            "#9c179e"
                          ],
                          [
                            0.4444444444444444,
                            "#bd3786"
                          ],
                          [
                            0.5555555555555556,
                            "#d8576b"
                          ],
                          [
                            0.6666666666666666,
                            "#ed7953"
                          ],
                          [
                            0.7777777777777778,
                            "#fb9f3a"
                          ],
                          [
                            0.8888888888888888,
                            "#fdca26"
                          ],
                          [
                            1,
                            "#f0f921"
                          ]
                        ]
                      }
                    ],
                    "scatterpolar": [
                      {
                        "marker": {
                          "colorbar": {
                            "outlinewidth": 0,
                            "ticks": ""
                          }
                        },
                        "type": "scatterpolar"
                      }
                    ],
                    "histogram2d": [
                      {
                        "colorbar": {
                          "outlinewidth": 0,
                          "ticks": ""
                        },
                        "type": "histogram2d",
                        "colorscale": [
                          [
                            0,
                            "#0d0887"
                          ],
                          [
                            0.1111111111111111,
                            "#46039f"
                          ],
                          [
                            0.2222222222222222,
                            "#7201a8"
                          ],
                          [
                            0.3333333333333333,
                            "#9c179e"
                          ],
                          [
                            0.4444444444444444,
                            "#bd3786"
                          ],
                          [
                            0.5555555555555556,
                            "#d8576b"
                          ],
                          [
                            0.6666666666666666,
                            "#ed7953"
                          ],
                          [
                            0.7777777777777778,
                            "#fb9f3a"
                          ],
                          [
                            0.8888888888888888,
                            "#fdca26"
                          ],
                          [
                            1,
                            "#f0f921"
                          ]
                        ]
                      }
                    ],
                    "scattergeo": [
                      {
                        "marker": {
                          "colorbar": {
                            "outlinewidth": 0,
                            "ticks": ""
                          }
                        },
                        "type": "scattergeo"
                      }
                    ],
                    "bar": [
                      {
                        "marker": {
                          "line": {
                            "color": "#E5ECF6",
                            "width": 0.5
                          }
                        },
                        "type": "bar",
                        "error_x": {
                          "color": "#2a3f5f"
                        },
                        "error_y": {
                          "color": "#2a3f5f"
                        }
                      }
                    ],
                    "choropleth": [
                      {
                        "colorbar": {
                          "outlinewidth": 0,
                          "ticks": ""
                        },
                        "type": "choropleth"
                      }
                    ],
                    "parcoords": [
                      {
                        "line": {
                          "colorbar": {
                            "outlinewidth": 0,
                            "ticks": ""
                          }
                        },
                        "type": "parcoords"
                      }
                    ],
                    "barpolar": [
                      {
                        "marker": {
                          "line": {
                            "color": "#E5ECF6",
                            "width": 0.5
                          }
                        },
                        "type": "barpolar"
                      }
                    ],
                    "histogram2dcontour": [
                      {
                        "colorbar": {
                          "outlinewidth": 0,
                          "ticks": ""
                        },
                        "type": "histogram2dcontour",
                        "colorscale": [
                          [
                            0,
                            "#0d0887"
                          ],
                          [
                            0.1111111111111111,
                            "#46039f"
                          ],
                          [
                            0.2222222222222222,
                            "#7201a8"
                          ],
                          [
                            0.3333333333333333,
                            "#9c179e"
                          ],
                          [
                            0.4444444444444444,
                            "#bd3786"
                          ],
                          [
                            0.5555555555555556,
                            "#d8576b"
                          ],
                          [
                            0.6666666666666666,
                            "#ed7953"
                          ],
                          [
                            0.7777777777777778,
                            "#fb9f3a"
                          ],
                          [
                            0.8888888888888888,
                            "#fdca26"
                          ],
                          [
                            1,
                            "#f0f921"
                          ]
                        ]
                      }
                    ],
                    "scatter": [
                      {
                        "marker": {
                          "colorbar": {
                            "outlinewidth": 0,
                            "ticks": ""
                          }
                        },
                        "type": "scatter"
                      }
                    ]
                  }
                },
                "legend": {
                  "bgcolor": "#F5F6F9",
                  "font": {
                    "color": "#4D5663"
                  }
                }
              }
            }
          },
          "metadata": {
            "tags": []
          }
        }
      ]
    },
    {
      "cell_type": "markdown",
      "metadata": {
        "id": "0CjV3Hf_uiSm"
      },
      "source": [
        ""
      ]
    }
  ]
}