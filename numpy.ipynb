{
  "nbformat": 4,
  "nbformat_minor": 0,
  "metadata": {
    "colab": {
      "name": "numpy.ipynb",
      "provenance": [],
      "authorship_tag": "ABX9TyPGd2IIkQ1mFY/pInvdzsMN",
      "include_colab_link": true
    },
    "kernelspec": {
      "name": "python3",
      "display_name": "Python 3"
    }
  },
  "cells": [
    {
      "cell_type": "markdown",
      "metadata": {
        "id": "view-in-github",
        "colab_type": "text"
      },
      "source": [
        "<a href=\"https://colab.research.google.com/github/anjalidutt/DataAnalytics_Microcredential/blob/assignment_five/numpy.ipynb\" target=\"_parent\"><img src=\"https://colab.research.google.com/assets/colab-badge.svg\" alt=\"Open In Colab\"/></a>"
      ]
    },
    {
      "cell_type": "code",
      "metadata": {
        "colab": {
          "base_uri": "https://localhost:8080/"
        },
        "id": "TaQW8U3O51Pg",
        "outputId": "92830f6c-0f88-4b8c-bc14-7f1d97459fda"
      },
      "source": [
        "import numpy as np\r\n",
        "np_city_and_state=np.array([['NYC','LA','MI','Houston'], ['NY','CA','FL','TX']])\r\n",
        "np_city = np_city_and_state[0]\r\n",
        "np_city_and_state"
      ],
      "execution_count": null,
      "outputs": [
        {
          "output_type": "execute_result",
          "data": {
            "text/plain": [
              "array([['NYC', 'LA', 'MI', 'Houston'],\n",
              "       ['NY', 'CA', 'FL', 'TX']], dtype='<U7')"
            ]
          },
          "metadata": {
            "tags": []
          },
          "execution_count": 6
        }
      ]
    },
    {
      "cell_type": "code",
      "metadata": {
        "colab": {
          "base_uri": "https://localhost:8080/"
        },
        "id": "duhnfCuh67AD",
        "outputId": "45667bd8-b8a7-4670-8f29-ec0be8f5a491"
      },
      "source": [
        "np_city_and_state.ndim"
      ],
      "execution_count": null,
      "outputs": [
        {
          "output_type": "execute_result",
          "data": {
            "text/plain": [
              "2"
            ]
          },
          "metadata": {
            "tags": []
          },
          "execution_count": 7
        }
      ]
    },
    {
      "cell_type": "code",
      "metadata": {
        "colab": {
          "base_uri": "https://localhost:8080/"
        },
        "id": "JO5NpsH-7sMK",
        "outputId": "f214f9d4-0f8f-4e91-85ea-b9fdac8d40f8"
      },
      "source": [
        "print(f'Dimension = {np_city.ndim}')\r\n",
        "print(f'Shape = {np_city.shape}')\r\n",
        "print(f'Size = {np_city.size}')"
      ],
      "execution_count": null,
      "outputs": [
        {
          "output_type": "stream",
          "text": [
            "Dimension = 1\n",
            "Shape = (4,)\n",
            "Size = 4\n"
          ],
          "name": "stdout"
        }
      ]
    },
    {
      "cell_type": "code",
      "metadata": {
        "colab": {
          "base_uri": "https://localhost:8080/"
        },
        "id": "AHrfzPcs6_nW",
        "outputId": "bb78a5dd-2917-4bb1-97e9-916c9acc913f"
      },
      "source": [
        "print(f'Dimension = {np_city_and_state.ndim}')\r\n",
        "print(f'Shape = {np_city_and_state.shape}')\r\n",
        "print(f'Size = {np_city_and_state.size}')"
      ],
      "execution_count": null,
      "outputs": [
        {
          "output_type": "stream",
          "text": [
            "Dimension = 2\n",
            "Shape = (2, 4)\n",
            "Size = 8\n"
          ],
          "name": "stdout"
        }
      ]
    },
    {
      "cell_type": "code",
      "metadata": {
        "colab": {
          "base_uri": "https://localhost:8080/"
        },
        "id": "vnRH29bI815d",
        "outputId": "91763fc4-c0c0-4783-8664-dd09c963d91f"
      },
      "source": [
        "first_trial_cyclist=[10,15,17,26]\r\n",
        "second_trial_cyclist=[12,11,21,24]\r\n",
        "np_first=np.array(first_trial_cyclist)\r\n",
        "np_second = np.array(second_trial_cyclist)\r\n",
        "print(np_first)\r\n",
        "print(np_second)\r\n",
        "total = np_first+np_second\r\n",
        "print(total)"
      ],
      "execution_count": null,
      "outputs": [
        {
          "output_type": "stream",
          "text": [
            "[10 15 17 26]\n",
            "[12 11 21 24]\n",
            "[22 26 38 50]\n"
          ],
          "name": "stdout"
        }
      ]
    },
    {
      "cell_type": "code",
      "metadata": {
        "colab": {
          "base_uri": "https://localhost:8080/"
        },
        "id": "WqXyJX7X-H4B",
        "outputId": "b8a3768d-39b6-43a0-d019-4bec9c118ba4"
      },
      "source": [
        "cyclist_trials=np.array([[10,15,17,26],[12,11,21,24]])\r\n",
        "first_trial=cyclist_trials[0]\r\n",
        "first_trial"
      ],
      "execution_count": null,
      "outputs": [
        {
          "output_type": "execute_result",
          "data": {
            "text/plain": [
              "array([10, 15, 17, 26])"
            ]
          },
          "metadata": {
            "tags": []
          },
          "execution_count": 11
        }
      ]
    },
    {
      "cell_type": "code",
      "metadata": {
        "colab": {
          "base_uri": "https://localhost:8080/"
        },
        "id": "6U4V6mJ9-UxE",
        "outputId": "ce6a46d6-f822-4a9a-dd71-e44491c65f84"
      },
      "source": [
        "second_trial = cyclist_trials[1]\r\n",
        "second_trial"
      ],
      "execution_count": null,
      "outputs": [
        {
          "output_type": "execute_result",
          "data": {
            "text/plain": [
              "array([12, 11, 21, 24])"
            ]
          },
          "metadata": {
            "tags": []
          },
          "execution_count": 13
        }
      ]
    },
    {
      "cell_type": "code",
      "metadata": {
        "colab": {
          "base_uri": "https://localhost:8080/"
        },
        "id": "7wQIQYKZ-_2_",
        "outputId": "11dc2a29-5d4a-4142-d68b-6cd9412de255"
      },
      "source": [
        "print(cyclist_trials)\r\n",
        "print(cyclist_trials[1][2])"
      ],
      "execution_count": null,
      "outputs": [
        {
          "output_type": "stream",
          "text": [
            "[[10 15 17 26]\n",
            " [12 11 21 24]]\n",
            "21\n"
          ],
          "name": "stdout"
        }
      ]
    },
    {
      "cell_type": "code",
      "metadata": {
        "colab": {
          "base_uri": "https://localhost:8080/"
        },
        "id": "AyZIlODF_eYZ",
        "outputId": "f945be77-a2fa-48e7-9836-0807ed8e185e"
      },
      "source": [
        "test_scores=np.array([[83,71,57,63],[54,68,81,45]])\r\n",
        "passing_scores = test_scores>60\r\n",
        "passing_scores\r\n",
        "test_scores[passing_scores]"
      ],
      "execution_count": null,
      "outputs": [
        {
          "output_type": "execute_result",
          "data": {
            "text/plain": [
              "array([83, 71, 63, 68, 81])"
            ]
          },
          "metadata": {
            "tags": []
          },
          "execution_count": 23
        }
      ]
    },
    {
      "cell_type": "code",
      "metadata": {
        "colab": {
          "base_uri": "https://localhost:8080/"
        },
        "id": "ViXMkmjHBp_i",
        "outputId": "168870a6-c195-46ee-be81-6fbc3a4dbe8b"
      },
      "source": [
        "boroughs_in_nyc=np.array(['Manhattan','Queens','Bronx','Brooklyn','Staten Island'])\r\n",
        "boroughrs_copy = boroughs_in_nyc.view()#shallow copy\r\n",
        "boroughrs_copy[3]=\"Central Park\"\r\n",
        "print(boroughs_in_nyc)\r\n",
        "print(boroughrs_copy)"
      ],
      "execution_count": null,
      "outputs": [
        {
          "output_type": "stream",
          "text": [
            "['Manhattan' 'Queens' 'Bronx' 'Central Park' 'Staten Island']\n",
            "['Manhattan' 'Queens' 'Bronx' 'Central Park' 'Staten Island']\n"
          ],
          "name": "stdout"
        }
      ]
    },
    {
      "cell_type": "code",
      "metadata": {
        "colab": {
          "base_uri": "https://localhost:8080/"
        },
        "id": "_Mosz3_0DS0H",
        "outputId": "e598ad28-9e6e-4b81-9241-b5afd77089e0"
      },
      "source": [
        "boroughs_in_nyc=np.array(['Manhattan','Queens','Bronx','Brooklyn','Staten Island'])\r\n",
        "boroughrs_copy = boroughs_in_nyc.copy()#deep copy\r\n",
        "boroughrs_copy[3]=\"Central Park\"\r\n",
        "print(boroughs_in_nyc)\r\n",
        "print(boroughrs_copy)"
      ],
      "execution_count": null,
      "outputs": [
        {
          "output_type": "stream",
          "text": [
            "['Manhattan' 'Queens' 'Bronx' 'Brooklyn' 'Staten Island']\n",
            "['Manhattan' 'Queens' 'Bronx' 'Central Park' 'Staten Island']\n"
          ],
          "name": "stdout"
        }
      ]
    },
    {
      "cell_type": "code",
      "metadata": {
        "colab": {
          "base_uri": "https://localhost:8080/"
        },
        "id": "gumAtEb9EmCT",
        "outputId": "df904bae-1d6c-438b-d4ff-c657d15d0e8e"
      },
      "source": [
        "np_sqrt=np.sqrt([4,9,16,25])\r\n",
        "np_sqrt"
      ],
      "execution_count": null,
      "outputs": [
        {
          "output_type": "execute_result",
          "data": {
            "text/plain": [
              "array([2., 3., 4., 5.])"
            ]
          },
          "metadata": {
            "tags": []
          },
          "execution_count": 26
        }
      ]
    },
    {
      "cell_type": "code",
      "metadata": {
        "colab": {
          "base_uri": "https://localhost:8080/"
        },
        "id": "afKO7mhwE2vL",
        "outputId": "39f2989b-0c4e-45cb-c0af-ceb731e61264"
      },
      "source": [
        "from numpy import pi\r\n",
        "pi\r\n",
        "np.cos(pi)"
      ],
      "execution_count": null,
      "outputs": [
        {
          "output_type": "execute_result",
          "data": {
            "text/plain": [
              "-1.0"
            ]
          },
          "metadata": {
            "tags": []
          },
          "execution_count": 28
        }
      ]
    },
    {
      "cell_type": "code",
      "metadata": {
        "colab": {
          "base_uri": "https://localhost:8080/"
        },
        "id": "UMrbDrFcFAxu",
        "outputId": "f91ebe81-88ac-47cc-e4af-5c6b54c56e00"
      },
      "source": [
        "np.floor([1,5,2.6,7.8,4,-3,-2.3])"
      ],
      "execution_count": null,
      "outputs": [
        {
          "output_type": "execute_result",
          "data": {
            "text/plain": [
              "array([ 1.,  5.,  2.,  7.,  4., -3., -3.])"
            ]
          },
          "metadata": {
            "tags": []
          },
          "execution_count": 30
        }
      ]
    },
    {
      "cell_type": "code",
      "metadata": {
        "colab": {
          "base_uri": "https://localhost:8080/"
        },
        "id": "m1g4EvGbFT9R",
        "outputId": "6e225d72-fd09-419f-ce4e-f2268941fba3"
      },
      "source": [
        "ar = np.array([1,2,3])\r\n",
        "ar = np.exp(ar)\r\n",
        "print(ar)"
      ],
      "execution_count": null,
      "outputs": [
        {
          "output_type": "stream",
          "text": [
            "[ 2.71828183  7.3890561  20.08553692]\n"
          ],
          "name": "stdout"
        }
      ]
    },
    {
      "cell_type": "code",
      "metadata": {
        "colab": {
          "base_uri": "https://localhost:8080/"
        },
        "id": "jsk8KbbEGpNb",
        "outputId": "db1a5e47-d1fa-4b3e-beaa-c0be9515d7ac"
      },
      "source": [
        "a=np.array([1,2,3,4])\r\n",
        "b=np.array([10,20,30,40])\r\n",
        "c=a+b\r\n",
        "print(c)"
      ],
      "execution_count": null,
      "outputs": [
        {
          "output_type": "stream",
          "text": [
            "[11 22 33 44]\n"
          ],
          "name": "stdout"
        }
      ]
    },
    {
      "cell_type": "code",
      "metadata": {
        "colab": {
          "base_uri": "https://localhost:8080/"
        },
        "id": "197J8XcdJTGd",
        "outputId": "0548ce60-4380-4614-a888-44fb6c1c8da8"
      },
      "source": [
        "a=np.array([[0,0,0],[10,10,10],[20,20,20],[30,30,30]])\r\n",
        "b=[1,2,3]\r\n",
        "print(f'First array \\n{a}')\r\n",
        "print(f'Second array \\n{b}')\r\n",
        "print(f'First array + Second array \\n{a+b}')"
      ],
      "execution_count": null,
      "outputs": [
        {
          "output_type": "stream",
          "text": [
            "First array \n",
            "[[ 0  0  0]\n",
            " [10 10 10]\n",
            " [20 20 20]\n",
            " [30 30 30]]\n",
            "Second array \n",
            "[1, 2, 3]\n",
            "First array + Second array \n",
            "[[ 1  2  3]\n",
            " [11 12 13]\n",
            " [21 22 23]\n",
            " [31 32 33]]\n"
          ],
          "name": "stdout"
        }
      ]
    },
    {
      "cell_type": "code",
      "metadata": {
        "colab": {
          "base_uri": "https://localhost:8080/"
        },
        "id": "8051wo-FLXX0",
        "outputId": "89d21566-c451-480f-9a65-bc17505c87a0"
      },
      "source": [
        "test_scores.transpose()"
      ],
      "execution_count": null,
      "outputs": [
        {
          "output_type": "execute_result",
          "data": {
            "text/plain": [
              "array([[83, 54],\n",
              "       [71, 68],\n",
              "       [57, 81],\n",
              "       [63, 45]])"
            ]
          },
          "metadata": {
            "tags": []
          },
          "execution_count": 36
        }
      ]
    },
    {
      "cell_type": "code",
      "metadata": {
        "colab": {
          "base_uri": "https://localhost:8080/"
        },
        "id": "cf5KEa_VLimm",
        "outputId": "9d62e3ea-83e8-47e3-d18f-a8b69c8777f2"
      },
      "source": [
        "x=np.array([[1,2],[3,4]])\r\n",
        "y=np.linalg.inv(x)\r\n",
        "print(x)\r\n",
        "print(y)"
      ],
      "execution_count": null,
      "outputs": [
        {
          "output_type": "stream",
          "text": [
            "[[1 2]\n",
            " [3 4]]\n",
            "[[-2.   1. ]\n",
            " [ 1.5 -0.5]]\n"
          ],
          "name": "stdout"
        }
      ]
    },
    {
      "cell_type": "code",
      "metadata": {
        "colab": {
          "base_uri": "https://localhost:8080/"
        },
        "id": "AQdBvUzrLvn0",
        "outputId": "f991ab76-c041-4636-c21b-d667fd9a8f8f"
      },
      "source": [
        "trace_array=np.array([[1,2],[3,4]])\r\n",
        "np.trace(trace_array)"
      ],
      "execution_count": null,
      "outputs": [
        {
          "output_type": "execute_result",
          "data": {
            "text/plain": [
              "5"
            ]
          },
          "metadata": {
            "tags": []
          },
          "execution_count": 38
        }
      ]
    }
  ]
}